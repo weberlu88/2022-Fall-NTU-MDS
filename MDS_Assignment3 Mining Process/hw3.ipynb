{
 "cells": [
  {
   "cell_type": "markdown",
   "metadata": {},
   "source": [
    "> R10725012 呂晟維\n",
    "## Q1 Decision Tree Algorithms (SECOM dataset)\n",
    "(40%) Decision Tree Algorithms Use Python to solve the problem. The SECOM (Semiconductor Manufacturing) dataset, consists of manufacturing operation data and the semiconductor quality data. It contains 1567 \n",
    "observations taken from a wafer fabrication production line. Each observation is a vector of 590 sensor measurements plus a label of pass/fail test. Also, there are only 104 fail cases which are labeled as positive (encoded as 1: bad), whereas much larger amount of examples pass the test and are labeled as negative (encoded as -1: good). The dataset can be collected from UCI machine learning repository. "
   ]
  },
  {
   "cell_type": "markdown",
   "metadata": {},
   "source": [
    "#### (a) (5%) Construct a data science framework and show the data summary\n",
    "DataScience Framework\n",
    "\n",
    "1.   定義要面臨的問題，提出解決方法和目標\n",
    "2.   收集資料，釐清每個欄位的含意、邏輯關係以及欄位的類型/值域\n",
    "3.   分析欄位特徵或資料EDA，針對資料進行合適前處理\n",
    "4.   選用數個符合目標和資料型態的模型進行分析，並使用驗證資料集做模型的效能評估\n",
    "5.   比較模型間的績效，評比模型適配性，最後提出改善建議\n"
   ]
  },
  {
   "cell_type": "code",
   "execution_count": null,
   "metadata": {},
   "outputs": [],
   "source": [
    "# ! pip install openpyxl"
   ]
  },
  {
   "cell_type": "code",
   "execution_count": 1,
   "metadata": {},
   "outputs": [],
   "source": [
    "import pandas as pd\n",
    "import numpy as np\n",
    "import matplotlib.pylab as plt"
   ]
  },
  {
   "cell_type": "code",
   "execution_count": 2,
   "metadata": {},
   "outputs": [
    {
     "data": {
      "text/html": [
       "<div>\n",
       "<style scoped>\n",
       "    .dataframe tbody tr th:only-of-type {\n",
       "        vertical-align: middle;\n",
       "    }\n",
       "\n",
       "    .dataframe tbody tr th {\n",
       "        vertical-align: top;\n",
       "    }\n",
       "\n",
       "    .dataframe thead th {\n",
       "        text-align: right;\n",
       "    }\n",
       "</style>\n",
       "<table border=\"1\" class=\"dataframe\">\n",
       "  <thead>\n",
       "    <tr style=\"text-align: right;\">\n",
       "      <th></th>\n",
       "      <th>Sensor_1</th>\n",
       "      <th>Sensor_2</th>\n",
       "      <th>Sensor_3</th>\n",
       "      <th>Sensor_4</th>\n",
       "      <th>Sensor_5</th>\n",
       "      <th>Sensor_6</th>\n",
       "      <th>Sensor_7</th>\n",
       "      <th>Sensor_8</th>\n",
       "      <th>Sensor_9</th>\n",
       "      <th>Sensor_10</th>\n",
       "      <th>...</th>\n",
       "      <th>Sensor_583</th>\n",
       "      <th>Sensor_584</th>\n",
       "      <th>Sensor_585</th>\n",
       "      <th>Sensor_586</th>\n",
       "      <th>Sensor_587</th>\n",
       "      <th>Sensor_588</th>\n",
       "      <th>Sensor_589</th>\n",
       "      <th>Sensor_590</th>\n",
       "      <th>Label</th>\n",
       "      <th>Time</th>\n",
       "    </tr>\n",
       "  </thead>\n",
       "  <tbody>\n",
       "    <tr>\n",
       "      <th>1</th>\n",
       "      <td>3030.93</td>\n",
       "      <td>2564.00</td>\n",
       "      <td>2187.7333</td>\n",
       "      <td>1411.1265</td>\n",
       "      <td>1.3602</td>\n",
       "      <td>100.0</td>\n",
       "      <td>97.6133</td>\n",
       "      <td>0.1242</td>\n",
       "      <td>1.5005</td>\n",
       "      <td>0.0162</td>\n",
       "      <td>...</td>\n",
       "      <td>0.5005</td>\n",
       "      <td>0.0118</td>\n",
       "      <td>0.0035</td>\n",
       "      <td>2.3630</td>\n",
       "      <td>NaN</td>\n",
       "      <td>NaN</td>\n",
       "      <td>NaN</td>\n",
       "      <td>NaN</td>\n",
       "      <td>-1</td>\n",
       "      <td>19/07/2008 11:55:00</td>\n",
       "    </tr>\n",
       "    <tr>\n",
       "      <th>2</th>\n",
       "      <td>3095.78</td>\n",
       "      <td>2465.14</td>\n",
       "      <td>2230.4222</td>\n",
       "      <td>1463.6606</td>\n",
       "      <td>0.8294</td>\n",
       "      <td>100.0</td>\n",
       "      <td>102.3433</td>\n",
       "      <td>0.1247</td>\n",
       "      <td>1.4966</td>\n",
       "      <td>-0.0005</td>\n",
       "      <td>...</td>\n",
       "      <td>0.5019</td>\n",
       "      <td>0.0223</td>\n",
       "      <td>0.0055</td>\n",
       "      <td>4.4447</td>\n",
       "      <td>0.0096</td>\n",
       "      <td>0.0201</td>\n",
       "      <td>0.0060</td>\n",
       "      <td>208.2045</td>\n",
       "      <td>-1</td>\n",
       "      <td>19/07/2008 12:32:00</td>\n",
       "    </tr>\n",
       "    <tr>\n",
       "      <th>3</th>\n",
       "      <td>2932.61</td>\n",
       "      <td>2559.94</td>\n",
       "      <td>2186.4111</td>\n",
       "      <td>1698.0172</td>\n",
       "      <td>1.5102</td>\n",
       "      <td>100.0</td>\n",
       "      <td>95.4878</td>\n",
       "      <td>0.1241</td>\n",
       "      <td>1.4436</td>\n",
       "      <td>0.0041</td>\n",
       "      <td>...</td>\n",
       "      <td>0.4958</td>\n",
       "      <td>0.0157</td>\n",
       "      <td>0.0039</td>\n",
       "      <td>3.1745</td>\n",
       "      <td>0.0584</td>\n",
       "      <td>0.0484</td>\n",
       "      <td>0.0148</td>\n",
       "      <td>82.8602</td>\n",
       "      <td>1</td>\n",
       "      <td>19/07/2008 13:17:00</td>\n",
       "    </tr>\n",
       "  </tbody>\n",
       "</table>\n",
       "<p>3 rows × 592 columns</p>\n",
       "</div>"
      ],
      "text/plain": [
       "   Sensor_1  Sensor_2   Sensor_3   Sensor_4  Sensor_5  Sensor_6  Sensor_7  \\\n",
       "1   3030.93   2564.00  2187.7333  1411.1265    1.3602     100.0   97.6133   \n",
       "2   3095.78   2465.14  2230.4222  1463.6606    0.8294     100.0  102.3433   \n",
       "3   2932.61   2559.94  2186.4111  1698.0172    1.5102     100.0   95.4878   \n",
       "\n",
       "   Sensor_8  Sensor_9  Sensor_10  ...  Sensor_583  Sensor_584  Sensor_585  \\\n",
       "1    0.1242    1.5005     0.0162  ...      0.5005      0.0118      0.0035   \n",
       "2    0.1247    1.4966    -0.0005  ...      0.5019      0.0223      0.0055   \n",
       "3    0.1241    1.4436     0.0041  ...      0.4958      0.0157      0.0039   \n",
       "\n",
       "   Sensor_586  Sensor_587  Sensor_588  Sensor_589  Sensor_590  Label  \\\n",
       "1      2.3630         NaN         NaN         NaN         NaN     -1   \n",
       "2      4.4447      0.0096      0.0201      0.0060    208.2045     -1   \n",
       "3      3.1745      0.0584      0.0484      0.0148     82.8602      1   \n",
       "\n",
       "                  Time  \n",
       "1  19/07/2008 11:55:00  \n",
       "2  19/07/2008 12:32:00  \n",
       "3  19/07/2008 13:17:00  \n",
       "\n",
       "[3 rows x 592 columns]"
      ]
     },
     "execution_count": 2,
     "metadata": {},
     "output_type": "execute_result"
    }
   ],
   "source": [
    "df = pd.read_excel('./MDS_Assignment3_SECOM.xlsx',sheet_name='secom',index_col='Unnamed: 0')\n",
    "df.head(3)"
   ]
  },
  {
   "cell_type": "code",
   "execution_count": 3,
   "metadata": {},
   "outputs": [
    {
     "data": {
      "text/plain": [
       "-1    1463\n",
       " 1     104\n",
       "Name: Label, dtype: int64"
      ]
     },
     "execution_count": 3,
     "metadata": {},
     "output_type": "execute_result"
    }
   ],
   "source": [
    "# Label 非常 imb\n",
    "df['Label'].value_counts()"
   ]
  },
  {
   "cell_type": "code",
   "execution_count": 4,
   "metadata": {},
   "outputs": [
    {
     "data": {
      "text/html": [
       "<div>\n",
       "<style scoped>\n",
       "    .dataframe tbody tr th:only-of-type {\n",
       "        vertical-align: middle;\n",
       "    }\n",
       "\n",
       "    .dataframe tbody tr th {\n",
       "        vertical-align: top;\n",
       "    }\n",
       "\n",
       "    .dataframe thead th {\n",
       "        text-align: right;\n",
       "    }\n",
       "</style>\n",
       "<table border=\"1\" class=\"dataframe\">\n",
       "  <thead>\n",
       "    <tr style=\"text-align: right;\">\n",
       "      <th></th>\n",
       "      <th>Sensor_1</th>\n",
       "      <th>Sensor_2</th>\n",
       "      <th>Sensor_3</th>\n",
       "      <th>Sensor_4</th>\n",
       "      <th>Sensor_5</th>\n",
       "      <th>Sensor_6</th>\n",
       "      <th>Sensor_7</th>\n",
       "      <th>Sensor_8</th>\n",
       "      <th>Sensor_9</th>\n",
       "      <th>Sensor_10</th>\n",
       "      <th>...</th>\n",
       "      <th>Sensor_582</th>\n",
       "      <th>Sensor_583</th>\n",
       "      <th>Sensor_584</th>\n",
       "      <th>Sensor_585</th>\n",
       "      <th>Sensor_586</th>\n",
       "      <th>Sensor_587</th>\n",
       "      <th>Sensor_588</th>\n",
       "      <th>Sensor_589</th>\n",
       "      <th>Sensor_590</th>\n",
       "      <th>Label</th>\n",
       "    </tr>\n",
       "  </thead>\n",
       "  <tbody>\n",
       "    <tr>\n",
       "      <th>count</th>\n",
       "      <td>1561.000000</td>\n",
       "      <td>1560.000000</td>\n",
       "      <td>1553.000000</td>\n",
       "      <td>1553.000000</td>\n",
       "      <td>1553.000000</td>\n",
       "      <td>1553.0</td>\n",
       "      <td>1553.000000</td>\n",
       "      <td>1558.000000</td>\n",
       "      <td>1565.000000</td>\n",
       "      <td>1565.000000</td>\n",
       "      <td>...</td>\n",
       "      <td>618.000000</td>\n",
       "      <td>1566.000000</td>\n",
       "      <td>1566.000000</td>\n",
       "      <td>1566.000000</td>\n",
       "      <td>1566.000000</td>\n",
       "      <td>1566.000000</td>\n",
       "      <td>1566.000000</td>\n",
       "      <td>1566.000000</td>\n",
       "      <td>1566.000000</td>\n",
       "      <td>1567.000000</td>\n",
       "    </tr>\n",
       "    <tr>\n",
       "      <th>mean</th>\n",
       "      <td>3014.452896</td>\n",
       "      <td>2495.850231</td>\n",
       "      <td>2200.547318</td>\n",
       "      <td>1396.376627</td>\n",
       "      <td>4.197013</td>\n",
       "      <td>100.0</td>\n",
       "      <td>101.112908</td>\n",
       "      <td>0.121822</td>\n",
       "      <td>1.462862</td>\n",
       "      <td>-0.000841</td>\n",
       "      <td>...</td>\n",
       "      <td>97.934373</td>\n",
       "      <td>0.500096</td>\n",
       "      <td>0.015318</td>\n",
       "      <td>0.003847</td>\n",
       "      <td>3.067826</td>\n",
       "      <td>0.021458</td>\n",
       "      <td>0.016475</td>\n",
       "      <td>0.005283</td>\n",
       "      <td>99.670066</td>\n",
       "      <td>-0.867262</td>\n",
       "    </tr>\n",
       "    <tr>\n",
       "      <th>std</th>\n",
       "      <td>73.621787</td>\n",
       "      <td>80.407705</td>\n",
       "      <td>29.513152</td>\n",
       "      <td>441.691640</td>\n",
       "      <td>56.355540</td>\n",
       "      <td>0.0</td>\n",
       "      <td>6.237214</td>\n",
       "      <td>0.008961</td>\n",
       "      <td>0.073897</td>\n",
       "      <td>0.015116</td>\n",
       "      <td>...</td>\n",
       "      <td>87.520966</td>\n",
       "      <td>0.003404</td>\n",
       "      <td>0.017180</td>\n",
       "      <td>0.003720</td>\n",
       "      <td>3.578033</td>\n",
       "      <td>0.012358</td>\n",
       "      <td>0.008808</td>\n",
       "      <td>0.002867</td>\n",
       "      <td>93.891919</td>\n",
       "      <td>0.498010</td>\n",
       "    </tr>\n",
       "    <tr>\n",
       "      <th>min</th>\n",
       "      <td>2743.240000</td>\n",
       "      <td>2158.750000</td>\n",
       "      <td>2060.660000</td>\n",
       "      <td>0.000000</td>\n",
       "      <td>0.681500</td>\n",
       "      <td>100.0</td>\n",
       "      <td>82.131100</td>\n",
       "      <td>0.000000</td>\n",
       "      <td>1.191000</td>\n",
       "      <td>-0.053400</td>\n",
       "      <td>...</td>\n",
       "      <td>0.000000</td>\n",
       "      <td>0.477800</td>\n",
       "      <td>0.006000</td>\n",
       "      <td>0.001700</td>\n",
       "      <td>1.197500</td>\n",
       "      <td>-0.016900</td>\n",
       "      <td>0.003200</td>\n",
       "      <td>0.001000</td>\n",
       "      <td>0.000000</td>\n",
       "      <td>-1.000000</td>\n",
       "    </tr>\n",
       "    <tr>\n",
       "      <th>25%</th>\n",
       "      <td>2966.260000</td>\n",
       "      <td>2452.247500</td>\n",
       "      <td>2181.044400</td>\n",
       "      <td>1081.875800</td>\n",
       "      <td>1.017700</td>\n",
       "      <td>100.0</td>\n",
       "      <td>97.920000</td>\n",
       "      <td>0.121100</td>\n",
       "      <td>1.411200</td>\n",
       "      <td>-0.010800</td>\n",
       "      <td>...</td>\n",
       "      <td>46.184900</td>\n",
       "      <td>0.497900</td>\n",
       "      <td>0.011600</td>\n",
       "      <td>0.003100</td>\n",
       "      <td>2.306500</td>\n",
       "      <td>0.013425</td>\n",
       "      <td>0.010600</td>\n",
       "      <td>0.003300</td>\n",
       "      <td>44.368600</td>\n",
       "      <td>-1.000000</td>\n",
       "    </tr>\n",
       "    <tr>\n",
       "      <th>50%</th>\n",
       "      <td>3011.490000</td>\n",
       "      <td>2499.405000</td>\n",
       "      <td>2201.066700</td>\n",
       "      <td>1285.214400</td>\n",
       "      <td>1.316800</td>\n",
       "      <td>100.0</td>\n",
       "      <td>101.512200</td>\n",
       "      <td>0.122400</td>\n",
       "      <td>1.461600</td>\n",
       "      <td>-0.001300</td>\n",
       "      <td>...</td>\n",
       "      <td>72.288900</td>\n",
       "      <td>0.500200</td>\n",
       "      <td>0.013800</td>\n",
       "      <td>0.003600</td>\n",
       "      <td>2.757650</td>\n",
       "      <td>0.020500</td>\n",
       "      <td>0.014800</td>\n",
       "      <td>0.004600</td>\n",
       "      <td>71.900500</td>\n",
       "      <td>-1.000000</td>\n",
       "    </tr>\n",
       "    <tr>\n",
       "      <th>75%</th>\n",
       "      <td>3056.650000</td>\n",
       "      <td>2538.822500</td>\n",
       "      <td>2218.055500</td>\n",
       "      <td>1591.223500</td>\n",
       "      <td>1.525700</td>\n",
       "      <td>100.0</td>\n",
       "      <td>104.586700</td>\n",
       "      <td>0.123800</td>\n",
       "      <td>1.516900</td>\n",
       "      <td>0.008400</td>\n",
       "      <td>...</td>\n",
       "      <td>116.539150</td>\n",
       "      <td>0.502375</td>\n",
       "      <td>0.016500</td>\n",
       "      <td>0.004100</td>\n",
       "      <td>3.295175</td>\n",
       "      <td>0.027600</td>\n",
       "      <td>0.020300</td>\n",
       "      <td>0.006400</td>\n",
       "      <td>114.749700</td>\n",
       "      <td>-1.000000</td>\n",
       "    </tr>\n",
       "    <tr>\n",
       "      <th>max</th>\n",
       "      <td>3356.350000</td>\n",
       "      <td>2846.440000</td>\n",
       "      <td>2315.266700</td>\n",
       "      <td>3715.041700</td>\n",
       "      <td>1114.536600</td>\n",
       "      <td>100.0</td>\n",
       "      <td>129.252200</td>\n",
       "      <td>0.128600</td>\n",
       "      <td>1.656400</td>\n",
       "      <td>0.074900</td>\n",
       "      <td>...</td>\n",
       "      <td>737.304800</td>\n",
       "      <td>0.509800</td>\n",
       "      <td>0.476600</td>\n",
       "      <td>0.104500</td>\n",
       "      <td>99.303200</td>\n",
       "      <td>0.102800</td>\n",
       "      <td>0.079900</td>\n",
       "      <td>0.028600</td>\n",
       "      <td>737.304800</td>\n",
       "      <td>1.000000</td>\n",
       "    </tr>\n",
       "  </tbody>\n",
       "</table>\n",
       "<p>8 rows × 591 columns</p>\n",
       "</div>"
      ],
      "text/plain": [
       "          Sensor_1     Sensor_2     Sensor_3     Sensor_4     Sensor_5  \\\n",
       "count  1561.000000  1560.000000  1553.000000  1553.000000  1553.000000   \n",
       "mean   3014.452896  2495.850231  2200.547318  1396.376627     4.197013   \n",
       "std      73.621787    80.407705    29.513152   441.691640    56.355540   \n",
       "min    2743.240000  2158.750000  2060.660000     0.000000     0.681500   \n",
       "25%    2966.260000  2452.247500  2181.044400  1081.875800     1.017700   \n",
       "50%    3011.490000  2499.405000  2201.066700  1285.214400     1.316800   \n",
       "75%    3056.650000  2538.822500  2218.055500  1591.223500     1.525700   \n",
       "max    3356.350000  2846.440000  2315.266700  3715.041700  1114.536600   \n",
       "\n",
       "       Sensor_6     Sensor_7     Sensor_8     Sensor_9    Sensor_10  ...  \\\n",
       "count    1553.0  1553.000000  1558.000000  1565.000000  1565.000000  ...   \n",
       "mean      100.0   101.112908     0.121822     1.462862    -0.000841  ...   \n",
       "std         0.0     6.237214     0.008961     0.073897     0.015116  ...   \n",
       "min       100.0    82.131100     0.000000     1.191000    -0.053400  ...   \n",
       "25%       100.0    97.920000     0.121100     1.411200    -0.010800  ...   \n",
       "50%       100.0   101.512200     0.122400     1.461600    -0.001300  ...   \n",
       "75%       100.0   104.586700     0.123800     1.516900     0.008400  ...   \n",
       "max       100.0   129.252200     0.128600     1.656400     0.074900  ...   \n",
       "\n",
       "       Sensor_582   Sensor_583   Sensor_584   Sensor_585   Sensor_586  \\\n",
       "count  618.000000  1566.000000  1566.000000  1566.000000  1566.000000   \n",
       "mean    97.934373     0.500096     0.015318     0.003847     3.067826   \n",
       "std     87.520966     0.003404     0.017180     0.003720     3.578033   \n",
       "min      0.000000     0.477800     0.006000     0.001700     1.197500   \n",
       "25%     46.184900     0.497900     0.011600     0.003100     2.306500   \n",
       "50%     72.288900     0.500200     0.013800     0.003600     2.757650   \n",
       "75%    116.539150     0.502375     0.016500     0.004100     3.295175   \n",
       "max    737.304800     0.509800     0.476600     0.104500    99.303200   \n",
       "\n",
       "        Sensor_587   Sensor_588   Sensor_589   Sensor_590        Label  \n",
       "count  1566.000000  1566.000000  1566.000000  1566.000000  1567.000000  \n",
       "mean      0.021458     0.016475     0.005283    99.670066    -0.867262  \n",
       "std       0.012358     0.008808     0.002867    93.891919     0.498010  \n",
       "min      -0.016900     0.003200     0.001000     0.000000    -1.000000  \n",
       "25%       0.013425     0.010600     0.003300    44.368600    -1.000000  \n",
       "50%       0.020500     0.014800     0.004600    71.900500    -1.000000  \n",
       "75%       0.027600     0.020300     0.006400   114.749700    -1.000000  \n",
       "max       0.102800     0.079900     0.028600   737.304800     1.000000  \n",
       "\n",
       "[8 rows x 591 columns]"
      ]
     },
     "execution_count": 4,
     "metadata": {},
     "output_type": "execute_result"
    }
   ],
   "source": [
    "# 特徵名稱已被隱藏，只能explore數值關係\n",
    "# Label: 1 or -1\n",
    "# Time: 日期字串\n",
    "df.describe()"
   ]
  },
  {
   "cell_type": "markdown",
   "metadata": {},
   "source": [
    "#### (b) (5%) What is the problem about the dataset? Any identical column? Any redundant column? Any missing value? How to handle these issues?"
   ]
  },
  {
   "cell_type": "markdown",
   "metadata": {},
   "source": [
    "- 檢查重複 columns: 有 104 個欄位的值都是 0 or NaN，故刪除"
   ]
  },
  {
   "cell_type": "code",
   "execution_count": 5,
   "metadata": {},
   "outputs": [
    {
     "name": "stdout",
     "output_type": "stream",
     "text": [
      "False    488\n",
      "True     104\n",
      "dtype: int64\n"
     ]
    },
    {
     "data": {
      "text/html": [
       "<div>\n",
       "<style scoped>\n",
       "    .dataframe tbody tr th:only-of-type {\n",
       "        vertical-align: middle;\n",
       "    }\n",
       "\n",
       "    .dataframe tbody tr th {\n",
       "        vertical-align: top;\n",
       "    }\n",
       "\n",
       "    .dataframe thead th {\n",
       "        text-align: right;\n",
       "    }\n",
       "</style>\n",
       "<table border=\"1\" class=\"dataframe\">\n",
       "  <thead>\n",
       "    <tr style=\"text-align: right;\">\n",
       "      <th></th>\n",
       "      <th>Sensor_150</th>\n",
       "      <th>Sensor_180</th>\n",
       "      <th>Sensor_187</th>\n",
       "      <th>Sensor_190</th>\n",
       "      <th>Sensor_192</th>\n",
       "      <th>Sensor_193</th>\n",
       "      <th>Sensor_194</th>\n",
       "      <th>Sensor_195</th>\n",
       "      <th>Sensor_227</th>\n",
       "      <th>Sensor_230</th>\n",
       "      <th>...</th>\n",
       "      <th>Sensor_530</th>\n",
       "      <th>Sensor_531</th>\n",
       "      <th>Sensor_532</th>\n",
       "      <th>Sensor_533</th>\n",
       "      <th>Sensor_534</th>\n",
       "      <th>Sensor_535</th>\n",
       "      <th>Sensor_536</th>\n",
       "      <th>Sensor_537</th>\n",
       "      <th>Sensor_538</th>\n",
       "      <th>Sensor_539</th>\n",
       "    </tr>\n",
       "  </thead>\n",
       "  <tbody>\n",
       "    <tr>\n",
       "      <th>1</th>\n",
       "      <td>0.0</td>\n",
       "      <td>0.0</td>\n",
       "      <td>0.0</td>\n",
       "      <td>0.0</td>\n",
       "      <td>0.0</td>\n",
       "      <td>0.0</td>\n",
       "      <td>0.0</td>\n",
       "      <td>0.0</td>\n",
       "      <td>0.0</td>\n",
       "      <td>0.0</td>\n",
       "      <td>...</td>\n",
       "      <td>0.0</td>\n",
       "      <td>0.0</td>\n",
       "      <td>0.0</td>\n",
       "      <td>0.0</td>\n",
       "      <td>0.0</td>\n",
       "      <td>0.0</td>\n",
       "      <td>0.0</td>\n",
       "      <td>0.0</td>\n",
       "      <td>0.0</td>\n",
       "      <td>0.0</td>\n",
       "    </tr>\n",
       "    <tr>\n",
       "      <th>2</th>\n",
       "      <td>0.0</td>\n",
       "      <td>0.0</td>\n",
       "      <td>0.0</td>\n",
       "      <td>0.0</td>\n",
       "      <td>0.0</td>\n",
       "      <td>0.0</td>\n",
       "      <td>0.0</td>\n",
       "      <td>0.0</td>\n",
       "      <td>0.0</td>\n",
       "      <td>0.0</td>\n",
       "      <td>...</td>\n",
       "      <td>0.0</td>\n",
       "      <td>0.0</td>\n",
       "      <td>0.0</td>\n",
       "      <td>0.0</td>\n",
       "      <td>0.0</td>\n",
       "      <td>0.0</td>\n",
       "      <td>0.0</td>\n",
       "      <td>0.0</td>\n",
       "      <td>0.0</td>\n",
       "      <td>0.0</td>\n",
       "    </tr>\n",
       "    <tr>\n",
       "      <th>3</th>\n",
       "      <td>0.0</td>\n",
       "      <td>0.0</td>\n",
       "      <td>0.0</td>\n",
       "      <td>0.0</td>\n",
       "      <td>0.0</td>\n",
       "      <td>0.0</td>\n",
       "      <td>0.0</td>\n",
       "      <td>0.0</td>\n",
       "      <td>0.0</td>\n",
       "      <td>0.0</td>\n",
       "      <td>...</td>\n",
       "      <td>0.0</td>\n",
       "      <td>0.0</td>\n",
       "      <td>0.0</td>\n",
       "      <td>0.0</td>\n",
       "      <td>0.0</td>\n",
       "      <td>0.0</td>\n",
       "      <td>0.0</td>\n",
       "      <td>0.0</td>\n",
       "      <td>0.0</td>\n",
       "      <td>0.0</td>\n",
       "    </tr>\n",
       "  </tbody>\n",
       "</table>\n",
       "<p>3 rows × 104 columns</p>\n",
       "</div>"
      ],
      "text/plain": [
       "   Sensor_150  Sensor_180  Sensor_187  Sensor_190  Sensor_192  Sensor_193  \\\n",
       "1         0.0         0.0         0.0         0.0         0.0         0.0   \n",
       "2         0.0         0.0         0.0         0.0         0.0         0.0   \n",
       "3         0.0         0.0         0.0         0.0         0.0         0.0   \n",
       "\n",
       "   Sensor_194  Sensor_195  Sensor_227  Sensor_230  ...  Sensor_530  \\\n",
       "1         0.0         0.0         0.0         0.0  ...         0.0   \n",
       "2         0.0         0.0         0.0         0.0  ...         0.0   \n",
       "3         0.0         0.0         0.0         0.0  ...         0.0   \n",
       "\n",
       "   Sensor_531  Sensor_532  Sensor_533  Sensor_534  Sensor_535  Sensor_536  \\\n",
       "1         0.0         0.0         0.0         0.0         0.0         0.0   \n",
       "2         0.0         0.0         0.0         0.0         0.0         0.0   \n",
       "3         0.0         0.0         0.0         0.0         0.0         0.0   \n",
       "\n",
       "   Sensor_537  Sensor_538  Sensor_539  \n",
       "1         0.0         0.0         0.0  \n",
       "2         0.0         0.0         0.0  \n",
       "3         0.0         0.0         0.0  \n",
       "\n",
       "[3 rows x 104 columns]"
      ]
     },
     "metadata": {},
     "output_type": "display_data"
    },
    {
     "name": "stdout",
     "output_type": "stream",
     "text": [
      "sum of duplicate columns:  0.0\n"
     ]
    }
   ],
   "source": [
    "duplicate_col = df.T.duplicated()\n",
    "print(duplicate_col.value_counts())\n",
    "\n",
    "# 把重複的 columns 抓出來看\n",
    "cols = duplicate_col[duplicate_col==True]\n",
    "df_dup = df[cols.index]\n",
    "display(df_dup.head(3))\n",
    "print('sum of duplicate columns: ', df_dup.sum(axis=0).sum())"
   ]
  },
  {
   "cell_type": "code",
   "execution_count": 6,
   "metadata": {},
   "outputs": [
    {
     "name": "stdout",
     "output_type": "stream",
     "text": [
      "columns after drop identical column:  488\n"
     ]
    }
   ],
   "source": [
    "# Drop duplicate columns\n",
    "# 591 - 104 + 1 = 488\n",
    "# df = df.T.drop_duplicates(keep='first').T # 同義\n",
    "df.drop(cols.index, axis=1, inplace=True)\n",
    "print('columns after drop identical column: ', df.shape[1])"
   ]
  },
  {
   "cell_type": "markdown",
   "metadata": {},
   "source": [
    "- 檢查重複 rows: 無"
   ]
  },
  {
   "cell_type": "code",
   "execution_count": 7,
   "metadata": {},
   "outputs": [
    {
     "data": {
      "text/plain": [
       "Int64Index([], dtype='int64')"
      ]
     },
     "execution_count": 7,
     "metadata": {},
     "output_type": "execute_result"
    }
   ],
   "source": [
    "dup_index = df[df.duplicated()==True]\n",
    "dup_index.index"
   ]
  },
  {
   "cell_type": "markdown",
   "metadata": {},
   "source": [
    "- 檢查 missing value: 刪除 > 70% 的欄位"
   ]
  },
  {
   "cell_type": "code",
   "execution_count": 8,
   "metadata": {},
   "outputs": [
    {
     "name": "stdout",
     "output_type": "stream",
     "text": [
      "Total missing value rate is 5.39%. (41225 out of 764696)\n",
      "Sensor_86 has missing rate of 85%\n",
      "Sensor_158 has missing rate of 91%\n",
      "Sensor_159 has missing rate of 91%\n",
      "Sensor_221 has missing rate of 85%\n",
      "Sensor_293 has missing rate of 91%\n",
      "Sensor_294 has missing rate of 91%\n",
      "Sensor_359 has missing rate of 85%\n",
      "Sensor_493 has missing rate of 85%\n",
      "columns after drop missing value column:  480\n"
     ]
    },
    {
     "data": {
      "image/png": "[encoded data removed]",
      "text/plain": [
       "<Figure size 432x288 with 1 Axes>"
      ]
     },
     "metadata": {
      "needs_background": "light"
     },
     "output_type": "display_data"
    }
   ],
   "source": [
    "numOfNanCell = df.isnull().sum().sum()\n",
    "numOfTotalCall = df.shape[0]*df.shape[1]\n",
    "missRate = numOfNanCell / numOfTotalCall\n",
    "print(f\"Total missing value rate is {100*missRate:.2f}%. ({numOfNanCell} out of {numOfTotalCall})\")\n",
    "\n",
    "missing_vals = df.isnull().sum()\n",
    "[m//len(df) for m in missing_vals]\n",
    "\n",
    "# df.isnull().sum().plot(kind='bar')\n",
    "ax = df.isnull().sum().plot.bar(rot=45)\n",
    "for container in ax.containers:\n",
    "    ax.bar_label(container)\n",
    "\n",
    "missing_vals = df.isnull().sum()\n",
    "missing_vals = [m*100//len(df) for m in missing_vals]\n",
    "col_to_drop = []\n",
    "for i,v in enumerate(missing_vals):\n",
    "    if v >= 70:\n",
    "        col_to_drop.append(df.columns[i])\n",
    "        print(df.columns[i], f\"has missing rate of {v}%\")\n",
    "df.drop(col_to_drop, axis=1, inplace=True)\n",
    "print('columns after drop missing value column: ', df.shape[1])"
   ]
  },
  {
   "cell_type": "markdown",
   "metadata": {},
   "source": [
    "- Split dataset into train/test set (丟掉Time欄位)"
   ]
  },
  {
   "cell_type": "code",
   "execution_count": 9,
   "metadata": {},
   "outputs": [
    {
     "name": "stdout",
     "output_type": "stream",
     "text": [
      "X_train shape:  (1253, 478)\n",
      "X_test shape:  (314, 478)\n",
      "-1    1172\n",
      " 1      81\n",
      "Name: Label, dtype: int64\n",
      "-1    291\n",
      " 1     23\n",
      "Name: Label, dtype: int64\n"
     ]
    }
   ],
   "source": [
    "from sklearn.model_selection import train_test_split\n",
    "\n",
    "X = df.iloc[:,:-2]\n",
    "y = df.iloc[:,-2]\n",
    "\n",
    "X_train, X_test, y_train, y_test = train_test_split(X, y, test_size=0.2, random_state=88)\n",
    "print('X_train shape: ',X_train.shape)\n",
    "print('X_test shape: ',X_test.shape)\n",
    "print(y_train.value_counts())\n",
    "print(y_test.value_counts())"
   ]
  },
  {
   "cell_type": "markdown",
   "metadata": {},
   "source": [
    "- Impute missing value with mean"
   ]
  },
  {
   "cell_type": "code",
   "execution_count": 10,
   "metadata": {},
   "outputs": [],
   "source": [
    "# impute with mean\n",
    "import numpy as np\n",
    "from sklearn.impute import SimpleImputer\n",
    "\n",
    "imp_mean = SimpleImputer(missing_values = np.nan, strategy='mean')\n",
    "X_train = imp_mean.fit_transform(X_train)\n",
    "X_test = imp_mean.transform(X_test)"
   ]
  },
  {
   "cell_type": "markdown",
   "metadata": {},
   "source": [
    "#### (c) (5%) After data preprocessing, based on the prepared dataset, use the classification and regression tree (CART) to analyze the prepared dataset. Show the classification results by 10-fold cross validation with several metrics (eg. accuracy, area under ROC curve (AUC), and F1-score), and also list the hyperparameters you adjust."
   ]
  },
  {
   "cell_type": "markdown",
   "metadata": {},
   "source": [
    "see: https://scikit-learn.org/stable/modules/tree.html   \n",
    "and https://scikit-learn.org/stable/modules/generated/sklearn.model_selection.GridSearchCV.html  \n",
    "選擇調整的參數有\n",
    "- criterion {“gini”, “entropy”, “log_loss”}, default=”gini”\n",
    "- max_depth int, default=None\n",
    "- min_samples_leaf int or float, default=1"
   ]
  },
  {
   "cell_type": "code",
   "execution_count": 10,
   "metadata": {},
   "outputs": [],
   "source": [
    "from sklearn import tree\n",
    "from sklearn.model_selection import GridSearchCV"
   ]
  },
  {
   "cell_type": "code",
   "execution_count": 11,
   "metadata": {},
   "outputs": [
    {
     "data": {
      "text/plain": [
       "dict_keys(['ccp_alpha', 'class_weight', 'criterion', 'max_depth', 'max_features', 'max_leaf_nodes', 'min_impurity_decrease', 'min_samples_leaf', 'min_samples_split', 'min_weight_fraction_leaf', 'random_state', 'splitter'])"
      ]
     },
     "execution_count": 11,
     "metadata": {},
     "output_type": "execute_result"
    }
   ],
   "source": [
    "# 可調調整參數名稱\n",
    "tree.DecisionTreeClassifier().get_params().keys()"
   ]
  },
  {
   "cell_type": "code",
   "execution_count": 18,
   "metadata": {},
   "outputs": [
    {
     "name": "stdout",
     "output_type": "stream",
     "text": [
      "best params:  {'criterion': 'gini', 'max_depth': 17}\n",
      "best score:  0.13222209936606222\n"
     ]
    }
   ],
   "source": [
    "depth = (np.arange(20)+1) # 無限制下試跑為深度25\n",
    "parameters = {\n",
    "    'criterion': ['gini','entropy'], \n",
    "    'max_depth': (np.arange(20)+1),\n",
    "    # 'min_samples_leaf': (np.arange(3)+1)\n",
    "}\n",
    "score = ['f1','accuracy']\n",
    "\n",
    "clf = tree.DecisionTreeClassifier()\n",
    "clf = GridSearchCV(clf, parameters, \n",
    "                    scoring=score,\n",
    "                    refit='f1', # Refit an estimator using the best found parameters on the whole dataset.\n",
    "                    return_train_score=True, \n",
    "                    cv=10) # 10-fold cross validation\n",
    "clf.fit(X_train, y_train)\n",
    "print('best params: ',clf.best_params_)\n",
    "print('best score: ',clf.best_score_)\n"
   ]
  },
  {
   "cell_type": "code",
   "execution_count": 102,
   "metadata": {},
   "outputs": [],
   "source": [
    "import pickle\n",
    "# with open('q1_clf.pkl', 'wb') as outp:\n",
    "#     pickle.dump(clf, outp, pickle.HIGHEST_PROTOCOL)\n",
    "# with open('q1_clf.pkl', 'rb') as inp:\n",
    "#     clf = pickle.load(inp)"
   ]
  },
  {
   "cell_type": "code",
   "execution_count": 20,
   "metadata": {},
   "outputs": [
    {
     "data": {
      "text/plain": [
       "(40,)"
      ]
     },
     "execution_count": 20,
     "metadata": {},
     "output_type": "execute_result"
    }
   ],
   "source": [
    "clf.cv_results_.get('split0_test_f1').shape"
   ]
  },
  {
   "cell_type": "code",
   "execution_count": 21,
   "metadata": {},
   "outputs": [
    {
     "data": {
      "text/plain": [
       "dict_keys(['mean_fit_time', 'std_fit_time', 'mean_score_time', 'std_score_time', 'param_criterion', 'param_max_depth', 'params', 'split0_test_f1', 'split1_test_f1', 'split2_test_f1', 'split3_test_f1', 'split4_test_f1', 'split5_test_f1', 'split6_test_f1', 'split7_test_f1', 'split8_test_f1', 'split9_test_f1', 'mean_test_f1', 'std_test_f1', 'rank_test_f1', 'split0_train_f1', 'split1_train_f1', 'split2_train_f1', 'split3_train_f1', 'split4_train_f1', 'split5_train_f1', 'split6_train_f1', 'split7_train_f1', 'split8_train_f1', 'split9_train_f1', 'mean_train_f1', 'std_train_f1', 'split0_test_accuracy', 'split1_test_accuracy', 'split2_test_accuracy', 'split3_test_accuracy', 'split4_test_accuracy', 'split5_test_accuracy', 'split6_test_accuracy', 'split7_test_accuracy', 'split8_test_accuracy', 'split9_test_accuracy', 'mean_test_accuracy', 'std_test_accuracy', 'rank_test_accuracy', 'split0_train_accuracy', 'split1_train_accuracy', 'split2_train_accuracy', 'split3_train_accuracy', 'split4_train_accuracy', 'split5_train_accuracy', 'split6_train_accuracy', 'split7_train_accuracy', 'split8_train_accuracy', 'split9_train_accuracy', 'mean_train_accuracy', 'std_train_accuracy'])"
      ]
     },
     "execution_count": 21,
     "metadata": {},
     "output_type": "execute_result"
    }
   ],
   "source": [
    "clf.cv_results_.keys()"
   ]
  },
  {
   "cell_type": "code",
   "execution_count": 33,
   "metadata": {},
   "outputs": [
    {
     "data": {
      "image/png": "[encoded data removed]",
      "text/plain": [
       "<Figure size 432x288 with 1 Axes>"
      ]
     },
     "metadata": {
      "needs_background": "light"
     },
     "output_type": "display_data"
    }
   ],
   "source": [
    "f1_result = []; acc_result = []\n",
    "f1_train = []; acc_train = []\n",
    "\n",
    "for i in range(10):\n",
    "    # 選用best param = entropy，所以取後面20個(前20個是gini)\n",
    "    f1 = clf.cv_results_.get('split{}_test_f1'.format(i))[-20:]\n",
    "    acc = clf.cv_results_.get('split{}_test_accuracy'.format(i))[-20:]\n",
    "    f1_tr = clf.cv_results_.get('split{}_train_f1'.format(i))[-20:]\n",
    "    acc_tr = clf.cv_results_.get('split{}_train_accuracy'.format(i))[-20:]\n",
    "    f1_result.append(f1)\n",
    "    acc_result.append(acc)\n",
    "    f1_train.append(f1_tr)\n",
    "    acc_train.append(acc_tr)\n",
    "\n",
    "f1_result_df = pd.DataFrame(f1_result)\n",
    "acc_result_df = pd.DataFrame(acc_result)\n",
    "f1_train_df = pd.DataFrame(f1_train)\n",
    "acc_train_df = pd.DataFrame(acc_train)\n",
    "\n",
    "# plot relation between depth and accuracy/f1-score\n",
    "plt.title('Imbalance Data')\n",
    "plt.plot(depth, acc_result_df.sum(axis=0)/10, color='blue')\n",
    "plt.plot(depth, f1_result_df.sum(axis=0)/10, color='red')\n",
    "plt.plot(depth, acc_train_df.sum(axis=0)/10, color='blue', linestyle='dashed')\n",
    "plt.plot(depth, f1_train_df.sum(axis=0)/10, color='red', linestyle='dashed')\n",
    "plt.xlabel('Depth')\n",
    "plt.ylabel('score')\n",
    "plt.xticks(depth)\n",
    "plt.legend(['accuracy_val','f1-score_val','accuracy_train','f1-score_train'])\n",
    "plt.show()"
   ]
  },
  {
   "cell_type": "code",
   "execution_count": 89,
   "metadata": {},
   "outputs": [
    {
     "name": "stdout",
     "output_type": "stream",
     "text": [
      "              precision    recall  f1-score   support\n",
      "\n",
      "          -1       0.99      1.00      1.00      1172\n",
      "           1       1.00      0.88      0.93        81\n",
      "\n",
      "    accuracy                           0.99      1253\n",
      "   macro avg       1.00      0.94      0.96      1253\n",
      "weighted avg       0.99      0.99      0.99      1253\n",
      "\n"
     ]
    }
   ],
   "source": [
    "# train report\n",
    "from sklearn.metrics import classification_report\n",
    "y_pred = clf.predict(X_train)\n",
    "print(classification_report(y_train, y_pred))"
   ]
  },
  {
   "cell_type": "code",
   "execution_count": 37,
   "metadata": {},
   "outputs": [
    {
     "name": "stdout",
     "output_type": "stream",
     "text": [
      "              precision    recall  f1-score   support\n",
      "\n",
      "          -1       0.93      0.92      0.93       291\n",
      "           1       0.15      0.17      0.16        23\n",
      "\n",
      "    accuracy                           0.87       314\n",
      "   macro avg       0.54      0.55      0.55       314\n",
      "weighted avg       0.88      0.87      0.87       314\n",
      "\n"
     ]
    }
   ],
   "source": [
    "# test report: very poor on minor class '1'\n",
    "y_pred = clf.predict(X_test)\n",
    "print(classification_report(y_test, y_pred))"
   ]
  },
  {
   "cell_type": "code",
   "execution_count": 91,
   "metadata": {},
   "outputs": [
    {
     "name": "stdout",
     "output_type": "stream",
     "text": [
      "AUC area is 0.9382716049382716\n"
     ]
    },
    {
     "data": {
      "image/png": "[encoded data removed]",
      "text/plain": [
       "<Figure size 432x288 with 1 Axes>"
      ]
     },
     "metadata": {
      "needs_background": "light"
     },
     "output_type": "display_data"
    }
   ],
   "source": [
    "# ROC & AUC on train\n",
    "# TP rate 一開始表現的超好\n",
    "# https://scikit-learn.org/stable/auto_examples/model_selection/plot_roc.html#sphx-glr-auto-examples-model-selection-plot-roc-py\n",
    "from sklearn.metrics import roc_curve, auc\n",
    "fpr, tpr, thresholds = roc_curve(y_train, y_pred, pos_label=1)\n",
    "auc_area = auc(fpr, tpr)\n",
    "print(f'AUC area is {auc_area}')\n",
    "\n",
    "plt.figure()\n",
    "lw = 2\n",
    "plt.plot(\n",
    "    fpr,\n",
    "    tpr,\n",
    "    color=\"darkorange\",\n",
    "    lw=lw,\n",
    "    label=\"ROC curve (area = %0.2f)\" % auc_area,\n",
    ")\n",
    "plt.plot([0, 1], [0, 1], color=\"navy\", lw=lw, linestyle=\"--\")\n",
    "plt.xlim([-0.05, 1.0])\n",
    "plt.ylim([0.0, 1.05])\n",
    "plt.xlabel(\"False Positive Rate\")\n",
    "plt.ylabel(\"True Positive Rate\")\n",
    "plt.title(\"Receiver operating characteristic example\")\n",
    "plt.legend(loc=\"lower right\")\n",
    "plt.show()"
   ]
  },
  {
   "cell_type": "code",
   "execution_count": 103,
   "metadata": {},
   "outputs": [
    {
     "name": "stdout",
     "output_type": "stream",
     "text": [
      "AUC area is 0.549155834453907\n"
     ]
    },
    {
     "data": {
      "image/png": "[encoded data removed]",
      "text/plain": [
       "<Figure size 432x288 with 1 Axes>"
      ]
     },
     "metadata": {
      "needs_background": "light"
     },
     "output_type": "display_data"
    }
   ],
   "source": [
    "# ROC & AUC on train\n",
    "# TP rate 一開始表現的超好\n",
    "# https://scikit-learn.org/stable/auto_examples/model_selection/plot_roc.html#sphx-glr-auto-examples-model-selection-plot-roc-py\n",
    "from sklearn.metrics import roc_curve, auc\n",
    "y_pred = clf.predict(X_test)\n",
    "fpr, tpr, thresholds = roc_curve(y_test, y_pred, pos_label=1)\n",
    "auc_area = auc(fpr, tpr)\n",
    "print(f'AUC area is {auc_area}')\n",
    "\n",
    "plt.figure()\n",
    "lw = 2\n",
    "plt.plot(\n",
    "    fpr,\n",
    "    tpr,\n",
    "    color=\"darkorange\",\n",
    "    lw=lw,\n",
    "    label=\"Test ROC curve (area = %0.2f)\" % auc_area,\n",
    ")\n",
    "plt.plot([0, 1], [0, 1], color=\"navy\", lw=lw, linestyle=\"--\")\n",
    "plt.xlim([-0.05, 1.0])\n",
    "plt.ylim([0.0, 1.05])\n",
    "plt.xlabel(\"False Positive Rate\")\n",
    "plt.ylabel(\"True Positive Rate\")\n",
    "plt.legend(loc=\"lower right\")\n",
    "plt.show()"
   ]
  },
  {
   "cell_type": "markdown",
   "metadata": {},
   "source": [
    "#### (d) (5%) Suggest a method to address the data imbalance issue. Build a new balanced dataset. (hint: undersampling or oversampling)\n",
    "\n",
    "Ans: \n",
    "- 由於 minor class '1' 樣本太少，train 81, test 23，特徵數卻有上百個，資料比數明顯不足，我們採用 oversampling 的方法來製作新資料，以解決 imb。\n",
    "- 因為總樣本數也不多，因此不針對 major class 採用 undersampling。\n",
    "- ref: https://imbalanced-learn.org/stable/over_sampling.html"
   ]
  },
  {
   "cell_type": "code",
   "execution_count": null,
   "metadata": {},
   "outputs": [],
   "source": [
    "# ! pip install -U imbalanced-learn"
   ]
  },
  {
   "cell_type": "code",
   "execution_count": 19,
   "metadata": {},
   "outputs": [
    {
     "name": "stdout",
     "output_type": "stream",
     "text": [
      "[(-1, 1172), (1, 586)]\n"
     ]
    }
   ],
   "source": [
    "# 讓'1'從81變586，'-1'維持1172\n",
    "from imblearn.over_sampling import SMOTE, ADASYN\n",
    "from collections import Counter\n",
    "desired_ratio = 0.5 # 少數/多數\n",
    "X_resampled, y_resampled = SMOTE(sampling_strategy=desired_ratio).fit_resample(X_train, y_train)\n",
    "print(sorted(Counter(y_resampled).items()))"
   ]
  },
  {
   "cell_type": "code",
   "execution_count": 109,
   "metadata": {},
   "outputs": [
    {
     "data": {
      "image/png": "[encoded data removed]",
      "text/plain": [
       "<Figure size 720x288 with 2 Axes>"
      ]
     },
     "metadata": {
      "needs_background": "light"
     },
     "output_type": "display_data"
    }
   ],
   "source": [
    "# 看一下這取樣前後 兩個 features 的分布 (X59, X350在決策樹的最上層，應是重要變數)\n",
    "fe1, fe2 = 59, 350 \n",
    "labels_set = set(y_train)\n",
    "def get_index(lst):\n",
    "    indices_of_1 = [i for i, x in enumerate(lst) if x == 1] # 標籤為1的index\n",
    "    indices_of_m = [i for i, x in enumerate(lst) if x == -1] # -1\n",
    "    return indices_of_1, indices_of_m\n",
    "\n",
    "fig = plt.figure(figsize=(10,4))\n",
    "ax = fig.add_subplot(1,2,1)\n",
    "ax.set_title('Origin data')\n",
    "for lab in labels_set:\n",
    "    idx1, idxm = get_index(y_train)\n",
    "    ax.scatter(X_train[idxm,fe1], X_train[idxm,fe2], color='blue',s=1)\n",
    "    ax.scatter(X_train[idx1,fe1], X_train[idx1,fe2], color='yellow',s=2)\n",
    "\n",
    "ax = fig.add_subplot(1,2,2)\n",
    "ax.set_title('After SMOTE (2:1)')\n",
    "for lab in labels_set:\n",
    "    idx1, idxm = get_index(y_resampled)\n",
    "    ax.scatter(X_resampled[idxm,fe1], X_resampled[idxm,fe2], color='blue',s=1)\n",
    "    ax.scatter(X_resampled[idx1,fe1], X_resampled[idx1,fe2], color='yellow',s=2)"
   ]
  },
  {
   "cell_type": "markdown",
   "metadata": {},
   "source": [
    "#### (e) (5%) Based on the balanced dataset, use the classification and regression tree (CART) to analyze the balanced dataset. Show the classification results by 10-fold cross validation with several metrics (eg. accuracy, area under ROC curve (AUC), and F1-score), and also list the hyperparameters you adjust.\n",
    "\n",
    "Ans: 最佳模型的評估指標改變成了entropy，max_depth變淺，看得出因為imb label集中起來讓模型較不那麼複雜了。模型績效表現並沒有比較好，可說是持平or些微下降。詳見下列steps。"
   ]
  },
  {
   "cell_type": "code",
   "execution_count": 92,
   "metadata": {},
   "outputs": [
    {
     "name": "stdout",
     "output_type": "stream",
     "text": [
      "best params:  {'criterion': 'entropy', 'max_depth': 12}\n",
      "best score:  0.8065642257779111\n"
     ]
    }
   ],
   "source": [
    "depth = (np.arange(20)+1) # 無限制下試跑為深度25\n",
    "parameters = {\n",
    "    'criterion': ['gini','entropy'], \n",
    "    'max_depth': (np.arange(20)+1),\n",
    "    # 'min_samples_leaf': (np.arange(3)+1)\n",
    "}\n",
    "score = ['f1','accuracy']\n",
    "\n",
    "clf = tree.DecisionTreeClassifier()\n",
    "clf = GridSearchCV(clf, parameters, \n",
    "                    scoring=score,\n",
    "                    refit='f1', # Refit an estimator using the best found parameters on the whole dataset.\n",
    "                    return_train_score=True, \n",
    "                    cv=10) # 10-fold cross validation\n",
    "clf.fit(X_resampled, y_resampled)\n",
    "print('best params: ',clf.best_params_)\n",
    "print('best score: ',clf.best_score_)\n"
   ]
  },
  {
   "cell_type": "code",
   "execution_count": 98,
   "metadata": {},
   "outputs": [],
   "source": [
    "# save model\n",
    "import pickle\n",
    "with open('q1_resample.pkl', 'wb') as outp:\n",
    "    pickle.dump(clf, outp, pickle.HIGHEST_PROTOCOL)\n",
    "# with open('q1_clf.pkl', 'rb') as inp:\n",
    "#     clf = pickle.load(inp)"
   ]
  },
  {
   "cell_type": "code",
   "execution_count": 93,
   "metadata": {},
   "outputs": [
    {
     "name": "stdout",
     "output_type": "stream",
     "text": [
      "              precision    recall  f1-score   support\n",
      "\n",
      "          -1       1.00      1.00      1.00      1172\n",
      "           1       1.00      0.99      1.00       586\n",
      "\n",
      "    accuracy                           1.00      1758\n",
      "   macro avg       1.00      1.00      1.00      1758\n",
      "weighted avg       1.00      1.00      1.00      1758\n",
      "\n"
     ]
    }
   ],
   "source": [
    "# train 簡直完美 ???\n",
    "y_pred = clf.predict(X_resampled)\n",
    "print(classification_report(y_resampled, y_pred))"
   ]
  },
  {
   "cell_type": "code",
   "execution_count": 94,
   "metadata": {},
   "outputs": [
    {
     "name": "stdout",
     "output_type": "stream",
     "text": [
      "              precision    recall  f1-score   support\n",
      "\n",
      "          -1       0.93      0.86      0.89       291\n",
      "           1       0.11      0.22      0.14        23\n",
      "\n",
      "    accuracy                           0.81       314\n",
      "   macro avg       0.52      0.54      0.52       314\n",
      "weighted avg       0.87      0.81      0.84       314\n",
      "\n"
     ]
    }
   ],
   "source": [
    "# test report: very poor on minor class '1' 只有進步一點點，可判斷是overfiting\n",
    "y_pred = clf.predict(X_test)\n",
    "print(classification_report(y_test, y_pred))"
   ]
  },
  {
   "cell_type": "code",
   "execution_count": 95,
   "metadata": {},
   "outputs": [
    {
     "data": {
      "image/png": "[encoded data removed]",
      "text/plain": [
       "<Figure size 432x288 with 1 Axes>"
      ]
     },
     "metadata": {
      "needs_background": "light"
     },
     "output_type": "display_data"
    }
   ],
   "source": [
    "# 直接看 test 的績效，train 很完美就不看了 (ps: (c)的這張圖是train的)\n",
    "f1_result = []; acc_result = []\n",
    "f1_train = []; acc_train = []\n",
    "\n",
    "for i in range(10):\n",
    "    # 選用best param = entropy，所以取後面20個(前20個是gini)\n",
    "    f1 = clf.cv_results_.get('split{}_test_f1'.format(i))[:20]\n",
    "    acc = clf.cv_results_.get('split{}_test_accuracy'.format(i))[:20]\n",
    "    f1_tr = clf.cv_results_.get('split{}_train_f1'.format(i))[:20]\n",
    "    acc_tr = clf.cv_results_.get('split{}_train_accuracy'.format(i))[:20]\n",
    "    f1_result.append(f1)\n",
    "    acc_result.append(acc)\n",
    "    f1_train.append(f1_tr)\n",
    "    acc_train.append(acc_tr)\n",
    "\n",
    "f1_result_df = pd.DataFrame(f1_result)\n",
    "acc_result_df = pd.DataFrame(acc_result)\n",
    "f1_train_df = pd.DataFrame(f1_train)\n",
    "acc_train_df = pd.DataFrame(acc_train)\n",
    "\n",
    "# plot relation between depth and accuracy/f1-score\n",
    "plt.title('Resample Data (test set)')\n",
    "plt.plot(depth, acc_result_df.sum(axis=0)/10, color='blue')\n",
    "plt.plot(depth, f1_result_df.sum(axis=0)/10, color='red')\n",
    "plt.plot(depth, acc_train_df.sum(axis=0)/10, color='blue', linestyle='dashed')\n",
    "plt.plot(depth, f1_train_df.sum(axis=0)/10, color='red', linestyle='dashed')\n",
    "plt.xlabel('Depth')\n",
    "plt.ylabel('score')\n",
    "plt.xticks(depth)\n",
    "plt.legend(['accuracy_val','f1-score_val','accuracy_train','f1-score_train'])\n",
    "plt.show()"
   ]
  },
  {
   "cell_type": "code",
   "execution_count": 100,
   "metadata": {},
   "outputs": [
    {
     "name": "stdout",
     "output_type": "stream",
     "text": [
      "AUC area is 1.0\n"
     ]
    },
    {
     "data": {
      "image/png": "[encoded data removed]",
      "text/plain": [
       "<Figure size 432x288 with 1 Axes>"
      ]
     },
     "metadata": {
      "needs_background": "light"
     },
     "output_type": "display_data"
    }
   ],
   "source": [
    "# ROC & AUC on train\n",
    "# TP rate 一開始表現的超好\n",
    "# https://scikit-learn.org/stable/auto_examples/model_selection/plot_roc.html#sphx-glr-auto-examples-model-selection-plot-roc-py\n",
    "from sklearn.metrics import roc_curve, auc\n",
    "y_pred = clf.predict(X_train)\n",
    "fpr, tpr, thresholds = roc_curve(y_train, y_pred, pos_label=1)\n",
    "auc_area = auc(fpr, tpr)\n",
    "print(f'AUC area is {auc_area}')\n",
    "\n",
    "plt.figure()\n",
    "lw = 2\n",
    "plt.plot(\n",
    "    fpr,\n",
    "    tpr,\n",
    "    color=\"darkorange\",\n",
    "    lw=lw,\n",
    "    label=\"Train ROC curve (area = %0.2f)\" % auc_area,\n",
    ")\n",
    "plt.plot([0, 1], [0, 1], color=\"navy\", lw=lw, linestyle=\"--\")\n",
    "plt.xlim([-0.05, 1.0])\n",
    "plt.ylim([0.0, 1.05])\n",
    "plt.xlabel(\"False Positive Rate\")\n",
    "plt.ylabel(\"True Positive Rate\")\n",
    "plt.legend(loc=\"lower right\")\n",
    "plt.show()"
   ]
  },
  {
   "cell_type": "code",
   "execution_count": 99,
   "metadata": {},
   "outputs": [
    {
     "name": "stdout",
     "output_type": "stream",
     "text": [
      "AUC area is 0.5382489167787241\n"
     ]
    },
    {
     "data": {
      "image/png": "[encoded data removed]",
      "text/plain": [
       "<Figure size 432x288 with 1 Axes>"
      ]
     },
     "metadata": {
      "needs_background": "light"
     },
     "output_type": "display_data"
    }
   ],
   "source": [
    "# ROC & AUC on test\n",
    "# TP rate 一開始表現的超好\n",
    "# https://scikit-learn.org/stable/auto_examples/model_selection/plot_roc.html#sphx-glr-auto-examples-model-selection-plot-roc-py\n",
    "from sklearn.metrics import roc_curve, auc\n",
    "y_pred = clf.predict(X_test)\n",
    "fpr, tpr, thresholds = roc_curve(y_test, y_pred, pos_label=1)\n",
    "auc_area = auc(fpr, tpr)\n",
    "print(f'AUC area is {auc_area}')\n",
    "\n",
    "plt.figure()\n",
    "lw = 2\n",
    "plt.plot(\n",
    "    fpr,\n",
    "    tpr,\n",
    "    color=\"darkorange\",\n",
    "    lw=lw,\n",
    "    label=\"Test ROC curve (area = %0.2f)\" % auc_area,\n",
    ")\n",
    "plt.plot([0, 1], [0, 1], color=\"navy\", lw=lw, linestyle=\"--\")\n",
    "plt.xlim([-0.05, 1.0])\n",
    "plt.ylim([0.0, 1.05])\n",
    "plt.xlabel(\"False Positive Rate\")\n",
    "plt.ylabel(\"True Positive Rate\")\n",
    "plt.legend(loc=\"lower right\")\n",
    "plt.show()"
   ]
  },
  {
   "cell_type": "markdown",
   "metadata": {},
   "source": [
    "#### (f) (5%) Give a comparison between (c) and (e). Any suggestion or insight?\n",
    "\n",
    "經由 SMOTE 來增加少數樣本後，雖然 train 的 AUC 是 1.0 完美，但測試集表現十分慘烈，如下:\n",
    "- Oringinal test data AUC area is 0.5491\n",
    "- Resampled test data AUC area is 0.5382\n",
    "\n",
    "我的看法是，(D)小題散佈圖可看出其實兩種LABEL的在特徵空間上的重疊性高，或許需要蒐集更多資料再對major類別做undersampling，更有意義。而非對minor類別做擴增。"
   ]
  },
  {
   "cell_type": "code",
   "execution_count": 108,
   "metadata": {},
   "outputs": [
    {
     "data": {
      "text/plain": [
       "[Text(0.6049592391304348, 0.9722222222222222, 'X[59] <= 8.145\\ngini = 0.121\\nsamples = 1253\\nvalue = [1172, 81]'),\n",
       " Text(0.3376358695652174, 0.9166666666666666, 'X[350] <= 0.394\\ngini = 0.083\\nsamples = 1057\\nvalue = [1011, 46]'),\n",
       " Text(0.24728260869565216, 0.8611111111111112, 'X[215] <= 0.017\\ngini = 0.375\\nsamples = 4\\nvalue = [1, 3]'),\n",
       " Text(0.22554347826086957, 0.8055555555555556, 'gini = 0.0\\nsamples = 1\\nvalue = [1, 0]'),\n",
       " Text(0.26902173913043476, 0.8055555555555556, 'gini = 0.0\\nsamples = 3\\nvalue = [0, 3]')]"
      ]
     },
     "execution_count": 108,
     "metadata": {},
     "output_type": "execute_result"
    },
    {
     "data": {
      "image/png": "[encoded data removed]",
      "text/plain": [
       "<Figure size 432x288 with 1 Axes>"
      ]
     },
     "metadata": {
      "needs_background": "light"
     },
     "output_type": "display_data"
    }
   ],
   "source": [
    "# list 重要變數: X[59], X[350], X[215]\n",
    "tree.plot_tree(clf.best_estimator_)[:5]"
   ]
  },
  {
   "cell_type": "markdown",
   "metadata": {},
   "source": [
    "#### (g) (5%) Use “Random Forest” to solve both prepared dataset and balanced dataset, respectively. Give a comparison and provide your insight.\n",
    "\n",
    "Ans: 由於 Random Forest 集合了多個不同採樣的弱學習器Tree，是variance較低的模型，因此表現較差。結果為:\n",
    "- Original data: 全部猜多數類別 -1，AUC = 0.5 無鑑別度。\n",
    "- Resampled data: 好一些些，一開始TPrate有拉上來，AUC = 0.5217。"
   ]
  },
  {
   "cell_type": "code",
   "execution_count": 24,
   "metadata": {},
   "outputs": [],
   "source": [
    "def plotRoc(clf, X, y):\n",
    "    from sklearn.metrics import roc_curve, auc\n",
    "    y_pred = clf.predict(X)\n",
    "    fpr, tpr, thresholds = roc_curve(y, y_pred, pos_label=1)\n",
    "    auc_area = auc(fpr, tpr)\n",
    "    print(f'AUC area is {auc_area}')\n",
    "\n",
    "    plt.figure(figsize=(6,4))\n",
    "    lw = 2\n",
    "    plt.plot(\n",
    "        fpr,\n",
    "        tpr,\n",
    "        color=\"darkorange\",\n",
    "        lw=lw,\n",
    "        label=\"ROC curve (area = %0.2f)\" % auc_area,\n",
    "    )\n",
    "    plt.plot([0, 1], [0, 1], color=\"navy\", lw=lw, linestyle=\"--\")\n",
    "    plt.xlim([-0.05, 1.0])\n",
    "    plt.ylim([0.0, 1.05])\n",
    "    plt.xlabel(\"False Positive Rate\")\n",
    "    plt.ylabel(\"True Positive Rate\")\n",
    "    plt.legend(loc=\"lower right\")\n",
    "    plt.show()"
   ]
  },
  {
   "cell_type": "code",
   "execution_count": 17,
   "metadata": {},
   "outputs": [
    {
     "name": "stdout",
     "output_type": "stream",
     "text": [
      "predict values count: Counter({-1: 314})\n",
      "AUC area is 0.5\n"
     ]
    },
    {
     "data": {
      "image/png": "[encoded data removed]",
      "text/plain": [
       "<Figure size 432x288 with 1 Axes>"
      ]
     },
     "metadata": {
      "needs_background": "light"
     },
     "output_type": "display_data"
    }
   ],
   "source": [
    "from sklearn.ensemble import RandomForestClassifier\n",
    "from collections import Counter\n",
    "clf = RandomForestClassifier(max_depth=20, random_state=0)\n",
    "clf.fit(X_train, y_train)\n",
    "y_pred = clf.predict(X_test)\n",
    "print('predict values count:', Counter(y_pred))\n",
    "plotRoc(clf, X_test, y_test)"
   ]
  },
  {
   "cell_type": "code",
   "execution_count": 25,
   "metadata": {},
   "outputs": [
    {
     "name": "stdout",
     "output_type": "stream",
     "text": [
      "AUC area is 0.5217391304347826\n"
     ]
    },
    {
     "data": {
      "image/png": "[encoded data removed]",
      "text/plain": [
       "<Figure size 432x288 with 1 Axes>"
      ]
     },
     "metadata": {
      "needs_background": "light"
     },
     "output_type": "display_data"
    }
   ],
   "source": [
    "# SMOTE data\n",
    "clf = RandomForestClassifier(max_depth=20, random_state=0)\n",
    "clf.fit(X_resampled, y_resampled)\n",
    "y_pred = clf.predict(X_test)\n",
    "plotRoc(clf, X_test, y_test)"
   ]
  },
  {
   "cell_type": "markdown",
   "metadata": {},
   "source": [
    "#### (h) (5%) Use “Gradient Boosting Decision Tree (GBDT)” to solve both prepared dataset and balanced dataset, respectively. Give a comparison and provide your insight.\n",
    "\n",
    "Boosting 是降低bias的誤差、放棄variance的方法，我推測對於imb data的應用性會比RF還要好。結果也應證我的猜測是正確的。\n",
    "\n",
    "經過人工調參，發現原始資料集在testing data的表現上竟然比SMOTE資料集還要好，AUC是0.58>0.56，顯示SMOTE其實對這個資料集並沒有幫助。應如我所說的，收集更多真實資料更有意義。"
   ]
  },
  {
   "cell_type": "code",
   "execution_count": 38,
   "metadata": {},
   "outputs": [
    {
     "name": "stdout",
     "output_type": "stream",
     "text": [
      "model score: 0.8598726114649682\n",
      "AUC area is 0.584043030031376\n"
     ]
    },
    {
     "data": {
      "image/png": "[encoded data removed]",
      "text/plain": [
       "<Figure size 432x288 with 1 Axes>"
      ]
     },
     "metadata": {
      "needs_background": "light"
     },
     "output_type": "display_data"
    }
   ],
   "source": [
    "from sklearn.ensemble import GradientBoostingClassifier\n",
    "clf = GradientBoostingClassifier(n_estimators=10, learning_rate=2.0,\n",
    "    max_depth=5, random_state=0).fit(X_train, y_train)\n",
    "print('model score:', clf.score(X_test, y_test))\n",
    "plotRoc(clf, X_test, y_test)"
   ]
  },
  {
   "cell_type": "code",
   "execution_count": 36,
   "metadata": {},
   "outputs": [
    {
     "name": "stdout",
     "output_type": "stream",
     "text": [
      "model score: 0.9994311717861206\n",
      "AUC area is 0.5605856865381743\n"
     ]
    },
    {
     "data": {
      "image/png": "[encoded data removed]",
      "text/plain": [
       "<Figure size 432x288 with 1 Axes>"
      ]
     },
     "metadata": {
      "needs_background": "light"
     },
     "output_type": "display_data"
    }
   ],
   "source": [
    "# SMOTE data\n",
    "clf = GradientBoostingClassifier(n_estimators=10, learning_rate=2.0,\n",
    "    max_depth=10, random_state=0).fit(X_resampled, y_resampled)\n",
    "print('model score:', clf.score(X_resampled, y_resampled))\n",
    "plotRoc(clf, X_test, y_test)"
   ]
  },
  {
   "cell_type": "markdown",
   "metadata": {},
   "source": [
    "## Q2 (40%) Feature Selection (flotation plant)"
   ]
  },
  {
   "cell_type": "markdown",
   "metadata": {},
   "source": [
    "#### (a) 試使用線性迴歸以最小平方法估計迴歸係數，並說明重要變數(例如排序p-value或t統計量)。"
   ]
  },
  {
   "cell_type": "code",
   "execution_count": 1,
   "metadata": {},
   "outputs": [],
   "source": [
    "import pandas as pd\n",
    "import numpy as np\n",
    "from matplotlib import pyplot as plt\n",
    "import statsmodels.api as sm\n",
    "import statsmodels.formula.api as smf\n",
    "from collections import Counter\n",
    "# import statsmodels.stats.api as sms\n",
    "# import scipy.stats as stats"
   ]
  },
  {
   "cell_type": "code",
   "execution_count": 2,
   "metadata": {},
   "outputs": [
    {
     "data": {
      "text/html": [
       "<div>\n",
       "<style scoped>\n",
       "    .dataframe tbody tr th:only-of-type {\n",
       "        vertical-align: middle;\n",
       "    }\n",
       "\n",
       "    .dataframe tbody tr th {\n",
       "        vertical-align: top;\n",
       "    }\n",
       "\n",
       "    .dataframe thead th {\n",
       "        text-align: right;\n",
       "    }\n",
       "</style>\n",
       "<table border=\"1\" class=\"dataframe\">\n",
       "  <thead>\n",
       "    <tr style=\"text-align: right;\">\n",
       "      <th></th>\n",
       "      <th>date</th>\n",
       "      <th>% Iron Feed</th>\n",
       "      <th>% Silica Feed</th>\n",
       "      <th>Starch Flow</th>\n",
       "      <th>Amina Flow</th>\n",
       "      <th>Ore Pulp Flow</th>\n",
       "      <th>Ore Pulp pH</th>\n",
       "      <th>Ore Pulp Density</th>\n",
       "      <th>Flotation Column 01 Air Flow</th>\n",
       "      <th>Flotation Column 02 Air Flow</th>\n",
       "      <th>...</th>\n",
       "      <th>Flotation Column 07 Air Flow</th>\n",
       "      <th>Flotation Column 01 Level</th>\n",
       "      <th>Flotation Column 02 Level</th>\n",
       "      <th>Flotation Column 03 Level</th>\n",
       "      <th>Flotation Column 04 Level</th>\n",
       "      <th>Flotation Column 05 Level</th>\n",
       "      <th>Flotation Column 06 Level</th>\n",
       "      <th>Flotation Column 07 Level</th>\n",
       "      <th>% Iron Concentrate</th>\n",
       "      <th>% Silica Concentrate</th>\n",
       "    </tr>\n",
       "  </thead>\n",
       "  <tbody>\n",
       "    <tr>\n",
       "      <th>0</th>\n",
       "      <td>2017-03-10 01:00:00</td>\n",
       "      <td>55.2</td>\n",
       "      <td>16.98</td>\n",
       "      <td>3019.53</td>\n",
       "      <td>557.434</td>\n",
       "      <td>395.713</td>\n",
       "      <td>10.0664</td>\n",
       "      <td>1.74</td>\n",
       "      <td>249.214</td>\n",
       "      <td>253.235</td>\n",
       "      <td>...</td>\n",
       "      <td>250.884</td>\n",
       "      <td>457.396</td>\n",
       "      <td>432.962</td>\n",
       "      <td>424.954</td>\n",
       "      <td>443.558</td>\n",
       "      <td>502.255</td>\n",
       "      <td>446.37</td>\n",
       "      <td>523.344</td>\n",
       "      <td>66.91</td>\n",
       "      <td>1.31</td>\n",
       "    </tr>\n",
       "    <tr>\n",
       "      <th>1</th>\n",
       "      <td>2017-03-10 01:00:00</td>\n",
       "      <td>55.2</td>\n",
       "      <td>16.98</td>\n",
       "      <td>3024.41</td>\n",
       "      <td>563.965</td>\n",
       "      <td>397.383</td>\n",
       "      <td>10.0672</td>\n",
       "      <td>1.74</td>\n",
       "      <td>249.719</td>\n",
       "      <td>250.532</td>\n",
       "      <td>...</td>\n",
       "      <td>248.994</td>\n",
       "      <td>451.891</td>\n",
       "      <td>429.56</td>\n",
       "      <td>432.939</td>\n",
       "      <td>448.086</td>\n",
       "      <td>496.363</td>\n",
       "      <td>445.922</td>\n",
       "      <td>498.075</td>\n",
       "      <td>66.91</td>\n",
       "      <td>1.31</td>\n",
       "    </tr>\n",
       "    <tr>\n",
       "      <th>2</th>\n",
       "      <td>2017-03-10 01:00:00</td>\n",
       "      <td>55.2</td>\n",
       "      <td>16.98</td>\n",
       "      <td>3043.46</td>\n",
       "      <td>568.054</td>\n",
       "      <td>399.668</td>\n",
       "      <td>10.068</td>\n",
       "      <td>1.74</td>\n",
       "      <td>249.741</td>\n",
       "      <td>247.874</td>\n",
       "      <td>...</td>\n",
       "      <td>248.071</td>\n",
       "      <td>451.24</td>\n",
       "      <td>468.927</td>\n",
       "      <td>434.61</td>\n",
       "      <td>449.688</td>\n",
       "      <td>484.411</td>\n",
       "      <td>447.826</td>\n",
       "      <td>458.567</td>\n",
       "      <td>66.91</td>\n",
       "      <td>1.31</td>\n",
       "    </tr>\n",
       "  </tbody>\n",
       "</table>\n",
       "<p>3 rows × 24 columns</p>\n",
       "</div>"
      ],
      "text/plain": [
       "                  date % Iron Feed % Silica Feed Starch Flow Amina Flow  \\\n",
       "0  2017-03-10 01:00:00        55.2         16.98     3019.53    557.434   \n",
       "1  2017-03-10 01:00:00        55.2         16.98     3024.41    563.965   \n",
       "2  2017-03-10 01:00:00        55.2         16.98     3043.46    568.054   \n",
       "\n",
       "  Ore Pulp Flow Ore Pulp pH Ore Pulp Density Flotation Column 01 Air Flow  \\\n",
       "0       395.713     10.0664             1.74                      249.214   \n",
       "1       397.383     10.0672             1.74                      249.719   \n",
       "2       399.668      10.068             1.74                      249.741   \n",
       "\n",
       "  Flotation Column 02 Air Flow  ... Flotation Column 07 Air Flow  \\\n",
       "0                      253.235  ...                      250.884   \n",
       "1                      250.532  ...                      248.994   \n",
       "2                      247.874  ...                      248.071   \n",
       "\n",
       "  Flotation Column 01 Level Flotation Column 02 Level  \\\n",
       "0                   457.396                   432.962   \n",
       "1                   451.891                    429.56   \n",
       "2                    451.24                   468.927   \n",
       "\n",
       "  Flotation Column 03 Level Flotation Column 04 Level  \\\n",
       "0                   424.954                   443.558   \n",
       "1                   432.939                   448.086   \n",
       "2                    434.61                   449.688   \n",
       "\n",
       "  Flotation Column 05 Level Flotation Column 06 Level  \\\n",
       "0                   502.255                    446.37   \n",
       "1                   496.363                   445.922   \n",
       "2                   484.411                   447.826   \n",
       "\n",
       "  Flotation Column 07 Level % Iron Concentrate % Silica Concentrate  \n",
       "0                   523.344              66.91                 1.31  \n",
       "1                   498.075              66.91                 1.31  \n",
       "2                   458.567              66.91                 1.31  \n",
       "\n",
       "[3 rows x 24 columns]"
      ]
     },
     "metadata": {},
     "output_type": "display_data"
    },
    {
     "name": "stdout",
     "output_type": "stream",
     "text": [
      "data.shape: (737453, 24)\n"
     ]
    }
   ],
   "source": [
    "# import Flotation_Plant data, x = x1~x22 不含日期和鐵礦百分比, y = % Silica Concentrate\n",
    "data = pd.read_csv(\"./MiningProcess_Flotation_Plant_Database.csv\")\n",
    "data = data.replace(\",\", \".\", regex=True) \n",
    "display(data.head(3))\n",
    "print('data.shape:', data.shape)\n",
    "\n",
    "data_X = data.iloc[:, 1:-2].astype(float) # params\n",
    "data_y = data.iloc[:, -1].astype(float) # label\n",
    "data_X_const = sm.add_constant(data_X) # 做線性回歸前 要手動加上截距(常數項)\n",
    "data_X_const = data_X_const.rename(columns={\"const\": \"Intercept\"})"
   ]
  },
  {
   "cell_type": "code",
   "execution_count": 11,
   "metadata": {},
   "outputs": [
    {
     "name": "stdout",
     "output_type": "stream",
     "text": [
      "rsquared: 0.8393006644640826 \n",
      "rsquared_adj: 0.8392960881966488\n",
      "\n",
      "Top 3 features:\n",
      " Flotation Column 04 Air Flow    0.0\n",
      "Flotation Column 05 Level       0.0\n",
      "Amina Flow                      0.0\n",
      "dtype: float64\n",
      "\n",
      "Last 3 features:\n",
      " Flotation Column 02 Level       0.003302\n",
      "% Iron Feed                     0.042210\n",
      "Flotation Column 07 Air Flow    0.072331\n",
      "dtype: float64\n",
      "\n",
      "osl important features (sorted): ['Flotation Column 04 Air Flow', 'Flotation Column 05 Level', 'Amina Flow', 'Ore Pulp pH', 'Ore Pulp Density', 'Flotation Column 01 Air Flow', 'Flotation Column 06 Air Flow', 'Starch Flow', 'Flotation Column 03 Air Flow', 'Ore Pulp Flow', 'Flotation Column 07 Level', 'Flotation Column 04 Level', '% Silica Feed', 'Flotation Column 03 Level', 'Flotation Column 02 Air Flow', 'Flotation Column 01 Level', 'Flotation Column 05 Air Flow', 'Flotation Column 06 Level', 'Flotation Column 02 Level', '% Iron Feed', 'Flotation Column 07 Air Flow']\n"
     ]
    }
   ],
   "source": [
    "# (1) 整體資料先做線性迴歸；\n",
    "# (2) 依 p value 小至大排序選出重要變數；\n",
    "model = sm.OLS(data_y, data_X)\n",
    "osl_result = model.fit()\n",
    "# print(furnace_result.summary())\n",
    "print('rsquared:', osl_result.rsquared, '\\nrsquared_adj:', osl_result.rsquared_adj)\n",
    "\n",
    "osl_pvalues = osl_result.pvalues\n",
    "print('\\nTop 3 features:\\n', osl_pvalues.sort_values().head(3)) # p 越小影響力越大\n",
    "print('\\nLast 3 features:\\n', osl_pvalues.sort_values().tail(3)) # p 越大影響力越小\n",
    "\n",
    "osl_imp_feat = list(osl_pvalues.sort_values().keys())\n",
    "print(f\"\\nosl important features (sorted): {osl_imp_feat}\")"
   ]
  },
  {
   "cell_type": "markdown",
   "metadata": {},
   "source": [
    "- 可以看到選了top3的特徵為: `'Flotation Column 04 Air Flow', 'Flotation Column 05 Level', 'Amina Flow'`。\n",
    "- 若選擇 p < 0.01 的特徵，則會選取以下19個。"
   ]
  },
  {
   "cell_type": "code",
   "execution_count": 17,
   "metadata": {},
   "outputs": [
    {
     "name": "stdout",
     "output_type": "stream",
     "text": [
      "Selected: 19 \n",
      " ['Flotation Column 04 Air Flow', 'Flotation Column 05 Level', 'Amina Flow', 'Ore Pulp pH', 'Ore Pulp Density', 'Flotation Column 01 Air Flow', 'Flotation Column 06 Air Flow', 'Starch Flow', 'Flotation Column 03 Air Flow', 'Ore Pulp Flow', 'Flotation Column 07 Level', 'Flotation Column 04 Level', '% Silica Feed', 'Flotation Column 03 Level', 'Flotation Column 02 Air Flow', 'Flotation Column 01 Level', 'Flotation Column 05 Air Flow', 'Flotation Column 06 Level', 'Flotation Column 02 Level']\n"
     ]
    }
   ],
   "source": [
    "selected_attr = []\n",
    "for index in osl_pvalues.sort_values().index:\n",
    "  if osl_pvalues[index] < 0.01:\n",
    "    selected_attr.append(index)\n",
    "print(\"Selected:\", len(selected_attr),'\\n', selected_attr)"
   ]
  },
  {
   "cell_type": "markdown",
   "metadata": {},
   "source": [
    "#### (b) 試使用逐步迴歸找出重要變數。\n",
    "\n",
    "Ref: https://github.com/AakkashVijayakumar/stepwise-regression\n",
    "\n",
    "每次都對未被挑選的特徵做OLS，再挑選一個變數作為重要變數，由結果可看出前13個特徵的p-value都是0，次序就不這麼重要了，由於我們threshold_in設為0.1，就只選到`% Iron Feed`便停止挑選。"
   ]
  },
  {
   "cell_type": "code",
   "execution_count": 19,
   "metadata": {},
   "outputs": [
    {
     "name": "stdout",
     "output_type": "stream",
     "text": [
      "Add  Amina Flow                     with p-value 0.0\n",
      "Add  Flotation Column 02 Air Flow   with p-value 0.0\n",
      "Add  Starch Flow                    with p-value 0.0\n",
      "Add  % Silica Feed                  with p-value 0.0\n",
      "Add  Flotation Column 07 Air Flow   with p-value 0.0\n",
      "Add  Flotation Column 04 Air Flow   with p-value 0.0\n",
      "Add  Flotation Column 01 Air Flow   with p-value 0.0\n",
      "Add  Flotation Column 03 Air Flow   with p-value 0.0\n",
      "Add  Ore Pulp Flow                  with p-value 0.0\n",
      "Add  Flotation Column 05 Level      with p-value 0.0\n",
      "Add  Ore Pulp Density               with p-value 0.0\n",
      "Add  Flotation Column 06 Air Flow   with p-value 0.0\n",
      "Add  Ore Pulp pH                    with p-value 0.0\n",
      "Add  Flotation Column 07 Level      with p-value 6.30878e-97\n",
      "Add  Flotation Column 05 Air Flow   with p-value 6.05088e-71\n",
      "Add  Flotation Column 04 Level      with p-value 1.84252e-54\n",
      "Add  Flotation Column 03 Level      with p-value 1.78665e-14\n",
      "Add  Flotation Column 01 Level      with p-value 4.83258e-50\n",
      "Add  Flotation Column 06 Level      with p-value 0.000111164\n",
      "Add  Flotation Column 02 Level      with p-value 0.00112615\n",
      "Add  % Iron Feed                    with p-value 0.00795691\n"
     ]
    }
   ],
   "source": [
    "import warnings\n",
    "warnings.simplefilter(action='ignore', category=FutureWarning)\n",
    "import pandas as pd\n",
    "\n",
    "def forward_regression(X, y, threshold_in=0.01, verbose=True) -> list:\n",
    "    initial_list = []\n",
    "    included = list(initial_list)\n",
    "    while True:\n",
    "        changed=False\n",
    "        excluded = list(set(X.columns)-set(included))\n",
    "        new_pval = pd.Series(index=excluded)\n",
    "        for new_column in excluded:\n",
    "            model = sm.OLS(y, sm.add_constant(pd.DataFrame(X[included+[new_column]]))).fit()\n",
    "            new_pval[new_column] = model.pvalues[new_column]\n",
    "        best_pval = new_pval.min()\n",
    "        if best_pval < threshold_in:\n",
    "            best_feature = new_pval.idxmin()\n",
    "            included.append(best_feature)\n",
    "            changed=True\n",
    "            if verbose:\n",
    "                print('Add  {:30} with p-value {:.6}'.format(best_feature, best_pval))\n",
    "\n",
    "        if not changed:\n",
    "            break\n",
    "\n",
    "    return included\n",
    "\n",
    "selected_Feature = forward_regression(data_X, data_y)"
   ]
  },
  {
   "cell_type": "markdown",
   "metadata": {},
   "source": [
    "#### (c) 試比較(a)與(b)的結果是否一致？有何不同？\n",
    "\n",
    "完全一致。因為我們的 threshold 都設為 0.01，最終結果相同。stepwise可以看到挑選的過程，若覺得21個特徵太多，則可以由結果看出應該先刪除哪些較不重要的變數。"
   ]
  },
  {
   "cell_type": "code",
   "execution_count": 22,
   "metadata": {},
   "outputs": [
    {
     "name": "stdout",
     "output_type": "stream",
     "text": [
      "set()\n",
      "set()\n"
     ]
    },
    {
     "data": {
      "text/plain": [
       "21"
      ]
     },
     "execution_count": 22,
     "metadata": {},
     "output_type": "execute_result"
    }
   ],
   "source": [
    "one_imp = set(osl_imp_feat)\n",
    "step_imp = set(selected_Feature)\n",
    "print(one_imp - step_imp)\n",
    "print(step_imp - one_imp)\n",
    "len(one_imp)"
   ]
  },
  {
   "cell_type": "markdown",
   "metadata": {},
   "source": [
    "\n",
    "#### (d) 試使用脊迴歸挑選重要變數。\n",
    "- ref: https://scikit-learn.org/stable/modules/linear_model.html\n",
    "- ref: https://medium.com/@sabarirajan.kumarappan/feature-selection-by-lasso-and-ridge-regression-python-code-examples-1e8ab451b94b\n",
    "\n",
    "這邊使用 sklearn 的 Redge 來挑選變數，使用平方法作為限制式，因此可行解區域是個圓形，可行解區域的threshold預設為1，結果顯示我們挑選到了 `'Ore Pulp pH', 'Ore Pulp Density'` 兩個特徵。"
   ]
  },
  {
   "cell_type": "code",
   "execution_count": 3,
   "metadata": {},
   "outputs": [],
   "source": [
    "from sklearn.linear_model import Lasso, LogisticRegression\n",
    "from sklearn.feature_selection import SelectFromModel\n",
    "from sklearn.linear_model import Ridge\n",
    "from sklearn.linear_model import Lasso"
   ]
  },
  {
   "cell_type": "code",
   "execution_count": 4,
   "metadata": {},
   "outputs": [
    {
     "name": "stdout",
     "output_type": "stream",
     "text": [
      "coef: [-2.72420159e-03  7.82534426e-03 -3.84501633e-05  3.22903839e-03\n",
      " -4.64310174e-03 -3.25921166e-01 -1.93320934e+00 -8.86014909e-03\n",
      "  1.07132288e-03 -5.49579507e-03  3.53149002e-02 -6.53003035e-03\n",
      "  2.79867799e-03  9.54649812e-05 -1.93287915e-04 -4.86930183e-05\n",
      "  1.88604737e-04 -2.99714214e-04 -1.17096731e-03  7.49541598e-05\n",
      " -3.43875846e-04]\n",
      "Selected Feature: 2 , they are: Index(['Ore Pulp pH', 'Ore Pulp Density'], dtype='object')\n"
     ]
    }
   ],
   "source": [
    "selector = SelectFromModel(Ridge())\n",
    "selector.fit(data_X, data_y)\n",
    "selected_features = selector.get_support()\n",
    "print(\"coef:\", selector.estimator_.coef_)\n",
    "\n",
    "selected_features = data_X.columns[selected_features]\n",
    "print(\"Selected Feature:\",len(selected_features),', they are:', selected_features)\n"
   ]
  },
  {
   "cell_type": "code",
   "execution_count": 13,
   "metadata": {},
   "outputs": [
    {
     "data": {
      "text/plain": [
       "(56.23413251903491,\n",
       " 17782794.100389227,\n",
       " -1.924067446061959,\n",
       " 0.13163771935677648)"
      ]
     },
     "execution_count": 13,
     "metadata": {},
     "output_type": "execute_result"
    },
    {
     "data": {
      "image/png": "[encoded data removed]",
      "text/plain": [
       "<Figure size 432x288 with 1 Axes>"
      ]
     },
     "metadata": {
      "needs_background": "light"
     },
     "output_type": "display_data"
    }
   ],
   "source": [
    "n_alphas = 20\n",
    "alphas = np.logspace(2, 7, n_alphas)\n",
    "coefs = []\n",
    "clf = Ridge()\n",
    "\n",
    "# Train the model with different regularisation strengths\n",
    "for a in alphas:\n",
    "    clf.set_params(alpha=a)\n",
    "    clf.fit(data_X, data_y)\n",
    "    coefs.append(clf.coef_)\n",
    "\n",
    "ax = plt.gca()\n",
    "ax.plot(alphas, coefs)\n",
    "ax.set_xscale(\"log\")\n",
    "plt.xlabel(\"alpha\")\n",
    "plt.ylabel(\"weights\")\n",
    "plt.title(\"Ridge coefficients as a function of the regularization\")\n",
    "plt.axis(\"tight\")"
   ]
  },
  {
   "cell_type": "markdown",
   "metadata": {},
   "source": [
    "#### (e) 試使用套索迴歸或適應性套索迴歸挑選重要變數。\n",
    "\n",
    "這邊使用 sklearn 的 Lasso 來挑選變數，使用絕對值法作為限制式(L1 regularization)，因此可行解區域是個矩形，可行解區域的threshold預設為1，結果顯示我們挑選到了 `'Starch Flow', 'Amina Flow', 'Flotation Column 01 Air Flow',\n",
    "       'Flotation Column 03 Air Flow', 'Flotation Column 06 Air Flow',\n",
    "       'Flotation Column 03 Level', 'Flotation Column 04 Level',\n",
    "       'Flotation Column 05 Level', 'Flotation Column 07 Level'` 9個特徵。意思是這9個特徵在alpha=threshold前被壓縮至0。"
   ]
  },
  {
   "cell_type": "code",
   "execution_count": 6,
   "metadata": {},
   "outputs": [
    {
     "name": "stdout",
     "output_type": "stream",
     "text": [
      "coef: [-0.00000000e+00  0.00000000e+00 -6.85383038e-05  1.93270785e-03\n",
      " -0.00000000e+00 -0.00000000e+00 -0.00000000e+00 -6.96096749e-03\n",
      " -0.00000000e+00 -1.66382483e-03  0.00000000e+00 -0.00000000e+00\n",
      "  1.03975158e-03  0.00000000e+00 -0.00000000e+00 -0.00000000e+00\n",
      "  4.71856604e-05 -4.20905107e-04 -1.24211064e-03 -0.00000000e+00\n",
      " -5.03653401e-04]\n",
      "Selected Feature: 9 , they are: Index(['Starch Flow', 'Amina Flow', 'Flotation Column 01 Air Flow',\n",
      "       'Flotation Column 03 Air Flow', 'Flotation Column 06 Air Flow',\n",
      "       'Flotation Column 03 Level', 'Flotation Column 04 Level',\n",
      "       'Flotation Column 05 Level', 'Flotation Column 07 Level'],\n",
      "      dtype='object')\n"
     ]
    }
   ],
   "source": [
    "selector = SelectFromModel(Lasso())\n",
    "selector.fit(data_X, data_y)\n",
    "selected_features = selector.get_support()\n",
    "print(\"coef:\", selector.estimator_.coef_)\n",
    "\n",
    "selected_features = data_X.columns[selected_features]\n",
    "print(\"Selected Feature:\",len(selected_features),', they are:' , selected_features)"
   ]
  },
  {
   "cell_type": "code",
   "execution_count": 16,
   "metadata": {},
   "outputs": [
    {
     "data": {
      "text/plain": [
       "(0.0007498942093324559,\n",
       " 0.4216965034285822,\n",
       " -1.5996347788907608,\n",
       " 0.11576907951577939)"
      ]
     },
     "execution_count": 16,
     "metadata": {},
     "output_type": "execute_result"
    },
    {
     "data": {
      "image/png": "[encoded data removed]",
      "text/plain": [
       "<Figure size 432x288 with 1 Axes>"
      ]
     },
     "metadata": {
      "needs_background": "light"
     },
     "output_type": "display_data"
    }
   ],
   "source": [
    "n_alphas = 20\n",
    "alphas = np.logspace(-3, -0.5, n_alphas)\n",
    "coefs = []\n",
    "clf = Lasso()\n",
    "\n",
    "# Train the model with different regularisation strengths\n",
    "for a in alphas:\n",
    "    clf.set_params(alpha=a)\n",
    "    clf.fit(data_X, data_y)\n",
    "    coefs.append(clf.coef_)\n",
    "\n",
    "ax = plt.gca()\n",
    "ax.plot(alphas, coefs)\n",
    "ax.set_xscale(\"log\")\n",
    "plt.xlabel(\"alpha\")\n",
    "plt.ylabel(\"weights\")\n",
    "plt.title(\"Lasso coefficients as a function of the regularization\")\n",
    "plt.axis(\"tight\")"
   ]
  },
  {
   "cell_type": "markdown",
   "metadata": {},
   "source": [
    "#### (f) 試比較(d)與(e)的結果是否一致？有何不同？\n",
    "\n",
    "可以看出 Lasso 選出的特徵明顯比 Rigid 多，因為 Lasso 的可行解區域是線性組合，較容易與資料的值域切在坐標軸為0的座標點。\n",
    "\n",
    "我們也發現兩個方法選出的特徵都不一樣，由兩張不同 alpha 的壓縮圖，可看出兩個方法都劃出兩個特徵一開始就被明顯的壓縮，在 Rigid 中是 `'Ore Pulp pH', 'Ore Pulp Density'`，在 Lasso 中是 `'Starch Flow', 'Amina Flow'`，或許可以認定這4個特徵是最重要的變數。"
   ]
  },
  {
   "cell_type": "markdown",
   "metadata": {},
   "source": [
    "#### (g) 在特徵中那些特徵彼此之間高相關？若以線性迴歸預測，請問是否有共線性的問題？\n",
    "\n",
    "- ref: https://towardsdatascience.com/targeting-multicollinearity-with-python-3bd3b4088d0b\n",
    "\n",
    "From the heatmap, we can identify strong relationships between:\n",
    "- % Silica Feed, % Iron Feed (-0.97)\n",
    "- Amina Flow, Ore Pulp Density (0.66)\n",
    "- Flotation Column 1 Air Flow, Flotation Column 3 Air Flow (0.95)\n",
    "- Flotation Column 2 Air Flow, Flotation Column 6 Air Flow (0.66)\n",
    "- Flotation Column 1 Level, Flotation Column 3 Level (0.73)\n",
    "\n",
    "若以相關係數來看，`% Silica Feed, % Iron Feed (-0.97)` 以及 `Flotation Column 1 Air Flow, Flotation Column 3 Air Flow (0.95)` 這兩組資料相關性非常高，而 0.95 這組 Air flow 可能存在共線性，建議再以 VIF 指標檢視。"
   ]
  },
  {
   "cell_type": "code",
   "execution_count": 30,
   "metadata": {},
   "outputs": [
    {
     "data": {
      "image/png": "[encoded data removed]",
      "text/plain": [
       "<Figure size 1080x576 with 2 Axes>"
      ]
     },
     "metadata": {
      "needs_background": "light"
     },
     "output_type": "display_data"
    }
   ],
   "source": [
    "# set figure size (in inch)\n",
    "plt.figure(figsize=(15,8))\n",
    "\n",
    "# Generate a mask to onlyshow the bottom triangle\n",
    "mask = np.triu(np.ones_like(data_X.corr(), dtype=bool))\n",
    "\n",
    "import seaborn as sns\n",
    "sns.heatmap(data_X.corr(), annot=True, mask=mask, vmin=-1, vmax=1)\n",
    "plt.title('Correlation Coefficient Of Predictors')\n",
    "plt.show()"
   ]
  },
  {
   "cell_type": "markdown",
   "metadata": {},
   "source": [
    "\n",
    "#### (h) 是否可用含鐵濃度百分比來建模預測含二氧化矽濃度百分比？為什麼？可能有什麼潛在問題？如何解決？\n",
    "\n",
    "若只納入輸入鐵礦中的礦物種類含量(% Iron Feed, % Silica Feed)，來預測精製後的石英含量(% Silica Concentrate)，是非常有用的，因為兩個 feed 存在高度負相關。\n",
    "\n",
    "在邏輯上，我們是無法再選用精製後的鐵礦含量(% Iron Concentrate)來預測精製後的石英含量(% Silica Concentrate)，因為兩者皆是精製後的測量指標，需要經過一小時的專業分析才能測量出其指標，這時浮選場內的礦物 Feed 和工廠參數 Flow level, Air flow 已經改變。\n",
    "\n",
    "若想以% Iron Concentrate加入時間序列分析中，頂多取得當下專業分析的報表數字，也就是針對一小時前資料的分析，作為當下時間點的特徵。"
   ]
  },
  {
   "cell_type": "code",
   "execution_count": 32,
   "metadata": {},
   "outputs": [
    {
     "data": {
      "image/png": "[encoded data removed]",
      "text/plain": [
       "<Figure size 432x288 with 2 Axes>"
      ]
     },
     "metadata": {
      "needs_background": "light"
     },
     "output_type": "display_data"
    }
   ],
   "source": [
    "iron_and_silica = data.iloc[:, [1,2,-2,-1]].astype(float)\n",
    "\n",
    "mask = np.triu(np.ones_like(iron_and_silica.corr(), dtype=bool))\n",
    "\n",
    "sns.heatmap(iron_and_silica.corr(), annot=True, mask=mask, vmin=-1, vmax=1)\n",
    "plt.title('Correlation Coefficient Of Predictors')\n",
    "plt.show()"
   ]
  },
  {
   "cell_type": "code",
   "execution_count": 34,
   "metadata": {},
   "outputs": [
    {
     "data": {
      "text/plain": [
       "Index(['% Iron Feed', '% Silica Feed', '% Iron Concentrate',\n",
       "       '% Silica Concentrate'],\n",
       "      dtype='object')"
      ]
     },
     "execution_count": 34,
     "metadata": {},
     "output_type": "execute_result"
    }
   ],
   "source": [
    "iron_and_silica.columns"
   ]
  },
  {
   "cell_type": "markdown",
   "metadata": {
    "id": "N_uDPwDqB-dI"
   },
   "source": [
    "## Q3. (20%) Deep Learning - handwritten digit recognition\n",
    "\n",
    "It is available in text form and contains 1593 handwritten digits from 80 persons. The images are 16 × 16 pixels square box and in black and white format. (teacher took 15 samples for validation and you only see 1578 samples)"
   ]
  },
  {
   "cell_type": "markdown",
   "metadata": {
    "id": "72p7bJcDYohH"
   },
   "source": [
    "### 3-(a) (15%) \n",
    "For BPN (or CNN if you prefer), try to investigate the effects of changing “PARAMETERS” such as learning rates, momentum, # of hidden/convolutional layers, dropout rate, etc. Show the numerical results and “DIAGRAM” from different perspectives (e.g., MSE/accuracy, F1 score, convergence time, error of training data, error of testing data, etc.). Please show all your work in detail, in particular, you “MAY” need to design your experiments with different parameters systematically.\n",
    "\n",
    "Ans: 我的訓練結果如下\n",
    "1. 一開始調整 lr 和 decay並觀察loss，當模型loss能穩定下降便固定此組param。\n",
    "    - lr: 0.01, weight_decay: 1e-3, batch_size = 15。\n",
    "2. 原先將 Kernal 數設為 1，沒想到digit 5沒有被預測出來，才發現是Kernal數不足。\n",
    "    - Saving model (epoch =   98, train loss = 1.7298, dev loss = 1.7056, train acc = 0.74)\n",
    "3. 當我將 Kernel 數調整為 5，模型便能學辨識到每種，只是digit 7的FP rate較高，會將1 3當成7來預測。\n",
    "    - Saving model (epoch =   66, train loss = 1.6112, dev loss = 1.5918, train acc = 0.85)\n",
    "4. 統一把 Kernel size 調整為 3，成效又更好了。\n",
    "    - Saving model (epoch =   35, train loss = 1.5855, dev loss = 1.5847, train acc = 0.88)\n",
    "5. batch_size 調降為5，發現loss降但acc也降，開始overfit，停止訓練。"
   ]
  },
  {
   "cell_type": "code",
   "execution_count": null,
   "metadata": {
    "colab": {
     "base_uri": "https://localhost:8080/"
    },
    "id": "D-UjZ7MSDcx1",
    "outputId": "97e1805a-24e9-4ef5-bdf8-62bcc401b65b"
   },
   "outputs": [
    {
     "name": "stdout",
     "output_type": "stream",
     "text": [
      "NVIDIA-SMI has failed because it couldn't communicate with the NVIDIA driver. Make sure that the latest NVIDIA driver is installed and running.\n",
      "\n"
     ]
    }
   ],
   "source": [
    "!nvidia-smi"
   ]
  },
  {
   "cell_type": "code",
   "execution_count": null,
   "metadata": {
    "id": "0s3CHsBfCrP8"
   },
   "outputs": [],
   "source": [
    "# Imports\n",
    "# PyTorch\n",
    "import torch\n",
    "import torch.nn as nn\n",
    "import torch.nn.functional as F\n",
    "from torch.utils.data import Dataset, DataLoader\n",
    "from torchsummary import summary\n",
    "\n",
    "# For data preprocess\n",
    "import pandas as pd\n",
    "import numpy as np\n",
    "import csv\n",
    "import os\n",
    "from sklearn.model_selection import train_test_split\n",
    "from sklearn.metrics import confusion_matrix\n",
    "from collections import Counter\n",
    "\n",
    "# For plotting\n",
    "import matplotlib.pyplot as plt\n",
    "from matplotlib.pyplot import figure\n",
    "import seaborn as sns\n",
    "\n",
    "myseed = 2077  # set a random seed for reproducibility\n",
    "torch.backends.cudnn.deterministic = True\n",
    "torch.backends.cudnn.benchmark = False\n",
    "np.random.seed(myseed)\n",
    "torch.manual_seed(myseed)\n",
    "if torch.cuda.is_available():\n",
    "    torch.cuda.manual_seed_all(myseed)"
   ]
  },
  {
   "cell_type": "code",
   "execution_count": null,
   "metadata": {
    "id": "KTLHvmh8Dtng"
   },
   "outputs": [],
   "source": [
    "def get_device():\n",
    "    ''' Get device (if GPU is available, use GPU) '''\n",
    "    return 'cuda' if torch.cuda.is_available() else 'cpu'\n",
    "\n",
    "def plot_learning_curve(loss_record, title=''):\n",
    "    ''' Plot learning curve of your DNN (train & dev loss) '''\n",
    "    total_steps = len(loss_record['train'])\n",
    "    x_1 = range(total_steps)\n",
    "    x_2 = x_1[::len(loss_record['train']) // len(loss_record['dev'])]\n",
    "    figure(figsize=(6, 4))\n",
    "    plt.plot(x_1, loss_record['train'], c='tab:red', label='train')\n",
    "    plt.plot(x_2, loss_record['dev'], c='tab:cyan', label='dev')\n",
    "    plt.ylim(0., 3.)\n",
    "    plt.xlabel('Training steps')\n",
    "    plt.ylabel('Cross entropy loss')\n",
    "    plt.title('Learning curve of {}'.format(title))\n",
    "    plt.legend()\n",
    "    plt.show()\n",
    "\n",
    "\n",
    "def plot_pred(input_set, model, device):\n",
    "    ''' Plot prediction of your DNN \n",
    "    https://stackoverflow.com/questions/33379261/how-can-i-have-a-bar-next-to-python-seaborn-heatmap-which-shows-the-summation-of '''\n",
    "    # see the result of training set\n",
    "    preds, labels = test(input_set, model, device, with_label=True)\n",
    "    cf_matrix = confusion_matrix(labels, preds)\n",
    "    # print(cf_matrix)\n",
    "    fig = plt.figure(figsize=(6,6))\n",
    "    ax1 = plt.subplot2grid((10,10), (0,0), colspan=9, rowspan=9)\n",
    "    ax2 = plt.subplot2grid((10,10), (9,0), colspan=9, rowspan=1)\n",
    "    ax3 = plt.subplot2grid((10,10), (0,9), colspan=1, rowspan=9)\n",
    "\n",
    "    sns.heatmap(cf_matrix, ax=ax1, annot=True, fmt='g',  cmap=\"YlGnBu\", linecolor='b', cbar = False)\n",
    "\n",
    "    ax1.set(ylabel=\"True label\")\n",
    "    ax1.xaxis.tick_top()\n",
    "    sns.heatmap((pd.DataFrame(cf_matrix.sum(axis=0))).transpose(), ax=ax2,  annot=True, fmt='g', cmap=\"YlGnBu\", cbar=False, xticklabels=False, yticklabels=False)\n",
    "    sns.heatmap(pd.DataFrame(cf_matrix.sum(axis=1)), ax=ax3,  annot=True, fmt='g', cmap=\"YlGnBu\", cbar=False, xticklabels=False, yticklabels=False)\n",
    "    ax2.set(xlabel=\"Prediction\")\n",
    "    "
   ]
  },
  {
   "cell_type": "markdown",
   "metadata": {
    "id": "JyjW3oeEYuFl"
   },
   "source": [
    "### Data load & prepare"
   ]
  },
  {
   "cell_type": "code",
   "execution_count": null,
   "metadata": {
    "colab": {
     "base_uri": "https://localhost:8080/",
     "height": 352
    },
    "id": "vogCHIAKBOLT",
    "outputId": "b62b4e31-3917-4d98-eeab-f81f14994fa2"
   },
   "outputs": [
    {
     "name": "stdout",
     "output_type": "stream",
     "text": [
      "X_train shape: (1341, 1, 16, 16)\n",
      "y_train shape: (1341, 10)\n",
      "X_dev   shape: (237, 1, 16, 16)\n",
      "y_dev   shape: (237, 10)\n",
      "X_pred shape: (15, 1, 16, 16)\n"
     ]
    },
    {
     "data": {
      "image/png": "[encoded data removed]",
      "text/plain": [
       "<Figure size 432x288 with 1 Axes>"
      ]
     },
     "metadata": {},
     "output_type": "display_data"
    }
   ],
   "source": [
    "# Data load & prepare\n",
    "path = \"./MDS_Assignment3_DRtraining.xlsx\"\n",
    "df_train = pd.read_excel(path, sheet_name=\"training\", index_col=0)\n",
    "path = \"./MDS_Assignment3_DRpredict.xlsx\"\n",
    "df_pred = pd.read_excel(path, sheet_name=\"Predict\", index_col=0)\n",
    "\n",
    "X_train = df_train.iloc[:,0:256].values\n",
    "y_train = df_train.iloc[:,256:].values\n",
    "X_train = X_train.reshape(-1, 1, 16, 16) # channel是1\n",
    "\n",
    "# train valid split\n",
    "X_train, X_dev, y_train, y_dev = train_test_split(X_train, y_train, test_size=0.15, random_state=2042)\n",
    "print(\"X_train shape:\", X_train.shape)\n",
    "print(\"y_train shape:\", y_train.shape)\n",
    "print(\"X_dev   shape:\", X_dev.shape)\n",
    "print(\"y_dev   shape:\", y_dev.shape)\n",
    "\n",
    "X_pred = df_pred.iloc[:,0:256].values\n",
    "X_pred = X_pred.reshape(-1, 1, 16, 16)\n",
    "print(\"X_pred shape:\", X_pred.shape)\n",
    "\n",
    "plt.imshow(X_train[1].reshape(16,16))\n",
    "\n",
    "class CnnDataset(Dataset):\n",
    "    ''' Dataset for our pre-processed dataset '''\n",
    "    def __init__(self, data, target=None, mode='train'):\n",
    "        self.mode = mode\n",
    "\n",
    "        # Read data\n",
    "        assert(mode in ['train','dev','test'])\n",
    "        if mode == 'train':\n",
    "            self.data = data\n",
    "            self.target = target\n",
    "            assert(len(self.data) == len(self.target))\n",
    "        elif mode == 'dev':\n",
    "            self.data = data\n",
    "            self.target = target\n",
    "            assert(len(self.data) == len(self.target))\n",
    "        else:\n",
    "            self.data = data\n",
    "        \n",
    "        # Get the length, dimansion of dataset\n",
    "        self.dim = self.data.shape[1:]\n",
    "        print('Finished reading the {} set of CNN Dataset ({} samples found, input dim = {})'\n",
    "              .format(mode, len(self.data), self.dim))\n",
    "\n",
    "    def __len__(self):\n",
    "        # Returns the size of the dataset\n",
    "        return len(self.data)\n",
    "\n",
    "    def __getitem__(self, index):\n",
    "        # Returns one sample for the index at a time\n",
    "        if self.mode in ['train', 'dev']: # For training\n",
    "            return torch.FloatTensor(self.data[index]), torch.FloatTensor(self.target[index])\n",
    "        else:                             # For testing (no target)\n",
    "            return torch.FloatTensor(self.data[index])\n",
    "\n",
    "def dataloader(mode, data, target, batch_size=15, n_jobs=0):\n",
    "    ''' Generates a dataset, then is put into a dataloader. '''\n",
    "    dataset = CnnDataset(data, target, mode)  # Construct dataset\n",
    "    return DataLoader(\n",
    "        dataset, batch_size,\n",
    "        shuffle=(mode == 'train'), drop_last=False,\n",
    "        num_workers=n_jobs, pin_memory=True)                            # Construct dataloader"
   ]
  },
  {
   "cell_type": "code",
   "execution_count": null,
   "metadata": {
    "colab": {
     "base_uri": "https://localhost:8080/"
    },
    "id": "3UmbbLO4Kr4A",
    "outputId": "217e2229-e845-45f3-e9b3-987fc6d0d6e9"
   },
   "outputs": [
    {
     "name": "stdout",
     "output_type": "stream",
     "text": [
      "Finished reading the train set of CNN Dataset (1341 samples found, input dim = (1, 16, 16))\n",
      "Finished reading the dev set of CNN Dataset (237 samples found, input dim = (1, 16, 16))\n",
      "Finished reading the test set of CNN Dataset (15 samples found, input dim = (1, 16, 16))\n"
     ]
    }
   ],
   "source": [
    "# load test\n",
    "tr_set = dataloader('train', X_train, y_train)\n",
    "dv_set = dataloader('dev',   X_dev, y_dev )\n",
    "tt_set = dataloader('test',  X_pred, None )"
   ]
  },
  {
   "cell_type": "code",
   "execution_count": null,
   "metadata": {
    "id": "zt30odynFjCC"
   },
   "outputs": [],
   "source": [
    "# build model\n",
    "class ConvNet(nn.Module):\n",
    "    def __init__(self):\n",
    "        super(ConvNet, self).__init__()\n",
    "        # The arguments for commonly used modules:\n",
    "        # torch.nn.Conv2d(in_channels, out_channels, kernel_size, stride, padding)\n",
    "        # torch.nn.MaxPool2d(kernel_size, stride, padding)\n",
    "        # torch.nn.BatchNorm2d(num_features): C from an expected input of size (N, C, H, W)\n",
    "        # output shape = ((W-F+2*P )/S)+1\n",
    "\n",
    "        # input image size: [1, 16, 16] for [channels, width, height]\n",
    "        # output label: 10 kinds of digit\n",
    "        self.numOfKernal = 5\n",
    "        self.cnn_layers = nn.Sequential(\n",
    "            nn.Conv2d(1, self.numOfKernal, kernel_size=3, stride=1, padding=0), # [1, 14, 14]\n",
    "            nn.BatchNorm2d(self.numOfKernal),\n",
    "            nn.ReLU(),\n",
    "            # nn.MaxPool2d(2, 2, 1),      # [none]\n",
    "\n",
    "            nn.Conv2d(self.numOfKernal, self.numOfKernal, kernel_size=3, stride=1, padding=0), # [1, 12, 12]\n",
    "            nn.BatchNorm2d(self.numOfKernal),\n",
    "            nn.ReLU(),\n",
    "            # nn.MaxPool2d(2, 2, 0),      # [none]\n",
    "            nn.Dropout(p=0.3),\n",
    "\n",
    "            nn.Conv2d(self.numOfKernal, self.numOfKernal, 3, 1, 0), # [1, 10, 10]\n",
    "            nn.BatchNorm2d(self.numOfKernal),\n",
    "            nn.ReLU(),\n",
    "            # nn.MaxPool2d(2, 1, 0),      # [none]\n",
    "        )\n",
    "        self.fc_layers = nn.Sequential(\n",
    "            nn.Linear(self.numOfKernal*10*10, 128),\n",
    "            nn.ReLU(),\n",
    "            nn.Dropout(p=0.3),\n",
    "            nn.Linear(128, 32),\n",
    "            nn.ReLU(),\n",
    "            nn.Linear(32, 10)\n",
    "        )\n",
    "\n",
    "        # CrossEntropyLoss for classification\n",
    "        self.criterion = nn.CrossEntropyLoss()\n",
    "\n",
    "    def forward(self, x):\n",
    "        # input (x): [batch_size, 1, 16, 16]\n",
    "        # output: [batch_size, 10]\n",
    "        \n",
    "        x = self.cnn_layers(x) # Extract features by convolutional layers.\n",
    "        # print('cnn out shape:', x.shape)\n",
    "        x = x.flatten(1)       # The extracted feature map must be flatten before going to fully-connected layers.\n",
    "        x = self.fc_layers(x).softmax(dim=1)  # The features are transformed by fully-connected layers to obtain the final logits.\n",
    "        # print('fc  out shape:', x.shape)\n",
    "        return x\n",
    "\n",
    "    def cal_loss(self, pred, target):\n",
    "        ''' Calculate loss '''\n",
    "        return self.criterion(pred, target)"
   ]
  },
  {
   "cell_type": "markdown",
   "metadata": {
    "id": "b2gCisgCYNx8"
   },
   "source": [
    "#### Training test validation function\n",
    "loss 其實是 cross entropy 不是 mse 懶得改變數名稱了"
   ]
  },
  {
   "cell_type": "code",
   "execution_count": null,
   "metadata": {
    "id": "3J19vjdEYSi6"
   },
   "outputs": [],
   "source": [
    "def train(tr_set, dv_set, model, config, device):\n",
    "\n",
    "    n_epochs = config['n_epochs']  # Maximum number of epochs\n",
    "\n",
    "    # Setup optimizer\n",
    "    optimizer = getattr(torch.optim, config['optimizer'])(\n",
    "        model.parameters(), **config['optim_hparas'])\n",
    "    # Setup lr_scheduler\n",
    "    scheduler = torch.optim.lr_scheduler.MultiStepLR(optimizer, milestones=[5,10,20,30,50], gamma=config['lr_gamma'])\n",
    "\n",
    "    min_mse = 2000.\n",
    "    loss_record = {'train': [], 'dev': []}      # for recording training loss per batch\n",
    "    loss_epoch  = {'train': [], 'dev': []}      # for recording training loss per epoch\n",
    "    early_stop_cnt = 0\n",
    "    epoch = 0\n",
    "    while epoch < n_epochs:\n",
    "        correct = 0\n",
    "        total_loss = 0                          # zero train loss\n",
    "        model.train()                           # set model to training mode\n",
    "        for x, y in tr_set:                     # iterate through the dataloader\n",
    "            optimizer.zero_grad()               # set gradient to zero\n",
    "            x, y = x.to(device), y.to(device)   # move data to device (cpu/cuda)\n",
    "            pred = model(x)                     # forward pass (compute output)\n",
    "            mse_loss = model.cal_loss(pred, y)  # compute loss\n",
    "            mse_loss.backward()                 # compute gradient (backpropagation)\n",
    "            optimizer.step()                    # update model with optimizer\n",
    "            pred_class = pred.argmax(dim=1)\n",
    "            true_class = y.argmax(dim=1)\n",
    "            correct += pred_class.eq(true_class).sum().item()     # count of correct guess\n",
    "            total_loss += mse_loss.detach().cpu().item() * len(x) # accumulate train loss\n",
    "            loss_record['train'].append(mse_loss.detach().cpu().item())\n",
    "        total_loss = total_loss / len(tr_set.dataset)              # compute averaged loss\n",
    "        acc = correct / len(tr_set.dataset)\n",
    "\n",
    "        # After each epoch, test your model on the validation (development) set.\n",
    "        dev_mse = dev(dv_set, model, device)\n",
    "        if dev_mse < min_mse:\n",
    "            # Save model if your model improved\n",
    "            min_mse = dev_mse\n",
    "            print('Saving model (epoch = {:4d}, train loss = {:.4f}, dev loss = {:.4f}, train acc = {:.2f})'\n",
    "                .format(epoch + 1, total_loss, min_mse, acc))\n",
    "            torch.save(model.state_dict(), config['save_path'])  # Save model to specified path\n",
    "            early_stop_cnt = 0\n",
    "        else:\n",
    "            # print('latest model (epoch = {:4d}, train loss = {:.4f}, dev loss = {:.4f})'\n",
    "            #     .format(epoch + 1, total_loss, dev_mse))\n",
    "            early_stop_cnt += 1\n",
    "\n",
    "        scheduler.step() # lr decay here\n",
    "        epoch += 1\n",
    "        loss_record['dev'].append(dev_mse)\n",
    "        loss_epoch['train'].append(total_loss)\n",
    "        loss_epoch['dev'].append(dev_mse)\n",
    "        if early_stop_cnt > config['early_stop']:\n",
    "            # Stop training if your model stops improving for \"config['early_stop']\" epochs.\n",
    "            break\n",
    "\n",
    "    print('Finished training after {} epochs'.format(epoch))\n",
    "    return min_mse, loss_record, loss_epoch\n",
    "\n",
    "def dev(dv_set, model, device):\n",
    "    model.eval()                                # set model to evalutation mode\n",
    "    total_loss = 0\n",
    "    for x, y in dv_set:                         # iterate through the dataloader\n",
    "        x, y = x.to(device), y.to(device)       # move data to device (cpu/cuda)\n",
    "        with torch.no_grad():                   # disable gradient calculation\n",
    "            pred = model(x)                     # forward pass (compute output)\n",
    "            mse_loss = model.cal_loss(pred, y)  # compute loss\n",
    "        total_loss += mse_loss.detach().cpu().item() * len(x)  # accumulate loss\n",
    "    total_loss = total_loss / len(dv_set.dataset)              # compute averaged loss\n",
    "\n",
    "    return total_loss\n",
    "\n",
    "def test(tt_set, model, device, with_label=False):\n",
    "    model.eval()                                # set model to evalutation mode\n",
    "    preds = []\n",
    "    true_labels = []\n",
    "    if with_label:\n",
    "        for x, y in tt_set: \n",
    "            x = x.to(device)                        \n",
    "            with torch.no_grad():                   \n",
    "                pred = model(x)                     \n",
    "                preds.append(pred.detach().cpu())   \n",
    "            true_labels.append(y)\n",
    "        preds = torch.cat(preds, dim=0).argmax(dim=1) \n",
    "        true_labels = torch.cat(true_labels, dim=0).argmax(dim=1) \n",
    "        return preds.numpy(), true_labels.numpy()\n",
    "    else:  \n",
    "        for x in tt_set:                            # iterate through the dataloader\n",
    "            x = x.to(device)                        # move data to device (cpu/cuda)\n",
    "            with torch.no_grad():                   # disable gradient calculation\n",
    "                pred = model(x)                     # forward pass (compute output)\n",
    "                preds.append(pred.detach().cpu())   # collect prediction\n",
    "    preds = torch.cat(preds, dim=0).argmax(dim=1)     # concatenate all predictions and convert to a numpy array\n",
    "    return preds.numpy()"
   ]
  },
  {
   "cell_type": "markdown",
   "metadata": {
    "id": "XloQ1dEEYd4o"
   },
   "source": [
    "#### Fit dataset"
   ]
  },
  {
   "cell_type": "code",
   "execution_count": null,
   "metadata": {
    "id": "1-K7h9ICYz90"
   },
   "outputs": [],
   "source": [
    "# Setup Hyper-parameters\n",
    "device = get_device()                 # get the current available device ('cpu' or 'cuda')\n",
    "os.makedirs('models', exist_ok=True)  # The trained model will be saved to ./models/\n",
    "\n",
    "# TODO: How to tune these hyper-parameters to improve your model's performance?\n",
    "config = {\n",
    "    'n_epochs': 1000,                # maximum number of epochs\n",
    "    'batch_size': 15,                # mini-batch size for dataloader\n",
    "    'optimizer': 'Adam',             # optimization algorithm (optimizer in torch.optim)\n",
    "    'optim_hparas': {                # hyper-parameters for the optimizer (depends on which optimizer you are using)\n",
    "        'lr': 0.01,                # learning rate\n",
    "        'weight_decay': 1e-3         # weight decay (L2 penalty)\n",
    "    },\n",
    "    'lr_gamma': 0.1,                 # learning rate decay\n",
    "    'early_stop': 50,               # early stopping epochs (the number epochs since your model's last improvement)\n",
    "    'save_path': 'R10725012_呂晟維_cnn.pth',  # your model will be saved here\n",
    "    'save_path_rnn': 'R10725012_呂晟維_rnn.pth'\n",
    "}"
   ]
  },
  {
   "cell_type": "code",
   "execution_count": null,
   "metadata": {
    "id": "1EqKtAevNxPy"
   },
   "outputs": [],
   "source": [
    "# device = get_device()\n",
    "# model = ConvNet().to(device) # Construct model and move to device\n",
    "# for x, y in tr_set:                     # iterate through the dataloader\n",
    "#     # optimizer.zero_grad()               # set gradient to zero\n",
    "#     print(x.shape, y.shape)\n",
    "#     x, y = x.to(device), y.to(device)   # move data to device (cpu/cuda)\n",
    "#     pred = model(x)                     # forward pass (compute output)\n",
    "#     pred_class = pred.argmax(dim=1)\n",
    "#     true_class = y.argmax(dim=1)\n",
    "#     correct = pred_class.eq(true_class).sum().item()\n",
    "#     # print(pred_class, true_class, correct)\n",
    "#     # print(pred)\n",
    "#     # loss = model.cal_loss(pred, y)\n",
    "#     # print(loss)\n",
    "#     break"
   ]
  },
  {
   "cell_type": "code",
   "execution_count": null,
   "metadata": {
    "colab": {
     "base_uri": "https://localhost:8080/"
    },
    "id": "est6kCnDZAji",
    "outputId": "18cb5d7e-9a0a-493a-f51a-5c818ebf5bc2"
   },
   "outputs": [
    {
     "name": "stdout",
     "output_type": "stream",
     "text": [
      "Finished reading the train set of CNN Dataset (1341 samples found, input dim = (1, 16, 16))\n",
      "Finished reading the dev set of CNN Dataset (237 samples found, input dim = (1, 16, 16))\n",
      "Finished reading the test set of CNN Dataset (15 samples found, input dim = (1, 16, 16))\n"
     ]
    }
   ],
   "source": [
    "# Load data and model\n",
    "tr_set = dataloader('train', X_train, y_train, config['batch_size'])\n",
    "dv_set = dataloader('dev',   X_dev, y_dev, config['batch_size'])\n",
    "tt_set = dataloader('test',  X_pred, None, config['batch_size'])\n",
    "model = ConvNet().to(device) # Construct model and move to device"
   ]
  },
  {
   "cell_type": "code",
   "execution_count": null,
   "metadata": {
    "colab": {
     "base_uri": "https://localhost:8080/"
    },
    "id": "hpIvg2gJZUOX",
    "outputId": "254d8372-d53e-4bcb-f863-07b7d763e81c"
   },
   "outputs": [
    {
     "name": "stdout",
     "output_type": "stream",
     "text": [
      "Saving model (epoch =    1, train loss = 2.1185, dev loss = 1.9591, train acc = 0.33)\n",
      "Saving model (epoch =    3, train loss = 1.8436, dev loss = 1.8527, train acc = 0.61)\n",
      "Saving model (epoch =    4, train loss = 1.8353, dev loss = 1.7091, train acc = 0.62)\n",
      "Saving model (epoch =    6, train loss = 1.7254, dev loss = 1.6846, train acc = 0.73)\n",
      "Saving model (epoch =    7, train loss = 1.7204, dev loss = 1.6674, train acc = 0.74)\n",
      "Saving model (epoch =    8, train loss = 1.6834, dev loss = 1.6346, train acc = 0.78)\n",
      "Saving model (epoch =    9, train loss = 1.6794, dev loss = 1.6287, train acc = 0.78)\n",
      "Saving model (epoch =   10, train loss = 1.6544, dev loss = 1.5972, train acc = 0.81)\n",
      "Saving model (epoch =   13, train loss = 1.6094, dev loss = 1.5928, train acc = 0.85)\n",
      "Saving model (epoch =   14, train loss = 1.6047, dev loss = 1.5926, train acc = 0.86)\n",
      "Saving model (epoch =   15, train loss = 1.5991, dev loss = 1.5918, train acc = 0.86)\n",
      "Saving model (epoch =   16, train loss = 1.6038, dev loss = 1.5898, train acc = 0.86)\n",
      "Saving model (epoch =   17, train loss = 1.6002, dev loss = 1.5888, train acc = 0.86)\n",
      "Saving model (epoch =   18, train loss = 1.5948, dev loss = 1.5886, train acc = 0.87)\n",
      "Saving model (epoch =   19, train loss = 1.5965, dev loss = 1.5865, train acc = 0.87)\n",
      "Saving model (epoch =   22, train loss = 1.5971, dev loss = 1.5859, train acc = 0.87)\n",
      "Saving model (epoch =   35, train loss = 1.5855, dev loss = 1.5847, train acc = 0.88)\n",
      "Finished training after 86 epochs\n"
     ]
    }
   ],
   "source": [
    "# Start training\n",
    "model_loss, model_loss_record, model_loss_epoch = train(tr_set, dv_set, model, config, device)"
   ]
  },
  {
   "cell_type": "code",
   "execution_count": null,
   "metadata": {
    "colab": {
     "base_uri": "https://localhost:8080/",
     "height": 295
    },
    "id": "RsYq-NLEZZgj",
    "outputId": "4e19b33f-6ce8-46ea-b68e-8aa851562e8b"
   },
   "outputs": [
    {
     "data": {
      "image/png": "[encoded data removed]",
      "text/plain": [
       "<Figure size 432x288 with 1 Axes>"
      ]
     },
     "metadata": {},
     "output_type": "display_data"
    }
   ],
   "source": [
    "plot_learning_curve(model_loss_epoch, title='deep model')"
   ]
  },
  {
   "cell_type": "code",
   "execution_count": null,
   "metadata": {
    "colab": {
     "base_uri": "https://localhost:8080/",
     "height": 388
    },
    "id": "zY2Dmpy6kiKd",
    "outputId": "ae42485f-1433-4200-8fbd-d51889dda6d5"
   },
   "outputs": [
    {
     "data": {
      "image/png": "[encoded data removed]",
      "text/plain": [
       "<Figure size 432x432 with 3 Axes>"
      ]
     },
     "metadata": {},
     "output_type": "display_data"
    }
   ],
   "source": [
    "# see the result of training set\n",
    "plot_pred(tr_set, model, device)"
   ]
  },
  {
   "cell_type": "code",
   "execution_count": null,
   "metadata": {
    "colab": {
     "base_uri": "https://localhost:8080/"
    },
    "id": "5iSPfyStdF7k",
    "outputId": "ca9a3144-93ee-4ba1-ab64-91ebb08d0df0"
   },
   "outputs": [
    {
     "name": "stdout",
     "output_type": "stream",
     "text": [
      "(237,) [8 6 6]\n"
     ]
    }
   ],
   "source": [
    "# see the result of validation set\n",
    "preds, labels = test(dv_set, model, device, with_label=True)\n",
    "print(preds.shape, labels[:3])"
   ]
  },
  {
   "cell_type": "code",
   "execution_count": null,
   "metadata": {
    "colab": {
     "base_uri": "https://localhost:8080/",
     "height": 388
    },
    "id": "t1Xzaa2lem7H",
    "outputId": "00863b2b-9507-4ad2-f22a-c6334fd5b245"
   },
   "outputs": [
    {
     "data": {
      "image/png": "[encoded data removed]",
      "text/plain": [
       "<Figure size 432x432 with 3 Axes>"
      ]
     },
     "metadata": {},
     "output_type": "display_data"
    }
   ],
   "source": [
    "# preds, labels = test(dv_set, model, device, with_label=True)\n",
    "plot_pred(dv_set, model, device)"
   ]
  },
  {
   "cell_type": "markdown",
   "metadata": {
    "id": "_o4pGwXJD6IO"
   },
   "source": [
    "### 3-(b) (5%) \n",
    "Please predict the digit No.1579 to No.1593 (data source: MDS_Assignment3_ DRpredict.xlsx) using your best established BPN/CNN model in (a) and fill out the following table.\n",
    "\n",
    "預測15筆測試資料。  \n",
    "ref: https://stackoverflow.com/questions/29831489/convert-array-of-indices-to-one-hot-encoded-array-in-numpy"
   ]
  },
  {
   "cell_type": "code",
   "execution_count": null,
   "metadata": {
    "colab": {
     "base_uri": "https://localhost:8080/"
    },
    "id": "iIHsZwVCD7dA",
    "outputId": "e5b8e158-c622-42e4-d3be-b8f664790351"
   },
   "outputs": [
    {
     "name": "stdout",
     "output_type": "stream",
     "text": [
      "the prediction of hand written digit is: [4 0 5 0 5 4 5 0 2 5 7 0 2 5 7]\n"
     ]
    }
   ],
   "source": [
    "preds = test(tt_set, model, device)\n",
    "print('the prediction of hand written digit is:', preds)"
   ]
  },
  {
   "cell_type": "code",
   "execution_count": null,
   "metadata": {
    "colab": {
     "base_uri": "https://localhost:8080/",
     "height": 520
    },
    "id": "gIsnXT4Ivj50",
    "outputId": "c3d6e095-cf57-466f-e30c-3c6c7e55fb71"
   },
   "outputs": [
    {
     "data": {
      "text/html": [
       "\n",
       "  <div id=\"df-7b6bd9c7-68d5-44ac-9943-816cfdb66481\">\n",
       "    <div class=\"colab-df-container\">\n",
       "      <div>\n",
       "<style scoped>\n",
       "    .dataframe tbody tr th:only-of-type {\n",
       "        vertical-align: middle;\n",
       "    }\n",
       "\n",
       "    .dataframe tbody tr th {\n",
       "        vertical-align: top;\n",
       "    }\n",
       "\n",
       "    .dataframe thead th {\n",
       "        text-align: right;\n",
       "    }\n",
       "</style>\n",
       "<table border=\"1\" class=\"dataframe\">\n",
       "  <thead>\n",
       "    <tr style=\"text-align: right;\">\n",
       "      <th></th>\n",
       "      <th>No.</th>\n",
       "      <th>Digit Number (0 9) you predict</th>\n",
       "    </tr>\n",
       "  </thead>\n",
       "  <tbody>\n",
       "    <tr>\n",
       "      <th>0</th>\n",
       "      <td>1579</td>\n",
       "      <td>4</td>\n",
       "    </tr>\n",
       "    <tr>\n",
       "      <th>1</th>\n",
       "      <td>1580</td>\n",
       "      <td>0</td>\n",
       "    </tr>\n",
       "    <tr>\n",
       "      <th>2</th>\n",
       "      <td>1581</td>\n",
       "      <td>5</td>\n",
       "    </tr>\n",
       "    <tr>\n",
       "      <th>3</th>\n",
       "      <td>1582</td>\n",
       "      <td>0</td>\n",
       "    </tr>\n",
       "    <tr>\n",
       "      <th>4</th>\n",
       "      <td>1583</td>\n",
       "      <td>5</td>\n",
       "    </tr>\n",
       "    <tr>\n",
       "      <th>5</th>\n",
       "      <td>1584</td>\n",
       "      <td>4</td>\n",
       "    </tr>\n",
       "    <tr>\n",
       "      <th>6</th>\n",
       "      <td>1585</td>\n",
       "      <td>5</td>\n",
       "    </tr>\n",
       "    <tr>\n",
       "      <th>7</th>\n",
       "      <td>1586</td>\n",
       "      <td>0</td>\n",
       "    </tr>\n",
       "    <tr>\n",
       "      <th>8</th>\n",
       "      <td>1587</td>\n",
       "      <td>2</td>\n",
       "    </tr>\n",
       "    <tr>\n",
       "      <th>9</th>\n",
       "      <td>1588</td>\n",
       "      <td>5</td>\n",
       "    </tr>\n",
       "    <tr>\n",
       "      <th>10</th>\n",
       "      <td>1589</td>\n",
       "      <td>7</td>\n",
       "    </tr>\n",
       "    <tr>\n",
       "      <th>11</th>\n",
       "      <td>1590</td>\n",
       "      <td>0</td>\n",
       "    </tr>\n",
       "    <tr>\n",
       "      <th>12</th>\n",
       "      <td>1591</td>\n",
       "      <td>2</td>\n",
       "    </tr>\n",
       "    <tr>\n",
       "      <th>13</th>\n",
       "      <td>1592</td>\n",
       "      <td>5</td>\n",
       "    </tr>\n",
       "    <tr>\n",
       "      <th>14</th>\n",
       "      <td>1593</td>\n",
       "      <td>7</td>\n",
       "    </tr>\n",
       "  </tbody>\n",
       "</table>\n",
       "</div>\n",
       "      <button class=\"colab-df-convert\" onclick=\"convertToInteractive('df-7b6bd9c7-68d5-44ac-9943-816cfdb66481')\"\n",
       "              title=\"Convert this dataframe to an interactive table.\"\n",
       "              style=\"display:none;\">\n",
       "        \n",
       "  <svg xmlns=\"http://www.w3.org/2000/svg\" height=\"24px\"viewBox=\"0 0 24 24\"\n",
       "       width=\"24px\">\n",
       "    <path d=\"M0 0h24v24H0V0z\" fill=\"none\"/>\n",
       "    <path d=\"M18.56 5.44l.94 2.06.94-2.06 2.06-.94-2.06-.94-.94-2.06-.94 2.06-2.06.94zm-11 1L8.5 8.5l.94-2.06 2.06-.94-2.06-.94L8.5 2.5l-.94 2.06-2.06.94zm10 10l.94 2.06.94-2.06 2.06-.94-2.06-.94-.94-2.06-.94 2.06-2.06.94z\"/><path d=\"M17.41 7.96l-1.37-1.37c-.4-.4-.92-.59-1.43-.59-.52 0-1.04.2-1.43.59L10.3 9.45l-7.72 7.72c-.78.78-.78 2.05 0 2.83L4 21.41c.39.39.9.59 1.41.59.51 0 1.02-.2 1.41-.59l7.78-7.78 2.81-2.81c.8-.78.8-2.07 0-2.86zM5.41 20L4 18.59l7.72-7.72 1.47 1.35L5.41 20z\"/>\n",
       "  </svg>\n",
       "      </button>\n",
       "      \n",
       "  <style>\n",
       "    .colab-df-container {\n",
       "      display:flex;\n",
       "      flex-wrap:wrap;\n",
       "      gap: 12px;\n",
       "    }\n",
       "\n",
       "    .colab-df-convert {\n",
       "      background-color: #E8F0FE;\n",
       "      border: none;\n",
       "      border-radius: 50%;\n",
       "      cursor: pointer;\n",
       "      display: none;\n",
       "      fill: #1967D2;\n",
       "      height: 32px;\n",
       "      padding: 0 0 0 0;\n",
       "      width: 32px;\n",
       "    }\n",
       "\n",
       "    .colab-df-convert:hover {\n",
       "      background-color: #E2EBFA;\n",
       "      box-shadow: 0px 1px 2px rgba(60, 64, 67, 0.3), 0px 1px 3px 1px rgba(60, 64, 67, 0.15);\n",
       "      fill: #174EA6;\n",
       "    }\n",
       "\n",
       "    [theme=dark] .colab-df-convert {\n",
       "      background-color: #3B4455;\n",
       "      fill: #D2E3FC;\n",
       "    }\n",
       "\n",
       "    [theme=dark] .colab-df-convert:hover {\n",
       "      background-color: #434B5C;\n",
       "      box-shadow: 0px 1px 3px 1px rgba(0, 0, 0, 0.15);\n",
       "      filter: drop-shadow(0px 1px 2px rgba(0, 0, 0, 0.3));\n",
       "      fill: #FFFFFF;\n",
       "    }\n",
       "  </style>\n",
       "\n",
       "      <script>\n",
       "        const buttonEl =\n",
       "          document.querySelector('#df-7b6bd9c7-68d5-44ac-9943-816cfdb66481 button.colab-df-convert');\n",
       "        buttonEl.style.display =\n",
       "          google.colab.kernel.accessAllowed ? 'block' : 'none';\n",
       "\n",
       "        async function convertToInteractive(key) {\n",
       "          const element = document.querySelector('#df-7b6bd9c7-68d5-44ac-9943-816cfdb66481');\n",
       "          const dataTable =\n",
       "            await google.colab.kernel.invokeFunction('convertToInteractive',\n",
       "                                                     [key], {});\n",
       "          if (!dataTable) return;\n",
       "\n",
       "          const docLinkHtml = 'Like what you see? Visit the ' +\n",
       "            '<a target=\"_blank\" href=https://colab.research.google.com/notebooks/data_table.ipynb>data table notebook</a>'\n",
       "            + ' to learn more about interactive tables.';\n",
       "          element.innerHTML = '';\n",
       "          dataTable['output_type'] = 'display_data';\n",
       "          await google.colab.output.renderOutput(dataTable, element);\n",
       "          const docLink = document.createElement('div');\n",
       "          docLink.innerHTML = docLinkHtml;\n",
       "          element.appendChild(docLink);\n",
       "        }\n",
       "      </script>\n",
       "    </div>\n",
       "  </div>\n",
       "  "
      ],
      "text/plain": [
       "     No.  Digit Number (0 9) you predict\n",
       "0   1579                               4\n",
       "1   1580                               0\n",
       "2   1581                               5\n",
       "3   1582                               0\n",
       "4   1583                               5\n",
       "5   1584                               4\n",
       "6   1585                               5\n",
       "7   1586                               0\n",
       "8   1587                               2\n",
       "9   1588                               5\n",
       "10  1589                               7\n",
       "11  1590                               0\n",
       "12  1591                               2\n",
       "13  1592                               5\n",
       "14  1593                               7"
      ]
     },
     "metadata": {},
     "output_type": "display_data"
    }
   ],
   "source": [
    "submit_matrix = []\n",
    "start = 1579\n",
    "for i,v in enumerate(preds):\n",
    "    submit_matrix.append([start+i, v])\n",
    "pd.DataFrame(submit_matrix, columns=['No.','Digit Number (0 9) you predict'])"
   ]
  },
  {
   "cell_type": "code",
   "execution_count": null,
   "metadata": {
    "colab": {
     "base_uri": "https://localhost:8080/"
    },
    "id": "G3mV83xpvHPV",
    "outputId": "b9b42083-85ca-4028-b934-fd33195258bf"
   },
   "outputs": [
    {
     "data": {
      "text/plain": [
       "array([[0., 0., 0., 0., 1., 0., 0., 0.],\n",
       "       [1., 0., 0., 0., 0., 0., 0., 0.],\n",
       "       [0., 0., 0., 0., 0., 1., 0., 0.],\n",
       "       [1., 0., 0., 0., 0., 0., 0., 0.],\n",
       "       [0., 0., 0., 0., 0., 1., 0., 0.],\n",
       "       [0., 0., 0., 0., 1., 0., 0., 0.],\n",
       "       [0., 0., 0., 0., 0., 1., 0., 0.],\n",
       "       [1., 0., 0., 0., 0., 0., 0., 0.],\n",
       "       [0., 0., 1., 0., 0., 0., 0., 0.],\n",
       "       [0., 0., 0., 0., 0., 1., 0., 0.],\n",
       "       [0., 0., 0., 0., 0., 0., 0., 1.],\n",
       "       [1., 0., 0., 0., 0., 0., 0., 0.],\n",
       "       [0., 0., 1., 0., 0., 0., 0., 0.],\n",
       "       [0., 0., 0., 0., 0., 1., 0., 0.],\n",
       "       [0., 0., 0., 0., 0., 0., 0., 1.]])"
      ]
     },
     "metadata": {},
     "output_type": "display_data"
    }
   ],
   "source": [
    "onehot_preds = np.zeros((preds.size, preds.max() + 1))\n",
    "onehot_preds[np.arange(preds.size), preds] = 1\n",
    "onehot_preds"
   ]
  },
  {
   "cell_type": "code",
   "execution_count": null,
   "metadata": {
    "id": "8LXpIObR0HHC"
   },
   "outputs": [],
   "source": []
  }
 ],
 "metadata": {
  "kernelspec": {
   "display_name": "Python 3.10.5 64-bit",
   "language": "python",
   "name": "python3"
  },
  "language_info": {
   "codemirror_mode": {
    "name": "ipython",
    "version": 3
   },
   "file_extension": ".py",
   "mimetype": "text/x-python",
   "name": "python",
   "nbconvert_exporter": "python",
   "pygments_lexer": "ipython3",
   "version": "3.10.5"
  },
  "orig_nbformat": 4,
  "vscode": {
   "interpreter": {
    "hash": "125a1d8b627fe68767755740015967bae857d08bb92fb3fd0d9d8ed24f978d39"
   }
  }
 },
 "nbformat": 4,
 "nbformat_minor": 2
}
