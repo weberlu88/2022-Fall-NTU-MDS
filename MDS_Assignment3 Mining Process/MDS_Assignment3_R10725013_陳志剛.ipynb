{
  "nbformat": 4,
  "nbformat_minor": 0,
  "metadata": {
    "colab": {
      "provenance": [],
      "collapsed_sections": []
    },
    "kernelspec": {
      "name": "python3",
      "display_name": "Python 3"
    },
    "language_info": {
      "name": "python"
    },
    "accelerator": "GPU",
    "gpuClass": "standard"
  },
  "cells": [
    {
      "cell_type": "code",
      "source": [
        "import pandas as pd\n",
        "import numpy as np\n",
        "import matplotlib.pyplot as plt\n",
        "import csv\n",
        "from sklearn import linear_model\n",
        "import statsmodels.api as sm\n",
        "import seaborn as sns"
      ],
      "metadata": {
        "id": "wX7-LN6xda7K"
      },
      "execution_count": null,
      "outputs": []
    },
    {
      "cell_type": "markdown",
      "source": [
        "# 1. (40%) Decision Tree Algorithms"
      ],
      "metadata": {
        "id": "5F01shOwcAOh"
      }
    },
    {
      "cell_type": "code",
      "execution_count": null,
      "metadata": {
        "id": "GS96YL0Ob24y"
      },
      "outputs": [],
      "source": [
        "# Dataset\n",
        "path = \"./MDS_Assignment3_SECOM.xlsx\"\n",
        "df = pd.read_excel(path, sheet_name=\"secom\", index_col=0)"
      ]
    },
    {
      "cell_type": "markdown",
      "source": [
        "unique_dict : 用來存出現過的 col content\n",
        "\n",
        "duplicate_col : 用來存重複出現的 col name\n",
        "\n",
        "temp_list : 將某一 col 讀取進來處理，先把 nan 替換成 -1 (這樣才能做comparison)，再將他轉換成 list 儲存\n",
        "\n",
        "處理流程 : \n",
        "\n",
        "1. 如果第一次出現的 col content 就放進 unique_dict\n",
        "\n",
        "2. 如果已經出現過的 col content 就用出現過的 col name 當作 key, 重複出現的 col name 當作 value 存進 duplicate_col\n"
      ],
      "metadata": {
        "id": "nwi1sWGBojrq"
      }
    },
    {
      "cell_type": "markdown",
      "source": [
        "# 1-(a) (5%) Construct a data science framework and show the data summary"
      ],
      "metadata": {
        "id": "uriAGVlicIqj"
      }
    },
    {
      "cell_type": "code",
      "source": [
        "df"
      ],
      "metadata": {
        "colab": {
          "base_uri": "https://localhost:8080/",
          "height": 661
        },
        "id": "C6t1wS5QLTUH",
        "outputId": "c08df780-08b9-454f-b47a-95295537cf47"
      },
      "execution_count": null,
      "outputs": [
        {
          "output_type": "execute_result",
          "data": {
            "text/plain": [
              "      Sensor_1  Sensor_2   Sensor_3   Sensor_4  Sensor_5  Sensor_6  Sensor_7  \\\n",
              "1      3030.93   2564.00  2187.7333  1411.1265    1.3602     100.0   97.6133   \n",
              "2      3095.78   2465.14  2230.4222  1463.6606    0.8294     100.0  102.3433   \n",
              "3      2932.61   2559.94  2186.4111  1698.0172    1.5102     100.0   95.4878   \n",
              "4      2988.72   2479.90  2199.0333   909.7926    1.3204     100.0  104.2367   \n",
              "5      3032.24   2502.87  2233.3667  1326.5200    1.5334     100.0  100.3967   \n",
              "...        ...       ...        ...        ...       ...       ...       ...   \n",
              "1563   2899.41   2464.36  2179.7333  3085.3781    1.4843     100.0   82.2467   \n",
              "1564   3052.31   2522.55  2198.5667  1124.6595    0.8763     100.0   98.4689   \n",
              "1565   2978.81   2379.78  2206.3000  1110.4967    0.8236     100.0   99.4122   \n",
              "1566   2894.92   2532.01  2177.0333  1183.7287    1.5726     100.0   98.7978   \n",
              "1567   2944.92   2450.76  2195.4444  2914.1792    1.5978     100.0   85.1011   \n",
              "\n",
              "      Sensor_8  Sensor_9  Sensor_10  ...  Sensor_583  Sensor_584  Sensor_585  \\\n",
              "1       0.1242    1.5005     0.0162  ...      0.5005      0.0118      0.0035   \n",
              "2       0.1247    1.4966    -0.0005  ...      0.5019      0.0223      0.0055   \n",
              "3       0.1241    1.4436     0.0041  ...      0.4958      0.0157      0.0039   \n",
              "4       0.1217    1.4882    -0.0124  ...      0.4990      0.0103      0.0025   \n",
              "5       0.1235    1.5031    -0.0031  ...      0.4800      0.4766      0.1045   \n",
              "...        ...       ...        ...  ...         ...         ...         ...   \n",
              "1563    0.1248    1.3424    -0.0045  ...      0.4988      0.0143      0.0039   \n",
              "1564    0.1205    1.4333    -0.0061  ...      0.4975      0.0131      0.0036   \n",
              "1565    0.1208       NaN        NaN  ...      0.4987      0.0153      0.0041   \n",
              "1566    0.1213    1.4622    -0.0072  ...      0.5004      0.0178      0.0038   \n",
              "1567    0.1235       NaN        NaN  ...      0.4987      0.0181      0.0040   \n",
              "\n",
              "      Sensor_586  Sensor_587  Sensor_588  Sensor_589  Sensor_590  Label  \\\n",
              "1         2.3630         NaN         NaN         NaN         NaN     -1   \n",
              "2         4.4447      0.0096      0.0201      0.0060    208.2045     -1   \n",
              "3         3.1745      0.0584      0.0484      0.0148     82.8602      1   \n",
              "4         2.0544      0.0202      0.0149      0.0044     73.8432     -1   \n",
              "5        99.3032      0.0202      0.0149      0.0044     73.8432     -1   \n",
              "...          ...         ...         ...         ...         ...    ...   \n",
              "1563      2.8669      0.0068      0.0138      0.0047    203.1720     -1   \n",
              "1564      2.6238      0.0068      0.0138      0.0047    203.1720     -1   \n",
              "1565      3.0590      0.0197      0.0086      0.0025     43.5231     -1   \n",
              "1566      3.5662      0.0262      0.0245      0.0075     93.4941     -1   \n",
              "1567      3.6275      0.0117      0.0162      0.0045    137.7844     -1   \n",
              "\n",
              "                     Time  \n",
              "1     19/07/2008 11:55:00  \n",
              "2     19/07/2008 12:32:00  \n",
              "3     19/07/2008 13:17:00  \n",
              "4     19/07/2008 14:43:00  \n",
              "5     19/07/2008 15:22:00  \n",
              "...                   ...  \n",
              "1563  16/10/2008 15:13:00  \n",
              "1564  16/10/2008 20:49:00  \n",
              "1565  17/10/2008 05:26:00  \n",
              "1566  17/10/2008 06:01:00  \n",
              "1567  17/10/2008 06:07:00  \n",
              "\n",
              "[1567 rows x 592 columns]"
            ],
            "text/html": [
              "\n",
              "  <div id=\"df-d0985e42-2bbc-4e94-9d77-f9554ba4fe24\">\n",
              "    <div class=\"colab-df-container\">\n",
              "      <div>\n",
              "<style scoped>\n",
              "    .dataframe tbody tr th:only-of-type {\n",
              "        vertical-align: middle;\n",
              "    }\n",
              "\n",
              "    .dataframe tbody tr th {\n",
              "        vertical-align: top;\n",
              "    }\n",
              "\n",
              "    .dataframe thead th {\n",
              "        text-align: right;\n",
              "    }\n",
              "</style>\n",
              "<table border=\"1\" class=\"dataframe\">\n",
              "  <thead>\n",
              "    <tr style=\"text-align: right;\">\n",
              "      <th></th>\n",
              "      <th>Sensor_1</th>\n",
              "      <th>Sensor_2</th>\n",
              "      <th>Sensor_3</th>\n",
              "      <th>Sensor_4</th>\n",
              "      <th>Sensor_5</th>\n",
              "      <th>Sensor_6</th>\n",
              "      <th>Sensor_7</th>\n",
              "      <th>Sensor_8</th>\n",
              "      <th>Sensor_9</th>\n",
              "      <th>Sensor_10</th>\n",
              "      <th>...</th>\n",
              "      <th>Sensor_583</th>\n",
              "      <th>Sensor_584</th>\n",
              "      <th>Sensor_585</th>\n",
              "      <th>Sensor_586</th>\n",
              "      <th>Sensor_587</th>\n",
              "      <th>Sensor_588</th>\n",
              "      <th>Sensor_589</th>\n",
              "      <th>Sensor_590</th>\n",
              "      <th>Label</th>\n",
              "      <th>Time</th>\n",
              "    </tr>\n",
              "  </thead>\n",
              "  <tbody>\n",
              "    <tr>\n",
              "      <th>1</th>\n",
              "      <td>3030.93</td>\n",
              "      <td>2564.00</td>\n",
              "      <td>2187.7333</td>\n",
              "      <td>1411.1265</td>\n",
              "      <td>1.3602</td>\n",
              "      <td>100.0</td>\n",
              "      <td>97.6133</td>\n",
              "      <td>0.1242</td>\n",
              "      <td>1.5005</td>\n",
              "      <td>0.0162</td>\n",
              "      <td>...</td>\n",
              "      <td>0.5005</td>\n",
              "      <td>0.0118</td>\n",
              "      <td>0.0035</td>\n",
              "      <td>2.3630</td>\n",
              "      <td>NaN</td>\n",
              "      <td>NaN</td>\n",
              "      <td>NaN</td>\n",
              "      <td>NaN</td>\n",
              "      <td>-1</td>\n",
              "      <td>19/07/2008 11:55:00</td>\n",
              "    </tr>\n",
              "    <tr>\n",
              "      <th>2</th>\n",
              "      <td>3095.78</td>\n",
              "      <td>2465.14</td>\n",
              "      <td>2230.4222</td>\n",
              "      <td>1463.6606</td>\n",
              "      <td>0.8294</td>\n",
              "      <td>100.0</td>\n",
              "      <td>102.3433</td>\n",
              "      <td>0.1247</td>\n",
              "      <td>1.4966</td>\n",
              "      <td>-0.0005</td>\n",
              "      <td>...</td>\n",
              "      <td>0.5019</td>\n",
              "      <td>0.0223</td>\n",
              "      <td>0.0055</td>\n",
              "      <td>4.4447</td>\n",
              "      <td>0.0096</td>\n",
              "      <td>0.0201</td>\n",
              "      <td>0.0060</td>\n",
              "      <td>208.2045</td>\n",
              "      <td>-1</td>\n",
              "      <td>19/07/2008 12:32:00</td>\n",
              "    </tr>\n",
              "    <tr>\n",
              "      <th>3</th>\n",
              "      <td>2932.61</td>\n",
              "      <td>2559.94</td>\n",
              "      <td>2186.4111</td>\n",
              "      <td>1698.0172</td>\n",
              "      <td>1.5102</td>\n",
              "      <td>100.0</td>\n",
              "      <td>95.4878</td>\n",
              "      <td>0.1241</td>\n",
              "      <td>1.4436</td>\n",
              "      <td>0.0041</td>\n",
              "      <td>...</td>\n",
              "      <td>0.4958</td>\n",
              "      <td>0.0157</td>\n",
              "      <td>0.0039</td>\n",
              "      <td>3.1745</td>\n",
              "      <td>0.0584</td>\n",
              "      <td>0.0484</td>\n",
              "      <td>0.0148</td>\n",
              "      <td>82.8602</td>\n",
              "      <td>1</td>\n",
              "      <td>19/07/2008 13:17:00</td>\n",
              "    </tr>\n",
              "    <tr>\n",
              "      <th>4</th>\n",
              "      <td>2988.72</td>\n",
              "      <td>2479.90</td>\n",
              "      <td>2199.0333</td>\n",
              "      <td>909.7926</td>\n",
              "      <td>1.3204</td>\n",
              "      <td>100.0</td>\n",
              "      <td>104.2367</td>\n",
              "      <td>0.1217</td>\n",
              "      <td>1.4882</td>\n",
              "      <td>-0.0124</td>\n",
              "      <td>...</td>\n",
              "      <td>0.4990</td>\n",
              "      <td>0.0103</td>\n",
              "      <td>0.0025</td>\n",
              "      <td>2.0544</td>\n",
              "      <td>0.0202</td>\n",
              "      <td>0.0149</td>\n",
              "      <td>0.0044</td>\n",
              "      <td>73.8432</td>\n",
              "      <td>-1</td>\n",
              "      <td>19/07/2008 14:43:00</td>\n",
              "    </tr>\n",
              "    <tr>\n",
              "      <th>5</th>\n",
              "      <td>3032.24</td>\n",
              "      <td>2502.87</td>\n",
              "      <td>2233.3667</td>\n",
              "      <td>1326.5200</td>\n",
              "      <td>1.5334</td>\n",
              "      <td>100.0</td>\n",
              "      <td>100.3967</td>\n",
              "      <td>0.1235</td>\n",
              "      <td>1.5031</td>\n",
              "      <td>-0.0031</td>\n",
              "      <td>...</td>\n",
              "      <td>0.4800</td>\n",
              "      <td>0.4766</td>\n",
              "      <td>0.1045</td>\n",
              "      <td>99.3032</td>\n",
              "      <td>0.0202</td>\n",
              "      <td>0.0149</td>\n",
              "      <td>0.0044</td>\n",
              "      <td>73.8432</td>\n",
              "      <td>-1</td>\n",
              "      <td>19/07/2008 15:22:00</td>\n",
              "    </tr>\n",
              "    <tr>\n",
              "      <th>...</th>\n",
              "      <td>...</td>\n",
              "      <td>...</td>\n",
              "      <td>...</td>\n",
              "      <td>...</td>\n",
              "      <td>...</td>\n",
              "      <td>...</td>\n",
              "      <td>...</td>\n",
              "      <td>...</td>\n",
              "      <td>...</td>\n",
              "      <td>...</td>\n",
              "      <td>...</td>\n",
              "      <td>...</td>\n",
              "      <td>...</td>\n",
              "      <td>...</td>\n",
              "      <td>...</td>\n",
              "      <td>...</td>\n",
              "      <td>...</td>\n",
              "      <td>...</td>\n",
              "      <td>...</td>\n",
              "      <td>...</td>\n",
              "      <td>...</td>\n",
              "    </tr>\n",
              "    <tr>\n",
              "      <th>1563</th>\n",
              "      <td>2899.41</td>\n",
              "      <td>2464.36</td>\n",
              "      <td>2179.7333</td>\n",
              "      <td>3085.3781</td>\n",
              "      <td>1.4843</td>\n",
              "      <td>100.0</td>\n",
              "      <td>82.2467</td>\n",
              "      <td>0.1248</td>\n",
              "      <td>1.3424</td>\n",
              "      <td>-0.0045</td>\n",
              "      <td>...</td>\n",
              "      <td>0.4988</td>\n",
              "      <td>0.0143</td>\n",
              "      <td>0.0039</td>\n",
              "      <td>2.8669</td>\n",
              "      <td>0.0068</td>\n",
              "      <td>0.0138</td>\n",
              "      <td>0.0047</td>\n",
              "      <td>203.1720</td>\n",
              "      <td>-1</td>\n",
              "      <td>16/10/2008 15:13:00</td>\n",
              "    </tr>\n",
              "    <tr>\n",
              "      <th>1564</th>\n",
              "      <td>3052.31</td>\n",
              "      <td>2522.55</td>\n",
              "      <td>2198.5667</td>\n",
              "      <td>1124.6595</td>\n",
              "      <td>0.8763</td>\n",
              "      <td>100.0</td>\n",
              "      <td>98.4689</td>\n",
              "      <td>0.1205</td>\n",
              "      <td>1.4333</td>\n",
              "      <td>-0.0061</td>\n",
              "      <td>...</td>\n",
              "      <td>0.4975</td>\n",
              "      <td>0.0131</td>\n",
              "      <td>0.0036</td>\n",
              "      <td>2.6238</td>\n",
              "      <td>0.0068</td>\n",
              "      <td>0.0138</td>\n",
              "      <td>0.0047</td>\n",
              "      <td>203.1720</td>\n",
              "      <td>-1</td>\n",
              "      <td>16/10/2008 20:49:00</td>\n",
              "    </tr>\n",
              "    <tr>\n",
              "      <th>1565</th>\n",
              "      <td>2978.81</td>\n",
              "      <td>2379.78</td>\n",
              "      <td>2206.3000</td>\n",
              "      <td>1110.4967</td>\n",
              "      <td>0.8236</td>\n",
              "      <td>100.0</td>\n",
              "      <td>99.4122</td>\n",
              "      <td>0.1208</td>\n",
              "      <td>NaN</td>\n",
              "      <td>NaN</td>\n",
              "      <td>...</td>\n",
              "      <td>0.4987</td>\n",
              "      <td>0.0153</td>\n",
              "      <td>0.0041</td>\n",
              "      <td>3.0590</td>\n",
              "      <td>0.0197</td>\n",
              "      <td>0.0086</td>\n",
              "      <td>0.0025</td>\n",
              "      <td>43.5231</td>\n",
              "      <td>-1</td>\n",
              "      <td>17/10/2008 05:26:00</td>\n",
              "    </tr>\n",
              "    <tr>\n",
              "      <th>1566</th>\n",
              "      <td>2894.92</td>\n",
              "      <td>2532.01</td>\n",
              "      <td>2177.0333</td>\n",
              "      <td>1183.7287</td>\n",
              "      <td>1.5726</td>\n",
              "      <td>100.0</td>\n",
              "      <td>98.7978</td>\n",
              "      <td>0.1213</td>\n",
              "      <td>1.4622</td>\n",
              "      <td>-0.0072</td>\n",
              "      <td>...</td>\n",
              "      <td>0.5004</td>\n",
              "      <td>0.0178</td>\n",
              "      <td>0.0038</td>\n",
              "      <td>3.5662</td>\n",
              "      <td>0.0262</td>\n",
              "      <td>0.0245</td>\n",
              "      <td>0.0075</td>\n",
              "      <td>93.4941</td>\n",
              "      <td>-1</td>\n",
              "      <td>17/10/2008 06:01:00</td>\n",
              "    </tr>\n",
              "    <tr>\n",
              "      <th>1567</th>\n",
              "      <td>2944.92</td>\n",
              "      <td>2450.76</td>\n",
              "      <td>2195.4444</td>\n",
              "      <td>2914.1792</td>\n",
              "      <td>1.5978</td>\n",
              "      <td>100.0</td>\n",
              "      <td>85.1011</td>\n",
              "      <td>0.1235</td>\n",
              "      <td>NaN</td>\n",
              "      <td>NaN</td>\n",
              "      <td>...</td>\n",
              "      <td>0.4987</td>\n",
              "      <td>0.0181</td>\n",
              "      <td>0.0040</td>\n",
              "      <td>3.6275</td>\n",
              "      <td>0.0117</td>\n",
              "      <td>0.0162</td>\n",
              "      <td>0.0045</td>\n",
              "      <td>137.7844</td>\n",
              "      <td>-1</td>\n",
              "      <td>17/10/2008 06:07:00</td>\n",
              "    </tr>\n",
              "  </tbody>\n",
              "</table>\n",
              "<p>1567 rows × 592 columns</p>\n",
              "</div>\n",
              "      <button class=\"colab-df-convert\" onclick=\"convertToInteractive('df-d0985e42-2bbc-4e94-9d77-f9554ba4fe24')\"\n",
              "              title=\"Convert this dataframe to an interactive table.\"\n",
              "              style=\"display:none;\">\n",
              "        \n",
              "  <svg xmlns=\"http://www.w3.org/2000/svg\" height=\"24px\"viewBox=\"0 0 24 24\"\n",
              "       width=\"24px\">\n",
              "    <path d=\"M0 0h24v24H0V0z\" fill=\"none\"/>\n",
              "    <path d=\"M18.56 5.44l.94 2.06.94-2.06 2.06-.94-2.06-.94-.94-2.06-.94 2.06-2.06.94zm-11 1L8.5 8.5l.94-2.06 2.06-.94-2.06-.94L8.5 2.5l-.94 2.06-2.06.94zm10 10l.94 2.06.94-2.06 2.06-.94-2.06-.94-.94-2.06-.94 2.06-2.06.94z\"/><path d=\"M17.41 7.96l-1.37-1.37c-.4-.4-.92-.59-1.43-.59-.52 0-1.04.2-1.43.59L10.3 9.45l-7.72 7.72c-.78.78-.78 2.05 0 2.83L4 21.41c.39.39.9.59 1.41.59.51 0 1.02-.2 1.41-.59l7.78-7.78 2.81-2.81c.8-.78.8-2.07 0-2.86zM5.41 20L4 18.59l7.72-7.72 1.47 1.35L5.41 20z\"/>\n",
              "  </svg>\n",
              "      </button>\n",
              "      \n",
              "  <style>\n",
              "    .colab-df-container {\n",
              "      display:flex;\n",
              "      flex-wrap:wrap;\n",
              "      gap: 12px;\n",
              "    }\n",
              "\n",
              "    .colab-df-convert {\n",
              "      background-color: #E8F0FE;\n",
              "      border: none;\n",
              "      border-radius: 50%;\n",
              "      cursor: pointer;\n",
              "      display: none;\n",
              "      fill: #1967D2;\n",
              "      height: 32px;\n",
              "      padding: 0 0 0 0;\n",
              "      width: 32px;\n",
              "    }\n",
              "\n",
              "    .colab-df-convert:hover {\n",
              "      background-color: #E2EBFA;\n",
              "      box-shadow: 0px 1px 2px rgba(60, 64, 67, 0.3), 0px 1px 3px 1px rgba(60, 64, 67, 0.15);\n",
              "      fill: #174EA6;\n",
              "    }\n",
              "\n",
              "    [theme=dark] .colab-df-convert {\n",
              "      background-color: #3B4455;\n",
              "      fill: #D2E3FC;\n",
              "    }\n",
              "\n",
              "    [theme=dark] .colab-df-convert:hover {\n",
              "      background-color: #434B5C;\n",
              "      box-shadow: 0px 1px 3px 1px rgba(0, 0, 0, 0.15);\n",
              "      filter: drop-shadow(0px 1px 2px rgba(0, 0, 0, 0.3));\n",
              "      fill: #FFFFFF;\n",
              "    }\n",
              "  </style>\n",
              "\n",
              "      <script>\n",
              "        const buttonEl =\n",
              "          document.querySelector('#df-d0985e42-2bbc-4e94-9d77-f9554ba4fe24 button.colab-df-convert');\n",
              "        buttonEl.style.display =\n",
              "          google.colab.kernel.accessAllowed ? 'block' : 'none';\n",
              "\n",
              "        async function convertToInteractive(key) {\n",
              "          const element = document.querySelector('#df-d0985e42-2bbc-4e94-9d77-f9554ba4fe24');\n",
              "          const dataTable =\n",
              "            await google.colab.kernel.invokeFunction('convertToInteractive',\n",
              "                                                     [key], {});\n",
              "          if (!dataTable) return;\n",
              "\n",
              "          const docLinkHtml = 'Like what you see? Visit the ' +\n",
              "            '<a target=\"_blank\" href=https://colab.research.google.com/notebooks/data_table.ipynb>data table notebook</a>'\n",
              "            + ' to learn more about interactive tables.';\n",
              "          element.innerHTML = '';\n",
              "          dataTable['output_type'] = 'display_data';\n",
              "          await google.colab.output.renderOutput(dataTable, element);\n",
              "          const docLink = document.createElement('div');\n",
              "          docLink.innerHTML = docLinkHtml;\n",
              "          element.appendChild(docLink);\n",
              "        }\n",
              "      </script>\n",
              "    </div>\n",
              "  </div>\n",
              "  "
            ]
          },
          "metadata": {},
          "execution_count": 3
        }
      ]
    },
    {
      "cell_type": "code",
      "source": [
        "df.describe()"
      ],
      "metadata": {
        "colab": {
          "base_uri": "https://localhost:8080/",
          "height": 394
        },
        "id": "5JBW7OqyLbXO",
        "outputId": "14b15479-daf0-4b6c-ac98-22773c5d0fb9"
      },
      "execution_count": null,
      "outputs": [
        {
          "output_type": "execute_result",
          "data": {
            "text/plain": [
              "          Sensor_1     Sensor_2     Sensor_3     Sensor_4     Sensor_5  \\\n",
              "count  1561.000000  1560.000000  1553.000000  1553.000000  1553.000000   \n",
              "mean   3014.452896  2495.850231  2200.547318  1396.376627     4.197013   \n",
              "std      73.621787    80.407705    29.513152   441.691640    56.355540   \n",
              "min    2743.240000  2158.750000  2060.660000     0.000000     0.681500   \n",
              "25%    2966.260000  2452.247500  2181.044400  1081.875800     1.017700   \n",
              "50%    3011.490000  2499.405000  2201.066700  1285.214400     1.316800   \n",
              "75%    3056.650000  2538.822500  2218.055500  1591.223500     1.525700   \n",
              "max    3356.350000  2846.440000  2315.266700  3715.041700  1114.536600   \n",
              "\n",
              "       Sensor_6     Sensor_7     Sensor_8     Sensor_9    Sensor_10  ...  \\\n",
              "count    1553.0  1553.000000  1558.000000  1565.000000  1565.000000  ...   \n",
              "mean      100.0   101.112908     0.121822     1.462862    -0.000841  ...   \n",
              "std         0.0     6.237214     0.008961     0.073897     0.015116  ...   \n",
              "min       100.0    82.131100     0.000000     1.191000    -0.053400  ...   \n",
              "25%       100.0    97.920000     0.121100     1.411200    -0.010800  ...   \n",
              "50%       100.0   101.512200     0.122400     1.461600    -0.001300  ...   \n",
              "75%       100.0   104.586700     0.123800     1.516900     0.008400  ...   \n",
              "max       100.0   129.252200     0.128600     1.656400     0.074900  ...   \n",
              "\n",
              "       Sensor_582   Sensor_583   Sensor_584   Sensor_585   Sensor_586  \\\n",
              "count  618.000000  1566.000000  1566.000000  1566.000000  1566.000000   \n",
              "mean    97.934373     0.500096     0.015318     0.003847     3.067826   \n",
              "std     87.520966     0.003404     0.017180     0.003720     3.578033   \n",
              "min      0.000000     0.477800     0.006000     0.001700     1.197500   \n",
              "25%     46.184900     0.497900     0.011600     0.003100     2.306500   \n",
              "50%     72.288900     0.500200     0.013800     0.003600     2.757650   \n",
              "75%    116.539150     0.502375     0.016500     0.004100     3.295175   \n",
              "max    737.304800     0.509800     0.476600     0.104500    99.303200   \n",
              "\n",
              "        Sensor_587   Sensor_588   Sensor_589   Sensor_590        Label  \n",
              "count  1566.000000  1566.000000  1566.000000  1566.000000  1567.000000  \n",
              "mean      0.021458     0.016475     0.005283    99.670066    -0.867262  \n",
              "std       0.012358     0.008808     0.002867    93.891919     0.498010  \n",
              "min      -0.016900     0.003200     0.001000     0.000000    -1.000000  \n",
              "25%       0.013425     0.010600     0.003300    44.368600    -1.000000  \n",
              "50%       0.020500     0.014800     0.004600    71.900500    -1.000000  \n",
              "75%       0.027600     0.020300     0.006400   114.749700    -1.000000  \n",
              "max       0.102800     0.079900     0.028600   737.304800     1.000000  \n",
              "\n",
              "[8 rows x 591 columns]"
            ],
            "text/html": [
              "\n",
              "  <div id=\"df-403d8401-bb8e-4770-abcd-882750478bc1\">\n",
              "    <div class=\"colab-df-container\">\n",
              "      <div>\n",
              "<style scoped>\n",
              "    .dataframe tbody tr th:only-of-type {\n",
              "        vertical-align: middle;\n",
              "    }\n",
              "\n",
              "    .dataframe tbody tr th {\n",
              "        vertical-align: top;\n",
              "    }\n",
              "\n",
              "    .dataframe thead th {\n",
              "        text-align: right;\n",
              "    }\n",
              "</style>\n",
              "<table border=\"1\" class=\"dataframe\">\n",
              "  <thead>\n",
              "    <tr style=\"text-align: right;\">\n",
              "      <th></th>\n",
              "      <th>Sensor_1</th>\n",
              "      <th>Sensor_2</th>\n",
              "      <th>Sensor_3</th>\n",
              "      <th>Sensor_4</th>\n",
              "      <th>Sensor_5</th>\n",
              "      <th>Sensor_6</th>\n",
              "      <th>Sensor_7</th>\n",
              "      <th>Sensor_8</th>\n",
              "      <th>Sensor_9</th>\n",
              "      <th>Sensor_10</th>\n",
              "      <th>...</th>\n",
              "      <th>Sensor_582</th>\n",
              "      <th>Sensor_583</th>\n",
              "      <th>Sensor_584</th>\n",
              "      <th>Sensor_585</th>\n",
              "      <th>Sensor_586</th>\n",
              "      <th>Sensor_587</th>\n",
              "      <th>Sensor_588</th>\n",
              "      <th>Sensor_589</th>\n",
              "      <th>Sensor_590</th>\n",
              "      <th>Label</th>\n",
              "    </tr>\n",
              "  </thead>\n",
              "  <tbody>\n",
              "    <tr>\n",
              "      <th>count</th>\n",
              "      <td>1561.000000</td>\n",
              "      <td>1560.000000</td>\n",
              "      <td>1553.000000</td>\n",
              "      <td>1553.000000</td>\n",
              "      <td>1553.000000</td>\n",
              "      <td>1553.0</td>\n",
              "      <td>1553.000000</td>\n",
              "      <td>1558.000000</td>\n",
              "      <td>1565.000000</td>\n",
              "      <td>1565.000000</td>\n",
              "      <td>...</td>\n",
              "      <td>618.000000</td>\n",
              "      <td>1566.000000</td>\n",
              "      <td>1566.000000</td>\n",
              "      <td>1566.000000</td>\n",
              "      <td>1566.000000</td>\n",
              "      <td>1566.000000</td>\n",
              "      <td>1566.000000</td>\n",
              "      <td>1566.000000</td>\n",
              "      <td>1566.000000</td>\n",
              "      <td>1567.000000</td>\n",
              "    </tr>\n",
              "    <tr>\n",
              "      <th>mean</th>\n",
              "      <td>3014.452896</td>\n",
              "      <td>2495.850231</td>\n",
              "      <td>2200.547318</td>\n",
              "      <td>1396.376627</td>\n",
              "      <td>4.197013</td>\n",
              "      <td>100.0</td>\n",
              "      <td>101.112908</td>\n",
              "      <td>0.121822</td>\n",
              "      <td>1.462862</td>\n",
              "      <td>-0.000841</td>\n",
              "      <td>...</td>\n",
              "      <td>97.934373</td>\n",
              "      <td>0.500096</td>\n",
              "      <td>0.015318</td>\n",
              "      <td>0.003847</td>\n",
              "      <td>3.067826</td>\n",
              "      <td>0.021458</td>\n",
              "      <td>0.016475</td>\n",
              "      <td>0.005283</td>\n",
              "      <td>99.670066</td>\n",
              "      <td>-0.867262</td>\n",
              "    </tr>\n",
              "    <tr>\n",
              "      <th>std</th>\n",
              "      <td>73.621787</td>\n",
              "      <td>80.407705</td>\n",
              "      <td>29.513152</td>\n",
              "      <td>441.691640</td>\n",
              "      <td>56.355540</td>\n",
              "      <td>0.0</td>\n",
              "      <td>6.237214</td>\n",
              "      <td>0.008961</td>\n",
              "      <td>0.073897</td>\n",
              "      <td>0.015116</td>\n",
              "      <td>...</td>\n",
              "      <td>87.520966</td>\n",
              "      <td>0.003404</td>\n",
              "      <td>0.017180</td>\n",
              "      <td>0.003720</td>\n",
              "      <td>3.578033</td>\n",
              "      <td>0.012358</td>\n",
              "      <td>0.008808</td>\n",
              "      <td>0.002867</td>\n",
              "      <td>93.891919</td>\n",
              "      <td>0.498010</td>\n",
              "    </tr>\n",
              "    <tr>\n",
              "      <th>min</th>\n",
              "      <td>2743.240000</td>\n",
              "      <td>2158.750000</td>\n",
              "      <td>2060.660000</td>\n",
              "      <td>0.000000</td>\n",
              "      <td>0.681500</td>\n",
              "      <td>100.0</td>\n",
              "      <td>82.131100</td>\n",
              "      <td>0.000000</td>\n",
              "      <td>1.191000</td>\n",
              "      <td>-0.053400</td>\n",
              "      <td>...</td>\n",
              "      <td>0.000000</td>\n",
              "      <td>0.477800</td>\n",
              "      <td>0.006000</td>\n",
              "      <td>0.001700</td>\n",
              "      <td>1.197500</td>\n",
              "      <td>-0.016900</td>\n",
              "      <td>0.003200</td>\n",
              "      <td>0.001000</td>\n",
              "      <td>0.000000</td>\n",
              "      <td>-1.000000</td>\n",
              "    </tr>\n",
              "    <tr>\n",
              "      <th>25%</th>\n",
              "      <td>2966.260000</td>\n",
              "      <td>2452.247500</td>\n",
              "      <td>2181.044400</td>\n",
              "      <td>1081.875800</td>\n",
              "      <td>1.017700</td>\n",
              "      <td>100.0</td>\n",
              "      <td>97.920000</td>\n",
              "      <td>0.121100</td>\n",
              "      <td>1.411200</td>\n",
              "      <td>-0.010800</td>\n",
              "      <td>...</td>\n",
              "      <td>46.184900</td>\n",
              "      <td>0.497900</td>\n",
              "      <td>0.011600</td>\n",
              "      <td>0.003100</td>\n",
              "      <td>2.306500</td>\n",
              "      <td>0.013425</td>\n",
              "      <td>0.010600</td>\n",
              "      <td>0.003300</td>\n",
              "      <td>44.368600</td>\n",
              "      <td>-1.000000</td>\n",
              "    </tr>\n",
              "    <tr>\n",
              "      <th>50%</th>\n",
              "      <td>3011.490000</td>\n",
              "      <td>2499.405000</td>\n",
              "      <td>2201.066700</td>\n",
              "      <td>1285.214400</td>\n",
              "      <td>1.316800</td>\n",
              "      <td>100.0</td>\n",
              "      <td>101.512200</td>\n",
              "      <td>0.122400</td>\n",
              "      <td>1.461600</td>\n",
              "      <td>-0.001300</td>\n",
              "      <td>...</td>\n",
              "      <td>72.288900</td>\n",
              "      <td>0.500200</td>\n",
              "      <td>0.013800</td>\n",
              "      <td>0.003600</td>\n",
              "      <td>2.757650</td>\n",
              "      <td>0.020500</td>\n",
              "      <td>0.014800</td>\n",
              "      <td>0.004600</td>\n",
              "      <td>71.900500</td>\n",
              "      <td>-1.000000</td>\n",
              "    </tr>\n",
              "    <tr>\n",
              "      <th>75%</th>\n",
              "      <td>3056.650000</td>\n",
              "      <td>2538.822500</td>\n",
              "      <td>2218.055500</td>\n",
              "      <td>1591.223500</td>\n",
              "      <td>1.525700</td>\n",
              "      <td>100.0</td>\n",
              "      <td>104.586700</td>\n",
              "      <td>0.123800</td>\n",
              "      <td>1.516900</td>\n",
              "      <td>0.008400</td>\n",
              "      <td>...</td>\n",
              "      <td>116.539150</td>\n",
              "      <td>0.502375</td>\n",
              "      <td>0.016500</td>\n",
              "      <td>0.004100</td>\n",
              "      <td>3.295175</td>\n",
              "      <td>0.027600</td>\n",
              "      <td>0.020300</td>\n",
              "      <td>0.006400</td>\n",
              "      <td>114.749700</td>\n",
              "      <td>-1.000000</td>\n",
              "    </tr>\n",
              "    <tr>\n",
              "      <th>max</th>\n",
              "      <td>3356.350000</td>\n",
              "      <td>2846.440000</td>\n",
              "      <td>2315.266700</td>\n",
              "      <td>3715.041700</td>\n",
              "      <td>1114.536600</td>\n",
              "      <td>100.0</td>\n",
              "      <td>129.252200</td>\n",
              "      <td>0.128600</td>\n",
              "      <td>1.656400</td>\n",
              "      <td>0.074900</td>\n",
              "      <td>...</td>\n",
              "      <td>737.304800</td>\n",
              "      <td>0.509800</td>\n",
              "      <td>0.476600</td>\n",
              "      <td>0.104500</td>\n",
              "      <td>99.303200</td>\n",
              "      <td>0.102800</td>\n",
              "      <td>0.079900</td>\n",
              "      <td>0.028600</td>\n",
              "      <td>737.304800</td>\n",
              "      <td>1.000000</td>\n",
              "    </tr>\n",
              "  </tbody>\n",
              "</table>\n",
              "<p>8 rows × 591 columns</p>\n",
              "</div>\n",
              "      <button class=\"colab-df-convert\" onclick=\"convertToInteractive('df-403d8401-bb8e-4770-abcd-882750478bc1')\"\n",
              "              title=\"Convert this dataframe to an interactive table.\"\n",
              "              style=\"display:none;\">\n",
              "        \n",
              "  <svg xmlns=\"http://www.w3.org/2000/svg\" height=\"24px\"viewBox=\"0 0 24 24\"\n",
              "       width=\"24px\">\n",
              "    <path d=\"M0 0h24v24H0V0z\" fill=\"none\"/>\n",
              "    <path d=\"M18.56 5.44l.94 2.06.94-2.06 2.06-.94-2.06-.94-.94-2.06-.94 2.06-2.06.94zm-11 1L8.5 8.5l.94-2.06 2.06-.94-2.06-.94L8.5 2.5l-.94 2.06-2.06.94zm10 10l.94 2.06.94-2.06 2.06-.94-2.06-.94-.94-2.06-.94 2.06-2.06.94z\"/><path d=\"M17.41 7.96l-1.37-1.37c-.4-.4-.92-.59-1.43-.59-.52 0-1.04.2-1.43.59L10.3 9.45l-7.72 7.72c-.78.78-.78 2.05 0 2.83L4 21.41c.39.39.9.59 1.41.59.51 0 1.02-.2 1.41-.59l7.78-7.78 2.81-2.81c.8-.78.8-2.07 0-2.86zM5.41 20L4 18.59l7.72-7.72 1.47 1.35L5.41 20z\"/>\n",
              "  </svg>\n",
              "      </button>\n",
              "      \n",
              "  <style>\n",
              "    .colab-df-container {\n",
              "      display:flex;\n",
              "      flex-wrap:wrap;\n",
              "      gap: 12px;\n",
              "    }\n",
              "\n",
              "    .colab-df-convert {\n",
              "      background-color: #E8F0FE;\n",
              "      border: none;\n",
              "      border-radius: 50%;\n",
              "      cursor: pointer;\n",
              "      display: none;\n",
              "      fill: #1967D2;\n",
              "      height: 32px;\n",
              "      padding: 0 0 0 0;\n",
              "      width: 32px;\n",
              "    }\n",
              "\n",
              "    .colab-df-convert:hover {\n",
              "      background-color: #E2EBFA;\n",
              "      box-shadow: 0px 1px 2px rgba(60, 64, 67, 0.3), 0px 1px 3px 1px rgba(60, 64, 67, 0.15);\n",
              "      fill: #174EA6;\n",
              "    }\n",
              "\n",
              "    [theme=dark] .colab-df-convert {\n",
              "      background-color: #3B4455;\n",
              "      fill: #D2E3FC;\n",
              "    }\n",
              "\n",
              "    [theme=dark] .colab-df-convert:hover {\n",
              "      background-color: #434B5C;\n",
              "      box-shadow: 0px 1px 3px 1px rgba(0, 0, 0, 0.15);\n",
              "      filter: drop-shadow(0px 1px 2px rgba(0, 0, 0, 0.3));\n",
              "      fill: #FFFFFF;\n",
              "    }\n",
              "  </style>\n",
              "\n",
              "      <script>\n",
              "        const buttonEl =\n",
              "          document.querySelector('#df-403d8401-bb8e-4770-abcd-882750478bc1 button.colab-df-convert');\n",
              "        buttonEl.style.display =\n",
              "          google.colab.kernel.accessAllowed ? 'block' : 'none';\n",
              "\n",
              "        async function convertToInteractive(key) {\n",
              "          const element = document.querySelector('#df-403d8401-bb8e-4770-abcd-882750478bc1');\n",
              "          const dataTable =\n",
              "            await google.colab.kernel.invokeFunction('convertToInteractive',\n",
              "                                                     [key], {});\n",
              "          if (!dataTable) return;\n",
              "\n",
              "          const docLinkHtml = 'Like what you see? Visit the ' +\n",
              "            '<a target=\"_blank\" href=https://colab.research.google.com/notebooks/data_table.ipynb>data table notebook</a>'\n",
              "            + ' to learn more about interactive tables.';\n",
              "          element.innerHTML = '';\n",
              "          dataTable['output_type'] = 'display_data';\n",
              "          await google.colab.output.renderOutput(dataTable, element);\n",
              "          const docLink = document.createElement('div');\n",
              "          docLink.innerHTML = docLinkHtml;\n",
              "          element.appendChild(docLink);\n",
              "        }\n",
              "      </script>\n",
              "    </div>\n",
              "  </div>\n",
              "  "
            ]
          },
          "metadata": {},
          "execution_count": 4
        }
      ]
    },
    {
      "cell_type": "markdown",
      "source": [
        "I use the describe() function to get the data summary like \"count\", \"mean\", \"std\", \"min\", \"max\"...... this kind of the most often statistical data"
      ],
      "metadata": {
        "id": "wDUnam7hLlm-"
      }
    },
    {
      "cell_type": "markdown",
      "source": [
        "# 1-(b) (5%) What is the problem about the dataset? Any identical column? Any redundant column? Any missing value? How to handle these issues?"
      ],
      "metadata": {
        "id": "KarZ70iXcLYs"
      }
    },
    {
      "cell_type": "code",
      "source": [
        "# Any identical column ?\n",
        "cols = df.columns\n",
        "cols_set = set(cols)\n",
        "print(\"Raw data:\", len(cols))\n",
        "print(\"Set data:\", len(cols_set))"
      ],
      "metadata": {
        "id": "MaXgMDQm12rl",
        "colab": {
          "base_uri": "https://localhost:8080/"
        },
        "outputId": "22d7ef10-3e93-4787-ffd2-5388439537e8"
      },
      "execution_count": null,
      "outputs": [
        {
          "output_type": "stream",
          "name": "stdout",
          "text": [
            "Raw data: 592\n",
            "Set data: 592\n"
          ]
        }
      ]
    },
    {
      "cell_type": "markdown",
      "source": [
        "### Any identical column ?\n",
        "\n",
        "首先，我們先定義 \"identical column\" 代表相同的 column name，因為我認為相同的 column content 應該屬於下面的 \"redundant column\"\n",
        "\n",
        "我透過 set 這個資料結構的特性來檢查是否有任何相同的 column name.\n",
        "\n",
        "由上面的結果可知，將 Column name 作為 raw data 放進 set 之後，數量沒有變化，所以可以確定沒有相同的 Column name\n",
        "\n",
        "因為沒有任何相同名字的 column name，所以不用額外處理"
      ],
      "metadata": {
        "id": "h7zIZ3qdMoKg"
      }
    },
    {
      "cell_type": "code",
      "source": [
        "# Any redundant column ?\n",
        "def get_keys_from_value(d, val):\n",
        "  return [k for k, v in d.items() if v == val]\n",
        "\n",
        "### clear the same column content ###\n",
        "unique_dict = {}\n",
        "duplicate_col = {}\n",
        "cols = df.columns\n",
        "for col in cols:\n",
        "  temp_list = list(df[col].replace(np.nan, -1).values)\n",
        "  if temp_list not in list(unique_dict.values()):\n",
        "    unique_dict[col] = temp_list\n",
        "  else:\n",
        "    key = get_keys_from_value(unique_dict, temp_list)[0]\n",
        "    if key in duplicate_col: \n",
        "      duplicate_col[key].append(col)\n",
        "    else:\n",
        "      duplicate_col[key] = [col]\n",
        "print(\"Criteria 1: clear the same column content\")\n",
        "print(\"Num of unique column content:\", len(unique_dict))\n",
        "print(\"Num of same columna content:\", len(cols) - len(unique_dict))\n",
        "print(\"Same column content:\", duplicate_col, \"\\n\")\n",
        "\n",
        "### clear the col that all content are identical\n",
        "clear_data = {}\n",
        "for key in unique_dict:\n",
        "  num_of_set = len(set(unique_dict[key]))\n",
        "  if num_of_set > 2 or key == \"Label\": # because we change the NaN to -1, so it may have two element like \"100 & -1\" but actually it only have 100\n",
        "    clear_data[key] = unique_dict[key]\n",
        "print(\"Criteria 2: clear the col that all content are identical\")\n",
        "print(\"Num of clear data:\", len(clear_data))\n",
        "print(\"Num of all content are identical:\", len(unique_dict) - len(clear_data), \"\\n\")\n",
        "\n",
        "print(\"Num of redundant data:\", len(cols) - len(clear_data))"
      ],
      "metadata": {
        "id": "wjoghpKq1x97",
        "colab": {
          "base_uri": "https://localhost:8080/"
        },
        "outputId": "476a0f9c-0391-4445-cc1a-3e517a80f57b"
      },
      "execution_count": null,
      "outputs": [
        {
          "output_type": "stream",
          "name": "stdout",
          "text": [
            "Criteria 1: clear the same column content\n",
            "Num of unique column content: 488\n",
            "Num of same columna content: 104\n",
            "Same column content: {'Sensor_14': ['Sensor_150', 'Sensor_285', 'Sensor_423'], 'Sensor_53': ['Sensor_180', 'Sensor_187', 'Sensor_190', 'Sensor_316', 'Sensor_323', 'Sensor_326', 'Sensor_452', 'Sensor_459', 'Sensor_462'], 'Sensor_191': ['Sensor_192', 'Sensor_193', 'Sensor_194', 'Sensor_195', 'Sensor_327', 'Sensor_328', 'Sensor_329', 'Sensor_330', 'Sensor_331', 'Sensor_463', 'Sensor_464', 'Sensor_465', 'Sensor_466', 'Sensor_467'], 'Sensor_98': ['Sensor_227', 'Sensor_230', 'Sensor_231', 'Sensor_232', 'Sensor_233', 'Sensor_234', 'Sensor_235', 'Sensor_236', 'Sensor_237', 'Sensor_238', 'Sensor_241', 'Sensor_242', 'Sensor_243', 'Sensor_244', 'Sensor_365', 'Sensor_370', 'Sensor_371', 'Sensor_372', 'Sensor_373', 'Sensor_374', 'Sensor_375', 'Sensor_376', 'Sensor_379', 'Sensor_380', 'Sensor_381', 'Sensor_382', 'Sensor_499', 'Sensor_502', 'Sensor_503', 'Sensor_504', 'Sensor_505', 'Sensor_506', 'Sensor_507', 'Sensor_508', 'Sensor_509', 'Sensor_510', 'Sensor_513', 'Sensor_514', 'Sensor_515', 'Sensor_516'], 'Sensor_257': ['Sensor_258', 'Sensor_259', 'Sensor_260', 'Sensor_261', 'Sensor_262', 'Sensor_263', 'Sensor_264', 'Sensor_265', 'Sensor_266', 'Sensor_267', 'Sensor_395', 'Sensor_396', 'Sensor_397', 'Sensor_398', 'Sensor_399', 'Sensor_400', 'Sensor_401', 'Sensor_402', 'Sensor_403', 'Sensor_404', 'Sensor_405', 'Sensor_529', 'Sensor_530', 'Sensor_531', 'Sensor_532', 'Sensor_533', 'Sensor_534', 'Sensor_535', 'Sensor_536', 'Sensor_537', 'Sensor_538', 'Sensor_539'], 'Sensor_142': ['Sensor_277', 'Sensor_415'], 'Sensor_179': ['Sensor_314', 'Sensor_315', 'Sensor_450', 'Sensor_451']} \n",
            "\n",
            "Criteria 2: clear the col that all content are identical\n",
            "Num of clear data: 476\n",
            "Num of all content are identical: 12 \n",
            "\n",
            "Num of redundant data: 116\n"
          ]
        }
      ]
    },
    {
      "cell_type": "markdown",
      "source": [
        "### Any redundant column ?\n",
        "\n",
        "首先，我先定義何謂 \"redundant column\"，根據以下兩個準則 :\n",
        "\n",
        "1. 如果有 2 個或 2 個以上的 column，他們所有的 content 都相同，那我們就只會保留其中一個 column，因為其他 column 不會給予我們更多的資訊，因此他們是 redundant column\n",
        "\n",
        "2. 如果單一 column 中的所有值都相同，那我們也視為 redundant column，因為他沒有任何變異，也就代表沒有資訊量\n",
        "\n",
        "根據這兩個準則，我們可以產出上面的結果，得知總共有 116 個 \"redundant column\"\n",
        "\n",
        "Detail Note:\n",
        "\n",
        "Criteria 1:\n",
        "\n",
        "> unique_dict : 用來存出現過的 col content\n",
        "\n",
        "> duplicate_col : 用來存重複出現的 col name，key 代表保留的 col name, value 代表與此 col 有相同 content 的 col name\n",
        "\n",
        "> temp_list : 將某一 col 讀取進來處理，先把 nan 替換成 -1 (這樣才能做comparison)，再將他轉換成 list 儲存\n",
        "\n",
        "> 處理流程 :\n",
        "\n",
        "> 如果第一次出現的 col content 就放進 unique_dict\n",
        "\n",
        "> 如果已經出現過的 col content 就用出現過的 col name 當作 key, 重複出現的 col name 當作 value 存進 duplicate_col\n",
        "\n",
        "Criteria 2:\n",
        "\n",
        "> 將資料放進 set 中確認個數，如果只有單一元素即代表他所有 content 都相同，因此屬於 \"redundant column\"\n",
        "\n",
        "我認為所謂的 redundant column 可以試著直接拿掉再來訓練模型，因為這些資料可能無法提供更多的資訊量。\n"
      ],
      "metadata": {
        "id": "8HSS5YC4VPPN"
      }
    },
    {
      "cell_type": "code",
      "source": [
        "# Any missing value?\n",
        "df.isnull().sum()"
      ],
      "metadata": {
        "id": "p4dfNr901tml",
        "colab": {
          "base_uri": "https://localhost:8080/"
        },
        "outputId": "edba2c9d-f5c3-482c-a50c-8fcf02efcb36"
      },
      "execution_count": null,
      "outputs": [
        {
          "output_type": "execute_result",
          "data": {
            "text/plain": [
              "Sensor_1       6\n",
              "Sensor_2       7\n",
              "Sensor_3      14\n",
              "Sensor_4      14\n",
              "Sensor_5      14\n",
              "              ..\n",
              "Sensor_588     1\n",
              "Sensor_589     1\n",
              "Sensor_590     1\n",
              "Label          0\n",
              "Time           0\n",
              "Length: 592, dtype: int64"
            ]
          },
          "metadata": {},
          "execution_count": 7
        }
      ]
    },
    {
      "cell_type": "markdown",
      "source": [
        "### Any missing value?\n",
        "\n",
        "由上述的結果可知，這個資料集中有少部分的 missing value\n",
        "\n",
        "我們可以選擇把這些 Missing value 相關的 row 拿掉，或是填入平均值、中位數、眾數，或是乾脆直接填入-1讓模型仍可以知道這裡有一個異常狀況，\n",
        "\n",
        "如果有時間順序，也能用最近的一筆資料(前一筆或後一筆)當作 missing value"
      ],
      "metadata": {
        "id": "NwanZYA2clMX"
      }
    },
    {
      "cell_type": "markdown",
      "source": [
        "# 1-(c) (5%) After data preprocessing, based on the prepared dataset, use the classification and regression tree (CART) to analyze the prepared dataset. Show the classification results by 10-fold cross validation with several metrics (eg. accuracy, area under ROC curve (AUC), and F1-score), and also list the hyperparameters you adjust."
      ],
      "metadata": {
        "id": "b7LOmbVjcSac"
      }
    },
    {
      "cell_type": "code",
      "source": [
        "col_names = list(clear_data.keys())\n",
        "clear_df = df[col_names]\n",
        "clear_df = clear_df.fillna(method=\"pad\", axis=0)\n",
        "clear_df = clear_df.fillna(method=\"backfill\", axis=0)\n",
        "clear_df"
      ],
      "metadata": {
        "colab": {
          "base_uri": "https://localhost:8080/",
          "height": 661
        },
        "id": "jyjJtG2wkR09",
        "outputId": "f6efee68-2fb5-4f75-e3ec-c04dd0a3f34e"
      },
      "execution_count": null,
      "outputs": [
        {
          "output_type": "execute_result",
          "data": {
            "text/plain": [
              "      Sensor_1  Sensor_2   Sensor_3   Sensor_4  Sensor_5  Sensor_7  Sensor_8  \\\n",
              "1      3030.93   2564.00  2187.7333  1411.1265    1.3602   97.6133    0.1242   \n",
              "2      3095.78   2465.14  2230.4222  1463.6606    0.8294  102.3433    0.1247   \n",
              "3      2932.61   2559.94  2186.4111  1698.0172    1.5102   95.4878    0.1241   \n",
              "4      2988.72   2479.90  2199.0333   909.7926    1.3204  104.2367    0.1217   \n",
              "5      3032.24   2502.87  2233.3667  1326.5200    1.5334  100.3967    0.1235   \n",
              "...        ...       ...        ...        ...       ...       ...       ...   \n",
              "1563   2899.41   2464.36  2179.7333  3085.3781    1.4843   82.2467    0.1248   \n",
              "1564   3052.31   2522.55  2198.5667  1124.6595    0.8763   98.4689    0.1205   \n",
              "1565   2978.81   2379.78  2206.3000  1110.4967    0.8236   99.4122    0.1208   \n",
              "1566   2894.92   2532.01  2177.0333  1183.7287    1.5726   98.7978    0.1213   \n",
              "1567   2944.92   2450.76  2195.4444  2914.1792    1.5978   85.1011    0.1235   \n",
              "\n",
              "      Sensor_9  Sensor_10  Sensor_11  ...  Sensor_583  Sensor_584  Sensor_585  \\\n",
              "1       1.5005     0.0162    -0.0034  ...      0.5005      0.0118      0.0035   \n",
              "2       1.4966    -0.0005    -0.0148  ...      0.5019      0.0223      0.0055   \n",
              "3       1.4436     0.0041     0.0013  ...      0.4958      0.0157      0.0039   \n",
              "4       1.4882    -0.0124    -0.0033  ...      0.4990      0.0103      0.0025   \n",
              "5       1.5031    -0.0031    -0.0072  ...      0.4800      0.4766      0.1045   \n",
              "...        ...        ...        ...  ...         ...         ...         ...   \n",
              "1563    1.3424    -0.0045    -0.0057  ...      0.4988      0.0143      0.0039   \n",
              "1564    1.4333    -0.0061    -0.0093  ...      0.4975      0.0131      0.0036   \n",
              "1565    1.4333    -0.0061    -0.0093  ...      0.4987      0.0153      0.0041   \n",
              "1566    1.4622    -0.0072     0.0032  ...      0.5004      0.0178      0.0038   \n",
              "1567    1.4622    -0.0072     0.0032  ...      0.4987      0.0181      0.0040   \n",
              "\n",
              "      Sensor_586  Sensor_587  Sensor_588  Sensor_589  Sensor_590  Label  \\\n",
              "1         2.3630      0.0096      0.0201      0.0060    208.2045     -1   \n",
              "2         4.4447      0.0096      0.0201      0.0060    208.2045     -1   \n",
              "3         3.1745      0.0584      0.0484      0.0148     82.8602      1   \n",
              "4         2.0544      0.0202      0.0149      0.0044     73.8432     -1   \n",
              "5        99.3032      0.0202      0.0149      0.0044     73.8432     -1   \n",
              "...          ...         ...         ...         ...         ...    ...   \n",
              "1563      2.8669      0.0068      0.0138      0.0047    203.1720     -1   \n",
              "1564      2.6238      0.0068      0.0138      0.0047    203.1720     -1   \n",
              "1565      3.0590      0.0197      0.0086      0.0025     43.5231     -1   \n",
              "1566      3.5662      0.0262      0.0245      0.0075     93.4941     -1   \n",
              "1567      3.6275      0.0117      0.0162      0.0045    137.7844     -1   \n",
              "\n",
              "                     Time  \n",
              "1     19/07/2008 11:55:00  \n",
              "2     19/07/2008 12:32:00  \n",
              "3     19/07/2008 13:17:00  \n",
              "4     19/07/2008 14:43:00  \n",
              "5     19/07/2008 15:22:00  \n",
              "...                   ...  \n",
              "1563  16/10/2008 15:13:00  \n",
              "1564  16/10/2008 20:49:00  \n",
              "1565  17/10/2008 05:26:00  \n",
              "1566  17/10/2008 06:01:00  \n",
              "1567  17/10/2008 06:07:00  \n",
              "\n",
              "[1567 rows x 476 columns]"
            ],
            "text/html": [
              "\n",
              "  <div id=\"df-0a4078b6-92af-45c4-aebc-f4fba41b717b\">\n",
              "    <div class=\"colab-df-container\">\n",
              "      <div>\n",
              "<style scoped>\n",
              "    .dataframe tbody tr th:only-of-type {\n",
              "        vertical-align: middle;\n",
              "    }\n",
              "\n",
              "    .dataframe tbody tr th {\n",
              "        vertical-align: top;\n",
              "    }\n",
              "\n",
              "    .dataframe thead th {\n",
              "        text-align: right;\n",
              "    }\n",
              "</style>\n",
              "<table border=\"1\" class=\"dataframe\">\n",
              "  <thead>\n",
              "    <tr style=\"text-align: right;\">\n",
              "      <th></th>\n",
              "      <th>Sensor_1</th>\n",
              "      <th>Sensor_2</th>\n",
              "      <th>Sensor_3</th>\n",
              "      <th>Sensor_4</th>\n",
              "      <th>Sensor_5</th>\n",
              "      <th>Sensor_7</th>\n",
              "      <th>Sensor_8</th>\n",
              "      <th>Sensor_9</th>\n",
              "      <th>Sensor_10</th>\n",
              "      <th>Sensor_11</th>\n",
              "      <th>...</th>\n",
              "      <th>Sensor_583</th>\n",
              "      <th>Sensor_584</th>\n",
              "      <th>Sensor_585</th>\n",
              "      <th>Sensor_586</th>\n",
              "      <th>Sensor_587</th>\n",
              "      <th>Sensor_588</th>\n",
              "      <th>Sensor_589</th>\n",
              "      <th>Sensor_590</th>\n",
              "      <th>Label</th>\n",
              "      <th>Time</th>\n",
              "    </tr>\n",
              "  </thead>\n",
              "  <tbody>\n",
              "    <tr>\n",
              "      <th>1</th>\n",
              "      <td>3030.93</td>\n",
              "      <td>2564.00</td>\n",
              "      <td>2187.7333</td>\n",
              "      <td>1411.1265</td>\n",
              "      <td>1.3602</td>\n",
              "      <td>97.6133</td>\n",
              "      <td>0.1242</td>\n",
              "      <td>1.5005</td>\n",
              "      <td>0.0162</td>\n",
              "      <td>-0.0034</td>\n",
              "      <td>...</td>\n",
              "      <td>0.5005</td>\n",
              "      <td>0.0118</td>\n",
              "      <td>0.0035</td>\n",
              "      <td>2.3630</td>\n",
              "      <td>0.0096</td>\n",
              "      <td>0.0201</td>\n",
              "      <td>0.0060</td>\n",
              "      <td>208.2045</td>\n",
              "      <td>-1</td>\n",
              "      <td>19/07/2008 11:55:00</td>\n",
              "    </tr>\n",
              "    <tr>\n",
              "      <th>2</th>\n",
              "      <td>3095.78</td>\n",
              "      <td>2465.14</td>\n",
              "      <td>2230.4222</td>\n",
              "      <td>1463.6606</td>\n",
              "      <td>0.8294</td>\n",
              "      <td>102.3433</td>\n",
              "      <td>0.1247</td>\n",
              "      <td>1.4966</td>\n",
              "      <td>-0.0005</td>\n",
              "      <td>-0.0148</td>\n",
              "      <td>...</td>\n",
              "      <td>0.5019</td>\n",
              "      <td>0.0223</td>\n",
              "      <td>0.0055</td>\n",
              "      <td>4.4447</td>\n",
              "      <td>0.0096</td>\n",
              "      <td>0.0201</td>\n",
              "      <td>0.0060</td>\n",
              "      <td>208.2045</td>\n",
              "      <td>-1</td>\n",
              "      <td>19/07/2008 12:32:00</td>\n",
              "    </tr>\n",
              "    <tr>\n",
              "      <th>3</th>\n",
              "      <td>2932.61</td>\n",
              "      <td>2559.94</td>\n",
              "      <td>2186.4111</td>\n",
              "      <td>1698.0172</td>\n",
              "      <td>1.5102</td>\n",
              "      <td>95.4878</td>\n",
              "      <td>0.1241</td>\n",
              "      <td>1.4436</td>\n",
              "      <td>0.0041</td>\n",
              "      <td>0.0013</td>\n",
              "      <td>...</td>\n",
              "      <td>0.4958</td>\n",
              "      <td>0.0157</td>\n",
              "      <td>0.0039</td>\n",
              "      <td>3.1745</td>\n",
              "      <td>0.0584</td>\n",
              "      <td>0.0484</td>\n",
              "      <td>0.0148</td>\n",
              "      <td>82.8602</td>\n",
              "      <td>1</td>\n",
              "      <td>19/07/2008 13:17:00</td>\n",
              "    </tr>\n",
              "    <tr>\n",
              "      <th>4</th>\n",
              "      <td>2988.72</td>\n",
              "      <td>2479.90</td>\n",
              "      <td>2199.0333</td>\n",
              "      <td>909.7926</td>\n",
              "      <td>1.3204</td>\n",
              "      <td>104.2367</td>\n",
              "      <td>0.1217</td>\n",
              "      <td>1.4882</td>\n",
              "      <td>-0.0124</td>\n",
              "      <td>-0.0033</td>\n",
              "      <td>...</td>\n",
              "      <td>0.4990</td>\n",
              "      <td>0.0103</td>\n",
              "      <td>0.0025</td>\n",
              "      <td>2.0544</td>\n",
              "      <td>0.0202</td>\n",
              "      <td>0.0149</td>\n",
              "      <td>0.0044</td>\n",
              "      <td>73.8432</td>\n",
              "      <td>-1</td>\n",
              "      <td>19/07/2008 14:43:00</td>\n",
              "    </tr>\n",
              "    <tr>\n",
              "      <th>5</th>\n",
              "      <td>3032.24</td>\n",
              "      <td>2502.87</td>\n",
              "      <td>2233.3667</td>\n",
              "      <td>1326.5200</td>\n",
              "      <td>1.5334</td>\n",
              "      <td>100.3967</td>\n",
              "      <td>0.1235</td>\n",
              "      <td>1.5031</td>\n",
              "      <td>-0.0031</td>\n",
              "      <td>-0.0072</td>\n",
              "      <td>...</td>\n",
              "      <td>0.4800</td>\n",
              "      <td>0.4766</td>\n",
              "      <td>0.1045</td>\n",
              "      <td>99.3032</td>\n",
              "      <td>0.0202</td>\n",
              "      <td>0.0149</td>\n",
              "      <td>0.0044</td>\n",
              "      <td>73.8432</td>\n",
              "      <td>-1</td>\n",
              "      <td>19/07/2008 15:22:00</td>\n",
              "    </tr>\n",
              "    <tr>\n",
              "      <th>...</th>\n",
              "      <td>...</td>\n",
              "      <td>...</td>\n",
              "      <td>...</td>\n",
              "      <td>...</td>\n",
              "      <td>...</td>\n",
              "      <td>...</td>\n",
              "      <td>...</td>\n",
              "      <td>...</td>\n",
              "      <td>...</td>\n",
              "      <td>...</td>\n",
              "      <td>...</td>\n",
              "      <td>...</td>\n",
              "      <td>...</td>\n",
              "      <td>...</td>\n",
              "      <td>...</td>\n",
              "      <td>...</td>\n",
              "      <td>...</td>\n",
              "      <td>...</td>\n",
              "      <td>...</td>\n",
              "      <td>...</td>\n",
              "      <td>...</td>\n",
              "    </tr>\n",
              "    <tr>\n",
              "      <th>1563</th>\n",
              "      <td>2899.41</td>\n",
              "      <td>2464.36</td>\n",
              "      <td>2179.7333</td>\n",
              "      <td>3085.3781</td>\n",
              "      <td>1.4843</td>\n",
              "      <td>82.2467</td>\n",
              "      <td>0.1248</td>\n",
              "      <td>1.3424</td>\n",
              "      <td>-0.0045</td>\n",
              "      <td>-0.0057</td>\n",
              "      <td>...</td>\n",
              "      <td>0.4988</td>\n",
              "      <td>0.0143</td>\n",
              "      <td>0.0039</td>\n",
              "      <td>2.8669</td>\n",
              "      <td>0.0068</td>\n",
              "      <td>0.0138</td>\n",
              "      <td>0.0047</td>\n",
              "      <td>203.1720</td>\n",
              "      <td>-1</td>\n",
              "      <td>16/10/2008 15:13:00</td>\n",
              "    </tr>\n",
              "    <tr>\n",
              "      <th>1564</th>\n",
              "      <td>3052.31</td>\n",
              "      <td>2522.55</td>\n",
              "      <td>2198.5667</td>\n",
              "      <td>1124.6595</td>\n",
              "      <td>0.8763</td>\n",
              "      <td>98.4689</td>\n",
              "      <td>0.1205</td>\n",
              "      <td>1.4333</td>\n",
              "      <td>-0.0061</td>\n",
              "      <td>-0.0093</td>\n",
              "      <td>...</td>\n",
              "      <td>0.4975</td>\n",
              "      <td>0.0131</td>\n",
              "      <td>0.0036</td>\n",
              "      <td>2.6238</td>\n",
              "      <td>0.0068</td>\n",
              "      <td>0.0138</td>\n",
              "      <td>0.0047</td>\n",
              "      <td>203.1720</td>\n",
              "      <td>-1</td>\n",
              "      <td>16/10/2008 20:49:00</td>\n",
              "    </tr>\n",
              "    <tr>\n",
              "      <th>1565</th>\n",
              "      <td>2978.81</td>\n",
              "      <td>2379.78</td>\n",
              "      <td>2206.3000</td>\n",
              "      <td>1110.4967</td>\n",
              "      <td>0.8236</td>\n",
              "      <td>99.4122</td>\n",
              "      <td>0.1208</td>\n",
              "      <td>1.4333</td>\n",
              "      <td>-0.0061</td>\n",
              "      <td>-0.0093</td>\n",
              "      <td>...</td>\n",
              "      <td>0.4987</td>\n",
              "      <td>0.0153</td>\n",
              "      <td>0.0041</td>\n",
              "      <td>3.0590</td>\n",
              "      <td>0.0197</td>\n",
              "      <td>0.0086</td>\n",
              "      <td>0.0025</td>\n",
              "      <td>43.5231</td>\n",
              "      <td>-1</td>\n",
              "      <td>17/10/2008 05:26:00</td>\n",
              "    </tr>\n",
              "    <tr>\n",
              "      <th>1566</th>\n",
              "      <td>2894.92</td>\n",
              "      <td>2532.01</td>\n",
              "      <td>2177.0333</td>\n",
              "      <td>1183.7287</td>\n",
              "      <td>1.5726</td>\n",
              "      <td>98.7978</td>\n",
              "      <td>0.1213</td>\n",
              "      <td>1.4622</td>\n",
              "      <td>-0.0072</td>\n",
              "      <td>0.0032</td>\n",
              "      <td>...</td>\n",
              "      <td>0.5004</td>\n",
              "      <td>0.0178</td>\n",
              "      <td>0.0038</td>\n",
              "      <td>3.5662</td>\n",
              "      <td>0.0262</td>\n",
              "      <td>0.0245</td>\n",
              "      <td>0.0075</td>\n",
              "      <td>93.4941</td>\n",
              "      <td>-1</td>\n",
              "      <td>17/10/2008 06:01:00</td>\n",
              "    </tr>\n",
              "    <tr>\n",
              "      <th>1567</th>\n",
              "      <td>2944.92</td>\n",
              "      <td>2450.76</td>\n",
              "      <td>2195.4444</td>\n",
              "      <td>2914.1792</td>\n",
              "      <td>1.5978</td>\n",
              "      <td>85.1011</td>\n",
              "      <td>0.1235</td>\n",
              "      <td>1.4622</td>\n",
              "      <td>-0.0072</td>\n",
              "      <td>0.0032</td>\n",
              "      <td>...</td>\n",
              "      <td>0.4987</td>\n",
              "      <td>0.0181</td>\n",
              "      <td>0.0040</td>\n",
              "      <td>3.6275</td>\n",
              "      <td>0.0117</td>\n",
              "      <td>0.0162</td>\n",
              "      <td>0.0045</td>\n",
              "      <td>137.7844</td>\n",
              "      <td>-1</td>\n",
              "      <td>17/10/2008 06:07:00</td>\n",
              "    </tr>\n",
              "  </tbody>\n",
              "</table>\n",
              "<p>1567 rows × 476 columns</p>\n",
              "</div>\n",
              "      <button class=\"colab-df-convert\" onclick=\"convertToInteractive('df-0a4078b6-92af-45c4-aebc-f4fba41b717b')\"\n",
              "              title=\"Convert this dataframe to an interactive table.\"\n",
              "              style=\"display:none;\">\n",
              "        \n",
              "  <svg xmlns=\"http://www.w3.org/2000/svg\" height=\"24px\"viewBox=\"0 0 24 24\"\n",
              "       width=\"24px\">\n",
              "    <path d=\"M0 0h24v24H0V0z\" fill=\"none\"/>\n",
              "    <path d=\"M18.56 5.44l.94 2.06.94-2.06 2.06-.94-2.06-.94-.94-2.06-.94 2.06-2.06.94zm-11 1L8.5 8.5l.94-2.06 2.06-.94-2.06-.94L8.5 2.5l-.94 2.06-2.06.94zm10 10l.94 2.06.94-2.06 2.06-.94-2.06-.94-.94-2.06-.94 2.06-2.06.94z\"/><path d=\"M17.41 7.96l-1.37-1.37c-.4-.4-.92-.59-1.43-.59-.52 0-1.04.2-1.43.59L10.3 9.45l-7.72 7.72c-.78.78-.78 2.05 0 2.83L4 21.41c.39.39.9.59 1.41.59.51 0 1.02-.2 1.41-.59l7.78-7.78 2.81-2.81c.8-.78.8-2.07 0-2.86zM5.41 20L4 18.59l7.72-7.72 1.47 1.35L5.41 20z\"/>\n",
              "  </svg>\n",
              "      </button>\n",
              "      \n",
              "  <style>\n",
              "    .colab-df-container {\n",
              "      display:flex;\n",
              "      flex-wrap:wrap;\n",
              "      gap: 12px;\n",
              "    }\n",
              "\n",
              "    .colab-df-convert {\n",
              "      background-color: #E8F0FE;\n",
              "      border: none;\n",
              "      border-radius: 50%;\n",
              "      cursor: pointer;\n",
              "      display: none;\n",
              "      fill: #1967D2;\n",
              "      height: 32px;\n",
              "      padding: 0 0 0 0;\n",
              "      width: 32px;\n",
              "    }\n",
              "\n",
              "    .colab-df-convert:hover {\n",
              "      background-color: #E2EBFA;\n",
              "      box-shadow: 0px 1px 2px rgba(60, 64, 67, 0.3), 0px 1px 3px 1px rgba(60, 64, 67, 0.15);\n",
              "      fill: #174EA6;\n",
              "    }\n",
              "\n",
              "    [theme=dark] .colab-df-convert {\n",
              "      background-color: #3B4455;\n",
              "      fill: #D2E3FC;\n",
              "    }\n",
              "\n",
              "    [theme=dark] .colab-df-convert:hover {\n",
              "      background-color: #434B5C;\n",
              "      box-shadow: 0px 1px 3px 1px rgba(0, 0, 0, 0.15);\n",
              "      filter: drop-shadow(0px 1px 2px rgba(0, 0, 0, 0.3));\n",
              "      fill: #FFFFFF;\n",
              "    }\n",
              "  </style>\n",
              "\n",
              "      <script>\n",
              "        const buttonEl =\n",
              "          document.querySelector('#df-0a4078b6-92af-45c4-aebc-f4fba41b717b button.colab-df-convert');\n",
              "        buttonEl.style.display =\n",
              "          google.colab.kernel.accessAllowed ? 'block' : 'none';\n",
              "\n",
              "        async function convertToInteractive(key) {\n",
              "          const element = document.querySelector('#df-0a4078b6-92af-45c4-aebc-f4fba41b717b');\n",
              "          const dataTable =\n",
              "            await google.colab.kernel.invokeFunction('convertToInteractive',\n",
              "                                                     [key], {});\n",
              "          if (!dataTable) return;\n",
              "\n",
              "          const docLinkHtml = 'Like what you see? Visit the ' +\n",
              "            '<a target=\"_blank\" href=https://colab.research.google.com/notebooks/data_table.ipynb>data table notebook</a>'\n",
              "            + ' to learn more about interactive tables.';\n",
              "          element.innerHTML = '';\n",
              "          dataTable['output_type'] = 'display_data';\n",
              "          await google.colab.output.renderOutput(dataTable, element);\n",
              "          const docLink = document.createElement('div');\n",
              "          docLink.innerHTML = docLinkHtml;\n",
              "          element.appendChild(docLink);\n",
              "        }\n",
              "      </script>\n",
              "    </div>\n",
              "  </div>\n",
              "  "
            ]
          },
          "metadata": {},
          "execution_count": 8
        }
      ]
    },
    {
      "cell_type": "markdown",
      "source": [
        "因為這個資料集是 product line 的資料集，且從欄位中可以看出時間順序，所以我採用填補\"最近\"的資料來處理 missing value\n",
        "\n",
        "Note:\n",
        "\n",
        "基本上就是用上一筆資料來填補 missing value，只有第一筆資料是用下一筆資料來填補，因為她沒有上一筆"
      ],
      "metadata": {
        "id": "kPtAadBml_bj"
      }
    },
    {
      "cell_type": "code",
      "source": [
        "x = clear_df.drop([\"Label\", \"Time\"], axis=1)\n",
        "y = clear_df[\"Label\"]\n",
        "split_rate = 0.9\n",
        "split_point = round(len(x)*split_rate)\n",
        "\n",
        "### 因為有時間序列，所以照著時間切割 ###\n",
        "x_train = x[0: split_point]\n",
        "x_test = x[split_point:]\n",
        "y_train = y[0: split_point]\n",
        "y_test = y[split_point:]"
      ],
      "metadata": {
        "id": "OuX-_K2jxbDv"
      },
      "execution_count": null,
      "outputs": []
    },
    {
      "cell_type": "code",
      "source": [
        "from sklearn import tree\n",
        "clf = tree.DecisionTreeClassifier()\n",
        "clf = clf.fit(x_train, y_train)"
      ],
      "metadata": {
        "id": "UGrYHbK-y0Xh"
      },
      "execution_count": null,
      "outputs": []
    },
    {
      "cell_type": "code",
      "source": [
        "from sklearn.model_selection import cross_val_score\n",
        "\n",
        "accu_scores = cross_val_score(clf, x_train, y_train, cv=10)\n",
        "f1_scores = cross_val_score(clf, x_train, y_train, cv=10, scoring='f1')\n",
        "print(\"Accuracy metrics:\", accu_scores)\n",
        "print(\"F1 Metrics:\", f1_scores)"
      ],
      "metadata": {
        "colab": {
          "base_uri": "https://localhost:8080/"
        },
        "id": "5N_IdQS2y3gx",
        "outputId": "65248fa8-f15e-4ba0-a651-7831de1264f9"
      },
      "execution_count": null,
      "outputs": [
        {
          "output_type": "stream",
          "name": "stdout",
          "text": [
            "Accuracy metrics: [0.63120567 0.62411348 0.74468085 0.85815603 0.87943262 0.75886525\n",
            " 0.84397163 0.87943262 0.86524823 0.88652482]\n",
            "F1 Metrics: [0.17391304 0.0754717  0.09090909 0.09090909 0.125      0.13333333\n",
            " 0.         0.08       0.         0.        ]\n"
          ]
        }
      ]
    },
    {
      "cell_type": "markdown",
      "source": [
        "這部分是題目要求的 Accuracy 和 F1 Score，因為用 10-fold 所以會有多個數值\n",
        "\n",
        "若是只想要一個數值也可以取平均"
      ],
      "metadata": {
        "id": "S8Ii6-AslTlZ"
      }
    },
    {
      "cell_type": "code",
      "source": [
        "cross_val_score(clf, x_train, y_train, cv=10, scoring='precision')"
      ],
      "metadata": {
        "colab": {
          "base_uri": "https://localhost:8080/"
        },
        "id": "9r3yaly4lGrQ",
        "outputId": "8046239a-f50f-4588-9854-6a220180a770"
      },
      "execution_count": null,
      "outputs": [
        {
          "output_type": "execute_result",
          "data": {
            "text/plain": [
              "array([0.14035088, 0.09090909, 0.07407407, 0.        , 0.        ,\n",
              "       0.04545455, 0.06666667, 0.125     , 0.14285714, 0.28571429])"
            ]
          },
          "metadata": {},
          "execution_count": 12
        }
      ]
    },
    {
      "cell_type": "code",
      "source": [
        "cross_val_score(clf, x_train, y_train, cv=10, scoring='recall')"
      ],
      "metadata": {
        "colab": {
          "base_uri": "https://localhost:8080/"
        },
        "id": "dsT-G_bmlKQh",
        "outputId": "baff5185-ecdc-4523-ea68-89950b42d937"
      },
      "execution_count": null,
      "outputs": [
        {
          "output_type": "execute_result",
          "data": {
            "text/plain": [
              "array([0.7       , 0.3       , 0.2       , 0.        , 0.        ,\n",
              "       0.1       , 0.1       , 0.1       , 0.        , 0.09090909])"
            ]
          },
          "metadata": {},
          "execution_count": 13
        }
      ]
    },
    {
      "cell_type": "markdown",
      "source": [
        "這部分是我額外做的分析，從 recall 中可以看出在部分情況下 recall = 0，這常常發生在 data imbalance 的情況下，也就是此資料集的 label 可能不太平衡"
      ],
      "metadata": {
        "id": "V_llYIDQlkJf"
      }
    },
    {
      "cell_type": "code",
      "source": [
        "from sklearn.metrics import auc,roc_auc_score,roc_curve,recall_score,f1_score\n",
        "y_pred = clf.predict(x_train)\n",
        "# Compute ROC metrics:\n",
        "fpr, tpr, thresholds = roc_curve(y_train, y_pred)\n",
        "# Get AUC:\n",
        "roc_auc = auc(fpr,tpr)\n",
        "\n",
        "# Plot ROC:\n",
        "plt.title('ROC Curve')\n",
        "plt.plot(fpr, tpr, label='AUC = %0.2f' % roc_auc)\n",
        "plt.plot([0,1],[0,1],'r--')\n",
        "plt.legend(loc='lower right')\n",
        "plt.ylabel('True Positive Rate')\n",
        "plt.xlabel('False Positive Rate')\n",
        "plt.show()"
      ],
      "metadata": {
        "colab": {
          "base_uri": "https://localhost:8080/",
          "height": 295
        },
        "id": "4gpuZ-Y1t4mT",
        "outputId": "1349feb2-32e6-485d-afc0-d29dc790c1e6"
      },
      "execution_count": null,
      "outputs": [
        {
          "output_type": "display_data",
          "data": {
            "text/plain": [
              "<Figure size 432x288 with 1 Axes>"
            ],
            "image/png": "[encoded data removed]"
          },
          "metadata": {
            "needs_background": "light"
          }
        }
      ]
    },
    {
      "cell_type": "markdown",
      "source": [
        "這個部分是 training data 的 ROC & AUC，可以看出預設的有點過於準確了，可能有 overfitting 的情形，這樣在 testing 中不一定會有成績\n",
        "\n",
        "另外一個可能性就是前面提到的 data imbalance，因為答案過於集中在某一label，導致只要預測此類別準確度就會很高"
      ],
      "metadata": {
        "id": "zUHHEQaZnP74"
      }
    },
    {
      "cell_type": "code",
      "source": [
        "accu_scores = cross_val_score(clf, x_test, y_test, cv=10).mean()\n",
        "f1_scores = cross_val_score(clf, x_test, y_test, cv=10, scoring='f1').mean()\n",
        "recall_scores = cross_val_score(clf, x_test, y_test, cv=10, scoring='recall')\n",
        "print(\"Accuracy mean:\", accu_scores)\n",
        "print(\"F1 mean:\", f1_scores)\n",
        "print(\"Recall mean:\", recall_scores)"
      ],
      "metadata": {
        "colab": {
          "base_uri": "https://localhost:8080/"
        },
        "id": "QFL-mxEYvgcU",
        "outputId": "f6ba1ba5-3c84-47a5-e44e-f16098cba70b"
      },
      "execution_count": null,
      "outputs": [
        {
          "output_type": "stream",
          "name": "stderr",
          "text": [
            "/usr/local/lib/python3.7/dist-packages/sklearn/model_selection/_split.py:680: UserWarning: The least populated class in y has only 3 members, which is less than n_splits=10.\n",
            "  UserWarning,\n",
            "/usr/local/lib/python3.7/dist-packages/sklearn/model_selection/_split.py:680: UserWarning: The least populated class in y has only 3 members, which is less than n_splits=10.\n",
            "  UserWarning,\n",
            "/usr/local/lib/python3.7/dist-packages/sklearn/metrics/_classification.py:1580: UndefinedMetricWarning: F-score is ill-defined and being set to 0.0 due to no true nor predicted samples. Use `zero_division` parameter to control this behavior.\n",
            "  _warn_prf(average, \"true nor predicted\", \"F-score is\", len(true_sum))\n",
            "/usr/local/lib/python3.7/dist-packages/sklearn/metrics/_classification.py:1580: UndefinedMetricWarning: F-score is ill-defined and being set to 0.0 due to no true nor predicted samples. Use `zero_division` parameter to control this behavior.\n",
            "  _warn_prf(average, \"true nor predicted\", \"F-score is\", len(true_sum))\n",
            "/usr/local/lib/python3.7/dist-packages/sklearn/metrics/_classification.py:1580: UndefinedMetricWarning: F-score is ill-defined and being set to 0.0 due to no true nor predicted samples. Use `zero_division` parameter to control this behavior.\n",
            "  _warn_prf(average, \"true nor predicted\", \"F-score is\", len(true_sum))\n",
            "/usr/local/lib/python3.7/dist-packages/sklearn/metrics/_classification.py:1580: UndefinedMetricWarning: F-score is ill-defined and being set to 0.0 due to no true nor predicted samples. Use `zero_division` parameter to control this behavior.\n",
            "  _warn_prf(average, \"true nor predicted\", \"F-score is\", len(true_sum))\n",
            "/usr/local/lib/python3.7/dist-packages/sklearn/metrics/_classification.py:1580: UndefinedMetricWarning: F-score is ill-defined and being set to 0.0 due to no true nor predicted samples. Use `zero_division` parameter to control this behavior.\n",
            "  _warn_prf(average, \"true nor predicted\", \"F-score is\", len(true_sum))\n",
            "/usr/local/lib/python3.7/dist-packages/sklearn/metrics/_classification.py:1580: UndefinedMetricWarning: F-score is ill-defined and being set to 0.0 due to no true nor predicted samples. Use `zero_division` parameter to control this behavior.\n",
            "  _warn_prf(average, \"true nor predicted\", \"F-score is\", len(true_sum))\n",
            "/usr/local/lib/python3.7/dist-packages/sklearn/model_selection/_split.py:680: UserWarning: The least populated class in y has only 3 members, which is less than n_splits=10.\n",
            "  UserWarning,\n",
            "/usr/local/lib/python3.7/dist-packages/sklearn/metrics/_classification.py:1318: UndefinedMetricWarning: Recall is ill-defined and being set to 0.0 due to no true samples. Use `zero_division` parameter to control this behavior.\n",
            "  _warn_prf(average, modifier, msg_start, len(result))\n",
            "/usr/local/lib/python3.7/dist-packages/sklearn/metrics/_classification.py:1318: UndefinedMetricWarning: Recall is ill-defined and being set to 0.0 due to no true samples. Use `zero_division` parameter to control this behavior.\n",
            "  _warn_prf(average, modifier, msg_start, len(result))\n",
            "/usr/local/lib/python3.7/dist-packages/sklearn/metrics/_classification.py:1318: UndefinedMetricWarning: Recall is ill-defined and being set to 0.0 due to no true samples. Use `zero_division` parameter to control this behavior.\n",
            "  _warn_prf(average, modifier, msg_start, len(result))\n",
            "/usr/local/lib/python3.7/dist-packages/sklearn/metrics/_classification.py:1318: UndefinedMetricWarning: Recall is ill-defined and being set to 0.0 due to no true samples. Use `zero_division` parameter to control this behavior.\n",
            "  _warn_prf(average, modifier, msg_start, len(result))\n",
            "/usr/local/lib/python3.7/dist-packages/sklearn/metrics/_classification.py:1318: UndefinedMetricWarning: Recall is ill-defined and being set to 0.0 due to no true samples. Use `zero_division` parameter to control this behavior.\n",
            "  _warn_prf(average, modifier, msg_start, len(result))\n"
          ]
        },
        {
          "output_type": "stream",
          "name": "stdout",
          "text": [
            "Accuracy mean: 0.975\n",
            "F1 mean: 0.0\n",
            "Recall mean: [0. 0. 0. 0. 0. 0. 0. 0. 0. 0.]\n"
          ]
        },
        {
          "output_type": "stream",
          "name": "stderr",
          "text": [
            "/usr/local/lib/python3.7/dist-packages/sklearn/metrics/_classification.py:1318: UndefinedMetricWarning: Recall is ill-defined and being set to 0.0 due to no true samples. Use `zero_division` parameter to control this behavior.\n",
            "  _warn_prf(average, modifier, msg_start, len(result))\n",
            "/usr/local/lib/python3.7/dist-packages/sklearn/metrics/_classification.py:1318: UndefinedMetricWarning: Recall is ill-defined and being set to 0.0 due to no true samples. Use `zero_division` parameter to control this behavior.\n",
            "  _warn_prf(average, modifier, msg_start, len(result))\n"
          ]
        }
      ]
    },
    {
      "cell_type": "markdown",
      "source": [
        "在這裡我直接將各項指標取平均，用以方便查看模型效能\n",
        "\n",
        "這裡可以看出 recall == 0 造成 F1 score 變成 undefined，這常常是不平衡資料即會出現的現象"
      ],
      "metadata": {
        "id": "xIxzyQJswg11"
      }
    },
    {
      "cell_type": "code",
      "source": [
        "from sklearn.metrics import auc,roc_auc_score,roc_curve,recall_score,f1_score\n",
        "y_pred = clf.predict(x_test)\n",
        "# Compute ROC metrics:\n",
        "fpr, tpr, thresholds = roc_curve(y_test, y_pred)\n",
        "# Get AUC:\n",
        "roc_auc = auc(fpr,tpr)\n",
        "\n",
        "# Plot ROC:\n",
        "plt.title('ROC Curve')\n",
        "plt.plot(fpr, tpr, label='AUC = %0.2f' % roc_auc)\n",
        "plt.plot([0,1],[0,1],'r--')\n",
        "plt.legend(loc='lower right')\n",
        "plt.ylabel('True Positive Rate')\n",
        "plt.xlabel('False Positive Rate')\n",
        "plt.show()"
      ],
      "metadata": {
        "colab": {
          "base_uri": "https://localhost:8080/",
          "height": 295
        },
        "id": "rkC6m9X7zeV2",
        "outputId": "c60fd02b-1eda-4cf7-e489-f87cfcf36c8a"
      },
      "execution_count": null,
      "outputs": [
        {
          "output_type": "display_data",
          "data": {
            "text/plain": [
              "<Figure size 432x288 with 1 Axes>"
            ],
            "image/png": "[encoded data removed]"
          },
          "metadata": {
            "needs_background": "light"
          }
        }
      ]
    },
    {
      "cell_type": "markdown",
      "source": [
        "在 Testing 中果然 AUC 就下降至 0.48，由此可見這個 training 還存在一些問題要修正"
      ],
      "metadata": {
        "id": "wqn4X0-rnf_Q"
      }
    },
    {
      "cell_type": "code",
      "source": [
        "y_train.value_counts()"
      ],
      "metadata": {
        "colab": {
          "base_uri": "https://localhost:8080/"
        },
        "id": "3T8MkESapDtp",
        "outputId": "ddf7c6e9-d8a4-4069-e1e0-f03762252b8b"
      },
      "execution_count": null,
      "outputs": [
        {
          "output_type": "execute_result",
          "data": {
            "text/plain": [
              "-1    1309\n",
              " 1     101\n",
              "Name: Label, dtype: int64"
            ]
          },
          "metadata": {},
          "execution_count": 22
        }
      ]
    },
    {
      "cell_type": "markdown",
      "source": [
        "由此可看出-1、1的比例約為 13 : 1，我們可以嘗試調整 hyper-parameter \"weight\" 來改善模型"
      ],
      "metadata": {
        "id": "T91oEPjOpZN3"
      }
    },
    {
      "cell_type": "code",
      "source": [
        "weight = {-1:1, 1:13} \n",
        "clf = tree.DecisionTreeClassifier(class_weight=weight)\n",
        "clf = clf.fit(x_train, y_train)"
      ],
      "metadata": {
        "id": "t8R0jAusplD3"
      },
      "execution_count": null,
      "outputs": []
    },
    {
      "cell_type": "code",
      "source": [
        "y_pred = clf.predict(x_test)\n",
        "# Compute ROC metrics:\n",
        "fpr, tpr, thresholds = roc_curve(y_test, y_pred)\n",
        "# Get AUC:\n",
        "roc_auc = auc(fpr,tpr)\n",
        "\n",
        "# Plot ROC:\n",
        "plt.title('ROC Curve')\n",
        "plt.plot(fpr, tpr, label='AUC = %0.2f' % roc_auc)\n",
        "plt.plot([0,1],[0,1],'r--')\n",
        "plt.legend(loc='lower right')\n",
        "plt.ylabel('True Positive Rate')\n",
        "plt.xlabel('False Positive Rate')\n",
        "plt.show()"
      ],
      "metadata": {
        "colab": {
          "base_uri": "https://localhost:8080/",
          "height": 295
        },
        "id": "YEOH8eTDp6fQ",
        "outputId": "fe75bec5-1e2b-4eda-ed89-756faf445639"
      },
      "execution_count": null,
      "outputs": [
        {
          "output_type": "display_data",
          "data": {
            "text/plain": [
              "<Figure size 432x288 with 1 Axes>"
            ],
            "image/png": "[encoded data removed]"
          },
          "metadata": {
            "needs_background": "light"
          }
        }
      ]
    },
    {
      "cell_type": "markdown",
      "source": [
        "調整 weight 之後的確有讓 testing AUC 提升，但仍沒有顯著提升\n",
        "\n",
        "在此次實驗中我調整的 Hyper-parameter 只有 weight，因為目前只分析出 data imbalance 的部分，所以其他 Hyper-parameter 沒有改變"
      ],
      "metadata": {
        "id": "2jfQpMAYqoVP"
      }
    },
    {
      "cell_type": "markdown",
      "source": [
        "Ref: https://www.kaggle.com/code/kev8484/auc-0-97-cross-validated-f1-scores/notebook\n"
      ],
      "metadata": {
        "id": "zw5NWwxvvVLZ"
      }
    },
    {
      "cell_type": "markdown",
      "source": [
        "# 1-(d) (5%) Suggest a method to address the data imbalance issue. Build a new balanced dataset. (hint: undersampling or oversampling)"
      ],
      "metadata": {
        "id": "Kz5OLyvPcVUZ"
      }
    },
    {
      "cell_type": "code",
      "source": [
        "from imblearn.over_sampling import SMOTE\n",
        "x_train_bal, y_train_bal = SMOTE(random_state=42).fit_resample(x_train, y_train)\n",
        "y_train_bal.value_counts()"
      ],
      "metadata": {
        "colab": {
          "base_uri": "https://localhost:8080/"
        },
        "id": "rFay74qWtUIO",
        "outputId": "893eafda-bb25-4a7e-b6f2-4f39b2c7eb17"
      },
      "execution_count": null,
      "outputs": [
        {
          "output_type": "execute_result",
          "data": {
            "text/plain": [
              "-1    1309\n",
              " 1    1309\n",
              "Name: Label, dtype: int64"
            ]
          },
          "metadata": {},
          "execution_count": 19
        }
      ]
    },
    {
      "cell_type": "markdown",
      "source": [
        "在這裡我選擇使用 oversampling 中的 SMOTE(Synthetic Minority Oversampling Technique) 他有改善一些最基本 oversampling 的方式，通常效果會比較好\n",
        "\n",
        "由上述結果可看出，現在兩種 label 的數量就相同了"
      ],
      "metadata": {
        "id": "KbaXVQPouFnl"
      }
    },
    {
      "cell_type": "markdown",
      "source": [
        "# 1-(e) (5%) Based on the balanced dataset, use the classification and regression tree (CART) to analyze the balanced dataset. Show the classification results by 10-fold cross validation with several metrics (eg. accuracy, area under ROC curve (AUC), and F1-score), and also list the hyperparameters you adjust."
      ],
      "metadata": {
        "id": "xPPCKwmZcXiy"
      }
    },
    {
      "cell_type": "code",
      "source": [
        "clf = tree.DecisionTreeClassifier()\n",
        "clf = clf.fit(x_train_bal, y_train_bal)"
      ],
      "metadata": {
        "id": "muKKpF32ua4n"
      },
      "execution_count": null,
      "outputs": []
    },
    {
      "cell_type": "code",
      "source": [
        "accu_scores = cross_val_score(clf, x_test, y_test, cv=10).mean()\n",
        "f1_scores = cross_val_score(clf, x_test, y_test, cv=10, scoring='f1').mean()\n",
        "recall_scores = cross_val_score(clf, x_test, y_test, cv=10, scoring='recall')\n",
        "print(\"Accuracy mean:\", accu_scores)\n",
        "print(\"F1 mean:\", f1_scores)\n",
        "print(\"Recall mean:\", recall_scores)"
      ],
      "metadata": {
        "colab": {
          "base_uri": "https://localhost:8080/"
        },
        "id": "Giyzi12sxcte",
        "outputId": "a73f0ec8-8b93-4abe-e784-3c6bc8607d55"
      },
      "execution_count": null,
      "outputs": [
        {
          "output_type": "stream",
          "name": "stderr",
          "text": [
            "/usr/local/lib/python3.7/dist-packages/sklearn/model_selection/_split.py:680: UserWarning: The least populated class in y has only 3 members, which is less than n_splits=10.\n",
            "  UserWarning,\n",
            "/usr/local/lib/python3.7/dist-packages/sklearn/model_selection/_split.py:680: UserWarning: The least populated class in y has only 3 members, which is less than n_splits=10.\n",
            "  UserWarning,\n",
            "/usr/local/lib/python3.7/dist-packages/sklearn/metrics/_classification.py:1580: UndefinedMetricWarning: F-score is ill-defined and being set to 0.0 due to no true nor predicted samples. Use `zero_division` parameter to control this behavior.\n",
            "  _warn_prf(average, \"true nor predicted\", \"F-score is\", len(true_sum))\n",
            "/usr/local/lib/python3.7/dist-packages/sklearn/metrics/_classification.py:1580: UndefinedMetricWarning: F-score is ill-defined and being set to 0.0 due to no true nor predicted samples. Use `zero_division` parameter to control this behavior.\n",
            "  _warn_prf(average, \"true nor predicted\", \"F-score is\", len(true_sum))\n",
            "/usr/local/lib/python3.7/dist-packages/sklearn/metrics/_classification.py:1580: UndefinedMetricWarning: F-score is ill-defined and being set to 0.0 due to no true nor predicted samples. Use `zero_division` parameter to control this behavior.\n",
            "  _warn_prf(average, \"true nor predicted\", \"F-score is\", len(true_sum))\n",
            "/usr/local/lib/python3.7/dist-packages/sklearn/metrics/_classification.py:1580: UndefinedMetricWarning: F-score is ill-defined and being set to 0.0 due to no true nor predicted samples. Use `zero_division` parameter to control this behavior.\n",
            "  _warn_prf(average, \"true nor predicted\", \"F-score is\", len(true_sum))\n",
            "/usr/local/lib/python3.7/dist-packages/sklearn/metrics/_classification.py:1580: UndefinedMetricWarning: F-score is ill-defined and being set to 0.0 due to no true nor predicted samples. Use `zero_division` parameter to control this behavior.\n",
            "  _warn_prf(average, \"true nor predicted\", \"F-score is\", len(true_sum))\n",
            "/usr/local/lib/python3.7/dist-packages/sklearn/metrics/_classification.py:1580: UndefinedMetricWarning: F-score is ill-defined and being set to 0.0 due to no true nor predicted samples. Use `zero_division` parameter to control this behavior.\n",
            "  _warn_prf(average, \"true nor predicted\", \"F-score is\", len(true_sum))\n",
            "/usr/local/lib/python3.7/dist-packages/sklearn/model_selection/_split.py:680: UserWarning: The least populated class in y has only 3 members, which is less than n_splits=10.\n",
            "  UserWarning,\n",
            "/usr/local/lib/python3.7/dist-packages/sklearn/metrics/_classification.py:1318: UndefinedMetricWarning: Recall is ill-defined and being set to 0.0 due to no true samples. Use `zero_division` parameter to control this behavior.\n",
            "  _warn_prf(average, modifier, msg_start, len(result))\n",
            "/usr/local/lib/python3.7/dist-packages/sklearn/metrics/_classification.py:1318: UndefinedMetricWarning: Recall is ill-defined and being set to 0.0 due to no true samples. Use `zero_division` parameter to control this behavior.\n",
            "  _warn_prf(average, modifier, msg_start, len(result))\n",
            "/usr/local/lib/python3.7/dist-packages/sklearn/metrics/_classification.py:1318: UndefinedMetricWarning: Recall is ill-defined and being set to 0.0 due to no true samples. Use `zero_division` parameter to control this behavior.\n",
            "  _warn_prf(average, modifier, msg_start, len(result))\n",
            "/usr/local/lib/python3.7/dist-packages/sklearn/metrics/_classification.py:1318: UndefinedMetricWarning: Recall is ill-defined and being set to 0.0 due to no true samples. Use `zero_division` parameter to control this behavior.\n",
            "  _warn_prf(average, modifier, msg_start, len(result))\n"
          ]
        },
        {
          "output_type": "stream",
          "name": "stdout",
          "text": [
            "Accuracy mean: 0.96875\n",
            "F1 mean: 0.0\n",
            "Recall mean: [0. 0. 0. 0. 0. 0. 0. 0. 0. 0.]\n"
          ]
        },
        {
          "output_type": "stream",
          "name": "stderr",
          "text": [
            "/usr/local/lib/python3.7/dist-packages/sklearn/metrics/_classification.py:1318: UndefinedMetricWarning: Recall is ill-defined and being set to 0.0 due to no true samples. Use `zero_division` parameter to control this behavior.\n",
            "  _warn_prf(average, modifier, msg_start, len(result))\n",
            "/usr/local/lib/python3.7/dist-packages/sklearn/metrics/_classification.py:1318: UndefinedMetricWarning: Recall is ill-defined and being set to 0.0 due to no true samples. Use `zero_division` parameter to control this behavior.\n",
            "  _warn_prf(average, modifier, msg_start, len(result))\n",
            "/usr/local/lib/python3.7/dist-packages/sklearn/metrics/_classification.py:1318: UndefinedMetricWarning: Recall is ill-defined and being set to 0.0 due to no true samples. Use `zero_division` parameter to control this behavior.\n",
            "  _warn_prf(average, modifier, msg_start, len(result))\n"
          ]
        }
      ]
    },
    {
      "cell_type": "markdown",
      "source": [
        "看起來 oversampling 仍然沒有解決問題，accuracy 下降至 0.96875，且 F1 score 的問題仍然沒有解決"
      ],
      "metadata": {
        "id": "Vjr_Cr2-xfO9"
      }
    },
    {
      "cell_type": "code",
      "source": [
        "y_pred = clf.predict(x_test)\n",
        "# Compute ROC metrics:\n",
        "fpr, tpr, thresholds = roc_curve(y_test, y_pred)\n",
        "# Get AUC:\n",
        "roc_auc = auc(fpr,tpr)\n",
        "\n",
        "# Plot ROC:\n",
        "plt.title('ROC Curve')\n",
        "plt.plot(fpr, tpr, label='AUC = %0.2f' % roc_auc)\n",
        "plt.plot([0,1],[0,1],'r--')\n",
        "plt.legend(loc='lower right')\n",
        "plt.ylabel('True Positive Rate')\n",
        "plt.xlabel('False Positive Rate')\n",
        "plt.show()"
      ],
      "metadata": {
        "colab": {
          "base_uri": "https://localhost:8080/",
          "height": 295
        },
        "id": "OoYZZZ-_ue2o",
        "outputId": "33fb4449-fa47-43f9-ee42-5412876716b9"
      },
      "execution_count": null,
      "outputs": [
        {
          "output_type": "display_data",
          "data": {
            "text/plain": [
              "<Figure size 432x288 with 1 Axes>"
            ],
            "image/png": "[encoded data removed]"
          },
          "metadata": {
            "needs_background": "light"
          }
        }
      ]
    },
    {
      "cell_type": "markdown",
      "source": [
        "我們用這個重新訓練的 model 來進行 testing，AUC 居然下降了，我去查了一些資料後發現雖然 oversampling 可以解決資料不平衡的問題，但有時候新增的資料可能不太符合原本的資料，導致預測結果下降。\n",
        "\n",
        "所以其實 google 之後推崇的作法比較像是我一開始使用的調整\"weight\"，畢竟新產生的資料集不一定符合預期，但他們有另一套自己計算 weight 的方式，並非單純直接反比。"
      ],
      "metadata": {
        "id": "KgZn0MHduzGM"
      }
    },
    {
      "cell_type": "markdown",
      "source": [
        "# 1-(f) (5%) Give a comparison between (c) and (e). Any suggestion or insight?"
      ],
      "metadata": {
        "id": "RhF4C7vwcZfS"
      }
    },
    {
      "cell_type": "markdown",
      "source": [
        "結合上述的兩種實驗(我自己多做了 weight 的調整)，可以得到以下的觀察:\n",
        "\n",
        "1. oversampling 的方式不一定能夠解決 data imbalance 的問題，甚至可能使結果更糟糕，主要的原因可能是產生的資料不符合預期，讓 model 學習到錯誤的方向\n",
        "\n",
        "2. 調整 weight 的方式似乎比較能解決 dara imbalance 的問題，但優化的幅度不高\n",
        "\n",
        "\n"
      ],
      "metadata": {
        "id": "lvmssyxtyXvn"
      }
    },
    {
      "cell_type": "markdown",
      "source": [
        "# 1-(g) (5%) Use “Random Forest” to solve both prepared dataset and balanced dataset, respectively. Give a comparison and provide your insight."
      ],
      "metadata": {
        "id": "2stewYUsccTa"
      }
    },
    {
      "cell_type": "code",
      "source": [
        "from sklearn.ensemble import RandomForestClassifier\n",
        "clf = RandomForestClassifier(random_state=0)\n",
        "clf.fit(x_train, y_train)"
      ],
      "metadata": {
        "colab": {
          "base_uri": "https://localhost:8080/"
        },
        "id": "zsksiXIIy-8F",
        "outputId": "5423300c-457c-45b8-ab5a-6fdf459ef7ac"
      },
      "execution_count": null,
      "outputs": [
        {
          "output_type": "execute_result",
          "data": {
            "text/plain": [
              "RandomForestClassifier(random_state=0)"
            ]
          },
          "metadata": {},
          "execution_count": 27
        }
      ]
    },
    {
      "cell_type": "code",
      "source": [
        "accu_scores = cross_val_score(clf, x_test, y_test, cv=10).mean()\n",
        "f1_scores = cross_val_score(clf, x_test, y_test, cv=10, scoring='f1').mean()\n",
        "recall_scores = cross_val_score(clf, x_test, y_test, cv=10, scoring='recall')\n",
        "print(\"Accuracy mean:\", accu_scores)\n",
        "print(\"F1 mean:\", f1_scores)\n",
        "print(\"Recall mean:\", recall_scores)"
      ],
      "metadata": {
        "colab": {
          "base_uri": "https://localhost:8080/"
        },
        "id": "5ujR7KFyzjGk",
        "outputId": "a4d6722b-68f9-48ac-9605-05c8ee139407"
      },
      "execution_count": null,
      "outputs": [
        {
          "output_type": "stream",
          "name": "stderr",
          "text": [
            "/usr/local/lib/python3.7/dist-packages/sklearn/model_selection/_split.py:680: UserWarning: The least populated class in y has only 3 members, which is less than n_splits=10.\n",
            "  UserWarning,\n",
            "/usr/local/lib/python3.7/dist-packages/sklearn/model_selection/_split.py:680: UserWarning: The least populated class in y has only 3 members, which is less than n_splits=10.\n",
            "  UserWarning,\n",
            "/usr/local/lib/python3.7/dist-packages/sklearn/metrics/_classification.py:1580: UndefinedMetricWarning: F-score is ill-defined and being set to 0.0 due to no true nor predicted samples. Use `zero_division` parameter to control this behavior.\n",
            "  _warn_prf(average, \"true nor predicted\", \"F-score is\", len(true_sum))\n",
            "/usr/local/lib/python3.7/dist-packages/sklearn/metrics/_classification.py:1580: UndefinedMetricWarning: F-score is ill-defined and being set to 0.0 due to no true nor predicted samples. Use `zero_division` parameter to control this behavior.\n",
            "  _warn_prf(average, \"true nor predicted\", \"F-score is\", len(true_sum))\n",
            "/usr/local/lib/python3.7/dist-packages/sklearn/metrics/_classification.py:1580: UndefinedMetricWarning: F-score is ill-defined and being set to 0.0 due to no true nor predicted samples. Use `zero_division` parameter to control this behavior.\n",
            "  _warn_prf(average, \"true nor predicted\", \"F-score is\", len(true_sum))\n",
            "/usr/local/lib/python3.7/dist-packages/sklearn/metrics/_classification.py:1580: UndefinedMetricWarning: F-score is ill-defined and being set to 0.0 due to no true nor predicted samples. Use `zero_division` parameter to control this behavior.\n",
            "  _warn_prf(average, \"true nor predicted\", \"F-score is\", len(true_sum))\n",
            "/usr/local/lib/python3.7/dist-packages/sklearn/metrics/_classification.py:1580: UndefinedMetricWarning: F-score is ill-defined and being set to 0.0 due to no true nor predicted samples. Use `zero_division` parameter to control this behavior.\n",
            "  _warn_prf(average, \"true nor predicted\", \"F-score is\", len(true_sum))\n",
            "/usr/local/lib/python3.7/dist-packages/sklearn/metrics/_classification.py:1580: UndefinedMetricWarning: F-score is ill-defined and being set to 0.0 due to no true nor predicted samples. Use `zero_division` parameter to control this behavior.\n",
            "  _warn_prf(average, \"true nor predicted\", \"F-score is\", len(true_sum))\n",
            "/usr/local/lib/python3.7/dist-packages/sklearn/metrics/_classification.py:1580: UndefinedMetricWarning: F-score is ill-defined and being set to 0.0 due to no true nor predicted samples. Use `zero_division` parameter to control this behavior.\n",
            "  _warn_prf(average, \"true nor predicted\", \"F-score is\", len(true_sum))\n",
            "/usr/local/lib/python3.7/dist-packages/sklearn/model_selection/_split.py:680: UserWarning: The least populated class in y has only 3 members, which is less than n_splits=10.\n",
            "  UserWarning,\n",
            "/usr/local/lib/python3.7/dist-packages/sklearn/metrics/_classification.py:1318: UndefinedMetricWarning: Recall is ill-defined and being set to 0.0 due to no true samples. Use `zero_division` parameter to control this behavior.\n",
            "  _warn_prf(average, modifier, msg_start, len(result))\n",
            "/usr/local/lib/python3.7/dist-packages/sklearn/metrics/_classification.py:1318: UndefinedMetricWarning: Recall is ill-defined and being set to 0.0 due to no true samples. Use `zero_division` parameter to control this behavior.\n",
            "  _warn_prf(average, modifier, msg_start, len(result))\n",
            "/usr/local/lib/python3.7/dist-packages/sklearn/metrics/_classification.py:1318: UndefinedMetricWarning: Recall is ill-defined and being set to 0.0 due to no true samples. Use `zero_division` parameter to control this behavior.\n",
            "  _warn_prf(average, modifier, msg_start, len(result))\n",
            "/usr/local/lib/python3.7/dist-packages/sklearn/metrics/_classification.py:1318: UndefinedMetricWarning: Recall is ill-defined and being set to 0.0 due to no true samples. Use `zero_division` parameter to control this behavior.\n",
            "  _warn_prf(average, modifier, msg_start, len(result))\n",
            "/usr/local/lib/python3.7/dist-packages/sklearn/metrics/_classification.py:1318: UndefinedMetricWarning: Recall is ill-defined and being set to 0.0 due to no true samples. Use `zero_division` parameter to control this behavior.\n",
            "  _warn_prf(average, modifier, msg_start, len(result))\n",
            "/usr/local/lib/python3.7/dist-packages/sklearn/metrics/_classification.py:1318: UndefinedMetricWarning: Recall is ill-defined and being set to 0.0 due to no true samples. Use `zero_division` parameter to control this behavior.\n",
            "  _warn_prf(average, modifier, msg_start, len(result))\n"
          ]
        },
        {
          "output_type": "stream",
          "name": "stdout",
          "text": [
            "Accuracy mean: 0.98125\n",
            "F1 mean: 0.0\n",
            "Recall mean: [0. 0. 0. 0. 0. 0. 0. 0. 0. 0.]\n"
          ]
        },
        {
          "output_type": "stream",
          "name": "stderr",
          "text": [
            "/usr/local/lib/python3.7/dist-packages/sklearn/metrics/_classification.py:1318: UndefinedMetricWarning: Recall is ill-defined and being set to 0.0 due to no true samples. Use `zero_division` parameter to control this behavior.\n",
            "  _warn_prf(average, modifier, msg_start, len(result))\n"
          ]
        }
      ]
    },
    {
      "cell_type": "code",
      "source": [
        "y_pred = clf.predict(x_test)\n",
        "# Compute ROC metrics:\n",
        "fpr, tpr, thresholds = roc_curve(y_test, y_pred)\n",
        "# Get AUC:\n",
        "roc_auc = auc(fpr,tpr)\n",
        "\n",
        "# Plot ROC:\n",
        "plt.title('ROC Curve')\n",
        "plt.plot(fpr, tpr, label='AUC = %0.2f' % roc_auc)\n",
        "plt.plot([0,1],[0,1],'r--')\n",
        "plt.legend(loc='lower right')\n",
        "plt.ylabel('True Positive Rate')\n",
        "plt.xlabel('False Positive Rate')\n",
        "plt.show()"
      ],
      "metadata": {
        "colab": {
          "base_uri": "https://localhost:8080/",
          "height": 295
        },
        "id": "EvdfUSzmzpt9",
        "outputId": "1792d492-4833-4eea-f838-d0306ebedfa6"
      },
      "execution_count": null,
      "outputs": [
        {
          "output_type": "display_data",
          "data": {
            "text/plain": [
              "<Figure size 432x288 with 1 Axes>"
            ],
            "image/png": "[encoded data removed]"
          },
          "metadata": {
            "needs_background": "light"
          }
        }
      ]
    },
    {
      "cell_type": "markdown",
      "source": [
        "### 上述的結果 For imbalance dataset"
      ],
      "metadata": {
        "id": "xQeZPz0uz62k"
      }
    },
    {
      "cell_type": "code",
      "source": [
        "clf = RandomForestClassifier(random_state=0)\n",
        "clf.fit(x_train_bal, y_train_bal)"
      ],
      "metadata": {
        "colab": {
          "base_uri": "https://localhost:8080/"
        },
        "id": "Ah1vzCxSzuSs",
        "outputId": "5e5deb60-9dfc-4d87-d028-6acdfcee9bf0"
      },
      "execution_count": null,
      "outputs": [
        {
          "output_type": "execute_result",
          "data": {
            "text/plain": [
              "RandomForestClassifier(random_state=0)"
            ]
          },
          "metadata": {},
          "execution_count": 30
        }
      ]
    },
    {
      "cell_type": "code",
      "source": [
        "accu_scores = cross_val_score(clf, x_test, y_test, cv=10).mean()\n",
        "f1_scores = cross_val_score(clf, x_test, y_test, cv=10, scoring='f1').mean()\n",
        "recall_scores = cross_val_score(clf, x_test, y_test, cv=10, scoring='recall')\n",
        "print(\"Accuracy mean:\", accu_scores)\n",
        "print(\"F1 mean:\", f1_scores)\n",
        "print(\"Recall mean:\", recall_scores)"
      ],
      "metadata": {
        "colab": {
          "base_uri": "https://localhost:8080/"
        },
        "id": "T8FrxXWfzyPD",
        "outputId": "3bac3f17-6cd6-408d-c7a7-3cb5f042c521"
      },
      "execution_count": null,
      "outputs": [
        {
          "output_type": "stream",
          "name": "stderr",
          "text": [
            "/usr/local/lib/python3.7/dist-packages/sklearn/model_selection/_split.py:680: UserWarning: The least populated class in y has only 3 members, which is less than n_splits=10.\n",
            "  UserWarning,\n",
            "/usr/local/lib/python3.7/dist-packages/sklearn/model_selection/_split.py:680: UserWarning: The least populated class in y has only 3 members, which is less than n_splits=10.\n",
            "  UserWarning,\n",
            "/usr/local/lib/python3.7/dist-packages/sklearn/metrics/_classification.py:1580: UndefinedMetricWarning: F-score is ill-defined and being set to 0.0 due to no true nor predicted samples. Use `zero_division` parameter to control this behavior.\n",
            "  _warn_prf(average, \"true nor predicted\", \"F-score is\", len(true_sum))\n",
            "/usr/local/lib/python3.7/dist-packages/sklearn/metrics/_classification.py:1580: UndefinedMetricWarning: F-score is ill-defined and being set to 0.0 due to no true nor predicted samples. Use `zero_division` parameter to control this behavior.\n",
            "  _warn_prf(average, \"true nor predicted\", \"F-score is\", len(true_sum))\n",
            "/usr/local/lib/python3.7/dist-packages/sklearn/metrics/_classification.py:1580: UndefinedMetricWarning: F-score is ill-defined and being set to 0.0 due to no true nor predicted samples. Use `zero_division` parameter to control this behavior.\n",
            "  _warn_prf(average, \"true nor predicted\", \"F-score is\", len(true_sum))\n",
            "/usr/local/lib/python3.7/dist-packages/sklearn/metrics/_classification.py:1580: UndefinedMetricWarning: F-score is ill-defined and being set to 0.0 due to no true nor predicted samples. Use `zero_division` parameter to control this behavior.\n",
            "  _warn_prf(average, \"true nor predicted\", \"F-score is\", len(true_sum))\n",
            "/usr/local/lib/python3.7/dist-packages/sklearn/metrics/_classification.py:1580: UndefinedMetricWarning: F-score is ill-defined and being set to 0.0 due to no true nor predicted samples. Use `zero_division` parameter to control this behavior.\n",
            "  _warn_prf(average, \"true nor predicted\", \"F-score is\", len(true_sum))\n",
            "/usr/local/lib/python3.7/dist-packages/sklearn/metrics/_classification.py:1580: UndefinedMetricWarning: F-score is ill-defined and being set to 0.0 due to no true nor predicted samples. Use `zero_division` parameter to control this behavior.\n",
            "  _warn_prf(average, \"true nor predicted\", \"F-score is\", len(true_sum))\n",
            "/usr/local/lib/python3.7/dist-packages/sklearn/metrics/_classification.py:1580: UndefinedMetricWarning: F-score is ill-defined and being set to 0.0 due to no true nor predicted samples. Use `zero_division` parameter to control this behavior.\n",
            "  _warn_prf(average, \"true nor predicted\", \"F-score is\", len(true_sum))\n",
            "/usr/local/lib/python3.7/dist-packages/sklearn/model_selection/_split.py:680: UserWarning: The least populated class in y has only 3 members, which is less than n_splits=10.\n",
            "  UserWarning,\n",
            "/usr/local/lib/python3.7/dist-packages/sklearn/metrics/_classification.py:1318: UndefinedMetricWarning: Recall is ill-defined and being set to 0.0 due to no true samples. Use `zero_division` parameter to control this behavior.\n",
            "  _warn_prf(average, modifier, msg_start, len(result))\n",
            "/usr/local/lib/python3.7/dist-packages/sklearn/metrics/_classification.py:1318: UndefinedMetricWarning: Recall is ill-defined and being set to 0.0 due to no true samples. Use `zero_division` parameter to control this behavior.\n",
            "  _warn_prf(average, modifier, msg_start, len(result))\n",
            "/usr/local/lib/python3.7/dist-packages/sklearn/metrics/_classification.py:1318: UndefinedMetricWarning: Recall is ill-defined and being set to 0.0 due to no true samples. Use `zero_division` parameter to control this behavior.\n",
            "  _warn_prf(average, modifier, msg_start, len(result))\n",
            "/usr/local/lib/python3.7/dist-packages/sklearn/metrics/_classification.py:1318: UndefinedMetricWarning: Recall is ill-defined and being set to 0.0 due to no true samples. Use `zero_division` parameter to control this behavior.\n",
            "  _warn_prf(average, modifier, msg_start, len(result))\n",
            "/usr/local/lib/python3.7/dist-packages/sklearn/metrics/_classification.py:1318: UndefinedMetricWarning: Recall is ill-defined and being set to 0.0 due to no true samples. Use `zero_division` parameter to control this behavior.\n",
            "  _warn_prf(average, modifier, msg_start, len(result))\n",
            "/usr/local/lib/python3.7/dist-packages/sklearn/metrics/_classification.py:1318: UndefinedMetricWarning: Recall is ill-defined and being set to 0.0 due to no true samples. Use `zero_division` parameter to control this behavior.\n",
            "  _warn_prf(average, modifier, msg_start, len(result))\n"
          ]
        },
        {
          "output_type": "stream",
          "name": "stdout",
          "text": [
            "Accuracy mean: 0.98125\n",
            "F1 mean: 0.0\n",
            "Recall mean: [0. 0. 0. 0. 0. 0. 0. 0. 0. 0.]\n"
          ]
        },
        {
          "output_type": "stream",
          "name": "stderr",
          "text": [
            "/usr/local/lib/python3.7/dist-packages/sklearn/metrics/_classification.py:1318: UndefinedMetricWarning: Recall is ill-defined and being set to 0.0 due to no true samples. Use `zero_division` parameter to control this behavior.\n",
            "  _warn_prf(average, modifier, msg_start, len(result))\n"
          ]
        }
      ]
    },
    {
      "cell_type": "code",
      "source": [
        "y_pred = clf.predict(x_test)\n",
        "# Compute ROC metrics:\n",
        "fpr, tpr, thresholds = roc_curve(y_test, y_pred)\n",
        "# Get AUC:\n",
        "roc_auc = auc(fpr,tpr)\n",
        "\n",
        "# Plot ROC:\n",
        "plt.title('ROC Curve')\n",
        "plt.plot(fpr, tpr, label='AUC = %0.2f' % roc_auc)\n",
        "plt.plot([0,1],[0,1],'r--')\n",
        "plt.legend(loc='lower right')\n",
        "plt.ylabel('True Positive Rate')\n",
        "plt.xlabel('False Positive Rate')\n",
        "plt.show()"
      ],
      "metadata": {
        "colab": {
          "base_uri": "https://localhost:8080/",
          "height": 295
        },
        "id": "56wnzIpCzzi7",
        "outputId": "003815ce-07ad-4265-9888-1a9a21c61042"
      },
      "execution_count": null,
      "outputs": [
        {
          "output_type": "display_data",
          "data": {
            "text/plain": [
              "<Figure size 432x288 with 1 Axes>"
            ],
            "image/png": "[encoded data removed]"
          },
          "metadata": {
            "needs_background": "light"
          }
        }
      ]
    },
    {
      "cell_type": "markdown",
      "source": [
        "### 上述的結果 For balance dataset"
      ],
      "metadata": {
        "id": "uTzekl3Z0CtV"
      }
    },
    {
      "cell_type": "markdown",
      "source": [
        "觀察此兩種結果，可發現不論是 accuracy、F1 score、AUC，這兩種實驗的分數都一樣，可能是 Random Forest 的能力比較強，不論 Data 是否不平衡，都能得出應有的成效"
      ],
      "metadata": {
        "id": "4eGyIIEw0ENW"
      }
    },
    {
      "cell_type": "markdown",
      "source": [
        "#1-(h) (5%) Use “Gradient Boosting Decision Tree (GBDT)” to solve both prepared dataset and balanced dataset, respectively. Give a comparison and provide your insight."
      ],
      "metadata": {
        "id": "xhGdrGnScd_a"
      }
    },
    {
      "cell_type": "code",
      "source": [
        "from sklearn.ensemble import GradientBoostingClassifier\n",
        "clf = GradientBoostingClassifier(random_state=0).fit(x_train, y_train)\n",
        "clf.fit(x_train, y_train)"
      ],
      "metadata": {
        "id": "JXEez2UmdkGH",
        "colab": {
          "base_uri": "https://localhost:8080/"
        },
        "outputId": "70e487dc-00cf-4c2f-b651-503cb9b2e4a8"
      },
      "execution_count": null,
      "outputs": [
        {
          "output_type": "execute_result",
          "data": {
            "text/plain": [
              "GradientBoostingClassifier(random_state=0)"
            ]
          },
          "metadata": {},
          "execution_count": 33
        }
      ]
    },
    {
      "cell_type": "code",
      "source": [
        "accu_scores = cross_val_score(clf, x_test, y_test, cv=10).mean()\n",
        "f1_scores = cross_val_score(clf, x_test, y_test, cv=10, scoring='f1').mean()\n",
        "recall_scores = cross_val_score(clf, x_test, y_test, cv=10, scoring='recall')\n",
        "print(\"Accuracy mean:\", accu_scores)\n",
        "print(\"F1 mean:\", f1_scores)\n",
        "print(\"Recall mean:\", recall_scores)"
      ],
      "metadata": {
        "colab": {
          "base_uri": "https://localhost:8080/"
        },
        "id": "OCa8OnDN1MmK",
        "outputId": "ad5eb8d6-cc75-4566-ed21-75ba60fbdc14"
      },
      "execution_count": null,
      "outputs": [
        {
          "output_type": "stream",
          "name": "stderr",
          "text": [
            "/usr/local/lib/python3.7/dist-packages/sklearn/model_selection/_split.py:680: UserWarning: The least populated class in y has only 3 members, which is less than n_splits=10.\n",
            "  UserWarning,\n",
            "/usr/local/lib/python3.7/dist-packages/sklearn/model_selection/_split.py:680: UserWarning: The least populated class in y has only 3 members, which is less than n_splits=10.\n",
            "  UserWarning,\n",
            "/usr/local/lib/python3.7/dist-packages/sklearn/metrics/_classification.py:1580: UndefinedMetricWarning: F-score is ill-defined and being set to 0.0 due to no true nor predicted samples. Use `zero_division` parameter to control this behavior.\n",
            "  _warn_prf(average, \"true nor predicted\", \"F-score is\", len(true_sum))\n",
            "/usr/local/lib/python3.7/dist-packages/sklearn/metrics/_classification.py:1580: UndefinedMetricWarning: F-score is ill-defined and being set to 0.0 due to no true nor predicted samples. Use `zero_division` parameter to control this behavior.\n",
            "  _warn_prf(average, \"true nor predicted\", \"F-score is\", len(true_sum))\n",
            "/usr/local/lib/python3.7/dist-packages/sklearn/metrics/_classification.py:1580: UndefinedMetricWarning: F-score is ill-defined and being set to 0.0 due to no true nor predicted samples. Use `zero_division` parameter to control this behavior.\n",
            "  _warn_prf(average, \"true nor predicted\", \"F-score is\", len(true_sum))\n",
            "/usr/local/lib/python3.7/dist-packages/sklearn/metrics/_classification.py:1580: UndefinedMetricWarning: F-score is ill-defined and being set to 0.0 due to no true nor predicted samples. Use `zero_division` parameter to control this behavior.\n",
            "  _warn_prf(average, \"true nor predicted\", \"F-score is\", len(true_sum))\n",
            "/usr/local/lib/python3.7/dist-packages/sklearn/metrics/_classification.py:1580: UndefinedMetricWarning: F-score is ill-defined and being set to 0.0 due to no true nor predicted samples. Use `zero_division` parameter to control this behavior.\n",
            "  _warn_prf(average, \"true nor predicted\", \"F-score is\", len(true_sum))\n",
            "/usr/local/lib/python3.7/dist-packages/sklearn/metrics/_classification.py:1580: UndefinedMetricWarning: F-score is ill-defined and being set to 0.0 due to no true nor predicted samples. Use `zero_division` parameter to control this behavior.\n",
            "  _warn_prf(average, \"true nor predicted\", \"F-score is\", len(true_sum))\n",
            "/usr/local/lib/python3.7/dist-packages/sklearn/model_selection/_split.py:680: UserWarning: The least populated class in y has only 3 members, which is less than n_splits=10.\n",
            "  UserWarning,\n",
            "/usr/local/lib/python3.7/dist-packages/sklearn/metrics/_classification.py:1318: UndefinedMetricWarning: Recall is ill-defined and being set to 0.0 due to no true samples. Use `zero_division` parameter to control this behavior.\n",
            "  _warn_prf(average, modifier, msg_start, len(result))\n",
            "/usr/local/lib/python3.7/dist-packages/sklearn/metrics/_classification.py:1318: UndefinedMetricWarning: Recall is ill-defined and being set to 0.0 due to no true samples. Use `zero_division` parameter to control this behavior.\n",
            "  _warn_prf(average, modifier, msg_start, len(result))\n",
            "/usr/local/lib/python3.7/dist-packages/sklearn/metrics/_classification.py:1318: UndefinedMetricWarning: Recall is ill-defined and being set to 0.0 due to no true samples. Use `zero_division` parameter to control this behavior.\n",
            "  _warn_prf(average, modifier, msg_start, len(result))\n",
            "/usr/local/lib/python3.7/dist-packages/sklearn/metrics/_classification.py:1318: UndefinedMetricWarning: Recall is ill-defined and being set to 0.0 due to no true samples. Use `zero_division` parameter to control this behavior.\n",
            "  _warn_prf(average, modifier, msg_start, len(result))\n",
            "/usr/local/lib/python3.7/dist-packages/sklearn/metrics/_classification.py:1318: UndefinedMetricWarning: Recall is ill-defined and being set to 0.0 due to no true samples. Use `zero_division` parameter to control this behavior.\n",
            "  _warn_prf(average, modifier, msg_start, len(result))\n",
            "/usr/local/lib/python3.7/dist-packages/sklearn/metrics/_classification.py:1318: UndefinedMetricWarning: Recall is ill-defined and being set to 0.0 due to no true samples. Use `zero_division` parameter to control this behavior.\n",
            "  _warn_prf(average, modifier, msg_start, len(result))\n"
          ]
        },
        {
          "output_type": "stream",
          "name": "stdout",
          "text": [
            "Accuracy mean: 0.975\n",
            "F1 mean: 0.0\n",
            "Recall mean: [0. 0. 0. 0. 0. 0. 0. 0. 0. 0.]\n"
          ]
        },
        {
          "output_type": "stream",
          "name": "stderr",
          "text": [
            "/usr/local/lib/python3.7/dist-packages/sklearn/metrics/_classification.py:1318: UndefinedMetricWarning: Recall is ill-defined and being set to 0.0 due to no true samples. Use `zero_division` parameter to control this behavior.\n",
            "  _warn_prf(average, modifier, msg_start, len(result))\n"
          ]
        }
      ]
    },
    {
      "cell_type": "code",
      "source": [
        "y_pred = clf.predict(x_test)\n",
        "# Compute ROC metrics:\n",
        "fpr, tpr, thresholds = roc_curve(y_test, y_pred)\n",
        "# Get AUC:\n",
        "roc_auc = auc(fpr,tpr)\n",
        "\n",
        "# Plot ROC:\n",
        "plt.title('ROC Curve')\n",
        "plt.plot(fpr, tpr, label='AUC = %0.2f' % roc_auc)\n",
        "plt.plot([0,1],[0,1],'r--')\n",
        "plt.legend(loc='lower right')\n",
        "plt.ylabel('True Positive Rate')\n",
        "plt.xlabel('False Positive Rate')\n",
        "plt.show()"
      ],
      "metadata": {
        "colab": {
          "base_uri": "https://localhost:8080/",
          "height": 295
        },
        "id": "KXv2taT_1PXd",
        "outputId": "71483d15-7fa5-4f4f-eb94-f7972ce4a5a8"
      },
      "execution_count": null,
      "outputs": [
        {
          "output_type": "display_data",
          "data": {
            "text/plain": [
              "<Figure size 432x288 with 1 Axes>"
            ],
            "image/png": "[encoded data removed]"
          },
          "metadata": {
            "needs_background": "light"
          }
        }
      ]
    },
    {
      "cell_type": "markdown",
      "source": [
        "### 上述的結果是 For imbalance dataset"
      ],
      "metadata": {
        "id": "nslhxaE11YKV"
      }
    },
    {
      "cell_type": "code",
      "source": [
        "clf = GradientBoostingClassifier(random_state=0).fit(x_train_bal, y_train_bal)\n",
        "clf.fit(x_train_bal, y_train_bal)"
      ],
      "metadata": {
        "colab": {
          "base_uri": "https://localhost:8080/"
        },
        "id": "lVX1gs5y1TmE",
        "outputId": "3eaae330-4102-41d8-c669-aee26e7e304b"
      },
      "execution_count": null,
      "outputs": [
        {
          "output_type": "execute_result",
          "data": {
            "text/plain": [
              "GradientBoostingClassifier(random_state=0)"
            ]
          },
          "metadata": {},
          "execution_count": 36
        }
      ]
    },
    {
      "cell_type": "code",
      "source": [
        "accu_scores = cross_val_score(clf, x_test, y_test, cv=10).mean()\n",
        "f1_scores = cross_val_score(clf, x_test, y_test, cv=10, scoring='f1').mean()\n",
        "recall_scores = cross_val_score(clf, x_test, y_test, cv=10, scoring='recall')\n",
        "print(\"Accuracy mean:\", accu_scores)\n",
        "print(\"F1 mean:\", f1_scores)\n",
        "print(\"Recall mean:\", recall_scores)"
      ],
      "metadata": {
        "colab": {
          "base_uri": "https://localhost:8080/"
        },
        "id": "J2hJok2n1dwt",
        "outputId": "c4a65117-4695-4f7d-e68f-a9b07bfba52a"
      },
      "execution_count": null,
      "outputs": [
        {
          "output_type": "stream",
          "name": "stderr",
          "text": [
            "/usr/local/lib/python3.7/dist-packages/sklearn/model_selection/_split.py:680: UserWarning: The least populated class in y has only 3 members, which is less than n_splits=10.\n",
            "  UserWarning,\n",
            "/usr/local/lib/python3.7/dist-packages/sklearn/model_selection/_split.py:680: UserWarning: The least populated class in y has only 3 members, which is less than n_splits=10.\n",
            "  UserWarning,\n",
            "/usr/local/lib/python3.7/dist-packages/sklearn/metrics/_classification.py:1580: UndefinedMetricWarning: F-score is ill-defined and being set to 0.0 due to no true nor predicted samples. Use `zero_division` parameter to control this behavior.\n",
            "  _warn_prf(average, \"true nor predicted\", \"F-score is\", len(true_sum))\n",
            "/usr/local/lib/python3.7/dist-packages/sklearn/metrics/_classification.py:1580: UndefinedMetricWarning: F-score is ill-defined and being set to 0.0 due to no true nor predicted samples. Use `zero_division` parameter to control this behavior.\n",
            "  _warn_prf(average, \"true nor predicted\", \"F-score is\", len(true_sum))\n",
            "/usr/local/lib/python3.7/dist-packages/sklearn/metrics/_classification.py:1580: UndefinedMetricWarning: F-score is ill-defined and being set to 0.0 due to no true nor predicted samples. Use `zero_division` parameter to control this behavior.\n",
            "  _warn_prf(average, \"true nor predicted\", \"F-score is\", len(true_sum))\n",
            "/usr/local/lib/python3.7/dist-packages/sklearn/metrics/_classification.py:1580: UndefinedMetricWarning: F-score is ill-defined and being set to 0.0 due to no true nor predicted samples. Use `zero_division` parameter to control this behavior.\n",
            "  _warn_prf(average, \"true nor predicted\", \"F-score is\", len(true_sum))\n",
            "/usr/local/lib/python3.7/dist-packages/sklearn/metrics/_classification.py:1580: UndefinedMetricWarning: F-score is ill-defined and being set to 0.0 due to no true nor predicted samples. Use `zero_division` parameter to control this behavior.\n",
            "  _warn_prf(average, \"true nor predicted\", \"F-score is\", len(true_sum))\n",
            "/usr/local/lib/python3.7/dist-packages/sklearn/metrics/_classification.py:1580: UndefinedMetricWarning: F-score is ill-defined and being set to 0.0 due to no true nor predicted samples. Use `zero_division` parameter to control this behavior.\n",
            "  _warn_prf(average, \"true nor predicted\", \"F-score is\", len(true_sum))\n",
            "/usr/local/lib/python3.7/dist-packages/sklearn/model_selection/_split.py:680: UserWarning: The least populated class in y has only 3 members, which is less than n_splits=10.\n",
            "  UserWarning,\n",
            "/usr/local/lib/python3.7/dist-packages/sklearn/metrics/_classification.py:1318: UndefinedMetricWarning: Recall is ill-defined and being set to 0.0 due to no true samples. Use `zero_division` parameter to control this behavior.\n",
            "  _warn_prf(average, modifier, msg_start, len(result))\n",
            "/usr/local/lib/python3.7/dist-packages/sklearn/metrics/_classification.py:1318: UndefinedMetricWarning: Recall is ill-defined and being set to 0.0 due to no true samples. Use `zero_division` parameter to control this behavior.\n",
            "  _warn_prf(average, modifier, msg_start, len(result))\n",
            "/usr/local/lib/python3.7/dist-packages/sklearn/metrics/_classification.py:1318: UndefinedMetricWarning: Recall is ill-defined and being set to 0.0 due to no true samples. Use `zero_division` parameter to control this behavior.\n",
            "  _warn_prf(average, modifier, msg_start, len(result))\n",
            "/usr/local/lib/python3.7/dist-packages/sklearn/metrics/_classification.py:1318: UndefinedMetricWarning: Recall is ill-defined and being set to 0.0 due to no true samples. Use `zero_division` parameter to control this behavior.\n",
            "  _warn_prf(average, modifier, msg_start, len(result))\n",
            "/usr/local/lib/python3.7/dist-packages/sklearn/metrics/_classification.py:1318: UndefinedMetricWarning: Recall is ill-defined and being set to 0.0 due to no true samples. Use `zero_division` parameter to control this behavior.\n",
            "  _warn_prf(average, modifier, msg_start, len(result))\n",
            "/usr/local/lib/python3.7/dist-packages/sklearn/metrics/_classification.py:1318: UndefinedMetricWarning: Recall is ill-defined and being set to 0.0 due to no true samples. Use `zero_division` parameter to control this behavior.\n",
            "  _warn_prf(average, modifier, msg_start, len(result))\n"
          ]
        },
        {
          "output_type": "stream",
          "name": "stdout",
          "text": [
            "Accuracy mean: 0.975\n",
            "F1 mean: 0.0\n",
            "Recall mean: [0. 0. 0. 0. 0. 0. 0. 0. 0. 0.]\n"
          ]
        },
        {
          "output_type": "stream",
          "name": "stderr",
          "text": [
            "/usr/local/lib/python3.7/dist-packages/sklearn/metrics/_classification.py:1318: UndefinedMetricWarning: Recall is ill-defined and being set to 0.0 due to no true samples. Use `zero_division` parameter to control this behavior.\n",
            "  _warn_prf(average, modifier, msg_start, len(result))\n"
          ]
        }
      ]
    },
    {
      "cell_type": "code",
      "source": [
        "y_pred = clf.predict(x_test)\n",
        "# Compute ROC metrics:\n",
        "fpr, tpr, thresholds = roc_curve(y_test, y_pred)\n",
        "# Get AUC:\n",
        "roc_auc = auc(fpr,tpr)\n",
        "\n",
        "# Plot ROC:\n",
        "plt.title('ROC Curve')\n",
        "plt.plot(fpr, tpr, label='AUC = %0.2f' % roc_auc)\n",
        "plt.plot([0,1],[0,1],'r--')\n",
        "plt.legend(loc='lower right')\n",
        "plt.ylabel('True Positive Rate')\n",
        "plt.xlabel('False Positive Rate')\n",
        "plt.show()"
      ],
      "metadata": {
        "colab": {
          "base_uri": "https://localhost:8080/",
          "height": 295
        },
        "id": "jtl6pRzQ1exf",
        "outputId": "ee7390a5-68cd-4219-ebdf-ec9ef96347dc"
      },
      "execution_count": null,
      "outputs": [
        {
          "output_type": "display_data",
          "data": {
            "text/plain": [
              "<Figure size 432x288 with 1 Axes>"
            ],
            "image/png": "[encoded data removed]"
          },
          "metadata": {
            "needs_background": "light"
          }
        }
      ]
    },
    {
      "cell_type": "markdown",
      "source": [
        "### 上述的結果是 For balance dataset"
      ],
      "metadata": {
        "id": "qlo91MsL1hEK"
      }
    },
    {
      "cell_type": "markdown",
      "source": [
        "從上面兩種實驗的結果可以看出，不管 data 是否 balance 的結果都一樣，只有 balance dataset 的 AUC 多了 0.01，但是這完全可以當作誤差。\n",
        "\n",
        "綜合以上幾種觀察我認為沒有單一模型可以直接處理這種 Imbalance 的情形，當然可能是資料的處理還不夠乾淨，或是 oversampling 的方式過於粗糙，但至少在有經過一不分前處理的情況下，這些模型仍無法大幅提高效能"
      ],
      "metadata": {
        "id": "pzKe-aLM2HIz"
      }
    },
    {
      "cell_type": "markdown",
      "source": [
        "# 2. (40%) Feature Selection\n"
      ],
      "metadata": {
        "id": "fWodekokdfWw"
      }
    },
    {
      "cell_type": "markdown",
      "source": [
        "# 2-(a) 試使用線性迴歸以最小平方法估計迴歸係數，並說明重要變數(例如排序p-value或t統計量)。"
      ],
      "metadata": {
        "id": "DLi3L2HddjSp"
      }
    },
    {
      "cell_type": "code",
      "source": [
        "from google.colab import drive\n",
        "drive.mount('/content/drive')"
      ],
      "metadata": {
        "colab": {
          "base_uri": "https://localhost:8080/"
        },
        "id": "DpmTWN9d5uTS",
        "outputId": "72e5c2ee-522d-4d83-c2fb-368ad69e77d0"
      },
      "execution_count": null,
      "outputs": [
        {
          "output_type": "stream",
          "name": "stdout",
          "text": [
            "Mounted at /content/drive\n"
          ]
        }
      ]
    },
    {
      "cell_type": "code",
      "source": [
        "from sklearn.linear_model import LinearRegression\n",
        "path = \"/content/drive/MyDrive/台大/碩二上/MDS/HW3/MiningProcess_Flotation_Plant_Database.csv\"\n",
        "df = pd.read_csv(path)\n",
        "df = df.replace(\",\", \".\", regex=True) \n",
        "df"
      ],
      "metadata": {
        "colab": {
          "base_uri": "https://localhost:8080/",
          "height": 869
        },
        "id": "j7FUxO1M4siN",
        "outputId": "d53214cf-75e7-4f8d-e12e-977239669d1f"
      },
      "execution_count": null,
      "outputs": [
        {
          "output_type": "execute_result",
          "data": {
            "text/plain": [
              "                       date % Iron Feed % Silica Feed Starch Flow Amina Flow  \\\n",
              "0       2017-03-10 01:00:00        55.2         16.98     3019.53    557.434   \n",
              "1       2017-03-10 01:00:00        55.2         16.98     3024.41    563.965   \n",
              "2       2017-03-10 01:00:00        55.2         16.98     3043.46    568.054   \n",
              "3       2017-03-10 01:00:00        55.2         16.98     3047.36    568.665   \n",
              "4       2017-03-10 01:00:00        55.2         16.98     3033.69    558.167   \n",
              "...                     ...         ...           ...         ...        ...   \n",
              "737448  2017-09-09 23:00:00       49.75          23.2     2710.94    441.052   \n",
              "737449  2017-09-09 23:00:00       49.75          23.2     2692.01    473.436   \n",
              "737450  2017-09-09 23:00:00       49.75          23.2      2692.2    500.488   \n",
              "737451  2017-09-09 23:00:00       49.75          23.2     1164.12    491.548   \n",
              "737452  2017-09-09 23:00:00       49.75          23.2     1164.12    468.019   \n",
              "\n",
              "       Ore Pulp Flow Ore Pulp pH Ore Pulp Density  \\\n",
              "0            395.713     10.0664             1.74   \n",
              "1            397.383     10.0672             1.74   \n",
              "2            399.668      10.068             1.74   \n",
              "3            397.939     10.0689             1.74   \n",
              "4            400.254     10.0697             1.74   \n",
              "...              ...         ...              ...   \n",
              "737448        386.57     9.62129          1.65365   \n",
              "737449       384.939     9.62063          1.65352   \n",
              "737450       383.496     9.61874          1.65338   \n",
              "737451       384.976     9.61686          1.65324   \n",
              "737452       384.801     9.61497           1.6531   \n",
              "\n",
              "       Flotation Column 01 Air Flow Flotation Column 02 Air Flow  ...  \\\n",
              "0                           249.214                      253.235  ...   \n",
              "1                           249.719                      250.532  ...   \n",
              "2                           249.741                      247.874  ...   \n",
              "3                           249.917                      254.487  ...   \n",
              "4                           250.203                      252.136  ...   \n",
              "...                             ...                          ...  ...   \n",
              "737448                      302.344                      298.786  ...   \n",
              "737449                      303.013                      301.879  ...   \n",
              "737450                      303.662                      307.397  ...   \n",
              "737451                       302.55                      301.959  ...   \n",
              "737452                      300.355                      292.865  ...   \n",
              "\n",
              "       Flotation Column 07 Air Flow Flotation Column 01 Level  \\\n",
              "0                           250.884                   457.396   \n",
              "1                           248.994                   451.891   \n",
              "2                           248.071                    451.24   \n",
              "3                           251.147                   452.441   \n",
              "4                           248.928                   452.441   \n",
              "...                             ...                       ...   \n",
              "737448                      313.695                    392.16   \n",
              "737449                        236.7                   401.505   \n",
              "737450                      225.879                   408.899   \n",
              "737451                      308.115                   405.107   \n",
              "737452                      308.115                   413.754   \n",
              "\n",
              "       Flotation Column 02 Level Flotation Column 03 Level  \\\n",
              "0                        432.962                   424.954   \n",
              "1                         429.56                   432.939   \n",
              "2                        468.927                    434.61   \n",
              "3                        458.165                   442.865   \n",
              "4                          452.9                   450.523   \n",
              "...                          ...                       ...   \n",
              "737448                   430.702                   872.008   \n",
              "737449                   404.616                   864.409   \n",
              "737450                   399.316                   867.598   \n",
              "737451                   466.832                   876.591   \n",
              "737452                   514.143                   881.323   \n",
              "\n",
              "       Flotation Column 04 Level Flotation Column 05 Level  \\\n",
              "0                        443.558                   502.255   \n",
              "1                        448.086                   496.363   \n",
              "2                        449.688                   484.411   \n",
              "3                         446.21                   471.411   \n",
              "4                         453.67                   462.598   \n",
              "...                          ...                       ...   \n",
              "737448                   418.725                   497.548   \n",
              "737449                   418.377                   506.398   \n",
              "737450                   419.531                   503.414   \n",
              "737451                   407.299                   502.301   \n",
              "737452                   378.969                     500.1   \n",
              "\n",
              "       Flotation Column 06 Level Flotation Column 07 Level % Iron Concentrate  \\\n",
              "0                         446.37                   523.344              66.91   \n",
              "1                        445.922                   498.075              66.91   \n",
              "2                        447.826                   458.567              66.91   \n",
              "3                         437.69                   427.669              66.91   \n",
              "4                        443.682                   425.679              66.91   \n",
              "...                          ...                       ...                ...   \n",
              "737448                   446.357                   416.892              64.27   \n",
              "737449                   372.995                   426.337              64.27   \n",
              "737450                   336.035                    433.13              64.27   \n",
              "737451                   340.844                   433.966              64.27   \n",
              "737452                   374.354                   441.182              64.27   \n",
              "\n",
              "       % Silica Concentrate  \n",
              "0                      1.31  \n",
              "1                      1.31  \n",
              "2                      1.31  \n",
              "3                      1.31  \n",
              "4                      1.31  \n",
              "...                     ...  \n",
              "737448                 1.71  \n",
              "737449                 1.71  \n",
              "737450                 1.71  \n",
              "737451                 1.71  \n",
              "737452                 1.71  \n",
              "\n",
              "[737453 rows x 24 columns]"
            ],
            "text/html": [
              "\n",
              "  <div id=\"df-9f6b2942-9912-49ff-acfd-ccd0ae7bc636\">\n",
              "    <div class=\"colab-df-container\">\n",
              "      <div>\n",
              "<style scoped>\n",
              "    .dataframe tbody tr th:only-of-type {\n",
              "        vertical-align: middle;\n",
              "    }\n",
              "\n",
              "    .dataframe tbody tr th {\n",
              "        vertical-align: top;\n",
              "    }\n",
              "\n",
              "    .dataframe thead th {\n",
              "        text-align: right;\n",
              "    }\n",
              "</style>\n",
              "<table border=\"1\" class=\"dataframe\">\n",
              "  <thead>\n",
              "    <tr style=\"text-align: right;\">\n",
              "      <th></th>\n",
              "      <th>date</th>\n",
              "      <th>% Iron Feed</th>\n",
              "      <th>% Silica Feed</th>\n",
              "      <th>Starch Flow</th>\n",
              "      <th>Amina Flow</th>\n",
              "      <th>Ore Pulp Flow</th>\n",
              "      <th>Ore Pulp pH</th>\n",
              "      <th>Ore Pulp Density</th>\n",
              "      <th>Flotation Column 01 Air Flow</th>\n",
              "      <th>Flotation Column 02 Air Flow</th>\n",
              "      <th>...</th>\n",
              "      <th>Flotation Column 07 Air Flow</th>\n",
              "      <th>Flotation Column 01 Level</th>\n",
              "      <th>Flotation Column 02 Level</th>\n",
              "      <th>Flotation Column 03 Level</th>\n",
              "      <th>Flotation Column 04 Level</th>\n",
              "      <th>Flotation Column 05 Level</th>\n",
              "      <th>Flotation Column 06 Level</th>\n",
              "      <th>Flotation Column 07 Level</th>\n",
              "      <th>% Iron Concentrate</th>\n",
              "      <th>% Silica Concentrate</th>\n",
              "    </tr>\n",
              "  </thead>\n",
              "  <tbody>\n",
              "    <tr>\n",
              "      <th>0</th>\n",
              "      <td>2017-03-10 01:00:00</td>\n",
              "      <td>55.2</td>\n",
              "      <td>16.98</td>\n",
              "      <td>3019.53</td>\n",
              "      <td>557.434</td>\n",
              "      <td>395.713</td>\n",
              "      <td>10.0664</td>\n",
              "      <td>1.74</td>\n",
              "      <td>249.214</td>\n",
              "      <td>253.235</td>\n",
              "      <td>...</td>\n",
              "      <td>250.884</td>\n",
              "      <td>457.396</td>\n",
              "      <td>432.962</td>\n",
              "      <td>424.954</td>\n",
              "      <td>443.558</td>\n",
              "      <td>502.255</td>\n",
              "      <td>446.37</td>\n",
              "      <td>523.344</td>\n",
              "      <td>66.91</td>\n",
              "      <td>1.31</td>\n",
              "    </tr>\n",
              "    <tr>\n",
              "      <th>1</th>\n",
              "      <td>2017-03-10 01:00:00</td>\n",
              "      <td>55.2</td>\n",
              "      <td>16.98</td>\n",
              "      <td>3024.41</td>\n",
              "      <td>563.965</td>\n",
              "      <td>397.383</td>\n",
              "      <td>10.0672</td>\n",
              "      <td>1.74</td>\n",
              "      <td>249.719</td>\n",
              "      <td>250.532</td>\n",
              "      <td>...</td>\n",
              "      <td>248.994</td>\n",
              "      <td>451.891</td>\n",
              "      <td>429.56</td>\n",
              "      <td>432.939</td>\n",
              "      <td>448.086</td>\n",
              "      <td>496.363</td>\n",
              "      <td>445.922</td>\n",
              "      <td>498.075</td>\n",
              "      <td>66.91</td>\n",
              "      <td>1.31</td>\n",
              "    </tr>\n",
              "    <tr>\n",
              "      <th>2</th>\n",
              "      <td>2017-03-10 01:00:00</td>\n",
              "      <td>55.2</td>\n",
              "      <td>16.98</td>\n",
              "      <td>3043.46</td>\n",
              "      <td>568.054</td>\n",
              "      <td>399.668</td>\n",
              "      <td>10.068</td>\n",
              "      <td>1.74</td>\n",
              "      <td>249.741</td>\n",
              "      <td>247.874</td>\n",
              "      <td>...</td>\n",
              "      <td>248.071</td>\n",
              "      <td>451.24</td>\n",
              "      <td>468.927</td>\n",
              "      <td>434.61</td>\n",
              "      <td>449.688</td>\n",
              "      <td>484.411</td>\n",
              "      <td>447.826</td>\n",
              "      <td>458.567</td>\n",
              "      <td>66.91</td>\n",
              "      <td>1.31</td>\n",
              "    </tr>\n",
              "    <tr>\n",
              "      <th>3</th>\n",
              "      <td>2017-03-10 01:00:00</td>\n",
              "      <td>55.2</td>\n",
              "      <td>16.98</td>\n",
              "      <td>3047.36</td>\n",
              "      <td>568.665</td>\n",
              "      <td>397.939</td>\n",
              "      <td>10.0689</td>\n",
              "      <td>1.74</td>\n",
              "      <td>249.917</td>\n",
              "      <td>254.487</td>\n",
              "      <td>...</td>\n",
              "      <td>251.147</td>\n",
              "      <td>452.441</td>\n",
              "      <td>458.165</td>\n",
              "      <td>442.865</td>\n",
              "      <td>446.21</td>\n",
              "      <td>471.411</td>\n",
              "      <td>437.69</td>\n",
              "      <td>427.669</td>\n",
              "      <td>66.91</td>\n",
              "      <td>1.31</td>\n",
              "    </tr>\n",
              "    <tr>\n",
              "      <th>4</th>\n",
              "      <td>2017-03-10 01:00:00</td>\n",
              "      <td>55.2</td>\n",
              "      <td>16.98</td>\n",
              "      <td>3033.69</td>\n",
              "      <td>558.167</td>\n",
              "      <td>400.254</td>\n",
              "      <td>10.0697</td>\n",
              "      <td>1.74</td>\n",
              "      <td>250.203</td>\n",
              "      <td>252.136</td>\n",
              "      <td>...</td>\n",
              "      <td>248.928</td>\n",
              "      <td>452.441</td>\n",
              "      <td>452.9</td>\n",
              "      <td>450.523</td>\n",
              "      <td>453.67</td>\n",
              "      <td>462.598</td>\n",
              "      <td>443.682</td>\n",
              "      <td>425.679</td>\n",
              "      <td>66.91</td>\n",
              "      <td>1.31</td>\n",
              "    </tr>\n",
              "    <tr>\n",
              "      <th>...</th>\n",
              "      <td>...</td>\n",
              "      <td>...</td>\n",
              "      <td>...</td>\n",
              "      <td>...</td>\n",
              "      <td>...</td>\n",
              "      <td>...</td>\n",
              "      <td>...</td>\n",
              "      <td>...</td>\n",
              "      <td>...</td>\n",
              "      <td>...</td>\n",
              "      <td>...</td>\n",
              "      <td>...</td>\n",
              "      <td>...</td>\n",
              "      <td>...</td>\n",
              "      <td>...</td>\n",
              "      <td>...</td>\n",
              "      <td>...</td>\n",
              "      <td>...</td>\n",
              "      <td>...</td>\n",
              "      <td>...</td>\n",
              "      <td>...</td>\n",
              "    </tr>\n",
              "    <tr>\n",
              "      <th>737448</th>\n",
              "      <td>2017-09-09 23:00:00</td>\n",
              "      <td>49.75</td>\n",
              "      <td>23.2</td>\n",
              "      <td>2710.94</td>\n",
              "      <td>441.052</td>\n",
              "      <td>386.57</td>\n",
              "      <td>9.62129</td>\n",
              "      <td>1.65365</td>\n",
              "      <td>302.344</td>\n",
              "      <td>298.786</td>\n",
              "      <td>...</td>\n",
              "      <td>313.695</td>\n",
              "      <td>392.16</td>\n",
              "      <td>430.702</td>\n",
              "      <td>872.008</td>\n",
              "      <td>418.725</td>\n",
              "      <td>497.548</td>\n",
              "      <td>446.357</td>\n",
              "      <td>416.892</td>\n",
              "      <td>64.27</td>\n",
              "      <td>1.71</td>\n",
              "    </tr>\n",
              "    <tr>\n",
              "      <th>737449</th>\n",
              "      <td>2017-09-09 23:00:00</td>\n",
              "      <td>49.75</td>\n",
              "      <td>23.2</td>\n",
              "      <td>2692.01</td>\n",
              "      <td>473.436</td>\n",
              "      <td>384.939</td>\n",
              "      <td>9.62063</td>\n",
              "      <td>1.65352</td>\n",
              "      <td>303.013</td>\n",
              "      <td>301.879</td>\n",
              "      <td>...</td>\n",
              "      <td>236.7</td>\n",
              "      <td>401.505</td>\n",
              "      <td>404.616</td>\n",
              "      <td>864.409</td>\n",
              "      <td>418.377</td>\n",
              "      <td>506.398</td>\n",
              "      <td>372.995</td>\n",
              "      <td>426.337</td>\n",
              "      <td>64.27</td>\n",
              "      <td>1.71</td>\n",
              "    </tr>\n",
              "    <tr>\n",
              "      <th>737450</th>\n",
              "      <td>2017-09-09 23:00:00</td>\n",
              "      <td>49.75</td>\n",
              "      <td>23.2</td>\n",
              "      <td>2692.2</td>\n",
              "      <td>500.488</td>\n",
              "      <td>383.496</td>\n",
              "      <td>9.61874</td>\n",
              "      <td>1.65338</td>\n",
              "      <td>303.662</td>\n",
              "      <td>307.397</td>\n",
              "      <td>...</td>\n",
              "      <td>225.879</td>\n",
              "      <td>408.899</td>\n",
              "      <td>399.316</td>\n",
              "      <td>867.598</td>\n",
              "      <td>419.531</td>\n",
              "      <td>503.414</td>\n",
              "      <td>336.035</td>\n",
              "      <td>433.13</td>\n",
              "      <td>64.27</td>\n",
              "      <td>1.71</td>\n",
              "    </tr>\n",
              "    <tr>\n",
              "      <th>737451</th>\n",
              "      <td>2017-09-09 23:00:00</td>\n",
              "      <td>49.75</td>\n",
              "      <td>23.2</td>\n",
              "      <td>1164.12</td>\n",
              "      <td>491.548</td>\n",
              "      <td>384.976</td>\n",
              "      <td>9.61686</td>\n",
              "      <td>1.65324</td>\n",
              "      <td>302.55</td>\n",
              "      <td>301.959</td>\n",
              "      <td>...</td>\n",
              "      <td>308.115</td>\n",
              "      <td>405.107</td>\n",
              "      <td>466.832</td>\n",
              "      <td>876.591</td>\n",
              "      <td>407.299</td>\n",
              "      <td>502.301</td>\n",
              "      <td>340.844</td>\n",
              "      <td>433.966</td>\n",
              "      <td>64.27</td>\n",
              "      <td>1.71</td>\n",
              "    </tr>\n",
              "    <tr>\n",
              "      <th>737452</th>\n",
              "      <td>2017-09-09 23:00:00</td>\n",
              "      <td>49.75</td>\n",
              "      <td>23.2</td>\n",
              "      <td>1164.12</td>\n",
              "      <td>468.019</td>\n",
              "      <td>384.801</td>\n",
              "      <td>9.61497</td>\n",
              "      <td>1.6531</td>\n",
              "      <td>300.355</td>\n",
              "      <td>292.865</td>\n",
              "      <td>...</td>\n",
              "      <td>308.115</td>\n",
              "      <td>413.754</td>\n",
              "      <td>514.143</td>\n",
              "      <td>881.323</td>\n",
              "      <td>378.969</td>\n",
              "      <td>500.1</td>\n",
              "      <td>374.354</td>\n",
              "      <td>441.182</td>\n",
              "      <td>64.27</td>\n",
              "      <td>1.71</td>\n",
              "    </tr>\n",
              "  </tbody>\n",
              "</table>\n",
              "<p>737453 rows × 24 columns</p>\n",
              "</div>\n",
              "      <button class=\"colab-df-convert\" onclick=\"convertToInteractive('df-9f6b2942-9912-49ff-acfd-ccd0ae7bc636')\"\n",
              "              title=\"Convert this dataframe to an interactive table.\"\n",
              "              style=\"display:none;\">\n",
              "        \n",
              "  <svg xmlns=\"http://www.w3.org/2000/svg\" height=\"24px\"viewBox=\"0 0 24 24\"\n",
              "       width=\"24px\">\n",
              "    <path d=\"M0 0h24v24H0V0z\" fill=\"none\"/>\n",
              "    <path d=\"M18.56 5.44l.94 2.06.94-2.06 2.06-.94-2.06-.94-.94-2.06-.94 2.06-2.06.94zm-11 1L8.5 8.5l.94-2.06 2.06-.94-2.06-.94L8.5 2.5l-.94 2.06-2.06.94zm10 10l.94 2.06.94-2.06 2.06-.94-2.06-.94-.94-2.06-.94 2.06-2.06.94z\"/><path d=\"M17.41 7.96l-1.37-1.37c-.4-.4-.92-.59-1.43-.59-.52 0-1.04.2-1.43.59L10.3 9.45l-7.72 7.72c-.78.78-.78 2.05 0 2.83L4 21.41c.39.39.9.59 1.41.59.51 0 1.02-.2 1.41-.59l7.78-7.78 2.81-2.81c.8-.78.8-2.07 0-2.86zM5.41 20L4 18.59l7.72-7.72 1.47 1.35L5.41 20z\"/>\n",
              "  </svg>\n",
              "      </button>\n",
              "      \n",
              "  <style>\n",
              "    .colab-df-container {\n",
              "      display:flex;\n",
              "      flex-wrap:wrap;\n",
              "      gap: 12px;\n",
              "    }\n",
              "\n",
              "    .colab-df-convert {\n",
              "      background-color: #E8F0FE;\n",
              "      border: none;\n",
              "      border-radius: 50%;\n",
              "      cursor: pointer;\n",
              "      display: none;\n",
              "      fill: #1967D2;\n",
              "      height: 32px;\n",
              "      padding: 0 0 0 0;\n",
              "      width: 32px;\n",
              "    }\n",
              "\n",
              "    .colab-df-convert:hover {\n",
              "      background-color: #E2EBFA;\n",
              "      box-shadow: 0px 1px 2px rgba(60, 64, 67, 0.3), 0px 1px 3px 1px rgba(60, 64, 67, 0.15);\n",
              "      fill: #174EA6;\n",
              "    }\n",
              "\n",
              "    [theme=dark] .colab-df-convert {\n",
              "      background-color: #3B4455;\n",
              "      fill: #D2E3FC;\n",
              "    }\n",
              "\n",
              "    [theme=dark] .colab-df-convert:hover {\n",
              "      background-color: #434B5C;\n",
              "      box-shadow: 0px 1px 3px 1px rgba(0, 0, 0, 0.15);\n",
              "      filter: drop-shadow(0px 1px 2px rgba(0, 0, 0, 0.3));\n",
              "      fill: #FFFFFF;\n",
              "    }\n",
              "  </style>\n",
              "\n",
              "      <script>\n",
              "        const buttonEl =\n",
              "          document.querySelector('#df-9f6b2942-9912-49ff-acfd-ccd0ae7bc636 button.colab-df-convert');\n",
              "        buttonEl.style.display =\n",
              "          google.colab.kernel.accessAllowed ? 'block' : 'none';\n",
              "\n",
              "        async function convertToInteractive(key) {\n",
              "          const element = document.querySelector('#df-9f6b2942-9912-49ff-acfd-ccd0ae7bc636');\n",
              "          const dataTable =\n",
              "            await google.colab.kernel.invokeFunction('convertToInteractive',\n",
              "                                                     [key], {});\n",
              "          if (!dataTable) return;\n",
              "\n",
              "          const docLinkHtml = 'Like what you see? Visit the ' +\n",
              "            '<a target=\"_blank\" href=https://colab.research.google.com/notebooks/data_table.ipynb>data table notebook</a>'\n",
              "            + ' to learn more about interactive tables.';\n",
              "          element.innerHTML = '';\n",
              "          dataTable['output_type'] = 'display_data';\n",
              "          await google.colab.output.renderOutput(dataTable, element);\n",
              "          const docLink = document.createElement('div');\n",
              "          docLink.innerHTML = docLinkHtml;\n",
              "          element.appendChild(docLink);\n",
              "        }\n",
              "      </script>\n",
              "    </div>\n",
              "  </div>\n",
              "  "
            ]
          },
          "metadata": {},
          "execution_count": 54
        }
      ]
    },
    {
      "cell_type": "code",
      "source": [
        "from sklearn.linear_model import LinearRegression\n",
        "x = df.drop([\"% Silica Concentrate\", \"date\"], axis=1).astype(float)\n",
        "y = df[\"% Silica Concentrate\"].astype(float)\n",
        "s_x = sm.add_constant(x)\n",
        "model = sm.OLS(y, s_x).fit()\n",
        "print(model.summary())"
      ],
      "metadata": {
        "colab": {
          "base_uri": "https://localhost:8080/"
        },
        "id": "h8eeclk86OCD",
        "outputId": "211cff6b-81bf-4da6-b686-ca341e5a11c2"
      },
      "execution_count": null,
      "outputs": [
        {
          "output_type": "stream",
          "name": "stderr",
          "text": [
            "/usr/local/lib/python3.7/dist-packages/statsmodels/tsa/tsatools.py:142: FutureWarning: In a future version of pandas all arguments of concat except for the argument 'objs' will be keyword-only\n",
            "  x = pd.concat(x[::order], 1)\n"
          ]
        },
        {
          "output_type": "stream",
          "name": "stdout",
          "text": [
            "                             OLS Regression Results                             \n",
            "================================================================================\n",
            "Dep. Variable:     % Silica Concentrate   R-squared:                       0.679\n",
            "Model:                              OLS   Adj. R-squared:                  0.679\n",
            "Method:                   Least Squares   F-statistic:                 7.103e+04\n",
            "Date:                  Fri, 04 Nov 2022   Prob (F-statistic):               0.00\n",
            "Time:                          09:21:41   Log-Likelihood:            -7.1418e+05\n",
            "No. Observations:                737453   AIC:                         1.428e+06\n",
            "Df Residuals:                    737430   BIC:                         1.429e+06\n",
            "Df Model:                            22                                         \n",
            "Covariance Type:              nonrobust                                         \n",
            "================================================================================================\n",
            "                                   coef    std err          t      P>|t|      [0.025      0.975]\n",
            "------------------------------------------------------------------------------------------------\n",
            "const                           46.0979      0.155    296.776      0.000      45.793      46.402\n",
            "% Iron Feed                      0.0256      0.001     40.441      0.000       0.024       0.027\n",
            "% Silica Feed                    0.0288      0.000     60.547      0.000       0.028       0.030\n",
            "Starch Flow                  -1.736e-05   6.87e-07    -25.279      0.000   -1.87e-05    -1.6e-05\n",
            "Amina Flow                       0.0007   1.22e-05     56.078      0.000       0.001       0.001\n",
            "Ore Pulp Flow                    0.0042   8.57e-05     49.352      0.000       0.004       0.004\n",
            "Ore Pulp pH                      0.0460      0.002     21.618      0.000       0.042       0.050\n",
            "Ore Pulp Density                 0.1698      0.015     11.093      0.000       0.140       0.200\n",
            "Flotation Column 01 Air Flow    -0.0051    8.8e-05    -58.398      0.000      -0.005      -0.005\n",
            "Flotation Column 02 Air Flow    -0.0014   5.13e-05    -27.686      0.000      -0.002      -0.001\n",
            "Flotation Column 03 Air Flow    -0.0010   9.66e-05    -10.154      0.000      -0.001      -0.001\n",
            "Flotation Column 04 Air Flow     0.0023      0.000      6.033      0.000       0.002       0.003\n",
            "Flotation Column 05 Air Flow     0.0146      0.000     64.821      0.000       0.014       0.015\n",
            "Flotation Column 06 Air Flow -8.533e-05   5.14e-05     -1.662      0.097      -0.000    1.53e-05\n",
            "Flotation Column 07 Air Flow     0.0012   5.35e-05     23.069      0.000       0.001       0.001\n",
            "Flotation Column 01 Level       -0.0003   9.67e-06    -29.498      0.000      -0.000      -0.000\n",
            "Flotation Column 02 Level       -0.0002    8.9e-06    -17.514      0.000      -0.000      -0.000\n",
            "Flotation Column 03 Level    -8.726e-05   7.68e-06    -11.363      0.000      -0.000   -7.22e-05\n",
            "Flotation Column 04 Level       -0.0001   1.16e-05    -11.573      0.000      -0.000      -0.000\n",
            "Flotation Column 05 Level       -0.0002   1.45e-05    -12.243      0.000      -0.000      -0.000\n",
            "Flotation Column 06 Level       -0.0002   1.11e-05    -18.450      0.000      -0.000      -0.000\n",
            "Flotation Column 07 Level        0.0002   1.37e-05     13.895      0.000       0.000       0.000\n",
            "% Iron Concentrate              -0.7871      0.001  -1100.441      0.000      -0.789      -0.786\n",
            "==============================================================================\n",
            "Omnibus:                    13572.629   Durbin-Watson:                   0.007\n",
            "Prob(Omnibus):                  0.000   Jarque-Bera (JB):            20037.918\n",
            "Skew:                           0.210   Prob(JB):                         0.00\n",
            "Kurtosis:                       3.690   Cond. No.                     7.22e+05\n",
            "==============================================================================\n",
            "\n",
            "Notes:\n",
            "[1] Standard Errors assume that the covariance matrix of the errors is correctly specified.\n",
            "[2] The condition number is large, 7.22e+05. This might indicate that there are\n",
            "strong multicollinearity or other numerical problems.\n"
          ]
        }
      ]
    },
    {
      "cell_type": "code",
      "source": [
        "# Sort the p-value\n",
        "p_values = model.pvalues\n",
        "sort_p = p_values.sort_values()\n",
        "print(sort_p)\n",
        "ranked_attr = sort_p.index[0:].drop([\"const\"])\n",
        "print(len(ranked_attr), ranked_attr)\n",
        "\n",
        "selected_attr = []\n",
        "for index in sort_p.index.drop([\"const\"]):\n",
        "  if sort_p[index] < 0.01:\n",
        "    selected_attr.append(index)\n",
        "print(\"Selected:\", len(selected_attr), selected_attr)"
      ],
      "metadata": {
        "colab": {
          "base_uri": "https://localhost:8080/"
        },
        "id": "JbI4o3ak8q45",
        "outputId": "93f1e12d-b987-4d78-c02b-b25896fc1fc5"
      },
      "execution_count": null,
      "outputs": [
        {
          "output_type": "stream",
          "name": "stdout",
          "text": [
            "const                            0.000000e+00\n",
            "Flotation Column 05 Air Flow     0.000000e+00\n",
            "Flotation Column 01 Air Flow     0.000000e+00\n",
            "Ore Pulp Flow                    0.000000e+00\n",
            "% Iron Concentrate               0.000000e+00\n",
            "% Silica Feed                    0.000000e+00\n",
            "% Iron Feed                      0.000000e+00\n",
            "Amina Flow                       0.000000e+00\n",
            "Flotation Column 01 Level       3.944836e-191\n",
            "Flotation Column 02 Air Flow    1.243478e-168\n",
            "Starch Flow                     6.175213e-141\n",
            "Flotation Column 07 Air Flow    1.033036e-117\n",
            "Ore Pulp pH                     1.308300e-103\n",
            "Flotation Column 06 Level        5.407207e-76\n",
            "Flotation Column 02 Level        1.157865e-68\n",
            "Flotation Column 07 Level        6.922983e-44\n",
            "Flotation Column 05 Level        1.844557e-34\n",
            "Flotation Column 04 Level        5.702439e-31\n",
            "Flotation Column 03 Level        6.435891e-30\n",
            "Ore Pulp Density                 1.368629e-28\n",
            "Flotation Column 03 Air Flow     3.178687e-24\n",
            "Flotation Column 04 Air Flow     1.613846e-09\n",
            "Flotation Column 06 Air Flow     9.658566e-02\n",
            "dtype: float64\n",
            "22 Index(['Flotation Column 05 Air Flow', 'Flotation Column 01 Air Flow',\n",
            "       'Ore Pulp Flow', '% Iron Concentrate', '% Silica Feed', '% Iron Feed',\n",
            "       'Amina Flow', 'Flotation Column 01 Level',\n",
            "       'Flotation Column 02 Air Flow', 'Starch Flow',\n",
            "       'Flotation Column 07 Air Flow', 'Ore Pulp pH',\n",
            "       'Flotation Column 06 Level', 'Flotation Column 02 Level',\n",
            "       'Flotation Column 07 Level', 'Flotation Column 05 Level',\n",
            "       'Flotation Column 04 Level', 'Flotation Column 03 Level',\n",
            "       'Ore Pulp Density', 'Flotation Column 03 Air Flow',\n",
            "       'Flotation Column 04 Air Flow', 'Flotation Column 06 Air Flow'],\n",
            "      dtype='object')\n",
            "Selected: 21 ['Flotation Column 05 Air Flow', 'Flotation Column 01 Air Flow', 'Ore Pulp Flow', '% Iron Concentrate', '% Silica Feed', '% Iron Feed', 'Amina Flow', 'Flotation Column 01 Level', 'Flotation Column 02 Air Flow', 'Starch Flow', 'Flotation Column 07 Air Flow', 'Ore Pulp pH', 'Flotation Column 06 Level', 'Flotation Column 02 Level', 'Flotation Column 07 Level', 'Flotation Column 05 Level', 'Flotation Column 04 Level', 'Flotation Column 03 Level', 'Ore Pulp Density', 'Flotation Column 03 Air Flow', 'Flotation Column 04 Air Flow']\n"
          ]
        }
      ]
    },
    {
      "cell_type": "markdown",
      "source": [
        "如上所示 : 依照 p-value 排序，並取出 p-valule < 0.01 的 Feature 可以得到以下結果\n",
        "\n",
        "['Flotation Column 05 Air Flow', 'Flotation Column 01 Air Flow', 'Ore Pulp Flow', '% Iron Concentrate', '% Silica Feed', '% Iron Feed', 'Amina Flow', 'Flotation Column 01 Level', 'Flotation Column 02 Air Flow', 'Starch Flow', 'Flotation Column 07 Air Flow', 'Ore Pulp pH', 'Flotation Column 06 Level', 'Flotation Column 02 Level', 'Flotation Column 07 Level', 'Flotation Column 05 Level', 'Flotation Column 04 Level', 'Flotation Column 03 Level', 'Ore Pulp Density', 'Flotation Column 03 Air Flow', 'Flotation Column 04 Air Flow']\n",
        "\n",
        "重要程度由高至低，只有 \"Flotation Column 06 Air Flow\" 沒有選到"
      ],
      "metadata": {
        "id": "3JfmiMyH83-C"
      }
    },
    {
      "cell_type": "markdown",
      "source": [
        "# 2-(b) 試使用逐步迴歸找出重要變數。"
      ],
      "metadata": {
        "id": "XZr05LJKdmZX"
      }
    },
    {
      "cell_type": "code",
      "source": [
        "def forward_regression(X, y, threshold_in=0.01, verbose=True):\n",
        "    initial_list = []\n",
        "    included = list(initial_list)\n",
        "    while True:\n",
        "        changed=False\n",
        "        excluded = list(set(X.columns)-set(included))\n",
        "        new_pval = pd.Series(index=excluded)\n",
        "        for new_column in excluded:\n",
        "            model = sm.OLS(y, sm.add_constant(pd.DataFrame(X[included+[new_column]]))).fit()\n",
        "            new_pval[new_column] = model.pvalues[new_column]\n",
        "        best_pval = new_pval.min()\n",
        "        if best_pval < threshold_in:\n",
        "            best_feature = new_pval.idxmin()\n",
        "            included.append(best_feature)\n",
        "            changed=True\n",
        "            if verbose:\n",
        "                print('Add  {:30} with p-value {:.6}'.format(best_feature, best_pval))\n",
        "\n",
        "        if not changed:\n",
        "            break\n",
        "\n",
        "    return included\n",
        "\n",
        "selected_Feature = forward_regression(x, y)"
      ],
      "metadata": {
        "colab": {
          "base_uri": "https://localhost:8080/"
        },
        "id": "iZXfzVKc9Omx",
        "outputId": "df096005-e800-427b-b705-4f976e9a86c7"
      },
      "execution_count": null,
      "outputs": [
        {
          "output_type": "stream",
          "name": "stderr",
          "text": [
            "/usr/local/lib/python3.7/dist-packages/ipykernel_launcher.py:7: DeprecationWarning: The default dtype for empty Series will be 'object' instead of 'float64' in a future version. Specify a dtype explicitly to silence this warning.\n",
            "  import sys\n",
            "/usr/local/lib/python3.7/dist-packages/statsmodels/tsa/tsatools.py:142: FutureWarning: In a future version of pandas all arguments of concat except for the argument 'objs' will be keyword-only\n",
            "  x = pd.concat(x[::order], 1)\n",
            "/usr/local/lib/python3.7/dist-packages/statsmodels/tsa/tsatools.py:142: FutureWarning: In a future version of pandas all arguments of concat except for the argument 'objs' will be keyword-only\n",
            "  x = pd.concat(x[::order], 1)\n",
            "/usr/local/lib/python3.7/dist-packages/statsmodels/tsa/tsatools.py:142: FutureWarning: In a future version of pandas all arguments of concat except for the argument 'objs' will be keyword-only\n",
            "  x = pd.concat(x[::order], 1)\n",
            "/usr/local/lib/python3.7/dist-packages/statsmodels/tsa/tsatools.py:142: FutureWarning: In a future version of pandas all arguments of concat except for the argument 'objs' will be keyword-only\n",
            "  x = pd.concat(x[::order], 1)\n",
            "/usr/local/lib/python3.7/dist-packages/statsmodels/tsa/tsatools.py:142: FutureWarning: In a future version of pandas all arguments of concat except for the argument 'objs' will be keyword-only\n",
            "  x = pd.concat(x[::order], 1)\n",
            "/usr/local/lib/python3.7/dist-packages/statsmodels/tsa/tsatools.py:142: FutureWarning: In a future version of pandas all arguments of concat except for the argument 'objs' will be keyword-only\n",
            "  x = pd.concat(x[::order], 1)\n",
            "/usr/local/lib/python3.7/dist-packages/statsmodels/tsa/tsatools.py:142: FutureWarning: In a future version of pandas all arguments of concat except for the argument 'objs' will be keyword-only\n",
            "  x = pd.concat(x[::order], 1)\n",
            "/usr/local/lib/python3.7/dist-packages/statsmodels/tsa/tsatools.py:142: FutureWarning: In a future version of pandas all arguments of concat except for the argument 'objs' will be keyword-only\n",
            "  x = pd.concat(x[::order], 1)\n",
            "/usr/local/lib/python3.7/dist-packages/statsmodels/tsa/tsatools.py:142: FutureWarning: In a future version of pandas all arguments of concat except for the argument 'objs' will be keyword-only\n",
            "  x = pd.concat(x[::order], 1)\n",
            "/usr/local/lib/python3.7/dist-packages/statsmodels/tsa/tsatools.py:142: FutureWarning: In a future version of pandas all arguments of concat except for the argument 'objs' will be keyword-only\n",
            "  x = pd.concat(x[::order], 1)\n",
            "/usr/local/lib/python3.7/dist-packages/statsmodels/tsa/tsatools.py:142: FutureWarning: In a future version of pandas all arguments of concat except for the argument 'objs' will be keyword-only\n",
            "  x = pd.concat(x[::order], 1)\n",
            "/usr/local/lib/python3.7/dist-packages/statsmodels/tsa/tsatools.py:142: FutureWarning: In a future version of pandas all arguments of concat except for the argument 'objs' will be keyword-only\n",
            "  x = pd.concat(x[::order], 1)\n",
            "/usr/local/lib/python3.7/dist-packages/statsmodels/tsa/tsatools.py:142: FutureWarning: In a future version of pandas all arguments of concat except for the argument 'objs' will be keyword-only\n",
            "  x = pd.concat(x[::order], 1)\n",
            "/usr/local/lib/python3.7/dist-packages/statsmodels/tsa/tsatools.py:142: FutureWarning: In a future version of pandas all arguments of concat except for the argument 'objs' will be keyword-only\n",
            "  x = pd.concat(x[::order], 1)\n",
            "/usr/local/lib/python3.7/dist-packages/statsmodels/tsa/tsatools.py:142: FutureWarning: In a future version of pandas all arguments of concat except for the argument 'objs' will be keyword-only\n",
            "  x = pd.concat(x[::order], 1)\n",
            "/usr/local/lib/python3.7/dist-packages/statsmodels/tsa/tsatools.py:142: FutureWarning: In a future version of pandas all arguments of concat except for the argument 'objs' will be keyword-only\n",
            "  x = pd.concat(x[::order], 1)\n",
            "/usr/local/lib/python3.7/dist-packages/statsmodels/tsa/tsatools.py:142: FutureWarning: In a future version of pandas all arguments of concat except for the argument 'objs' will be keyword-only\n",
            "  x = pd.concat(x[::order], 1)\n",
            "/usr/local/lib/python3.7/dist-packages/statsmodels/tsa/tsatools.py:142: FutureWarning: In a future version of pandas all arguments of concat except for the argument 'objs' will be keyword-only\n",
            "  x = pd.concat(x[::order], 1)\n",
            "/usr/local/lib/python3.7/dist-packages/statsmodels/tsa/tsatools.py:142: FutureWarning: In a future version of pandas all arguments of concat except for the argument 'objs' will be keyword-only\n",
            "  x = pd.concat(x[::order], 1)\n",
            "/usr/local/lib/python3.7/dist-packages/statsmodels/tsa/tsatools.py:142: FutureWarning: In a future version of pandas all arguments of concat except for the argument 'objs' will be keyword-only\n",
            "  x = pd.concat(x[::order], 1)\n",
            "/usr/local/lib/python3.7/dist-packages/statsmodels/tsa/tsatools.py:142: FutureWarning: In a future version of pandas all arguments of concat except for the argument 'objs' will be keyword-only\n",
            "  x = pd.concat(x[::order], 1)\n",
            "/usr/local/lib/python3.7/dist-packages/statsmodels/tsa/tsatools.py:142: FutureWarning: In a future version of pandas all arguments of concat except for the argument 'objs' will be keyword-only\n",
            "  x = pd.concat(x[::order], 1)\n",
            "/usr/local/lib/python3.7/dist-packages/ipykernel_launcher.py:7: DeprecationWarning: The default dtype for empty Series will be 'object' instead of 'float64' in a future version. Specify a dtype explicitly to silence this warning.\n",
            "  import sys\n",
            "/usr/local/lib/python3.7/dist-packages/statsmodels/tsa/tsatools.py:142: FutureWarning: In a future version of pandas all arguments of concat except for the argument 'objs' will be keyword-only\n",
            "  x = pd.concat(x[::order], 1)\n"
          ]
        },
        {
          "output_type": "stream",
          "name": "stdout",
          "text": [
            "Add  Ore Pulp Density               with p-value 0.0\n"
          ]
        },
        {
          "output_type": "stream",
          "name": "stderr",
          "text": [
            "/usr/local/lib/python3.7/dist-packages/statsmodels/tsa/tsatools.py:142: FutureWarning: In a future version of pandas all arguments of concat except for the argument 'objs' will be keyword-only\n",
            "  x = pd.concat(x[::order], 1)\n",
            "/usr/local/lib/python3.7/dist-packages/statsmodels/tsa/tsatools.py:142: FutureWarning: In a future version of pandas all arguments of concat except for the argument 'objs' will be keyword-only\n",
            "  x = pd.concat(x[::order], 1)\n",
            "/usr/local/lib/python3.7/dist-packages/statsmodels/tsa/tsatools.py:142: FutureWarning: In a future version of pandas all arguments of concat except for the argument 'objs' will be keyword-only\n",
            "  x = pd.concat(x[::order], 1)\n",
            "/usr/local/lib/python3.7/dist-packages/statsmodels/tsa/tsatools.py:142: FutureWarning: In a future version of pandas all arguments of concat except for the argument 'objs' will be keyword-only\n",
            "  x = pd.concat(x[::order], 1)\n",
            "/usr/local/lib/python3.7/dist-packages/statsmodels/tsa/tsatools.py:142: FutureWarning: In a future version of pandas all arguments of concat except for the argument 'objs' will be keyword-only\n",
            "  x = pd.concat(x[::order], 1)\n",
            "/usr/local/lib/python3.7/dist-packages/statsmodels/tsa/tsatools.py:142: FutureWarning: In a future version of pandas all arguments of concat except for the argument 'objs' will be keyword-only\n",
            "  x = pd.concat(x[::order], 1)\n",
            "/usr/local/lib/python3.7/dist-packages/statsmodels/tsa/tsatools.py:142: FutureWarning: In a future version of pandas all arguments of concat except for the argument 'objs' will be keyword-only\n",
            "  x = pd.concat(x[::order], 1)\n",
            "/usr/local/lib/python3.7/dist-packages/statsmodels/tsa/tsatools.py:142: FutureWarning: In a future version of pandas all arguments of concat except for the argument 'objs' will be keyword-only\n",
            "  x = pd.concat(x[::order], 1)\n",
            "/usr/local/lib/python3.7/dist-packages/statsmodels/tsa/tsatools.py:142: FutureWarning: In a future version of pandas all arguments of concat except for the argument 'objs' will be keyword-only\n",
            "  x = pd.concat(x[::order], 1)\n",
            "/usr/local/lib/python3.7/dist-packages/statsmodels/tsa/tsatools.py:142: FutureWarning: In a future version of pandas all arguments of concat except for the argument 'objs' will be keyword-only\n",
            "  x = pd.concat(x[::order], 1)\n",
            "/usr/local/lib/python3.7/dist-packages/statsmodels/tsa/tsatools.py:142: FutureWarning: In a future version of pandas all arguments of concat except for the argument 'objs' will be keyword-only\n",
            "  x = pd.concat(x[::order], 1)\n",
            "/usr/local/lib/python3.7/dist-packages/statsmodels/tsa/tsatools.py:142: FutureWarning: In a future version of pandas all arguments of concat except for the argument 'objs' will be keyword-only\n",
            "  x = pd.concat(x[::order], 1)\n",
            "/usr/local/lib/python3.7/dist-packages/statsmodels/tsa/tsatools.py:142: FutureWarning: In a future version of pandas all arguments of concat except for the argument 'objs' will be keyword-only\n",
            "  x = pd.concat(x[::order], 1)\n",
            "/usr/local/lib/python3.7/dist-packages/statsmodels/tsa/tsatools.py:142: FutureWarning: In a future version of pandas all arguments of concat except for the argument 'objs' will be keyword-only\n",
            "  x = pd.concat(x[::order], 1)\n",
            "/usr/local/lib/python3.7/dist-packages/statsmodels/tsa/tsatools.py:142: FutureWarning: In a future version of pandas all arguments of concat except for the argument 'objs' will be keyword-only\n",
            "  x = pd.concat(x[::order], 1)\n",
            "/usr/local/lib/python3.7/dist-packages/statsmodels/tsa/tsatools.py:142: FutureWarning: In a future version of pandas all arguments of concat except for the argument 'objs' will be keyword-only\n",
            "  x = pd.concat(x[::order], 1)\n",
            "/usr/local/lib/python3.7/dist-packages/statsmodels/tsa/tsatools.py:142: FutureWarning: In a future version of pandas all arguments of concat except for the argument 'objs' will be keyword-only\n",
            "  x = pd.concat(x[::order], 1)\n",
            "/usr/local/lib/python3.7/dist-packages/statsmodels/tsa/tsatools.py:142: FutureWarning: In a future version of pandas all arguments of concat except for the argument 'objs' will be keyword-only\n",
            "  x = pd.concat(x[::order], 1)\n",
            "/usr/local/lib/python3.7/dist-packages/statsmodels/tsa/tsatools.py:142: FutureWarning: In a future version of pandas all arguments of concat except for the argument 'objs' will be keyword-only\n",
            "  x = pd.concat(x[::order], 1)\n",
            "/usr/local/lib/python3.7/dist-packages/statsmodels/tsa/tsatools.py:142: FutureWarning: In a future version of pandas all arguments of concat except for the argument 'objs' will be keyword-only\n",
            "  x = pd.concat(x[::order], 1)\n",
            "/usr/local/lib/python3.7/dist-packages/ipykernel_launcher.py:7: DeprecationWarning: The default dtype for empty Series will be 'object' instead of 'float64' in a future version. Specify a dtype explicitly to silence this warning.\n",
            "  import sys\n",
            "/usr/local/lib/python3.7/dist-packages/statsmodels/tsa/tsatools.py:142: FutureWarning: In a future version of pandas all arguments of concat except for the argument 'objs' will be keyword-only\n",
            "  x = pd.concat(x[::order], 1)\n"
          ]
        },
        {
          "output_type": "stream",
          "name": "stdout",
          "text": [
            "Add  Flotation Column 02 Air Flow   with p-value 0.0\n"
          ]
        },
        {
          "output_type": "stream",
          "name": "stderr",
          "text": [
            "/usr/local/lib/python3.7/dist-packages/statsmodels/tsa/tsatools.py:142: FutureWarning: In a future version of pandas all arguments of concat except for the argument 'objs' will be keyword-only\n",
            "  x = pd.concat(x[::order], 1)\n",
            "/usr/local/lib/python3.7/dist-packages/statsmodels/tsa/tsatools.py:142: FutureWarning: In a future version of pandas all arguments of concat except for the argument 'objs' will be keyword-only\n",
            "  x = pd.concat(x[::order], 1)\n",
            "/usr/local/lib/python3.7/dist-packages/statsmodels/tsa/tsatools.py:142: FutureWarning: In a future version of pandas all arguments of concat except for the argument 'objs' will be keyword-only\n",
            "  x = pd.concat(x[::order], 1)\n",
            "/usr/local/lib/python3.7/dist-packages/statsmodels/tsa/tsatools.py:142: FutureWarning: In a future version of pandas all arguments of concat except for the argument 'objs' will be keyword-only\n",
            "  x = pd.concat(x[::order], 1)\n",
            "/usr/local/lib/python3.7/dist-packages/statsmodels/tsa/tsatools.py:142: FutureWarning: In a future version of pandas all arguments of concat except for the argument 'objs' will be keyword-only\n",
            "  x = pd.concat(x[::order], 1)\n",
            "/usr/local/lib/python3.7/dist-packages/statsmodels/tsa/tsatools.py:142: FutureWarning: In a future version of pandas all arguments of concat except for the argument 'objs' will be keyword-only\n",
            "  x = pd.concat(x[::order], 1)\n",
            "/usr/local/lib/python3.7/dist-packages/statsmodels/tsa/tsatools.py:142: FutureWarning: In a future version of pandas all arguments of concat except for the argument 'objs' will be keyword-only\n",
            "  x = pd.concat(x[::order], 1)\n",
            "/usr/local/lib/python3.7/dist-packages/statsmodels/tsa/tsatools.py:142: FutureWarning: In a future version of pandas all arguments of concat except for the argument 'objs' will be keyword-only\n",
            "  x = pd.concat(x[::order], 1)\n",
            "/usr/local/lib/python3.7/dist-packages/statsmodels/tsa/tsatools.py:142: FutureWarning: In a future version of pandas all arguments of concat except for the argument 'objs' will be keyword-only\n",
            "  x = pd.concat(x[::order], 1)\n",
            "/usr/local/lib/python3.7/dist-packages/statsmodels/tsa/tsatools.py:142: FutureWarning: In a future version of pandas all arguments of concat except for the argument 'objs' will be keyword-only\n",
            "  x = pd.concat(x[::order], 1)\n",
            "/usr/local/lib/python3.7/dist-packages/statsmodels/tsa/tsatools.py:142: FutureWarning: In a future version of pandas all arguments of concat except for the argument 'objs' will be keyword-only\n",
            "  x = pd.concat(x[::order], 1)\n",
            "/usr/local/lib/python3.7/dist-packages/statsmodels/tsa/tsatools.py:142: FutureWarning: In a future version of pandas all arguments of concat except for the argument 'objs' will be keyword-only\n",
            "  x = pd.concat(x[::order], 1)\n",
            "/usr/local/lib/python3.7/dist-packages/statsmodels/tsa/tsatools.py:142: FutureWarning: In a future version of pandas all arguments of concat except for the argument 'objs' will be keyword-only\n",
            "  x = pd.concat(x[::order], 1)\n",
            "/usr/local/lib/python3.7/dist-packages/statsmodels/tsa/tsatools.py:142: FutureWarning: In a future version of pandas all arguments of concat except for the argument 'objs' will be keyword-only\n",
            "  x = pd.concat(x[::order], 1)\n",
            "/usr/local/lib/python3.7/dist-packages/statsmodels/tsa/tsatools.py:142: FutureWarning: In a future version of pandas all arguments of concat except for the argument 'objs' will be keyword-only\n",
            "  x = pd.concat(x[::order], 1)\n",
            "/usr/local/lib/python3.7/dist-packages/statsmodels/tsa/tsatools.py:142: FutureWarning: In a future version of pandas all arguments of concat except for the argument 'objs' will be keyword-only\n",
            "  x = pd.concat(x[::order], 1)\n",
            "/usr/local/lib/python3.7/dist-packages/statsmodels/tsa/tsatools.py:142: FutureWarning: In a future version of pandas all arguments of concat except for the argument 'objs' will be keyword-only\n",
            "  x = pd.concat(x[::order], 1)\n",
            "/usr/local/lib/python3.7/dist-packages/statsmodels/tsa/tsatools.py:142: FutureWarning: In a future version of pandas all arguments of concat except for the argument 'objs' will be keyword-only\n",
            "  x = pd.concat(x[::order], 1)\n",
            "/usr/local/lib/python3.7/dist-packages/statsmodels/tsa/tsatools.py:142: FutureWarning: In a future version of pandas all arguments of concat except for the argument 'objs' will be keyword-only\n",
            "  x = pd.concat(x[::order], 1)\n",
            "/usr/local/lib/python3.7/dist-packages/ipykernel_launcher.py:7: DeprecationWarning: The default dtype for empty Series will be 'object' instead of 'float64' in a future version. Specify a dtype explicitly to silence this warning.\n",
            "  import sys\n",
            "/usr/local/lib/python3.7/dist-packages/statsmodels/tsa/tsatools.py:142: FutureWarning: In a future version of pandas all arguments of concat except for the argument 'objs' will be keyword-only\n",
            "  x = pd.concat(x[::order], 1)\n"
          ]
        },
        {
          "output_type": "stream",
          "name": "stdout",
          "text": [
            "Add  % Silica Feed                  with p-value 0.0\n"
          ]
        },
        {
          "output_type": "stream",
          "name": "stderr",
          "text": [
            "/usr/local/lib/python3.7/dist-packages/statsmodels/tsa/tsatools.py:142: FutureWarning: In a future version of pandas all arguments of concat except for the argument 'objs' will be keyword-only\n",
            "  x = pd.concat(x[::order], 1)\n",
            "/usr/local/lib/python3.7/dist-packages/statsmodels/tsa/tsatools.py:142: FutureWarning: In a future version of pandas all arguments of concat except for the argument 'objs' will be keyword-only\n",
            "  x = pd.concat(x[::order], 1)\n",
            "/usr/local/lib/python3.7/dist-packages/statsmodels/tsa/tsatools.py:142: FutureWarning: In a future version of pandas all arguments of concat except for the argument 'objs' will be keyword-only\n",
            "  x = pd.concat(x[::order], 1)\n",
            "/usr/local/lib/python3.7/dist-packages/statsmodels/tsa/tsatools.py:142: FutureWarning: In a future version of pandas all arguments of concat except for the argument 'objs' will be keyword-only\n",
            "  x = pd.concat(x[::order], 1)\n",
            "/usr/local/lib/python3.7/dist-packages/statsmodels/tsa/tsatools.py:142: FutureWarning: In a future version of pandas all arguments of concat except for the argument 'objs' will be keyword-only\n",
            "  x = pd.concat(x[::order], 1)\n",
            "/usr/local/lib/python3.7/dist-packages/statsmodels/tsa/tsatools.py:142: FutureWarning: In a future version of pandas all arguments of concat except for the argument 'objs' will be keyword-only\n",
            "  x = pd.concat(x[::order], 1)\n",
            "/usr/local/lib/python3.7/dist-packages/statsmodels/tsa/tsatools.py:142: FutureWarning: In a future version of pandas all arguments of concat except for the argument 'objs' will be keyword-only\n",
            "  x = pd.concat(x[::order], 1)\n",
            "/usr/local/lib/python3.7/dist-packages/statsmodels/tsa/tsatools.py:142: FutureWarning: In a future version of pandas all arguments of concat except for the argument 'objs' will be keyword-only\n",
            "  x = pd.concat(x[::order], 1)\n",
            "/usr/local/lib/python3.7/dist-packages/statsmodels/tsa/tsatools.py:142: FutureWarning: In a future version of pandas all arguments of concat except for the argument 'objs' will be keyword-only\n",
            "  x = pd.concat(x[::order], 1)\n",
            "/usr/local/lib/python3.7/dist-packages/statsmodels/tsa/tsatools.py:142: FutureWarning: In a future version of pandas all arguments of concat except for the argument 'objs' will be keyword-only\n",
            "  x = pd.concat(x[::order], 1)\n",
            "/usr/local/lib/python3.7/dist-packages/statsmodels/tsa/tsatools.py:142: FutureWarning: In a future version of pandas all arguments of concat except for the argument 'objs' will be keyword-only\n",
            "  x = pd.concat(x[::order], 1)\n",
            "/usr/local/lib/python3.7/dist-packages/statsmodels/tsa/tsatools.py:142: FutureWarning: In a future version of pandas all arguments of concat except for the argument 'objs' will be keyword-only\n",
            "  x = pd.concat(x[::order], 1)\n",
            "/usr/local/lib/python3.7/dist-packages/statsmodels/tsa/tsatools.py:142: FutureWarning: In a future version of pandas all arguments of concat except for the argument 'objs' will be keyword-only\n",
            "  x = pd.concat(x[::order], 1)\n",
            "/usr/local/lib/python3.7/dist-packages/statsmodels/tsa/tsatools.py:142: FutureWarning: In a future version of pandas all arguments of concat except for the argument 'objs' will be keyword-only\n",
            "  x = pd.concat(x[::order], 1)\n",
            "/usr/local/lib/python3.7/dist-packages/statsmodels/tsa/tsatools.py:142: FutureWarning: In a future version of pandas all arguments of concat except for the argument 'objs' will be keyword-only\n",
            "  x = pd.concat(x[::order], 1)\n",
            "/usr/local/lib/python3.7/dist-packages/statsmodels/tsa/tsatools.py:142: FutureWarning: In a future version of pandas all arguments of concat except for the argument 'objs' will be keyword-only\n",
            "  x = pd.concat(x[::order], 1)\n",
            "/usr/local/lib/python3.7/dist-packages/statsmodels/tsa/tsatools.py:142: FutureWarning: In a future version of pandas all arguments of concat except for the argument 'objs' will be keyword-only\n",
            "  x = pd.concat(x[::order], 1)\n",
            "/usr/local/lib/python3.7/dist-packages/statsmodels/tsa/tsatools.py:142: FutureWarning: In a future version of pandas all arguments of concat except for the argument 'objs' will be keyword-only\n",
            "  x = pd.concat(x[::order], 1)\n"
          ]
        },
        {
          "output_type": "stream",
          "name": "stdout",
          "text": [
            "Add  Flotation Column 01 Air Flow   with p-value 0.0\n"
          ]
        },
        {
          "output_type": "stream",
          "name": "stderr",
          "text": [
            "/usr/local/lib/python3.7/dist-packages/ipykernel_launcher.py:7: DeprecationWarning: The default dtype for empty Series will be 'object' instead of 'float64' in a future version. Specify a dtype explicitly to silence this warning.\n",
            "  import sys\n",
            "/usr/local/lib/python3.7/dist-packages/statsmodels/tsa/tsatools.py:142: FutureWarning: In a future version of pandas all arguments of concat except for the argument 'objs' will be keyword-only\n",
            "  x = pd.concat(x[::order], 1)\n",
            "/usr/local/lib/python3.7/dist-packages/statsmodels/tsa/tsatools.py:142: FutureWarning: In a future version of pandas all arguments of concat except for the argument 'objs' will be keyword-only\n",
            "  x = pd.concat(x[::order], 1)\n",
            "/usr/local/lib/python3.7/dist-packages/statsmodels/tsa/tsatools.py:142: FutureWarning: In a future version of pandas all arguments of concat except for the argument 'objs' will be keyword-only\n",
            "  x = pd.concat(x[::order], 1)\n",
            "/usr/local/lib/python3.7/dist-packages/statsmodels/tsa/tsatools.py:142: FutureWarning: In a future version of pandas all arguments of concat except for the argument 'objs' will be keyword-only\n",
            "  x = pd.concat(x[::order], 1)\n",
            "/usr/local/lib/python3.7/dist-packages/statsmodels/tsa/tsatools.py:142: FutureWarning: In a future version of pandas all arguments of concat except for the argument 'objs' will be keyword-only\n",
            "  x = pd.concat(x[::order], 1)\n",
            "/usr/local/lib/python3.7/dist-packages/statsmodels/tsa/tsatools.py:142: FutureWarning: In a future version of pandas all arguments of concat except for the argument 'objs' will be keyword-only\n",
            "  x = pd.concat(x[::order], 1)\n",
            "/usr/local/lib/python3.7/dist-packages/statsmodels/tsa/tsatools.py:142: FutureWarning: In a future version of pandas all arguments of concat except for the argument 'objs' will be keyword-only\n",
            "  x = pd.concat(x[::order], 1)\n",
            "/usr/local/lib/python3.7/dist-packages/statsmodels/tsa/tsatools.py:142: FutureWarning: In a future version of pandas all arguments of concat except for the argument 'objs' will be keyword-only\n",
            "  x = pd.concat(x[::order], 1)\n",
            "/usr/local/lib/python3.7/dist-packages/statsmodels/tsa/tsatools.py:142: FutureWarning: In a future version of pandas all arguments of concat except for the argument 'objs' will be keyword-only\n",
            "  x = pd.concat(x[::order], 1)\n",
            "/usr/local/lib/python3.7/dist-packages/statsmodels/tsa/tsatools.py:142: FutureWarning: In a future version of pandas all arguments of concat except for the argument 'objs' will be keyword-only\n",
            "  x = pd.concat(x[::order], 1)\n",
            "/usr/local/lib/python3.7/dist-packages/statsmodels/tsa/tsatools.py:142: FutureWarning: In a future version of pandas all arguments of concat except for the argument 'objs' will be keyword-only\n",
            "  x = pd.concat(x[::order], 1)\n",
            "/usr/local/lib/python3.7/dist-packages/statsmodels/tsa/tsatools.py:142: FutureWarning: In a future version of pandas all arguments of concat except for the argument 'objs' will be keyword-only\n",
            "  x = pd.concat(x[::order], 1)\n",
            "/usr/local/lib/python3.7/dist-packages/statsmodels/tsa/tsatools.py:142: FutureWarning: In a future version of pandas all arguments of concat except for the argument 'objs' will be keyword-only\n",
            "  x = pd.concat(x[::order], 1)\n",
            "/usr/local/lib/python3.7/dist-packages/statsmodels/tsa/tsatools.py:142: FutureWarning: In a future version of pandas all arguments of concat except for the argument 'objs' will be keyword-only\n",
            "  x = pd.concat(x[::order], 1)\n",
            "/usr/local/lib/python3.7/dist-packages/statsmodels/tsa/tsatools.py:142: FutureWarning: In a future version of pandas all arguments of concat except for the argument 'objs' will be keyword-only\n",
            "  x = pd.concat(x[::order], 1)\n",
            "/usr/local/lib/python3.7/dist-packages/statsmodels/tsa/tsatools.py:142: FutureWarning: In a future version of pandas all arguments of concat except for the argument 'objs' will be keyword-only\n",
            "  x = pd.concat(x[::order], 1)\n",
            "/usr/local/lib/python3.7/dist-packages/statsmodels/tsa/tsatools.py:142: FutureWarning: In a future version of pandas all arguments of concat except for the argument 'objs' will be keyword-only\n",
            "  x = pd.concat(x[::order], 1)\n",
            "/usr/local/lib/python3.7/dist-packages/statsmodels/tsa/tsatools.py:142: FutureWarning: In a future version of pandas all arguments of concat except for the argument 'objs' will be keyword-only\n",
            "  x = pd.concat(x[::order], 1)\n"
          ]
        },
        {
          "output_type": "stream",
          "name": "stdout",
          "text": [
            "Add  Flotation Column 05 Air Flow   with p-value 0.0\n"
          ]
        },
        {
          "output_type": "stream",
          "name": "stderr",
          "text": [
            "/usr/local/lib/python3.7/dist-packages/ipykernel_launcher.py:7: DeprecationWarning: The default dtype for empty Series will be 'object' instead of 'float64' in a future version. Specify a dtype explicitly to silence this warning.\n",
            "  import sys\n",
            "/usr/local/lib/python3.7/dist-packages/statsmodels/tsa/tsatools.py:142: FutureWarning: In a future version of pandas all arguments of concat except for the argument 'objs' will be keyword-only\n",
            "  x = pd.concat(x[::order], 1)\n",
            "/usr/local/lib/python3.7/dist-packages/statsmodels/tsa/tsatools.py:142: FutureWarning: In a future version of pandas all arguments of concat except for the argument 'objs' will be keyword-only\n",
            "  x = pd.concat(x[::order], 1)\n",
            "/usr/local/lib/python3.7/dist-packages/statsmodels/tsa/tsatools.py:142: FutureWarning: In a future version of pandas all arguments of concat except for the argument 'objs' will be keyword-only\n",
            "  x = pd.concat(x[::order], 1)\n",
            "/usr/local/lib/python3.7/dist-packages/statsmodels/tsa/tsatools.py:142: FutureWarning: In a future version of pandas all arguments of concat except for the argument 'objs' will be keyword-only\n",
            "  x = pd.concat(x[::order], 1)\n",
            "/usr/local/lib/python3.7/dist-packages/statsmodels/tsa/tsatools.py:142: FutureWarning: In a future version of pandas all arguments of concat except for the argument 'objs' will be keyword-only\n",
            "  x = pd.concat(x[::order], 1)\n",
            "/usr/local/lib/python3.7/dist-packages/statsmodels/tsa/tsatools.py:142: FutureWarning: In a future version of pandas all arguments of concat except for the argument 'objs' will be keyword-only\n",
            "  x = pd.concat(x[::order], 1)\n",
            "/usr/local/lib/python3.7/dist-packages/statsmodels/tsa/tsatools.py:142: FutureWarning: In a future version of pandas all arguments of concat except for the argument 'objs' will be keyword-only\n",
            "  x = pd.concat(x[::order], 1)\n",
            "/usr/local/lib/python3.7/dist-packages/statsmodels/tsa/tsatools.py:142: FutureWarning: In a future version of pandas all arguments of concat except for the argument 'objs' will be keyword-only\n",
            "  x = pd.concat(x[::order], 1)\n",
            "/usr/local/lib/python3.7/dist-packages/statsmodels/tsa/tsatools.py:142: FutureWarning: In a future version of pandas all arguments of concat except for the argument 'objs' will be keyword-only\n",
            "  x = pd.concat(x[::order], 1)\n",
            "/usr/local/lib/python3.7/dist-packages/statsmodels/tsa/tsatools.py:142: FutureWarning: In a future version of pandas all arguments of concat except for the argument 'objs' will be keyword-only\n",
            "  x = pd.concat(x[::order], 1)\n",
            "/usr/local/lib/python3.7/dist-packages/statsmodels/tsa/tsatools.py:142: FutureWarning: In a future version of pandas all arguments of concat except for the argument 'objs' will be keyword-only\n",
            "  x = pd.concat(x[::order], 1)\n",
            "/usr/local/lib/python3.7/dist-packages/statsmodels/tsa/tsatools.py:142: FutureWarning: In a future version of pandas all arguments of concat except for the argument 'objs' will be keyword-only\n",
            "  x = pd.concat(x[::order], 1)\n",
            "/usr/local/lib/python3.7/dist-packages/statsmodels/tsa/tsatools.py:142: FutureWarning: In a future version of pandas all arguments of concat except for the argument 'objs' will be keyword-only\n",
            "  x = pd.concat(x[::order], 1)\n",
            "/usr/local/lib/python3.7/dist-packages/statsmodels/tsa/tsatools.py:142: FutureWarning: In a future version of pandas all arguments of concat except for the argument 'objs' will be keyword-only\n",
            "  x = pd.concat(x[::order], 1)\n",
            "/usr/local/lib/python3.7/dist-packages/statsmodels/tsa/tsatools.py:142: FutureWarning: In a future version of pandas all arguments of concat except for the argument 'objs' will be keyword-only\n",
            "  x = pd.concat(x[::order], 1)\n",
            "/usr/local/lib/python3.7/dist-packages/statsmodels/tsa/tsatools.py:142: FutureWarning: In a future version of pandas all arguments of concat except for the argument 'objs' will be keyword-only\n",
            "  x = pd.concat(x[::order], 1)\n",
            "/usr/local/lib/python3.7/dist-packages/statsmodels/tsa/tsatools.py:142: FutureWarning: In a future version of pandas all arguments of concat except for the argument 'objs' will be keyword-only\n",
            "  x = pd.concat(x[::order], 1)\n",
            "/usr/local/lib/python3.7/dist-packages/ipykernel_launcher.py:7: DeprecationWarning: The default dtype for empty Series will be 'object' instead of 'float64' in a future version. Specify a dtype explicitly to silence this warning.\n",
            "  import sys\n"
          ]
        },
        {
          "output_type": "stream",
          "name": "stdout",
          "text": [
            "Add  Flotation Column 07 Air Flow   with p-value 0.0\n"
          ]
        },
        {
          "output_type": "stream",
          "name": "stderr",
          "text": [
            "/usr/local/lib/python3.7/dist-packages/statsmodels/tsa/tsatools.py:142: FutureWarning: In a future version of pandas all arguments of concat except for the argument 'objs' will be keyword-only\n",
            "  x = pd.concat(x[::order], 1)\n",
            "/usr/local/lib/python3.7/dist-packages/statsmodels/tsa/tsatools.py:142: FutureWarning: In a future version of pandas all arguments of concat except for the argument 'objs' will be keyword-only\n",
            "  x = pd.concat(x[::order], 1)\n",
            "/usr/local/lib/python3.7/dist-packages/statsmodels/tsa/tsatools.py:142: FutureWarning: In a future version of pandas all arguments of concat except for the argument 'objs' will be keyword-only\n",
            "  x = pd.concat(x[::order], 1)\n",
            "/usr/local/lib/python3.7/dist-packages/statsmodels/tsa/tsatools.py:142: FutureWarning: In a future version of pandas all arguments of concat except for the argument 'objs' will be keyword-only\n",
            "  x = pd.concat(x[::order], 1)\n",
            "/usr/local/lib/python3.7/dist-packages/statsmodels/tsa/tsatools.py:142: FutureWarning: In a future version of pandas all arguments of concat except for the argument 'objs' will be keyword-only\n",
            "  x = pd.concat(x[::order], 1)\n",
            "/usr/local/lib/python3.7/dist-packages/statsmodels/tsa/tsatools.py:142: FutureWarning: In a future version of pandas all arguments of concat except for the argument 'objs' will be keyword-only\n",
            "  x = pd.concat(x[::order], 1)\n",
            "/usr/local/lib/python3.7/dist-packages/statsmodels/tsa/tsatools.py:142: FutureWarning: In a future version of pandas all arguments of concat except for the argument 'objs' will be keyword-only\n",
            "  x = pd.concat(x[::order], 1)\n",
            "/usr/local/lib/python3.7/dist-packages/statsmodels/tsa/tsatools.py:142: FutureWarning: In a future version of pandas all arguments of concat except for the argument 'objs' will be keyword-only\n",
            "  x = pd.concat(x[::order], 1)\n",
            "/usr/local/lib/python3.7/dist-packages/statsmodels/tsa/tsatools.py:142: FutureWarning: In a future version of pandas all arguments of concat except for the argument 'objs' will be keyword-only\n",
            "  x = pd.concat(x[::order], 1)\n",
            "/usr/local/lib/python3.7/dist-packages/statsmodels/tsa/tsatools.py:142: FutureWarning: In a future version of pandas all arguments of concat except for the argument 'objs' will be keyword-only\n",
            "  x = pd.concat(x[::order], 1)\n",
            "/usr/local/lib/python3.7/dist-packages/statsmodels/tsa/tsatools.py:142: FutureWarning: In a future version of pandas all arguments of concat except for the argument 'objs' will be keyword-only\n",
            "  x = pd.concat(x[::order], 1)\n",
            "/usr/local/lib/python3.7/dist-packages/statsmodels/tsa/tsatools.py:142: FutureWarning: In a future version of pandas all arguments of concat except for the argument 'objs' will be keyword-only\n",
            "  x = pd.concat(x[::order], 1)\n",
            "/usr/local/lib/python3.7/dist-packages/statsmodels/tsa/tsatools.py:142: FutureWarning: In a future version of pandas all arguments of concat except for the argument 'objs' will be keyword-only\n",
            "  x = pd.concat(x[::order], 1)\n",
            "/usr/local/lib/python3.7/dist-packages/statsmodels/tsa/tsatools.py:142: FutureWarning: In a future version of pandas all arguments of concat except for the argument 'objs' will be keyword-only\n",
            "  x = pd.concat(x[::order], 1)\n",
            "/usr/local/lib/python3.7/dist-packages/statsmodels/tsa/tsatools.py:142: FutureWarning: In a future version of pandas all arguments of concat except for the argument 'objs' will be keyword-only\n",
            "  x = pd.concat(x[::order], 1)\n",
            "/usr/local/lib/python3.7/dist-packages/statsmodels/tsa/tsatools.py:142: FutureWarning: In a future version of pandas all arguments of concat except for the argument 'objs' will be keyword-only\n",
            "  x = pd.concat(x[::order], 1)\n"
          ]
        },
        {
          "output_type": "stream",
          "name": "stdout",
          "text": [
            "Add  Starch Flow                    with p-value 0.0\n"
          ]
        },
        {
          "output_type": "stream",
          "name": "stderr",
          "text": [
            "/usr/local/lib/python3.7/dist-packages/ipykernel_launcher.py:7: DeprecationWarning: The default dtype for empty Series will be 'object' instead of 'float64' in a future version. Specify a dtype explicitly to silence this warning.\n",
            "  import sys\n",
            "/usr/local/lib/python3.7/dist-packages/statsmodels/tsa/tsatools.py:142: FutureWarning: In a future version of pandas all arguments of concat except for the argument 'objs' will be keyword-only\n",
            "  x = pd.concat(x[::order], 1)\n",
            "/usr/local/lib/python3.7/dist-packages/statsmodels/tsa/tsatools.py:142: FutureWarning: In a future version of pandas all arguments of concat except for the argument 'objs' will be keyword-only\n",
            "  x = pd.concat(x[::order], 1)\n",
            "/usr/local/lib/python3.7/dist-packages/statsmodels/tsa/tsatools.py:142: FutureWarning: In a future version of pandas all arguments of concat except for the argument 'objs' will be keyword-only\n",
            "  x = pd.concat(x[::order], 1)\n",
            "/usr/local/lib/python3.7/dist-packages/statsmodels/tsa/tsatools.py:142: FutureWarning: In a future version of pandas all arguments of concat except for the argument 'objs' will be keyword-only\n",
            "  x = pd.concat(x[::order], 1)\n",
            "/usr/local/lib/python3.7/dist-packages/statsmodels/tsa/tsatools.py:142: FutureWarning: In a future version of pandas all arguments of concat except for the argument 'objs' will be keyword-only\n",
            "  x = pd.concat(x[::order], 1)\n",
            "/usr/local/lib/python3.7/dist-packages/statsmodels/tsa/tsatools.py:142: FutureWarning: In a future version of pandas all arguments of concat except for the argument 'objs' will be keyword-only\n",
            "  x = pd.concat(x[::order], 1)\n",
            "/usr/local/lib/python3.7/dist-packages/statsmodels/tsa/tsatools.py:142: FutureWarning: In a future version of pandas all arguments of concat except for the argument 'objs' will be keyword-only\n",
            "  x = pd.concat(x[::order], 1)\n",
            "/usr/local/lib/python3.7/dist-packages/statsmodels/tsa/tsatools.py:142: FutureWarning: In a future version of pandas all arguments of concat except for the argument 'objs' will be keyword-only\n",
            "  x = pd.concat(x[::order], 1)\n",
            "/usr/local/lib/python3.7/dist-packages/statsmodels/tsa/tsatools.py:142: FutureWarning: In a future version of pandas all arguments of concat except for the argument 'objs' will be keyword-only\n",
            "  x = pd.concat(x[::order], 1)\n",
            "/usr/local/lib/python3.7/dist-packages/statsmodels/tsa/tsatools.py:142: FutureWarning: In a future version of pandas all arguments of concat except for the argument 'objs' will be keyword-only\n",
            "  x = pd.concat(x[::order], 1)\n",
            "/usr/local/lib/python3.7/dist-packages/statsmodels/tsa/tsatools.py:142: FutureWarning: In a future version of pandas all arguments of concat except for the argument 'objs' will be keyword-only\n",
            "  x = pd.concat(x[::order], 1)\n",
            "/usr/local/lib/python3.7/dist-packages/statsmodels/tsa/tsatools.py:142: FutureWarning: In a future version of pandas all arguments of concat except for the argument 'objs' will be keyword-only\n",
            "  x = pd.concat(x[::order], 1)\n",
            "/usr/local/lib/python3.7/dist-packages/statsmodels/tsa/tsatools.py:142: FutureWarning: In a future version of pandas all arguments of concat except for the argument 'objs' will be keyword-only\n",
            "  x = pd.concat(x[::order], 1)\n",
            "/usr/local/lib/python3.7/dist-packages/statsmodels/tsa/tsatools.py:142: FutureWarning: In a future version of pandas all arguments of concat except for the argument 'objs' will be keyword-only\n",
            "  x = pd.concat(x[::order], 1)\n",
            "/usr/local/lib/python3.7/dist-packages/statsmodels/tsa/tsatools.py:142: FutureWarning: In a future version of pandas all arguments of concat except for the argument 'objs' will be keyword-only\n",
            "  x = pd.concat(x[::order], 1)\n"
          ]
        },
        {
          "output_type": "stream",
          "name": "stdout",
          "text": [
            "Add  Flotation Column 01 Level      with p-value 0.0\n"
          ]
        },
        {
          "output_type": "stream",
          "name": "stderr",
          "text": [
            "/usr/local/lib/python3.7/dist-packages/ipykernel_launcher.py:7: DeprecationWarning: The default dtype for empty Series will be 'object' instead of 'float64' in a future version. Specify a dtype explicitly to silence this warning.\n",
            "  import sys\n",
            "/usr/local/lib/python3.7/dist-packages/statsmodels/tsa/tsatools.py:142: FutureWarning: In a future version of pandas all arguments of concat except for the argument 'objs' will be keyword-only\n",
            "  x = pd.concat(x[::order], 1)\n",
            "/usr/local/lib/python3.7/dist-packages/statsmodels/tsa/tsatools.py:142: FutureWarning: In a future version of pandas all arguments of concat except for the argument 'objs' will be keyword-only\n",
            "  x = pd.concat(x[::order], 1)\n",
            "/usr/local/lib/python3.7/dist-packages/statsmodels/tsa/tsatools.py:142: FutureWarning: In a future version of pandas all arguments of concat except for the argument 'objs' will be keyword-only\n",
            "  x = pd.concat(x[::order], 1)\n",
            "/usr/local/lib/python3.7/dist-packages/statsmodels/tsa/tsatools.py:142: FutureWarning: In a future version of pandas all arguments of concat except for the argument 'objs' will be keyword-only\n",
            "  x = pd.concat(x[::order], 1)\n",
            "/usr/local/lib/python3.7/dist-packages/statsmodels/tsa/tsatools.py:142: FutureWarning: In a future version of pandas all arguments of concat except for the argument 'objs' will be keyword-only\n",
            "  x = pd.concat(x[::order], 1)\n",
            "/usr/local/lib/python3.7/dist-packages/statsmodels/tsa/tsatools.py:142: FutureWarning: In a future version of pandas all arguments of concat except for the argument 'objs' will be keyword-only\n",
            "  x = pd.concat(x[::order], 1)\n",
            "/usr/local/lib/python3.7/dist-packages/statsmodels/tsa/tsatools.py:142: FutureWarning: In a future version of pandas all arguments of concat except for the argument 'objs' will be keyword-only\n",
            "  x = pd.concat(x[::order], 1)\n",
            "/usr/local/lib/python3.7/dist-packages/statsmodels/tsa/tsatools.py:142: FutureWarning: In a future version of pandas all arguments of concat except for the argument 'objs' will be keyword-only\n",
            "  x = pd.concat(x[::order], 1)\n",
            "/usr/local/lib/python3.7/dist-packages/statsmodels/tsa/tsatools.py:142: FutureWarning: In a future version of pandas all arguments of concat except for the argument 'objs' will be keyword-only\n",
            "  x = pd.concat(x[::order], 1)\n",
            "/usr/local/lib/python3.7/dist-packages/statsmodels/tsa/tsatools.py:142: FutureWarning: In a future version of pandas all arguments of concat except for the argument 'objs' will be keyword-only\n",
            "  x = pd.concat(x[::order], 1)\n",
            "/usr/local/lib/python3.7/dist-packages/statsmodels/tsa/tsatools.py:142: FutureWarning: In a future version of pandas all arguments of concat except for the argument 'objs' will be keyword-only\n",
            "  x = pd.concat(x[::order], 1)\n",
            "/usr/local/lib/python3.7/dist-packages/statsmodels/tsa/tsatools.py:142: FutureWarning: In a future version of pandas all arguments of concat except for the argument 'objs' will be keyword-only\n",
            "  x = pd.concat(x[::order], 1)\n",
            "/usr/local/lib/python3.7/dist-packages/statsmodels/tsa/tsatools.py:142: FutureWarning: In a future version of pandas all arguments of concat except for the argument 'objs' will be keyword-only\n",
            "  x = pd.concat(x[::order], 1)\n",
            "/usr/local/lib/python3.7/dist-packages/statsmodels/tsa/tsatools.py:142: FutureWarning: In a future version of pandas all arguments of concat except for the argument 'objs' will be keyword-only\n",
            "  x = pd.concat(x[::order], 1)\n"
          ]
        },
        {
          "output_type": "stream",
          "name": "stdout",
          "text": [
            "Add  Amina Flow                     with p-value 0.0\n"
          ]
        },
        {
          "output_type": "stream",
          "name": "stderr",
          "text": [
            "/usr/local/lib/python3.7/dist-packages/ipykernel_launcher.py:7: DeprecationWarning: The default dtype for empty Series will be 'object' instead of 'float64' in a future version. Specify a dtype explicitly to silence this warning.\n",
            "  import sys\n",
            "/usr/local/lib/python3.7/dist-packages/statsmodels/tsa/tsatools.py:142: FutureWarning: In a future version of pandas all arguments of concat except for the argument 'objs' will be keyword-only\n",
            "  x = pd.concat(x[::order], 1)\n",
            "/usr/local/lib/python3.7/dist-packages/statsmodels/tsa/tsatools.py:142: FutureWarning: In a future version of pandas all arguments of concat except for the argument 'objs' will be keyword-only\n",
            "  x = pd.concat(x[::order], 1)\n",
            "/usr/local/lib/python3.7/dist-packages/statsmodels/tsa/tsatools.py:142: FutureWarning: In a future version of pandas all arguments of concat except for the argument 'objs' will be keyword-only\n",
            "  x = pd.concat(x[::order], 1)\n",
            "/usr/local/lib/python3.7/dist-packages/statsmodels/tsa/tsatools.py:142: FutureWarning: In a future version of pandas all arguments of concat except for the argument 'objs' will be keyword-only\n",
            "  x = pd.concat(x[::order], 1)\n",
            "/usr/local/lib/python3.7/dist-packages/statsmodels/tsa/tsatools.py:142: FutureWarning: In a future version of pandas all arguments of concat except for the argument 'objs' will be keyword-only\n",
            "  x = pd.concat(x[::order], 1)\n",
            "/usr/local/lib/python3.7/dist-packages/statsmodels/tsa/tsatools.py:142: FutureWarning: In a future version of pandas all arguments of concat except for the argument 'objs' will be keyword-only\n",
            "  x = pd.concat(x[::order], 1)\n",
            "/usr/local/lib/python3.7/dist-packages/statsmodels/tsa/tsatools.py:142: FutureWarning: In a future version of pandas all arguments of concat except for the argument 'objs' will be keyword-only\n",
            "  x = pd.concat(x[::order], 1)\n",
            "/usr/local/lib/python3.7/dist-packages/statsmodels/tsa/tsatools.py:142: FutureWarning: In a future version of pandas all arguments of concat except for the argument 'objs' will be keyword-only\n",
            "  x = pd.concat(x[::order], 1)\n",
            "/usr/local/lib/python3.7/dist-packages/statsmodels/tsa/tsatools.py:142: FutureWarning: In a future version of pandas all arguments of concat except for the argument 'objs' will be keyword-only\n",
            "  x = pd.concat(x[::order], 1)\n",
            "/usr/local/lib/python3.7/dist-packages/statsmodels/tsa/tsatools.py:142: FutureWarning: In a future version of pandas all arguments of concat except for the argument 'objs' will be keyword-only\n",
            "  x = pd.concat(x[::order], 1)\n",
            "/usr/local/lib/python3.7/dist-packages/statsmodels/tsa/tsatools.py:142: FutureWarning: In a future version of pandas all arguments of concat except for the argument 'objs' will be keyword-only\n",
            "  x = pd.concat(x[::order], 1)\n",
            "/usr/local/lib/python3.7/dist-packages/statsmodels/tsa/tsatools.py:142: FutureWarning: In a future version of pandas all arguments of concat except for the argument 'objs' will be keyword-only\n",
            "  x = pd.concat(x[::order], 1)\n",
            "/usr/local/lib/python3.7/dist-packages/statsmodels/tsa/tsatools.py:142: FutureWarning: In a future version of pandas all arguments of concat except for the argument 'objs' will be keyword-only\n",
            "  x = pd.concat(x[::order], 1)\n"
          ]
        },
        {
          "output_type": "stream",
          "name": "stdout",
          "text": [
            "Add  Ore Pulp Flow                  with p-value 0.0\n"
          ]
        },
        {
          "output_type": "stream",
          "name": "stderr",
          "text": [
            "/usr/local/lib/python3.7/dist-packages/ipykernel_launcher.py:7: DeprecationWarning: The default dtype for empty Series will be 'object' instead of 'float64' in a future version. Specify a dtype explicitly to silence this warning.\n",
            "  import sys\n",
            "/usr/local/lib/python3.7/dist-packages/statsmodels/tsa/tsatools.py:142: FutureWarning: In a future version of pandas all arguments of concat except for the argument 'objs' will be keyword-only\n",
            "  x = pd.concat(x[::order], 1)\n",
            "/usr/local/lib/python3.7/dist-packages/statsmodels/tsa/tsatools.py:142: FutureWarning: In a future version of pandas all arguments of concat except for the argument 'objs' will be keyword-only\n",
            "  x = pd.concat(x[::order], 1)\n",
            "/usr/local/lib/python3.7/dist-packages/statsmodels/tsa/tsatools.py:142: FutureWarning: In a future version of pandas all arguments of concat except for the argument 'objs' will be keyword-only\n",
            "  x = pd.concat(x[::order], 1)\n",
            "/usr/local/lib/python3.7/dist-packages/statsmodels/tsa/tsatools.py:142: FutureWarning: In a future version of pandas all arguments of concat except for the argument 'objs' will be keyword-only\n",
            "  x = pd.concat(x[::order], 1)\n",
            "/usr/local/lib/python3.7/dist-packages/statsmodels/tsa/tsatools.py:142: FutureWarning: In a future version of pandas all arguments of concat except for the argument 'objs' will be keyword-only\n",
            "  x = pd.concat(x[::order], 1)\n",
            "/usr/local/lib/python3.7/dist-packages/statsmodels/tsa/tsatools.py:142: FutureWarning: In a future version of pandas all arguments of concat except for the argument 'objs' will be keyword-only\n",
            "  x = pd.concat(x[::order], 1)\n",
            "/usr/local/lib/python3.7/dist-packages/statsmodels/tsa/tsatools.py:142: FutureWarning: In a future version of pandas all arguments of concat except for the argument 'objs' will be keyword-only\n",
            "  x = pd.concat(x[::order], 1)\n",
            "/usr/local/lib/python3.7/dist-packages/statsmodels/tsa/tsatools.py:142: FutureWarning: In a future version of pandas all arguments of concat except for the argument 'objs' will be keyword-only\n",
            "  x = pd.concat(x[::order], 1)\n",
            "/usr/local/lib/python3.7/dist-packages/statsmodels/tsa/tsatools.py:142: FutureWarning: In a future version of pandas all arguments of concat except for the argument 'objs' will be keyword-only\n",
            "  x = pd.concat(x[::order], 1)\n",
            "/usr/local/lib/python3.7/dist-packages/statsmodels/tsa/tsatools.py:142: FutureWarning: In a future version of pandas all arguments of concat except for the argument 'objs' will be keyword-only\n",
            "  x = pd.concat(x[::order], 1)\n",
            "/usr/local/lib/python3.7/dist-packages/statsmodels/tsa/tsatools.py:142: FutureWarning: In a future version of pandas all arguments of concat except for the argument 'objs' will be keyword-only\n",
            "  x = pd.concat(x[::order], 1)\n",
            "/usr/local/lib/python3.7/dist-packages/statsmodels/tsa/tsatools.py:142: FutureWarning: In a future version of pandas all arguments of concat except for the argument 'objs' will be keyword-only\n",
            "  x = pd.concat(x[::order], 1)\n"
          ]
        },
        {
          "output_type": "stream",
          "name": "stdout",
          "text": [
            "Add  Flotation Column 06 Level      with p-value 0.0\n"
          ]
        },
        {
          "output_type": "stream",
          "name": "stderr",
          "text": [
            "/usr/local/lib/python3.7/dist-packages/ipykernel_launcher.py:7: DeprecationWarning: The default dtype for empty Series will be 'object' instead of 'float64' in a future version. Specify a dtype explicitly to silence this warning.\n",
            "  import sys\n",
            "/usr/local/lib/python3.7/dist-packages/statsmodels/tsa/tsatools.py:142: FutureWarning: In a future version of pandas all arguments of concat except for the argument 'objs' will be keyword-only\n",
            "  x = pd.concat(x[::order], 1)\n",
            "/usr/local/lib/python3.7/dist-packages/statsmodels/tsa/tsatools.py:142: FutureWarning: In a future version of pandas all arguments of concat except for the argument 'objs' will be keyword-only\n",
            "  x = pd.concat(x[::order], 1)\n",
            "/usr/local/lib/python3.7/dist-packages/statsmodels/tsa/tsatools.py:142: FutureWarning: In a future version of pandas all arguments of concat except for the argument 'objs' will be keyword-only\n",
            "  x = pd.concat(x[::order], 1)\n",
            "/usr/local/lib/python3.7/dist-packages/statsmodels/tsa/tsatools.py:142: FutureWarning: In a future version of pandas all arguments of concat except for the argument 'objs' will be keyword-only\n",
            "  x = pd.concat(x[::order], 1)\n",
            "/usr/local/lib/python3.7/dist-packages/statsmodels/tsa/tsatools.py:142: FutureWarning: In a future version of pandas all arguments of concat except for the argument 'objs' will be keyword-only\n",
            "  x = pd.concat(x[::order], 1)\n",
            "/usr/local/lib/python3.7/dist-packages/statsmodels/tsa/tsatools.py:142: FutureWarning: In a future version of pandas all arguments of concat except for the argument 'objs' will be keyword-only\n",
            "  x = pd.concat(x[::order], 1)\n",
            "/usr/local/lib/python3.7/dist-packages/statsmodels/tsa/tsatools.py:142: FutureWarning: In a future version of pandas all arguments of concat except for the argument 'objs' will be keyword-only\n",
            "  x = pd.concat(x[::order], 1)\n",
            "/usr/local/lib/python3.7/dist-packages/statsmodels/tsa/tsatools.py:142: FutureWarning: In a future version of pandas all arguments of concat except for the argument 'objs' will be keyword-only\n",
            "  x = pd.concat(x[::order], 1)\n",
            "/usr/local/lib/python3.7/dist-packages/statsmodels/tsa/tsatools.py:142: FutureWarning: In a future version of pandas all arguments of concat except for the argument 'objs' will be keyword-only\n",
            "  x = pd.concat(x[::order], 1)\n",
            "/usr/local/lib/python3.7/dist-packages/statsmodels/tsa/tsatools.py:142: FutureWarning: In a future version of pandas all arguments of concat except for the argument 'objs' will be keyword-only\n",
            "  x = pd.concat(x[::order], 1)\n",
            "/usr/local/lib/python3.7/dist-packages/statsmodels/tsa/tsatools.py:142: FutureWarning: In a future version of pandas all arguments of concat except for the argument 'objs' will be keyword-only\n",
            "  x = pd.concat(x[::order], 1)\n"
          ]
        },
        {
          "output_type": "stream",
          "name": "stdout",
          "text": [
            "Add  Flotation Column 05 Level      with p-value 0.0\n"
          ]
        },
        {
          "output_type": "stream",
          "name": "stderr",
          "text": [
            "/usr/local/lib/python3.7/dist-packages/ipykernel_launcher.py:7: DeprecationWarning: The default dtype for empty Series will be 'object' instead of 'float64' in a future version. Specify a dtype explicitly to silence this warning.\n",
            "  import sys\n",
            "/usr/local/lib/python3.7/dist-packages/statsmodels/tsa/tsatools.py:142: FutureWarning: In a future version of pandas all arguments of concat except for the argument 'objs' will be keyword-only\n",
            "  x = pd.concat(x[::order], 1)\n",
            "/usr/local/lib/python3.7/dist-packages/statsmodels/tsa/tsatools.py:142: FutureWarning: In a future version of pandas all arguments of concat except for the argument 'objs' will be keyword-only\n",
            "  x = pd.concat(x[::order], 1)\n",
            "/usr/local/lib/python3.7/dist-packages/statsmodels/tsa/tsatools.py:142: FutureWarning: In a future version of pandas all arguments of concat except for the argument 'objs' will be keyword-only\n",
            "  x = pd.concat(x[::order], 1)\n",
            "/usr/local/lib/python3.7/dist-packages/statsmodels/tsa/tsatools.py:142: FutureWarning: In a future version of pandas all arguments of concat except for the argument 'objs' will be keyword-only\n",
            "  x = pd.concat(x[::order], 1)\n",
            "/usr/local/lib/python3.7/dist-packages/statsmodels/tsa/tsatools.py:142: FutureWarning: In a future version of pandas all arguments of concat except for the argument 'objs' will be keyword-only\n",
            "  x = pd.concat(x[::order], 1)\n",
            "/usr/local/lib/python3.7/dist-packages/statsmodels/tsa/tsatools.py:142: FutureWarning: In a future version of pandas all arguments of concat except for the argument 'objs' will be keyword-only\n",
            "  x = pd.concat(x[::order], 1)\n",
            "/usr/local/lib/python3.7/dist-packages/statsmodels/tsa/tsatools.py:142: FutureWarning: In a future version of pandas all arguments of concat except for the argument 'objs' will be keyword-only\n",
            "  x = pd.concat(x[::order], 1)\n",
            "/usr/local/lib/python3.7/dist-packages/statsmodels/tsa/tsatools.py:142: FutureWarning: In a future version of pandas all arguments of concat except for the argument 'objs' will be keyword-only\n",
            "  x = pd.concat(x[::order], 1)\n",
            "/usr/local/lib/python3.7/dist-packages/statsmodels/tsa/tsatools.py:142: FutureWarning: In a future version of pandas all arguments of concat except for the argument 'objs' will be keyword-only\n",
            "  x = pd.concat(x[::order], 1)\n",
            "/usr/local/lib/python3.7/dist-packages/statsmodels/tsa/tsatools.py:142: FutureWarning: In a future version of pandas all arguments of concat except for the argument 'objs' will be keyword-only\n",
            "  x = pd.concat(x[::order], 1)\n"
          ]
        },
        {
          "output_type": "stream",
          "name": "stdout",
          "text": [
            "Add  Flotation Column 06 Air Flow   with p-value 0.0\n"
          ]
        },
        {
          "output_type": "stream",
          "name": "stderr",
          "text": [
            "/usr/local/lib/python3.7/dist-packages/ipykernel_launcher.py:7: DeprecationWarning: The default dtype for empty Series will be 'object' instead of 'float64' in a future version. Specify a dtype explicitly to silence this warning.\n",
            "  import sys\n",
            "/usr/local/lib/python3.7/dist-packages/statsmodels/tsa/tsatools.py:142: FutureWarning: In a future version of pandas all arguments of concat except for the argument 'objs' will be keyword-only\n",
            "  x = pd.concat(x[::order], 1)\n",
            "/usr/local/lib/python3.7/dist-packages/statsmodels/tsa/tsatools.py:142: FutureWarning: In a future version of pandas all arguments of concat except for the argument 'objs' will be keyword-only\n",
            "  x = pd.concat(x[::order], 1)\n",
            "/usr/local/lib/python3.7/dist-packages/statsmodels/tsa/tsatools.py:142: FutureWarning: In a future version of pandas all arguments of concat except for the argument 'objs' will be keyword-only\n",
            "  x = pd.concat(x[::order], 1)\n",
            "/usr/local/lib/python3.7/dist-packages/statsmodels/tsa/tsatools.py:142: FutureWarning: In a future version of pandas all arguments of concat except for the argument 'objs' will be keyword-only\n",
            "  x = pd.concat(x[::order], 1)\n",
            "/usr/local/lib/python3.7/dist-packages/statsmodels/tsa/tsatools.py:142: FutureWarning: In a future version of pandas all arguments of concat except for the argument 'objs' will be keyword-only\n",
            "  x = pd.concat(x[::order], 1)\n",
            "/usr/local/lib/python3.7/dist-packages/statsmodels/tsa/tsatools.py:142: FutureWarning: In a future version of pandas all arguments of concat except for the argument 'objs' will be keyword-only\n",
            "  x = pd.concat(x[::order], 1)\n",
            "/usr/local/lib/python3.7/dist-packages/statsmodels/tsa/tsatools.py:142: FutureWarning: In a future version of pandas all arguments of concat except for the argument 'objs' will be keyword-only\n",
            "  x = pd.concat(x[::order], 1)\n",
            "/usr/local/lib/python3.7/dist-packages/statsmodels/tsa/tsatools.py:142: FutureWarning: In a future version of pandas all arguments of concat except for the argument 'objs' will be keyword-only\n",
            "  x = pd.concat(x[::order], 1)\n",
            "/usr/local/lib/python3.7/dist-packages/statsmodels/tsa/tsatools.py:142: FutureWarning: In a future version of pandas all arguments of concat except for the argument 'objs' will be keyword-only\n",
            "  x = pd.concat(x[::order], 1)\n"
          ]
        },
        {
          "output_type": "stream",
          "name": "stdout",
          "text": [
            "Add  Flotation Column 03 Air Flow   with p-value 0.0\n"
          ]
        },
        {
          "output_type": "stream",
          "name": "stderr",
          "text": [
            "/usr/local/lib/python3.7/dist-packages/ipykernel_launcher.py:7: DeprecationWarning: The default dtype for empty Series will be 'object' instead of 'float64' in a future version. Specify a dtype explicitly to silence this warning.\n",
            "  import sys\n",
            "/usr/local/lib/python3.7/dist-packages/statsmodels/tsa/tsatools.py:142: FutureWarning: In a future version of pandas all arguments of concat except for the argument 'objs' will be keyword-only\n",
            "  x = pd.concat(x[::order], 1)\n",
            "/usr/local/lib/python3.7/dist-packages/statsmodels/tsa/tsatools.py:142: FutureWarning: In a future version of pandas all arguments of concat except for the argument 'objs' will be keyword-only\n",
            "  x = pd.concat(x[::order], 1)\n",
            "/usr/local/lib/python3.7/dist-packages/statsmodels/tsa/tsatools.py:142: FutureWarning: In a future version of pandas all arguments of concat except for the argument 'objs' will be keyword-only\n",
            "  x = pd.concat(x[::order], 1)\n",
            "/usr/local/lib/python3.7/dist-packages/statsmodels/tsa/tsatools.py:142: FutureWarning: In a future version of pandas all arguments of concat except for the argument 'objs' will be keyword-only\n",
            "  x = pd.concat(x[::order], 1)\n",
            "/usr/local/lib/python3.7/dist-packages/statsmodels/tsa/tsatools.py:142: FutureWarning: In a future version of pandas all arguments of concat except for the argument 'objs' will be keyword-only\n",
            "  x = pd.concat(x[::order], 1)\n",
            "/usr/local/lib/python3.7/dist-packages/statsmodels/tsa/tsatools.py:142: FutureWarning: In a future version of pandas all arguments of concat except for the argument 'objs' will be keyword-only\n",
            "  x = pd.concat(x[::order], 1)\n",
            "/usr/local/lib/python3.7/dist-packages/statsmodels/tsa/tsatools.py:142: FutureWarning: In a future version of pandas all arguments of concat except for the argument 'objs' will be keyword-only\n",
            "  x = pd.concat(x[::order], 1)\n",
            "/usr/local/lib/python3.7/dist-packages/statsmodels/tsa/tsatools.py:142: FutureWarning: In a future version of pandas all arguments of concat except for the argument 'objs' will be keyword-only\n",
            "  x = pd.concat(x[::order], 1)\n"
          ]
        },
        {
          "output_type": "stream",
          "name": "stdout",
          "text": [
            "Add  Ore Pulp pH                    with p-value 0.0\n"
          ]
        },
        {
          "output_type": "stream",
          "name": "stderr",
          "text": [
            "/usr/local/lib/python3.7/dist-packages/ipykernel_launcher.py:7: DeprecationWarning: The default dtype for empty Series will be 'object' instead of 'float64' in a future version. Specify a dtype explicitly to silence this warning.\n",
            "  import sys\n",
            "/usr/local/lib/python3.7/dist-packages/statsmodels/tsa/tsatools.py:142: FutureWarning: In a future version of pandas all arguments of concat except for the argument 'objs' will be keyword-only\n",
            "  x = pd.concat(x[::order], 1)\n",
            "/usr/local/lib/python3.7/dist-packages/statsmodels/tsa/tsatools.py:142: FutureWarning: In a future version of pandas all arguments of concat except for the argument 'objs' will be keyword-only\n",
            "  x = pd.concat(x[::order], 1)\n",
            "/usr/local/lib/python3.7/dist-packages/statsmodels/tsa/tsatools.py:142: FutureWarning: In a future version of pandas all arguments of concat except for the argument 'objs' will be keyword-only\n",
            "  x = pd.concat(x[::order], 1)\n",
            "/usr/local/lib/python3.7/dist-packages/statsmodels/tsa/tsatools.py:142: FutureWarning: In a future version of pandas all arguments of concat except for the argument 'objs' will be keyword-only\n",
            "  x = pd.concat(x[::order], 1)\n",
            "/usr/local/lib/python3.7/dist-packages/statsmodels/tsa/tsatools.py:142: FutureWarning: In a future version of pandas all arguments of concat except for the argument 'objs' will be keyword-only\n",
            "  x = pd.concat(x[::order], 1)\n",
            "/usr/local/lib/python3.7/dist-packages/statsmodels/tsa/tsatools.py:142: FutureWarning: In a future version of pandas all arguments of concat except for the argument 'objs' will be keyword-only\n",
            "  x = pd.concat(x[::order], 1)\n",
            "/usr/local/lib/python3.7/dist-packages/statsmodels/tsa/tsatools.py:142: FutureWarning: In a future version of pandas all arguments of concat except for the argument 'objs' will be keyword-only\n",
            "  x = pd.concat(x[::order], 1)\n"
          ]
        },
        {
          "output_type": "stream",
          "name": "stdout",
          "text": [
            "Add  % Iron Concentrate             with p-value 0.0\n"
          ]
        },
        {
          "output_type": "stream",
          "name": "stderr",
          "text": [
            "/usr/local/lib/python3.7/dist-packages/ipykernel_launcher.py:7: DeprecationWarning: The default dtype for empty Series will be 'object' instead of 'float64' in a future version. Specify a dtype explicitly to silence this warning.\n",
            "  import sys\n",
            "/usr/local/lib/python3.7/dist-packages/statsmodels/tsa/tsatools.py:142: FutureWarning: In a future version of pandas all arguments of concat except for the argument 'objs' will be keyword-only\n",
            "  x = pd.concat(x[::order], 1)\n",
            "/usr/local/lib/python3.7/dist-packages/statsmodels/tsa/tsatools.py:142: FutureWarning: In a future version of pandas all arguments of concat except for the argument 'objs' will be keyword-only\n",
            "  x = pd.concat(x[::order], 1)\n",
            "/usr/local/lib/python3.7/dist-packages/statsmodels/tsa/tsatools.py:142: FutureWarning: In a future version of pandas all arguments of concat except for the argument 'objs' will be keyword-only\n",
            "  x = pd.concat(x[::order], 1)\n",
            "/usr/local/lib/python3.7/dist-packages/statsmodels/tsa/tsatools.py:142: FutureWarning: In a future version of pandas all arguments of concat except for the argument 'objs' will be keyword-only\n",
            "  x = pd.concat(x[::order], 1)\n",
            "/usr/local/lib/python3.7/dist-packages/statsmodels/tsa/tsatools.py:142: FutureWarning: In a future version of pandas all arguments of concat except for the argument 'objs' will be keyword-only\n",
            "  x = pd.concat(x[::order], 1)\n",
            "/usr/local/lib/python3.7/dist-packages/statsmodels/tsa/tsatools.py:142: FutureWarning: In a future version of pandas all arguments of concat except for the argument 'objs' will be keyword-only\n",
            "  x = pd.concat(x[::order], 1)\n"
          ]
        },
        {
          "output_type": "stream",
          "name": "stdout",
          "text": [
            "Add  % Iron Feed                    with p-value 0.0\n"
          ]
        },
        {
          "output_type": "stream",
          "name": "stderr",
          "text": [
            "/usr/local/lib/python3.7/dist-packages/ipykernel_launcher.py:7: DeprecationWarning: The default dtype for empty Series will be 'object' instead of 'float64' in a future version. Specify a dtype explicitly to silence this warning.\n",
            "  import sys\n",
            "/usr/local/lib/python3.7/dist-packages/statsmodels/tsa/tsatools.py:142: FutureWarning: In a future version of pandas all arguments of concat except for the argument 'objs' will be keyword-only\n",
            "  x = pd.concat(x[::order], 1)\n",
            "/usr/local/lib/python3.7/dist-packages/statsmodels/tsa/tsatools.py:142: FutureWarning: In a future version of pandas all arguments of concat except for the argument 'objs' will be keyword-only\n",
            "  x = pd.concat(x[::order], 1)\n",
            "/usr/local/lib/python3.7/dist-packages/statsmodels/tsa/tsatools.py:142: FutureWarning: In a future version of pandas all arguments of concat except for the argument 'objs' will be keyword-only\n",
            "  x = pd.concat(x[::order], 1)\n",
            "/usr/local/lib/python3.7/dist-packages/statsmodels/tsa/tsatools.py:142: FutureWarning: In a future version of pandas all arguments of concat except for the argument 'objs' will be keyword-only\n",
            "  x = pd.concat(x[::order], 1)\n",
            "/usr/local/lib/python3.7/dist-packages/statsmodels/tsa/tsatools.py:142: FutureWarning: In a future version of pandas all arguments of concat except for the argument 'objs' will be keyword-only\n",
            "  x = pd.concat(x[::order], 1)\n"
          ]
        },
        {
          "output_type": "stream",
          "name": "stdout",
          "text": [
            "Add  Flotation Column 02 Level      with p-value 5.09439e-101\n"
          ]
        },
        {
          "output_type": "stream",
          "name": "stderr",
          "text": [
            "/usr/local/lib/python3.7/dist-packages/ipykernel_launcher.py:7: DeprecationWarning: The default dtype for empty Series will be 'object' instead of 'float64' in a future version. Specify a dtype explicitly to silence this warning.\n",
            "  import sys\n",
            "/usr/local/lib/python3.7/dist-packages/statsmodels/tsa/tsatools.py:142: FutureWarning: In a future version of pandas all arguments of concat except for the argument 'objs' will be keyword-only\n",
            "  x = pd.concat(x[::order], 1)\n",
            "/usr/local/lib/python3.7/dist-packages/statsmodels/tsa/tsatools.py:142: FutureWarning: In a future version of pandas all arguments of concat except for the argument 'objs' will be keyword-only\n",
            "  x = pd.concat(x[::order], 1)\n",
            "/usr/local/lib/python3.7/dist-packages/statsmodels/tsa/tsatools.py:142: FutureWarning: In a future version of pandas all arguments of concat except for the argument 'objs' will be keyword-only\n",
            "  x = pd.concat(x[::order], 1)\n",
            "/usr/local/lib/python3.7/dist-packages/statsmodels/tsa/tsatools.py:142: FutureWarning: In a future version of pandas all arguments of concat except for the argument 'objs' will be keyword-only\n",
            "  x = pd.concat(x[::order], 1)\n"
          ]
        },
        {
          "output_type": "stream",
          "name": "stdout",
          "text": [
            "Add  Flotation Column 07 Level      with p-value 2.51785e-35\n"
          ]
        },
        {
          "output_type": "stream",
          "name": "stderr",
          "text": [
            "/usr/local/lib/python3.7/dist-packages/ipykernel_launcher.py:7: DeprecationWarning: The default dtype for empty Series will be 'object' instead of 'float64' in a future version. Specify a dtype explicitly to silence this warning.\n",
            "  import sys\n",
            "/usr/local/lib/python3.7/dist-packages/statsmodels/tsa/tsatools.py:142: FutureWarning: In a future version of pandas all arguments of concat except for the argument 'objs' will be keyword-only\n",
            "  x = pd.concat(x[::order], 1)\n",
            "/usr/local/lib/python3.7/dist-packages/statsmodels/tsa/tsatools.py:142: FutureWarning: In a future version of pandas all arguments of concat except for the argument 'objs' will be keyword-only\n",
            "  x = pd.concat(x[::order], 1)\n",
            "/usr/local/lib/python3.7/dist-packages/statsmodels/tsa/tsatools.py:142: FutureWarning: In a future version of pandas all arguments of concat except for the argument 'objs' will be keyword-only\n",
            "  x = pd.concat(x[::order], 1)\n"
          ]
        },
        {
          "output_type": "stream",
          "name": "stdout",
          "text": [
            "Add  Flotation Column 04 Level      with p-value 1.34722e-31\n"
          ]
        },
        {
          "output_type": "stream",
          "name": "stderr",
          "text": [
            "/usr/local/lib/python3.7/dist-packages/ipykernel_launcher.py:7: DeprecationWarning: The default dtype for empty Series will be 'object' instead of 'float64' in a future version. Specify a dtype explicitly to silence this warning.\n",
            "  import sys\n",
            "/usr/local/lib/python3.7/dist-packages/statsmodels/tsa/tsatools.py:142: FutureWarning: In a future version of pandas all arguments of concat except for the argument 'objs' will be keyword-only\n",
            "  x = pd.concat(x[::order], 1)\n",
            "/usr/local/lib/python3.7/dist-packages/statsmodels/tsa/tsatools.py:142: FutureWarning: In a future version of pandas all arguments of concat except for the argument 'objs' will be keyword-only\n",
            "  x = pd.concat(x[::order], 1)\n"
          ]
        },
        {
          "output_type": "stream",
          "name": "stdout",
          "text": [
            "Add  Flotation Column 03 Level      with p-value 1.37799e-28\n"
          ]
        },
        {
          "output_type": "stream",
          "name": "stderr",
          "text": [
            "/usr/local/lib/python3.7/dist-packages/ipykernel_launcher.py:7: DeprecationWarning: The default dtype for empty Series will be 'object' instead of 'float64' in a future version. Specify a dtype explicitly to silence this warning.\n",
            "  import sys\n",
            "/usr/local/lib/python3.7/dist-packages/statsmodels/tsa/tsatools.py:142: FutureWarning: In a future version of pandas all arguments of concat except for the argument 'objs' will be keyword-only\n",
            "  x = pd.concat(x[::order], 1)\n"
          ]
        },
        {
          "output_type": "stream",
          "name": "stdout",
          "text": [
            "Add  Flotation Column 04 Air Flow   with p-value 1.61385e-09\n"
          ]
        },
        {
          "output_type": "stream",
          "name": "stderr",
          "text": [
            "/usr/local/lib/python3.7/dist-packages/ipykernel_launcher.py:7: DeprecationWarning: The default dtype for empty Series will be 'object' instead of 'float64' in a future version. Specify a dtype explicitly to silence this warning.\n",
            "  import sys\n"
          ]
        }
      ]
    },
    {
      "cell_type": "code",
      "source": [
        "selected_Feature"
      ],
      "metadata": {
        "colab": {
          "base_uri": "https://localhost:8080/"
        },
        "id": "wU9JB2XaA7vH",
        "outputId": "a13036a6-c298-4c5b-a18b-cce7d258e63b"
      },
      "execution_count": null,
      "outputs": [
        {
          "output_type": "execute_result",
          "data": {
            "text/plain": [
              "['Ore Pulp Density',\n",
              " 'Flotation Column 02 Air Flow',\n",
              " '% Silica Feed',\n",
              " 'Flotation Column 01 Air Flow',\n",
              " 'Flotation Column 05 Air Flow',\n",
              " 'Flotation Column 07 Air Flow',\n",
              " 'Starch Flow',\n",
              " 'Flotation Column 01 Level',\n",
              " 'Amina Flow',\n",
              " 'Ore Pulp Flow',\n",
              " 'Flotation Column 06 Level',\n",
              " 'Flotation Column 05 Level',\n",
              " 'Flotation Column 06 Air Flow',\n",
              " 'Flotation Column 03 Air Flow',\n",
              " 'Ore Pulp pH',\n",
              " '% Iron Concentrate',\n",
              " '% Iron Feed',\n",
              " 'Flotation Column 02 Level',\n",
              " 'Flotation Column 07 Level',\n",
              " 'Flotation Column 04 Level',\n",
              " 'Flotation Column 03 Level',\n",
              " 'Flotation Column 04 Air Flow']"
            ]
          },
          "metadata": {},
          "execution_count": 69
        }
      ]
    },
    {
      "cell_type": "markdown",
      "source": [
        "Ref: https://github.com/AakkashVijayakumar/stepwise-regression\n",
        "\n",
        "我參考了這位作者的 Github 實作出了 forward step-wise regression 的挑選方法\n",
        "\n",
        "這裡有一個比較重要的參數 \"threshold_in\" 代表要小於多少的 p-value 我才會做挑選，原作者並未特別定義，但我認為這個 p-value 應小於 0.01 才有顯著的重要性，因此在 Function 定義時便預設 0.01，最後選出的 Features 如下:\n",
        "\n",
        "['Ore Pulp Density',\n",
        " 'Flotation Column 02 Air Flow',\n",
        " '% Silica Feed',\n",
        " 'Flotation Column 01 Air Flow',\n",
        " 'Flotation Column 05 Air Flow',\n",
        " 'Flotation Column 07 Air Flow',\n",
        " 'Starch Flow',\n",
        " 'Flotation Column 01 Level',\n",
        " 'Amina Flow',\n",
        " 'Ore Pulp Flow',\n",
        " 'Flotation Column 06 Level',\n",
        " 'Flotation Column 05 Level',\n",
        " 'Flotation Column 06 Air Flow',\n",
        " 'Flotation Column 03 Air Flow',\n",
        " 'Ore Pulp pH',\n",
        " '% Iron Concentrate',\n",
        " '% Iron Feed',\n",
        " 'Flotation Column 02 Level',\n",
        " 'Flotation Column 07 Level',\n",
        " 'Flotation Column 04 Level',\n",
        " 'Flotation Column 03 Level',\n",
        " 'Flotation Column 04 Air Flow']\n"
      ],
      "metadata": {
        "id": "nHdVmvhIAU-H"
      }
    },
    {
      "cell_type": "markdown",
      "source": [
        "# 2-(c) 試比較(a)與(b)的結果是否一致？有何不同？"
      ],
      "metadata": {
        "id": "kbO5GBkTdpnh"
      }
    },
    {
      "cell_type": "markdown",
      "source": [
        "結果幾乎一致，只是 step-wise 的部分多選了一個 Feature \"Flotation Column 06 Air Flow\" 而 Linear regression 沒有選擇。\n",
        "\n",
        "這可能是因為 forward step-wise 是一個一個加入 Feature 再計算 p-value，而 Feature \"Flotation Column 06 Air Flow\" 計算時剛好 < 0.01 就被選進去了，這是十分有機會的，因為在 linear regression 中它也十分接近 0.01，都是 10^-2 等級的數值"
      ],
      "metadata": {
        "id": "IMMKi4C_EawA"
      }
    },
    {
      "cell_type": "markdown",
      "source": [
        "# 2-(d) 試使用脊迴歸挑選重要變數。"
      ],
      "metadata": {
        "id": "xWHMhUtLdrZ4"
      }
    },
    {
      "cell_type": "code",
      "source": [
        "from sklearn.linear_model import Lasso, LogisticRegression\n",
        "from sklearn.feature_selection import SelectFromModel\n",
        "from sklearn.linear_model import Ridge\n",
        "from sklearn.linear_model import Lasso"
      ],
      "metadata": {
        "id": "vBPdSCq-FKxB"
      },
      "execution_count": null,
      "outputs": []
    },
    {
      "cell_type": "code",
      "source": [
        "selector = SelectFromModel(Ridge())\n",
        "selector.fit(x, y)\n",
        "selected_features = selector.get_support()\n",
        "print(\"coef:\", selector.estimator_.coef_)\n",
        "\n",
        "selected_features = x.columns[selected_features]\n",
        "print(\"Selected Feature:\",len(selected_features), selected_features)\n"
      ],
      "metadata": {
        "colab": {
          "base_uri": "https://localhost:8080/"
        },
        "id": "d5UKPnBlMFyc",
        "outputId": "f86795de-51f2-46d9-dd1f-9394e92e4a97"
      },
      "execution_count": null,
      "outputs": [
        {
          "output_type": "stream",
          "name": "stdout",
          "text": [
            "coef: [ 2.55903337e-02  2.88444413e-02 -1.73563127e-05  6.82860538e-04\n",
            "  4.22754852e-03  4.59629631e-02  1.69695529e-01 -5.13776814e-03\n",
            " -1.42156749e-03 -9.81413805e-04  2.25616177e-03  1.46191171e-02\n",
            " -8.53449659e-05  1.23520426e-03 -2.85262246e-04 -1.55833014e-04\n",
            " -8.72626905e-05 -1.34605988e-04 -1.77686616e-04 -2.05340963e-04\n",
            "  1.90397747e-04 -7.87109744e-01]\n",
            "Selected Feature: 2 Index(['Ore Pulp Density', '% Iron Concentrate'], dtype='object')\n"
          ]
        }
      ]
    },
    {
      "cell_type": "markdown",
      "source": [
        "Ref: https://medium.com/@sabarirajan.kumarappan/feature-selection-by-lasso-and-ridge-regression-python-code-examples-1e8ab451b94b\n",
        "\n",
        "使用 sklearn 的 SelectFromModel 來進行 Feature Seleciton，並將 Model 設定為 Ridge Regression\n",
        "\n",
        "從上面的結果可看出，最終挑選了 ['Ore Pulp Density', '% Iron Concentrate'] 這兩個 Feature，挑選數量比前面少很多，因為其實這裡有一個參數 threshold 可以自己設定，若想要挑選更多 Feature 可以使用以下策略 : \n",
        "\n",
        "1. 首先一樣先用 default 選出 Feature\n",
        "2. 如果 Feature 數太少再逐步調整 Threshold，直到取得自己想要的 Feature\n",
        "\n",
        "因為 Feature 會根據使用情形而不同，這裡僅用最中立的 Default 值代表"
      ],
      "metadata": {
        "id": "kYHs2AvWL-LM"
      }
    },
    {
      "cell_type": "markdown",
      "source": [
        "# 2-(e) 試使用套索迴歸或適應性套索迴歸挑選重要變數。"
      ],
      "metadata": {
        "id": "gbUJ5pRRdtTC"
      }
    },
    {
      "cell_type": "code",
      "source": [
        "selector = SelectFromModel(Lasso())\n",
        "selector.fit(x, y)\n",
        "selected_features = selector.get_support()\n",
        "print(\"coef:\", selector.estimator_.coef_)\n",
        "\n",
        "selected_features = x.columns[selected_features]\n",
        "print(\"Selected Feature:\",len(selected_features) , selected_features)"
      ],
      "metadata": {
        "colab": {
          "base_uri": "https://localhost:8080/"
        },
        "id": "e6r_mN4iLhau",
        "outputId": "aabc65b9-d082-4e90-9590-d44bf038d4fd"
      },
      "execution_count": null,
      "outputs": [
        {
          "output_type": "stream",
          "name": "stdout",
          "text": [
            "coef: [-0.00000000e+00  0.00000000e+00 -6.85383038e-05  1.93270785e-03\n",
            " -0.00000000e+00 -0.00000000e+00 -0.00000000e+00 -6.96096749e-03\n",
            " -0.00000000e+00 -1.66382483e-03  0.00000000e+00 -0.00000000e+00\n",
            "  1.03975158e-03  0.00000000e+00 -0.00000000e+00 -0.00000000e+00\n",
            "  4.71856604e-05 -4.20905107e-04 -1.24211064e-03 -0.00000000e+00\n",
            " -5.03653401e-04 -0.00000000e+00]\n",
            "Selected Feature: 9 Index(['Starch Flow', 'Amina Flow', 'Flotation Column 01 Air Flow',\n",
            "       'Flotation Column 03 Air Flow', 'Flotation Column 06 Air Flow',\n",
            "       'Flotation Column 03 Level', 'Flotation Column 04 Level',\n",
            "       'Flotation Column 05 Level', 'Flotation Column 07 Level'],\n",
            "      dtype='object')\n"
          ]
        }
      ]
    },
    {
      "cell_type": "markdown",
      "source": [
        "Ref: https://medium.com/@sabarirajan.kumarappan/feature-selection-by-lasso-and-ridge-regression-python-code-examples-1e8ab451b94b\n",
        "\n",
        "使用 sklearn 的 SelectFromModel 來進行 Feature Seleciton，並將 Model 設定為 Lasso Regression\n",
        "\n",
        "從上面的結果可以看出，總共挑選出 ['Starch Flow', 'Amina Flow', 'Flotation Column 01 Air Flow',\n",
        "       'Flotation Column 03 Air Flow', 'Flotation Column 06 Air Flow',\n",
        "       'Flotation Column 03 Level', 'Flotation Column 04 Level',\n",
        "       'Flotation Column 05 Level', 'Flotation Column 07 Level'] 共 9 個 Feature\n",
        "\n",
        "Note : 這裡 threhold 一樣使用 default 值"
      ],
      "metadata": {
        "id": "XMPl-wLwL_4M"
      }
    },
    {
      "cell_type": "markdown",
      "source": [
        "# 2-(f) 試比較(d)與(e)的結果是否一致？有何不同？"
      ],
      "metadata": {
        "id": "Mr5jj2sIdvQa"
      }
    },
    {
      "cell_type": "markdown",
      "source": [
        "兩者的結果相當不同，完全沒有重複的部分。套索迴歸選出了較多的 Feature，脊迴歸責只選出 2 個 Feature。\n",
        "\n",
        "這兩種方式選出的 Feature 其實比 (a)、(b) 的方法都少很多，而且沒有重複性，或許可以將這兩個方法選取的 Feature 組合起來，當作最後的篩選結果"
      ],
      "metadata": {
        "id": "8w-UGTWTUE5s"
      }
    },
    {
      "cell_type": "markdown",
      "source": [
        "# 2-(g) 在特徵中那些特徵彼此之間高相關？若以線性迴歸預測，請問是否有共線性的問題？"
      ],
      "metadata": {
        "id": "isnWB9WFdxUZ"
      }
    },
    {
      "cell_type": "code",
      "source": [
        "# set figure size\n",
        "plt.figure(figsize=(15,10))\n",
        "\n",
        "# Generate a mask to onlyshow the bottom triangle\n",
        "mask = np.triu(np.ones_like(x.corr(), dtype=bool))\n",
        "\n",
        "sns.heatmap(x.corr(), annot=True, mask=mask, vmin=-1, vmax=1)\n",
        "plt.title('Correlation Coefficient Of Predictors')\n",
        "plt.show()"
      ],
      "metadata": {
        "colab": {
          "base_uri": "https://localhost:8080/",
          "height": 741
        },
        "id": "X1IbJA6AVNJ8",
        "outputId": "3975cffe-54fc-4551-aff1-5a716500afb4"
      },
      "execution_count": null,
      "outputs": [
        {
          "output_type": "display_data",
          "data": {
            "text/plain": [
              "<Figure size 1080x720 with 2 Axes>"
            ],
            "image/png": "[encoded data removed]"
          },
          "metadata": {
            "needs_background": "light"
          }
        }
      ]
    },
    {
      "cell_type": "markdown",
      "source": [
        "Ref : https://towardsdatascience.com/targeting-multicollinearity-with-python-3bd3b4088d0b\n",
        "\n",
        "由上圖可看出部分 Feature 之間的確有高度的相關性 (越接近-1 or 1)\n",
        "\n",
        "舉例來說 (在此定義高度相關: >0.9 or < -0.9): \n",
        "\n",
        "\"% Silica Feed\" 和 \"% Iron Feed\" = -0.97\n",
        "\n",
        "\"Flotation Column 03 Air flow\" 和 \"Flotation Column 01 Air flow\" = 0.95\n",
        "\n",
        "因為從圖中可以看出 Feature 之間有強烈的關聯性，所以線性回歸來說會有共線性的問題"
      ],
      "metadata": {
        "id": "bs88B5fMYZmJ"
      }
    },
    {
      "cell_type": "markdown",
      "source": [
        "# 2-(h) 是否可用含鐵濃度百分比來建模預測含二氧化矽濃度百分比？為什麼？可能有什麼潛在問題？如何解決？"
      ],
      "metadata": {
        "id": "Zmzdehi2dz85"
      }
    },
    {
      "cell_type": "markdown",
      "source": [
        "如果單就模型的預測來說，用含鐵濃度百分比來建模預測含二氧化矽濃度百分比是可行的，畢竟就是把這些數據丟進 Model 裡面進行預測；但就實際現場的情形可能就不適合這樣做。\n",
        "\n",
        "因為通過浮選漕篩選到最後產生出 \"含鐵濃度百分比\" 以及 \"含二氧化矽濃度百分比\"，時間上是非常相近的，也就是說當我拿到 \"含鐵濃度百分比\" 想要進行 \"含二氧化矽濃度百分比\" 的預測時，可能 \"含二氧化矽濃度百分比\" 的數值也就出來了，根本不需要預測。\n",
        "\n",
        "比較可行的解決方案是，不要使用同一階段的 \"含鐵濃度百分比\" 來預測 \"含二氧化矽濃度百分比\"，而是可以使用可能過去 10 個 timestamp 的資料，來預測下一個 timestamp 的 \"含二氧化矽濃度百分比\""
      ],
      "metadata": {
        "id": "Glb5wwsfRVUh"
      }
    },
    {
      "cell_type": "markdown",
      "source": [
        "# 3. (20%) Deep Learning"
      ],
      "metadata": {
        "id": "8_3mxAUFd4LC"
      }
    },
    {
      "cell_type": "code",
      "source": [
        "# Import需要的套件\n",
        "import os\n",
        "import numpy as np\n",
        "import cv2\n",
        "import torch\n",
        "import torch.nn as nn\n",
        "import torchvision.transforms as transforms\n",
        "import pandas as pd\n",
        "from torch.utils.data import DataLoader, Dataset\n",
        "import time"
      ],
      "metadata": {
        "id": "H0jRAqiO3W_z"
      },
      "execution_count": null,
      "outputs": []
    },
    {
      "cell_type": "markdown",
      "source": [
        "# 3-(a) (15%) For BPN (or CNN if you prefer), try to investigate the effects of changing “PARAMETERS” such as learning rates, momentum, # of hidden/convolutional layers, dropout rate, etc. Show the numerical results and “DIAGRAM” from different perspectives (e.g., MSE/accuracy, F1 score, convergence time, error of training data, error of testing data, etc.). Please show all your work in detail, in particular, you “MAY” need to design your experiments with different parameters systematically."
      ],
      "metadata": {
        "id": "IFZtHfDwd4ui"
      }
    },
    {
      "cell_type": "code",
      "source": [
        "# Data load\n",
        "path = \"./MDS_Assignment3_DRtraining.xlsx\"\n",
        "df_train = pd.read_excel(path, sheet_name=\"training\", index_col=0)\n",
        "path = \"./MDS_Assignment3_DRpredict.xlsx\"\n",
        "df_valid = pd.read_excel(path, sheet_name=\"Predict\", index_col=0)"
      ],
      "metadata": {
        "id": "x4e1iHDS3lZJ"
      },
      "execution_count": null,
      "outputs": []
    },
    {
      "cell_type": "code",
      "source": [
        "x_train = df_train.iloc[:,0:256].values\n",
        "y_train = df_train.iloc[:,256:].values\n",
        "print(\"x_train shape:\", x_train.shape)\n",
        "print(\"y_train shape:\", y_train.shape)"
      ],
      "metadata": {
        "colab": {
          "base_uri": "https://localhost:8080/"
        },
        "id": "z0KblobJ4PTq",
        "outputId": "dc0491af-8006-4da0-e04b-31ce179d4a3f"
      },
      "execution_count": null,
      "outputs": [
        {
          "output_type": "stream",
          "name": "stdout",
          "text": [
            "x_train shape: (1578, 256)\n",
            "y_train shape: (1578, 10)\n"
          ]
        }
      ]
    },
    {
      "cell_type": "code",
      "source": [
        "x_valid = df_valid.iloc[:,0:256].values\n",
        "y_valid = df_valid.iloc[:,256:].values\n",
        "print(\"x_valid shape:\", x_valid.shape)\n",
        "print(\"y_valid shape:\", y_valid.shape)"
      ],
      "metadata": {
        "colab": {
          "base_uri": "https://localhost:8080/"
        },
        "id": "9BUvTWrnAEtT",
        "outputId": "69f96e1a-a3b6-4a1c-8a0b-f4ba11721656"
      },
      "execution_count": null,
      "outputs": [
        {
          "output_type": "stream",
          "name": "stdout",
          "text": [
            "x_valid shape: (15, 256)\n",
            "y_valid shape: (15, 10)\n"
          ]
        }
      ]
    },
    {
      "cell_type": "code",
      "source": [
        "plt.imshow(x_train[1].reshape(16,16))"
      ],
      "metadata": {
        "colab": {
          "base_uri": "https://localhost:8080/",
          "height": 282
        },
        "id": "Sdj4aFF37Y_q",
        "outputId": "74c64e7a-1916-4c2f-b8ad-ced52e62901b"
      },
      "execution_count": null,
      "outputs": [
        {
          "output_type": "execute_result",
          "data": {
            "text/plain": [
              "<matplotlib.image.AxesImage at 0x7f0b1d6c9990>"
            ]
          },
          "metadata": {},
          "execution_count": 37
        },
        {
          "output_type": "display_data",
          "data": {
            "text/plain": [
              "<Figure size 432x288 with 1 Axes>"
            ],
            "image/png": "[encoded data removed]"
          },
          "metadata": {
            "needs_background": "light"
          }
        }
      ]
    },
    {
      "cell_type": "code",
      "source": [
        "x_train = x_train.reshape(-1, 16, 16, 1)\n",
        "y_train = y_train.reshape(-1, 10)\n",
        "print(\"x_train shape:\", x_train.shape)\n",
        "print(\"y_train shape:\", y_train.shape)"
      ],
      "metadata": {
        "colab": {
          "base_uri": "https://localhost:8080/"
        },
        "id": "ud8ojfUo9vsr",
        "outputId": "48a350cf-ce5c-4d44-cc4f-b070852f524e"
      },
      "execution_count": null,
      "outputs": [
        {
          "output_type": "stream",
          "name": "stdout",
          "text": [
            "x_train shape: (1578, 16, 16, 1)\n",
            "y_train shape: (1578, 10)\n"
          ]
        }
      ]
    },
    {
      "cell_type": "code",
      "source": [
        "x_valid = x_valid.reshape(-1, 16, 16, 1)\n",
        "y_valid = y_valid.reshape(-1, 10)\n",
        "print(\"x_valid shape:\", x_valid.shape)\n",
        "print(\"y_valid shape:\", y_valid.shape)"
      ],
      "metadata": {
        "colab": {
          "base_uri": "https://localhost:8080/"
        },
        "id": "JLTjK0_QAdoh",
        "outputId": "52ef5897-bb84-4a73-dac8-9b84a5068433"
      },
      "execution_count": null,
      "outputs": [
        {
          "output_type": "stream",
          "name": "stdout",
          "text": [
            "x_valid shape: (15, 16, 16, 1)\n",
            "y_valid shape: (15, 10)\n"
          ]
        }
      ]
    },
    {
      "cell_type": "code",
      "source": [
        "from torch.utils.data import DataLoader, Dataset\n",
        "class ImgDataset(Dataset):\n",
        "    def __init__(self, x, y=None):\n",
        "        self.x = torch.FloatTensor(x).permute(0,3,1,2)\n",
        "        if(y is not None):\n",
        "          self.y = torch.FloatTensor(y)\n",
        "        else:\n",
        "          self.y = None\n",
        "        # self.x = x\n",
        "        # self.y = y\n",
        "\n",
        "    def __len__(self):\n",
        "        return len(self.x)\n",
        "    def __getitem__(self, idx):\n",
        "        if(self.y is not None):\n",
        "          return self.x[idx], self.y[idx]\n",
        "        else:\n",
        "          return self.x[idx]\n"
      ],
      "metadata": {
        "id": "sydgGbDe1vY5"
      },
      "execution_count": null,
      "outputs": []
    },
    {
      "cell_type": "code",
      "source": [
        "batch_size = 16\n",
        "x_train_set = ImgDataset(x_train, y_train)\n",
        "x_train_loader = DataLoader(x_train_set, batch_size=batch_size, shuffle=True)\n",
        "x_valid_set = ImgDataset(x_valid, y_valid)\n",
        "x_valid_loader = DataLoader(x_valid_set, batch_size=batch_size, shuffle=False)"
      ],
      "metadata": {
        "id": "eXJBhPmB-VIB"
      },
      "execution_count": null,
      "outputs": []
    },
    {
      "cell_type": "code",
      "source": [
        "for data in x_valid_loader:\n",
        "  print(data[0].shape)\n",
        "  print(data[1].shape)\n",
        "  break"
      ],
      "metadata": {
        "colab": {
          "base_uri": "https://localhost:8080/"
        },
        "id": "Nq_4VSwn-gjA",
        "outputId": "96d20986-3178-4dde-a16f-cbe03c6c2e36"
      },
      "execution_count": null,
      "outputs": [
        {
          "output_type": "stream",
          "name": "stdout",
          "text": [
            "torch.Size([15, 1, 16, 16])\n",
            "torch.Size([15, 10])\n"
          ]
        }
      ]
    },
    {
      "cell_type": "code",
      "source": [
        "class CNN(nn.Module):\n",
        "    def __init__(self, feature_size):\n",
        "        super(CNN, self).__init__()\n",
        "        # torch.nn.Conv2d(in_channels, out_channels, kernel_size, stride, padding) # out_channels就是filter size\n",
        "        # torch.nn.MaxPool2d(kernel_size, stride, padding)\n",
        "        # input 維度 [圖片通道數, 長, 寬]\n",
        "        self.cnn = nn.Sequential(\n",
        "            nn.Conv2d(feature_size, 64, 3, 1, 1),  # [64, 16, 16]\n",
        "            nn.BatchNorm2d(64),\n",
        "            nn.ReLU(),\n",
        "            nn.Conv2d(64, 64, 3, 1, 1), # [64, 16, 16]\n",
        "            nn.BatchNorm2d(64),\n",
        "            nn.ReLU(),\n",
        "            # nn.MaxPool2d(2, 2, 0),      # [64, 8, 8]\n",
        "\n",
        "            # nn.Conv2d(64, 128, 3, 1, 1), # [128, 8, 8]\n",
        "            # nn.BatchNorm2d(128),\n",
        "            # nn.ReLU(),\n",
        "            # nn.Conv2d(128, 256, 3, 1, 1), # [256, 8, 8]\n",
        "            # nn.BatchNorm2d(256),\n",
        "            # nn.ReLU(),\n",
        "            # nn.MaxPool2d(2, 2, 0),       # [256, 4, 4]\n",
        "\n",
        "        )\n",
        "        self.fc = nn.Sequential(\n",
        "            nn.Linear(64*16*16, 512),\n",
        "            nn.ReLU(),\n",
        "            nn.Linear(512, 256),\n",
        "            nn.ReLU(),\n",
        "            nn.Linear(256, 128),\n",
        "            nn.ReLU(),\n",
        "            nn.Linear(128, 10)\n",
        "        )\n",
        "\n",
        "    def forward(self, x):\n",
        "        out = self.cnn(x)\n",
        "        out = out.view(out.size()[0], -1) # 好像就是flatting\n",
        "        return self.fc(out)"
      ],
      "metadata": {
        "id": "OxdzcLEe-5DR"
      },
      "execution_count": null,
      "outputs": []
    },
    {
      "cell_type": "code",
      "source": [
        "len(x_train)"
      ],
      "metadata": {
        "colab": {
          "base_uri": "https://localhost:8080/"
        },
        "id": "7JweOu_wS1EI",
        "outputId": "1b492c61-3de5-44dc-acaf-c0f8ebe691af"
      },
      "execution_count": null,
      "outputs": [
        {
          "output_type": "execute_result",
          "data": {
            "text/plain": [
              "1578"
            ]
          },
          "metadata": {},
          "execution_count": 23
        }
      ]
    },
    {
      "cell_type": "code",
      "source": [
        "# CNN for 化合物\n",
        "model= CNN(feature_size=x_train.shape[3]).cuda() # cuda()代表放進GPU裡面準備使用\n",
        "loss = nn.MSELoss()  # 因為是 classification task，所以 loss 使用 CrossEntropyLoss # CrossEntropyLoss有自動幫我們使用softmax了\n",
        "optimizer = torch.optim.Adam(model.parameters(), lr=0.001) # optimizer 使用 Adam\n",
        "num_epoch = 1000\n",
        "\n",
        "best_val_loss = 1000\n",
        "\n",
        "for epoch in range(num_epoch):\n",
        "\n",
        "    train_acc = 0.0\n",
        "    val_acc = 0.0\n",
        "\n",
        "    train_loss = 0.0\n",
        "    val_loss = 0.0\n",
        "\n",
        "    train_updata_times = 0\n",
        "    val_updata_times = 0\n",
        "\n",
        "\n",
        "    model.train() # 確保 model 是在 train mode (開啟 Dropout 等...)\n",
        "    for i, data in enumerate(x_train_loader):\n",
        "        optimizer.zero_grad() # 用 optimizer 將 model 參數的 gradient 歸零\n",
        "        train_pred = model(data[0].cuda()) # 利用 model 得到預測的機率分佈 這邊實際上就是去呼叫 model 的 forward 函數 # data.cuda()將記憶體中的數據放到GPU的顯存上，因為batch = 128，所以有128個預測結果，shape=(128,共有幾類)\n",
        "        batch_loss = loss(train_pred, data[1].cuda()) # 計算 loss （注意 prediction 跟 label 必須同時在 CPU 或是 GPU 上）\n",
        "        batch_loss.backward() # 利用 back propagation 算出每個參數的 gradient\n",
        "        optimizer.step() # 以 optimizer 用 gradient 更新參數值\n",
        "\n",
        "        train_acc += np.sum(np.argmax(train_pred.cpu().data.numpy(), axis=1) == data[1].numpy()) # np.argmax(train_pred.cpu().data.numpy(), axis=1)會選出每次預測中機率最高的，然後跟data[1]對比，看有幾個正確\n",
        "        train_loss += batch_loss.item() #.item()可以取得loss值\n",
        "        train_updata_times += 1 \n",
        "\n",
        "        # for pred in train_pred:\n",
        "        #   all_train_pred.append(pred.detach().cpu().numpy().tolist())\n",
        "    \n",
        "    model.eval() # 從 train mode 轉成 eval mode\n",
        "    with torch.no_grad():\n",
        "        for i, data in enumerate(x_valid_loader):\n",
        "            val_pred = model(data[0].cuda())\n",
        "            batch_loss = loss(val_pred, data[1].cuda())\n",
        "\n",
        "            val_acc += np.sum(np.argmax(val_pred.cpu().data.numpy(), axis=1) == data[1].numpy())\n",
        "            val_loss += batch_loss.item()\n",
        "            val_updata_times += 1\n",
        "\n",
        "            # for pred in val_pred:\n",
        "            #   all_val_pred.append(pred.detach().cpu().numpy().tolist())\n",
        "\n",
        "        # save weight\n",
        "        temp_best_loss = val_loss/val_updata_times\n",
        "        if(temp_best_loss < best_val_loss):\n",
        "          best_val_loss = temp_best_loss\n",
        "          torch.save(model.state_dict(), \"weight.pt\")\n",
        "\n",
        "        #將結果 print 出來\n",
        "        print(\"Epoch:\", str(epoch+1)+\"/\"+str(num_epoch), \"Train loss:\", train_loss/train_updata_times, \"Val loss:\", val_loss/val_updata_times\n",
        "              , \"Train accu:\", train_acc/len(x_train), \"Val aacu:\", val_acc/len(x_valid))"
      ],
      "metadata": {
        "colab": {
          "base_uri": "https://localhost:8080/",
          "height": 1000
        },
        "id": "mzG49Zl0_K2Z",
        "outputId": "9d97055f-af8a-46b7-f2bf-e6ee6d7019fc"
      },
      "execution_count": null,
      "outputs": [
        {
          "output_type": "stream",
          "name": "stderr",
          "text": [
            "/usr/local/lib/python3.7/dist-packages/ipykernel_launcher.py:29: DeprecationWarning: elementwise comparison failed; this will raise an error in the future.\n",
            "/usr/local/lib/python3.7/dist-packages/ipykernel_launcher.py:42: DeprecationWarning: elementwise comparison failed; this will raise an error in the future.\n"
          ]
        },
        {
          "output_type": "stream",
          "name": "stdout",
          "text": [
            "Epoch: 1/1000 Train loss: 0.04732410411228134 Val loss: nan Train accu: 0.010773130544993664 Val aacu: 0.0\n",
            "Epoch: 2/1000 Train loss: 0.009348494616910966 Val loss: nan Train accu: 0.010773130544993664 Val aacu: 0.0\n",
            "Epoch: 3/1000 Train loss: 0.0038757306192013802 Val loss: nan Train accu: 0.0063371356147021544 Val aacu: 0.0\n",
            "Epoch: 4/1000 Train loss: 0.0015455484207992376 Val loss: nan Train accu: 0.0 Val aacu: 0.0\n",
            "Epoch: 5/1000 Train loss: 0.0007189309795979749 Val loss: nan Train accu: 0.0063371356147021544 Val aacu: 0.0\n",
            "Epoch: 6/1000 Train loss: 0.0004258158985958105 Val loss: nan Train accu: 0.005703422053231939 Val aacu: 0.0\n",
            "Epoch: 7/1000 Train loss: 0.0003323874968713187 Val loss: nan Train accu: 0.0006337135614702154 Val aacu: 0.0\n",
            "Epoch: 8/1000 Train loss: 0.00023868248719754957 Val loss: nan Train accu: 0.00697084917617237 Val aacu: 0.0\n",
            "Epoch: 9/1000 Train loss: 0.00024417242086127944 Val loss: nan Train accu: 0.011406844106463879 Val aacu: 0.0\n",
            "Epoch: 10/1000 Train loss: 0.0002033478674341247 Val loss: nan Train accu: 0.0025348542458808617 Val aacu: 0.0\n",
            "Epoch: 11/1000 Train loss: 0.00017623306212963236 Val loss: nan Train accu: 0.0006337135614702154 Val aacu: 0.0\n",
            "Epoch: 12/1000 Train loss: 0.00018428739742669888 Val loss: nan Train accu: 0.018377693282636248 Val aacu: 0.0\n",
            "Epoch: 13/1000 Train loss: 0.0002110060696864049 Val loss: nan Train accu: 0.005069708491761723 Val aacu: 0.0\n",
            "Epoch: 14/1000 Train loss: 0.000176957024762882 Val loss: nan Train accu: 0.005069708491761723 Val aacu: 0.0\n",
            "Epoch: 15/1000 Train loss: 0.00017253762559972307 Val loss: nan Train accu: 0.0076045627376425855 Val aacu: 0.0\n",
            "Epoch: 16/1000 Train loss: 0.00016840990502540155 Val loss: nan Train accu: 0.00697084917617237 Val aacu: 0.0\n",
            "Epoch: 17/1000 Train loss: 0.00016907543841175585 Val loss: nan Train accu: 0.017743979721166033 Val aacu: 0.0\n",
            "Epoch: 18/1000 Train loss: 0.0001715849901283762 Val loss: nan Train accu: 0.00697084917617237 Val aacu: 0.0\n",
            "Epoch: 19/1000 Train loss: 0.00024933396064561104 Val loss: nan Train accu: 0.01394169835234474 Val aacu: 0.0\n",
            "Epoch: 20/1000 Train loss: 0.0004916757026527341 Val loss: nan Train accu: 0.0 Val aacu: 0.0\n",
            "Epoch: 21/1000 Train loss: 0.0010772478047081015 Val loss: nan Train accu: 0.0 Val aacu: 0.0\n",
            "Epoch: 22/1000 Train loss: 0.0048089304261586885 Val loss: nan Train accu: 0.0063371356147021544 Val aacu: 0.0\n",
            "Epoch: 23/1000 Train loss: 0.006597776782012197 Val loss: nan Train accu: 0.005703422053231939 Val aacu: 0.0\n",
            "Epoch: 24/1000 Train loss: 0.0026341465559336498 Val loss: nan Train accu: 0.0025348542458808617 Val aacu: 0.0\n",
            "Epoch: 25/1000 Train loss: 0.0006802893104678434 Val loss: nan Train accu: 0.005703422053231939 Val aacu: 0.0\n",
            "Epoch: 26/1000 Train loss: 0.00022798037183508653 Val loss: nan Train accu: 0.0006337135614702154 Val aacu: 0.0\n",
            "Epoch: 27/1000 Train loss: 0.00013741361217766134 Val loss: nan Train accu: 0.0 Val aacu: 0.0\n",
            "Epoch: 28/1000 Train loss: 0.00010697795850585798 Val loss: nan Train accu: 0.00697084917617237 Val aacu: 0.0\n",
            "Epoch: 29/1000 Train loss: 8.719082214873086e-05 Val loss: nan Train accu: 0.005069708491761723 Val aacu: 0.0\n",
            "Epoch: 30/1000 Train loss: 9.120020805505302e-05 Val loss: nan Train accu: 0.012040557667934094 Val aacu: 0.0\n",
            "Epoch: 31/1000 Train loss: 6.865246519516927e-05 Val loss: nan Train accu: 0.0076045627376425855 Val aacu: 0.0\n",
            "Epoch: 32/1000 Train loss: 6.427546759368852e-05 Val loss: nan Train accu: 0.0006337135614702154 Val aacu: 0.0\n",
            "Epoch: 33/1000 Train loss: 6.907056555027881e-05 Val loss: nan Train accu: 0.012040557667934094 Val aacu: 0.0\n",
            "Epoch: 34/1000 Train loss: 6.069391356229034e-05 Val loss: nan Train accu: 0.004435994930291508 Val aacu: 0.0\n",
            "Epoch: 35/1000 Train loss: 4.497765693293221e-05 Val loss: nan Train accu: 0.0 Val aacu: 0.0\n",
            "Epoch: 36/1000 Train loss: 4.503148283210884e-05 Val loss: nan Train accu: 0.00697084917617237 Val aacu: 0.0\n",
            "Epoch: 37/1000 Train loss: 8.865621070568027e-05 Val loss: nan Train accu: 0.013307984790874524 Val aacu: 0.0\n",
            "Epoch: 38/1000 Train loss: 6.426476818777508e-05 Val loss: nan Train accu: 0.0006337135614702154 Val aacu: 0.0\n",
            "Epoch: 39/1000 Train loss: 5.4431862313643736e-05 Val loss: nan Train accu: 0.0006337135614702154 Val aacu: 0.0\n",
            "Epoch: 40/1000 Train loss: 5.767451776509088e-05 Val loss: nan Train accu: 0.015842839036755388 Val aacu: 0.0\n",
            "Epoch: 41/1000 Train loss: 6.193858379529874e-05 Val loss: nan Train accu: 0.011406844106463879 Val aacu: 0.0\n",
            "Epoch: 42/1000 Train loss: 0.00011146271785349595 Val loss: nan Train accu: 0.015209125475285171 Val aacu: 0.0\n",
            "Epoch: 43/1000 Train loss: 9.156407858509655e-05 Val loss: nan Train accu: 0.013307984790874524 Val aacu: 0.0\n",
            "Epoch: 44/1000 Train loss: 7.049876461164188e-05 Val loss: nan Train accu: 0.010773130544993664 Val aacu: 0.0\n",
            "Epoch: 45/1000 Train loss: 5.534621968855399e-05 Val loss: nan Train accu: 0.0063371356147021544 Val aacu: 0.0\n",
            "Epoch: 46/1000 Train loss: 6.535853860597596e-05 Val loss: nan Train accu: 0.0063371356147021544 Val aacu: 0.0\n",
            "Epoch: 47/1000 Train loss: 6.576012000174031e-05 Val loss: nan Train accu: 0.0 Val aacu: 0.0\n",
            "Epoch: 48/1000 Train loss: 5.6495490376490655e-05 Val loss: nan Train accu: 0.0063371356147021544 Val aacu: 0.0\n",
            "Epoch: 49/1000 Train loss: 5.1962340655860096e-05 Val loss: nan Train accu: 0.0019011406844106464 Val aacu: 0.0\n",
            "Epoch: 50/1000 Train loss: 5.5948792541672406e-05 Val loss: nan Train accu: 0.0006337135614702154 Val aacu: 0.0\n",
            "Epoch: 51/1000 Train loss: 6.67427414766574e-05 Val loss: nan Train accu: 0.0063371356147021544 Val aacu: 0.0\n",
            "Epoch: 52/1000 Train loss: 8.158699520116888e-05 Val loss: nan Train accu: 0.005703422053231939 Val aacu: 0.0\n",
            "Epoch: 53/1000 Train loss: 0.00011615304378431051 Val loss: nan Train accu: 0.011406844106463879 Val aacu: 0.0\n",
            "Epoch: 54/1000 Train loss: 0.0001484066711102537 Val loss: nan Train accu: 0.011406844106463879 Val aacu: 0.0\n",
            "Epoch: 55/1000 Train loss: 0.00018023283484231944 Val loss: nan Train accu: 0.0019011406844106464 Val aacu: 0.0\n",
            "Epoch: 56/1000 Train loss: 0.00016407611830726812 Val loss: nan Train accu: 0.0 Val aacu: 0.0\n",
            "Epoch: 57/1000 Train loss: 0.00014907497266775487 Val loss: nan Train accu: 0.010773130544993664 Val aacu: 0.0\n",
            "Epoch: 58/1000 Train loss: 0.0001388245750282717 Val loss: nan Train accu: 0.0063371356147021544 Val aacu: 0.0\n",
            "Epoch: 59/1000 Train loss: 0.00010415818016756223 Val loss: nan Train accu: 0.0 Val aacu: 0.0\n",
            "Epoch: 60/1000 Train loss: 0.00010250589879102667 Val loss: nan Train accu: 0.0063371356147021544 Val aacu: 0.0\n",
            "Epoch: 61/1000 Train loss: 0.00025333808041224726 Val loss: nan Train accu: 0.0006337135614702154 Val aacu: 0.0\n",
            "Epoch: 62/1000 Train loss: 0.0005334645515305432 Val loss: nan Train accu: 0.0006337135614702154 Val aacu: 0.0\n",
            "Epoch: 63/1000 Train loss: 0.0031068966273604093 Val loss: nan Train accu: 0.005703422053231939 Val aacu: 0.0\n",
            "Epoch: 64/1000 Train loss: 0.0023323183428293867 Val loss: nan Train accu: 0.0063371356147021544 Val aacu: 0.0\n",
            "Epoch: 65/1000 Train loss: 0.0006046848221108167 Val loss: nan Train accu: 0.0063371356147021544 Val aacu: 0.0\n",
            "Epoch: 66/1000 Train loss: 0.0008990958462659778 Val loss: nan Train accu: 0.00697084917617237 Val aacu: 0.0\n",
            "Epoch: 67/1000 Train loss: 0.000681674687340009 Val loss: nan Train accu: 0.008238276299112801 Val aacu: 0.0\n",
            "Epoch: 68/1000 Train loss: 0.00014294443969971104 Val loss: nan Train accu: 0.0063371356147021544 Val aacu: 0.0\n",
            "Epoch: 69/1000 Train loss: 0.00010114014447834861 Val loss: nan Train accu: 0.0 Val aacu: 0.0\n",
            "Epoch: 70/1000 Train loss: 8.095020748809512e-05 Val loss: nan Train accu: 0.02091254752851711 Val aacu: 0.0\n",
            "Epoch: 71/1000 Train loss: 6.89603751041689e-05 Val loss: nan Train accu: 0.0 Val aacu: 0.0\n",
            "Epoch: 72/1000 Train loss: 5.118570725519958e-05 Val loss: nan Train accu: 0.012674271229404309 Val aacu: 0.0\n",
            "Epoch: 73/1000 Train loss: 3.571274155179671e-05 Val loss: nan Train accu: 0.0 Val aacu: 0.0\n",
            "Epoch: 74/1000 Train loss: 3.0539203924656085e-05 Val loss: nan Train accu: 0.0 Val aacu: 0.0\n",
            "Epoch: 75/1000 Train loss: 2.5961068997569994e-05 Val loss: nan Train accu: 0.0063371356147021544 Val aacu: 0.0\n",
            "Epoch: 76/1000 Train loss: 2.553506214778713e-05 Val loss: nan Train accu: 0.0076045627376425855 Val aacu: 0.0\n",
            "Epoch: 77/1000 Train loss: 2.9486359059287357e-05 Val loss: nan Train accu: 0.017743979721166033 Val aacu: 0.0\n"
          ]
        },
        {
          "output_type": "error",
          "ename": "KeyboardInterrupt",
          "evalue": "ignored",
          "traceback": [
            "\u001b[0;31m---------------------------------------------------------------------------\u001b[0m",
            "\u001b[0;31mKeyboardInterrupt\u001b[0m                         Traceback (most recent call last)",
            "\u001b[0;32m<ipython-input-25-329a6d266d63>\u001b[0m in \u001b[0;36m<module>\u001b[0;34m\u001b[0m\n\u001b[1;32m     25\u001b[0m         \u001b[0mbatch_loss\u001b[0m \u001b[0;34m=\u001b[0m \u001b[0mloss\u001b[0m\u001b[0;34m(\u001b[0m\u001b[0mtrain_pred\u001b[0m\u001b[0;34m,\u001b[0m \u001b[0mdata\u001b[0m\u001b[0;34m[\u001b[0m\u001b[0;36m1\u001b[0m\u001b[0;34m]\u001b[0m\u001b[0;34m.\u001b[0m\u001b[0mcuda\u001b[0m\u001b[0;34m(\u001b[0m\u001b[0;34m)\u001b[0m\u001b[0;34m)\u001b[0m \u001b[0;31m# 計算 loss （注意 prediction 跟 label 必須同時在 CPU 或是 GPU 上）\u001b[0m\u001b[0;34m\u001b[0m\u001b[0;34m\u001b[0m\u001b[0m\n\u001b[1;32m     26\u001b[0m         \u001b[0mbatch_loss\u001b[0m\u001b[0;34m.\u001b[0m\u001b[0mbackward\u001b[0m\u001b[0;34m(\u001b[0m\u001b[0;34m)\u001b[0m \u001b[0;31m# 利用 back propagation 算出每個參數的 gradient\u001b[0m\u001b[0;34m\u001b[0m\u001b[0;34m\u001b[0m\u001b[0m\n\u001b[0;32m---> 27\u001b[0;31m         \u001b[0moptimizer\u001b[0m\u001b[0;34m.\u001b[0m\u001b[0mstep\u001b[0m\u001b[0;34m(\u001b[0m\u001b[0;34m)\u001b[0m \u001b[0;31m# 以 optimizer 用 gradient 更新參數值\u001b[0m\u001b[0;34m\u001b[0m\u001b[0;34m\u001b[0m\u001b[0m\n\u001b[0m\u001b[1;32m     28\u001b[0m \u001b[0;34m\u001b[0m\u001b[0m\n\u001b[1;32m     29\u001b[0m         \u001b[0mtrain_acc\u001b[0m \u001b[0;34m+=\u001b[0m \u001b[0mnp\u001b[0m\u001b[0;34m.\u001b[0m\u001b[0msum\u001b[0m\u001b[0;34m(\u001b[0m\u001b[0mnp\u001b[0m\u001b[0;34m.\u001b[0m\u001b[0margmax\u001b[0m\u001b[0;34m(\u001b[0m\u001b[0mtrain_pred\u001b[0m\u001b[0;34m.\u001b[0m\u001b[0mcpu\u001b[0m\u001b[0;34m(\u001b[0m\u001b[0;34m)\u001b[0m\u001b[0;34m.\u001b[0m\u001b[0mdata\u001b[0m\u001b[0;34m.\u001b[0m\u001b[0mnumpy\u001b[0m\u001b[0;34m(\u001b[0m\u001b[0;34m)\u001b[0m\u001b[0;34m,\u001b[0m \u001b[0maxis\u001b[0m\u001b[0;34m=\u001b[0m\u001b[0;36m1\u001b[0m\u001b[0;34m)\u001b[0m \u001b[0;34m==\u001b[0m \u001b[0mdata\u001b[0m\u001b[0;34m[\u001b[0m\u001b[0;36m1\u001b[0m\u001b[0;34m]\u001b[0m\u001b[0;34m.\u001b[0m\u001b[0mnumpy\u001b[0m\u001b[0;34m(\u001b[0m\u001b[0;34m)\u001b[0m\u001b[0;34m)\u001b[0m \u001b[0;31m# np.argmax(train_pred.cpu().data.numpy(), axis=1)會選出每次預測中機率最高的，然後跟data[1]對比，看有幾個正確\u001b[0m\u001b[0;34m\u001b[0m\u001b[0;34m\u001b[0m\u001b[0m\n",
            "\u001b[0;32m/usr/local/lib/python3.7/dist-packages/torch/optim/optimizer.py\u001b[0m in \u001b[0;36mwrapper\u001b[0;34m(*args, **kwargs)\u001b[0m\n\u001b[1;32m    111\u001b[0m                 \u001b[0mprofile_name\u001b[0m \u001b[0;34m=\u001b[0m \u001b[0;34m\"Optimizer.step#{}.step\"\u001b[0m\u001b[0;34m.\u001b[0m\u001b[0mformat\u001b[0m\u001b[0;34m(\u001b[0m\u001b[0mobj\u001b[0m\u001b[0;34m.\u001b[0m\u001b[0m__class__\u001b[0m\u001b[0;34m.\u001b[0m\u001b[0m__name__\u001b[0m\u001b[0;34m)\u001b[0m\u001b[0;34m\u001b[0m\u001b[0;34m\u001b[0m\u001b[0m\n\u001b[1;32m    112\u001b[0m                 \u001b[0;32mwith\u001b[0m \u001b[0mtorch\u001b[0m\u001b[0;34m.\u001b[0m\u001b[0mautograd\u001b[0m\u001b[0;34m.\u001b[0m\u001b[0mprofiler\u001b[0m\u001b[0;34m.\u001b[0m\u001b[0mrecord_function\u001b[0m\u001b[0;34m(\u001b[0m\u001b[0mprofile_name\u001b[0m\u001b[0;34m)\u001b[0m\u001b[0;34m:\u001b[0m\u001b[0;34m\u001b[0m\u001b[0;34m\u001b[0m\u001b[0m\n\u001b[0;32m--> 113\u001b[0;31m                     \u001b[0;32mreturn\u001b[0m \u001b[0mfunc\u001b[0m\u001b[0;34m(\u001b[0m\u001b[0;34m*\u001b[0m\u001b[0margs\u001b[0m\u001b[0;34m,\u001b[0m \u001b[0;34m**\u001b[0m\u001b[0mkwargs\u001b[0m\u001b[0;34m)\u001b[0m\u001b[0;34m\u001b[0m\u001b[0;34m\u001b[0m\u001b[0m\n\u001b[0m\u001b[1;32m    114\u001b[0m             \u001b[0;32mreturn\u001b[0m \u001b[0mwrapper\u001b[0m\u001b[0;34m\u001b[0m\u001b[0;34m\u001b[0m\u001b[0m\n\u001b[1;32m    115\u001b[0m \u001b[0;34m\u001b[0m\u001b[0m\n",
            "\u001b[0;32m/usr/local/lib/python3.7/dist-packages/torch/autograd/grad_mode.py\u001b[0m in \u001b[0;36mdecorate_context\u001b[0;34m(*args, **kwargs)\u001b[0m\n\u001b[1;32m     25\u001b[0m         \u001b[0;32mdef\u001b[0m \u001b[0mdecorate_context\u001b[0m\u001b[0;34m(\u001b[0m\u001b[0;34m*\u001b[0m\u001b[0margs\u001b[0m\u001b[0;34m,\u001b[0m \u001b[0;34m**\u001b[0m\u001b[0mkwargs\u001b[0m\u001b[0;34m)\u001b[0m\u001b[0;34m:\u001b[0m\u001b[0;34m\u001b[0m\u001b[0;34m\u001b[0m\u001b[0m\n\u001b[1;32m     26\u001b[0m             \u001b[0;32mwith\u001b[0m \u001b[0mself\u001b[0m\u001b[0;34m.\u001b[0m\u001b[0mclone\u001b[0m\u001b[0;34m(\u001b[0m\u001b[0;34m)\u001b[0m\u001b[0;34m:\u001b[0m\u001b[0;34m\u001b[0m\u001b[0;34m\u001b[0m\u001b[0m\n\u001b[0;32m---> 27\u001b[0;31m                 \u001b[0;32mreturn\u001b[0m \u001b[0mfunc\u001b[0m\u001b[0;34m(\u001b[0m\u001b[0;34m*\u001b[0m\u001b[0margs\u001b[0m\u001b[0;34m,\u001b[0m \u001b[0;34m**\u001b[0m\u001b[0mkwargs\u001b[0m\u001b[0;34m)\u001b[0m\u001b[0;34m\u001b[0m\u001b[0;34m\u001b[0m\u001b[0m\n\u001b[0m\u001b[1;32m     28\u001b[0m         \u001b[0;32mreturn\u001b[0m \u001b[0mcast\u001b[0m\u001b[0;34m(\u001b[0m\u001b[0mF\u001b[0m\u001b[0;34m,\u001b[0m \u001b[0mdecorate_context\u001b[0m\u001b[0;34m)\u001b[0m\u001b[0;34m\u001b[0m\u001b[0;34m\u001b[0m\u001b[0m\n\u001b[1;32m     29\u001b[0m \u001b[0;34m\u001b[0m\u001b[0m\n",
            "\u001b[0;32m/usr/local/lib/python3.7/dist-packages/torch/optim/adam.py\u001b[0m in \u001b[0;36mstep\u001b[0;34m(self, closure)\u001b[0m\n\u001b[1;32m    169\u001b[0m                  \u001b[0mmaximize\u001b[0m\u001b[0;34m=\u001b[0m\u001b[0mgroup\u001b[0m\u001b[0;34m[\u001b[0m\u001b[0;34m'maximize'\u001b[0m\u001b[0;34m]\u001b[0m\u001b[0;34m,\u001b[0m\u001b[0;34m\u001b[0m\u001b[0;34m\u001b[0m\u001b[0m\n\u001b[1;32m    170\u001b[0m                  \u001b[0mforeach\u001b[0m\u001b[0;34m=\u001b[0m\u001b[0mgroup\u001b[0m\u001b[0;34m[\u001b[0m\u001b[0;34m'foreach'\u001b[0m\u001b[0;34m]\u001b[0m\u001b[0;34m,\u001b[0m\u001b[0;34m\u001b[0m\u001b[0;34m\u001b[0m\u001b[0m\n\u001b[0;32m--> 171\u001b[0;31m                  capturable=group['capturable'])\n\u001b[0m\u001b[1;32m    172\u001b[0m \u001b[0;34m\u001b[0m\u001b[0m\n\u001b[1;32m    173\u001b[0m         \u001b[0;32mreturn\u001b[0m \u001b[0mloss\u001b[0m\u001b[0;34m\u001b[0m\u001b[0;34m\u001b[0m\u001b[0m\n",
            "\u001b[0;32m/usr/local/lib/python3.7/dist-packages/torch/optim/adam.py\u001b[0m in \u001b[0;36madam\u001b[0;34m(params, grads, exp_avgs, exp_avg_sqs, max_exp_avg_sqs, state_steps, foreach, capturable, amsgrad, beta1, beta2, lr, weight_decay, eps, maximize)\u001b[0m\n\u001b[1;32m    224\u001b[0m          \u001b[0meps\u001b[0m\u001b[0;34m=\u001b[0m\u001b[0meps\u001b[0m\u001b[0;34m,\u001b[0m\u001b[0;34m\u001b[0m\u001b[0;34m\u001b[0m\u001b[0m\n\u001b[1;32m    225\u001b[0m          \u001b[0mmaximize\u001b[0m\u001b[0;34m=\u001b[0m\u001b[0mmaximize\u001b[0m\u001b[0;34m,\u001b[0m\u001b[0;34m\u001b[0m\u001b[0;34m\u001b[0m\u001b[0m\n\u001b[0;32m--> 226\u001b[0;31m          capturable=capturable)\n\u001b[0m\u001b[1;32m    227\u001b[0m \u001b[0;34m\u001b[0m\u001b[0m\n\u001b[1;32m    228\u001b[0m \u001b[0;34m\u001b[0m\u001b[0m\n",
            "\u001b[0;32m/usr/local/lib/python3.7/dist-packages/torch/optim/adam.py\u001b[0m in \u001b[0;36m_single_tensor_adam\u001b[0;34m(params, grads, exp_avgs, exp_avg_sqs, max_exp_avg_sqs, state_steps, amsgrad, beta1, beta2, lr, weight_decay, eps, maximize, capturable)\u001b[0m\n\u001b[1;32m    261\u001b[0m         \u001b[0;31m# Decay the first and second moment running average coefficient\u001b[0m\u001b[0;34m\u001b[0m\u001b[0;34m\u001b[0m\u001b[0;34m\u001b[0m\u001b[0m\n\u001b[1;32m    262\u001b[0m         \u001b[0mexp_avg\u001b[0m\u001b[0;34m.\u001b[0m\u001b[0mmul_\u001b[0m\u001b[0;34m(\u001b[0m\u001b[0mbeta1\u001b[0m\u001b[0;34m)\u001b[0m\u001b[0;34m.\u001b[0m\u001b[0madd_\u001b[0m\u001b[0;34m(\u001b[0m\u001b[0mgrad\u001b[0m\u001b[0;34m,\u001b[0m \u001b[0malpha\u001b[0m\u001b[0;34m=\u001b[0m\u001b[0;36m1\u001b[0m \u001b[0;34m-\u001b[0m \u001b[0mbeta1\u001b[0m\u001b[0;34m)\u001b[0m\u001b[0;34m\u001b[0m\u001b[0;34m\u001b[0m\u001b[0m\n\u001b[0;32m--> 263\u001b[0;31m         \u001b[0mexp_avg_sq\u001b[0m\u001b[0;34m.\u001b[0m\u001b[0mmul_\u001b[0m\u001b[0;34m(\u001b[0m\u001b[0mbeta2\u001b[0m\u001b[0;34m)\u001b[0m\u001b[0;34m.\u001b[0m\u001b[0maddcmul_\u001b[0m\u001b[0;34m(\u001b[0m\u001b[0mgrad\u001b[0m\u001b[0;34m,\u001b[0m \u001b[0mgrad\u001b[0m\u001b[0;34m.\u001b[0m\u001b[0mconj\u001b[0m\u001b[0;34m(\u001b[0m\u001b[0;34m)\u001b[0m\u001b[0;34m,\u001b[0m \u001b[0mvalue\u001b[0m\u001b[0;34m=\u001b[0m\u001b[0;36m1\u001b[0m \u001b[0;34m-\u001b[0m \u001b[0mbeta2\u001b[0m\u001b[0;34m)\u001b[0m\u001b[0;34m\u001b[0m\u001b[0;34m\u001b[0m\u001b[0m\n\u001b[0m\u001b[1;32m    264\u001b[0m \u001b[0;34m\u001b[0m\u001b[0m\n\u001b[1;32m    265\u001b[0m         \u001b[0;32mif\u001b[0m \u001b[0mcapturable\u001b[0m\u001b[0;34m:\u001b[0m\u001b[0;34m\u001b[0m\u001b[0;34m\u001b[0m\u001b[0m\n",
            "\u001b[0;31mKeyboardInterrupt\u001b[0m: "
          ]
        }
      ]
    },
    {
      "cell_type": "code",
      "source": [
        "class Classifier(nn.Module):\n",
        "    def __init__(self):\n",
        "        super(Classifier, self).__init__()\n",
        "        # torch.nn.Conv2d(in_channels, out_channels, kernel_size, stride, padding) # out_channels就是filter size\n",
        "        # torch.nn.MaxPool2d(kernel_size, stride, padding)\n",
        "        # input 維度 [3, 128, 128]\n",
        "        self.cnn = nn.Sequential(\n",
        "            nn.Conv2d(3, 64, 3, 1, 1),  # [64, 128=(128-3+1+2), 128=(128-3+1+2)]   # output = 128 - kernel_size + 1 + padding(上下左右都padding)\n",
        "            nn.BatchNorm2d(64),\n",
        "            nn.ReLU(),\n",
        "            nn.MaxPool2d(2, 2, 0),      # [64, 64, 64]\n",
        "\n",
        "            nn.Conv2d(64, 128, 3, 1, 1), # [128, 64, 64]\n",
        "            nn.BatchNorm2d(128),\n",
        "            nn.ReLU(),\n",
        "            nn.MaxPool2d(2, 2, 0),      # [128, 32, 32]\n",
        "\n",
        "            nn.Conv2d(128, 256, 3, 1, 1), # [256, 32, 32]\n",
        "            nn.BatchNorm2d(256),\n",
        "            nn.ReLU(),\n",
        "            nn.MaxPool2d(2, 2, 0),      # [256, 16, 16]\n",
        "\n",
        "            nn.Conv2d(256, 512, 3, 1, 1), # [512, 16, 16]\n",
        "            nn.BatchNorm2d(512),\n",
        "            nn.ReLU(),\n",
        "            nn.MaxPool2d(2, 2, 0),       # [512, 8, 8]\n",
        "            \n",
        "            nn.Conv2d(512, 512, 3, 1, 1), # [512, 8, 8]\n",
        "            nn.BatchNorm2d(512),\n",
        "            nn.ReLU(),\n",
        "            nn.MaxPool2d(2, 2, 0),       # [512, 4, 4]\n",
        "        )\n",
        "        self.fc = nn.Sequential(\n",
        "            nn.Linear(512*4*4, 1024),\n",
        "            nn.ReLU(),\n",
        "            nn.Linear(1024, 512),\n",
        "            nn.ReLU(),\n",
        "            nn.Linear(512, 11)\n",
        "        )\n",
        "\n",
        "    def forward(self, x):\n",
        "        out = self.cnn(x)\n",
        "        out = out.view(out.size()[0], -1) # 好像就是flatting\n",
        "        return self.fc(out)"
      ],
      "metadata": {
        "id": "i3EBAT2G3jRP"
      },
      "execution_count": null,
      "outputs": []
    },
    {
      "cell_type": "markdown",
      "source": [
        "# 3-(b) (5%) Please predict the digit No.1579 to No.1593 (data source: MDS_Assignment3_ DRpredict.xlsx) using your best established BPN/CNN model in (a) and fill out the following table."
      ],
      "metadata": {
        "id": "oMXOrN65d8EY"
      }
    },
    {
      "cell_type": "code",
      "source": [],
      "metadata": {
        "id": "o0sORLFn13Qx"
      },
      "execution_count": null,
      "outputs": []
    }
  ]
}