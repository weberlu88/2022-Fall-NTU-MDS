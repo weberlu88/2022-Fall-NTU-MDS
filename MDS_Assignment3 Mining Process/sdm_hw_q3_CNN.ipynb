{
  "nbformat": 4,
  "nbformat_minor": 0,
  "metadata": {
    "colab": {
      "provenance": [],
      "collapsed_sections": [],
      "toc_visible": true
    },
    "kernelspec": {
      "name": "python3",
      "display_name": "Python 3"
    },
    "language_info": {
      "name": "python"
    }
  },
  "cells": [
    {
      "cell_type": "markdown",
      "source": [
        "## 3. (20%) Deep Learning - handwritten digit recognition\n",
        "\n",
        "It is available in text form and contains 1593 handwritten digits from 80 persons. The images are 16 × 16 pixels square box and in black and white format. (teacher took 15 samples for validation and you only see 1578 samples)"
      ],
      "metadata": {
        "id": "N_uDPwDqB-dI"
      }
    },
    {
      "cell_type": "markdown",
      "source": [
        "### 3-(a) (15%) \n",
        "For BPN (or CNN if you prefer), try to investigate the effects of changing “PARAMETERS” such as learning rates, momentum, # of hidden/convolutional layers, dropout rate, etc. Show the numerical results and “DIAGRAM” from different perspectives (e.g., MSE/accuracy, F1 score, convergence time, error of training data, error of testing data, etc.). Please show all your work in detail, in particular, you “MAY” need to design your experiments with different parameters systematically.\n",
        "\n",
        "Ans: 我的訓練結果如下\n",
        "- 一開始調整 lr 和 decay並觀察loss，當模型loss能穩定下降便固定此組param。\n",
        "    - lr: 0.01, weight_decay: 1e-3, batch_size = 15。\n",
        "- 原先將 Kernal 數設為 1，沒想到digit 5沒有被預測出來，才發現是Kernal數不足。\n",
        "    - Saving model (epoch =   98, train loss = 1.7298, dev loss = 1.7056, train acc = 0.74)\n",
        "- 當我將 Kernel 數調整為 5，模型便能學辨識到每種，只是digit 7的FP rate較高，會將1 3當成7來預測。\n",
        "    - Saving model (epoch =   66, train loss = 1.6112, dev loss = 1.5918, train acc = 0.85)\n",
        "- 統一把 Kernel size 調整為 3，成效又更好了。\n",
        "    - Saving model (epoch =   35, train loss = 1.5855, dev loss = 1.5847, train acc = 0.88)"
      ],
      "metadata": {
        "id": "72p7bJcDYohH"
      }
    },
    {
      "cell_type": "code",
      "source": [
        "!nvidia-smi"
      ],
      "metadata": {
        "colab": {
          "base_uri": "https://localhost:8080/"
        },
        "id": "D-UjZ7MSDcx1",
        "outputId": "97e1805a-24e9-4ef5-bdf8-62bcc401b65b"
      },
      "execution_count": 1,
      "outputs": [
        {
          "output_type": "stream",
          "name": "stdout",
          "text": [
            "NVIDIA-SMI has failed because it couldn't communicate with the NVIDIA driver. Make sure that the latest NVIDIA driver is installed and running.\n",
            "\n"
          ]
        }
      ]
    },
    {
      "cell_type": "code",
      "source": [
        "# Imports\n",
        "# PyTorch\n",
        "import torch\n",
        "import torch.nn as nn\n",
        "import torch.nn.functional as F\n",
        "from torch.utils.data import Dataset, DataLoader\n",
        "from torchsummary import summary\n",
        "\n",
        "# For data preprocess\n",
        "import pandas as pd\n",
        "import numpy as np\n",
        "import csv\n",
        "import os\n",
        "from sklearn.model_selection import train_test_split\n",
        "from sklearn.metrics import confusion_matrix\n",
        "from collections import Counter\n",
        "\n",
        "# For plotting\n",
        "import matplotlib.pyplot as plt\n",
        "from matplotlib.pyplot import figure\n",
        "import seaborn as sns\n",
        "\n",
        "myseed = 2077  # set a random seed for reproducibility\n",
        "torch.backends.cudnn.deterministic = True\n",
        "torch.backends.cudnn.benchmark = False\n",
        "np.random.seed(myseed)\n",
        "torch.manual_seed(myseed)\n",
        "if torch.cuda.is_available():\n",
        "    torch.cuda.manual_seed_all(myseed)"
      ],
      "metadata": {
        "id": "0s3CHsBfCrP8"
      },
      "execution_count": 2,
      "outputs": []
    },
    {
      "cell_type": "code",
      "source": [
        "def get_device():\n",
        "    ''' Get device (if GPU is available, use GPU) '''\n",
        "    return 'cuda' if torch.cuda.is_available() else 'cpu'\n",
        "\n",
        "def plot_learning_curve(loss_record, title=''):\n",
        "    ''' Plot learning curve of your DNN (train & dev loss) '''\n",
        "    total_steps = len(loss_record['train'])\n",
        "    x_1 = range(total_steps)\n",
        "    x_2 = x_1[::len(loss_record['train']) // len(loss_record['dev'])]\n",
        "    figure(figsize=(6, 4))\n",
        "    plt.plot(x_1, loss_record['train'], c='tab:red', label='train')\n",
        "    plt.plot(x_2, loss_record['dev'], c='tab:cyan', label='dev')\n",
        "    plt.ylim(0., 3.)\n",
        "    plt.xlabel('Training steps')\n",
        "    plt.ylabel('Cross entropy loss')\n",
        "    plt.title('Learning curve of {}'.format(title))\n",
        "    plt.legend()\n",
        "    plt.show()\n",
        "\n",
        "\n",
        "def plot_pred(input_set, model, device):\n",
        "    ''' Plot prediction of your DNN \n",
        "    https://stackoverflow.com/questions/33379261/how-can-i-have-a-bar-next-to-python-seaborn-heatmap-which-shows-the-summation-of '''\n",
        "    # see the result of training set\n",
        "    preds, labels = test(input_set, model, device, with_label=True)\n",
        "    cf_matrix = confusion_matrix(labels, preds)\n",
        "    # print(cf_matrix)\n",
        "    fig = plt.figure(figsize=(6,6))\n",
        "    ax1 = plt.subplot2grid((10,10), (0,0), colspan=9, rowspan=9)\n",
        "    ax2 = plt.subplot2grid((10,10), (9,0), colspan=9, rowspan=1)\n",
        "    ax3 = plt.subplot2grid((10,10), (0,9), colspan=1, rowspan=9)\n",
        "\n",
        "    sns.heatmap(cf_matrix, ax=ax1, annot=True, fmt='g',  cmap=\"YlGnBu\", linecolor='b', cbar = False)\n",
        "\n",
        "    ax1.set(ylabel=\"True label\")\n",
        "    ax1.xaxis.tick_top()\n",
        "    sns.heatmap((pd.DataFrame(cf_matrix.sum(axis=0))).transpose(), ax=ax2,  annot=True, fmt='g', cmap=\"YlGnBu\", cbar=False, xticklabels=False, yticklabels=False)\n",
        "    sns.heatmap(pd.DataFrame(cf_matrix.sum(axis=1)), ax=ax3,  annot=True, fmt='g', cmap=\"YlGnBu\", cbar=False, xticklabels=False, yticklabels=False)\n",
        "    ax2.set(xlabel=\"Prediction\")\n",
        "    "
      ],
      "metadata": {
        "id": "KTLHvmh8Dtng"
      },
      "execution_count": 3,
      "outputs": []
    },
    {
      "cell_type": "markdown",
      "source": [
        "### Data load & prepare"
      ],
      "metadata": {
        "id": "JyjW3oeEYuFl"
      }
    },
    {
      "cell_type": "code",
      "execution_count": 4,
      "metadata": {
        "colab": {
          "base_uri": "https://localhost:8080/",
          "height": 352
        },
        "id": "vogCHIAKBOLT",
        "outputId": "b62b4e31-3917-4d98-eeab-f81f14994fa2"
      },
      "outputs": [
        {
          "output_type": "stream",
          "name": "stdout",
          "text": [
            "X_train shape: (1341, 1, 16, 16)\n",
            "y_train shape: (1341, 10)\n",
            "X_dev   shape: (237, 1, 16, 16)\n",
            "y_dev   shape: (237, 10)\n",
            "X_pred shape: (15, 1, 16, 16)\n"
          ]
        },
        {
          "output_type": "display_data",
          "data": {
            "text/plain": [
              "<Figure size 432x288 with 1 Axes>"
            ],
            "image/png": "[encoded data removed]"
          },
          "metadata": {
            "needs_background": "light"
          }
        }
      ],
      "source": [
        "# Data load & prepare\n",
        "path = \"./MDS_Assignment3_DRtraining.xlsx\"\n",
        "df_train = pd.read_excel(path, sheet_name=\"training\", index_col=0)\n",
        "path = \"./MDS_Assignment3_DRpredict.xlsx\"\n",
        "df_pred = pd.read_excel(path, sheet_name=\"Predict\", index_col=0)\n",
        "\n",
        "X_train = df_train.iloc[:,0:256].values\n",
        "y_train = df_train.iloc[:,256:].values\n",
        "X_train = X_train.reshape(-1, 1, 16, 16) # channel是1\n",
        "\n",
        "# train valid split\n",
        "X_train, X_dev, y_train, y_dev = train_test_split(X_train, y_train, test_size=0.15, random_state=2042)\n",
        "print(\"X_train shape:\", X_train.shape)\n",
        "print(\"y_train shape:\", y_train.shape)\n",
        "print(\"X_dev   shape:\", X_dev.shape)\n",
        "print(\"y_dev   shape:\", y_dev.shape)\n",
        "\n",
        "X_pred = df_pred.iloc[:,0:256].values\n",
        "X_pred = X_pred.reshape(-1, 1, 16, 16)\n",
        "print(\"X_pred shape:\", X_pred.shape)\n",
        "\n",
        "plt.imshow(X_train[1].reshape(16,16))\n",
        "\n",
        "class CnnDataset(Dataset):\n",
        "    ''' Dataset for our pre-processed dataset '''\n",
        "    def __init__(self, data, target=None, mode='train'):\n",
        "        self.mode = mode\n",
        "\n",
        "        # Read data\n",
        "        assert(mode in ['train','dev','test'])\n",
        "        if mode == 'train':\n",
        "            self.data = data\n",
        "            self.target = target\n",
        "            assert(len(self.data) == len(self.target))\n",
        "        elif mode == 'dev':\n",
        "            self.data = data\n",
        "            self.target = target\n",
        "            assert(len(self.data) == len(self.target))\n",
        "        else:\n",
        "            self.data = data\n",
        "        \n",
        "        # Get the length, dimansion of dataset\n",
        "        self.dim = self.data.shape[1:]\n",
        "        print('Finished reading the {} set of CNN Dataset ({} samples found, input dim = {})'\n",
        "              .format(mode, len(self.data), self.dim))\n",
        "\n",
        "    def __len__(self):\n",
        "        # Returns the size of the dataset\n",
        "        return len(self.data)\n",
        "\n",
        "    def __getitem__(self, index):\n",
        "        # Returns one sample for the index at a time\n",
        "        if self.mode in ['train', 'dev']: # For training\n",
        "            return torch.FloatTensor(self.data[index]), torch.FloatTensor(self.target[index])\n",
        "        else:                             # For testing (no target)\n",
        "            return torch.FloatTensor(self.data[index])\n",
        "\n",
        "def dataloader(mode, data, target, batch_size=15, n_jobs=0):\n",
        "    ''' Generates a dataset, then is put into a dataloader. '''\n",
        "    dataset = CnnDataset(data, target, mode)  # Construct dataset\n",
        "    return DataLoader(\n",
        "        dataset, batch_size,\n",
        "        shuffle=(mode == 'train'), drop_last=False,\n",
        "        num_workers=n_jobs, pin_memory=True)                            # Construct dataloader"
      ]
    },
    {
      "cell_type": "code",
      "source": [
        "# load test\n",
        "tr_set = dataloader('train', X_train, y_train)\n",
        "dv_set = dataloader('dev',   X_dev, y_dev )\n",
        "tt_set = dataloader('test',  X_pred, None )"
      ],
      "metadata": {
        "colab": {
          "base_uri": "https://localhost:8080/"
        },
        "id": "3UmbbLO4Kr4A",
        "outputId": "217e2229-e845-45f3-e9b3-987fc6d0d6e9"
      },
      "execution_count": 5,
      "outputs": [
        {
          "output_type": "stream",
          "name": "stdout",
          "text": [
            "Finished reading the train set of CNN Dataset (1341 samples found, input dim = (1, 16, 16))\n",
            "Finished reading the dev set of CNN Dataset (237 samples found, input dim = (1, 16, 16))\n",
            "Finished reading the test set of CNN Dataset (15 samples found, input dim = (1, 16, 16))\n"
          ]
        }
      ]
    },
    {
      "cell_type": "code",
      "source": [
        "# build model\n",
        "class ConvNet(nn.Module):\n",
        "    def __init__(self):\n",
        "        super(ConvNet, self).__init__()\n",
        "        # The arguments for commonly used modules:\n",
        "        # torch.nn.Conv2d(in_channels, out_channels, kernel_size, stride, padding)\n",
        "        # torch.nn.MaxPool2d(kernel_size, stride, padding)\n",
        "        # torch.nn.BatchNorm2d(num_features): C from an expected input of size (N, C, H, W)\n",
        "        # output shape = ((W-F+2*P )/S)+1\n",
        "\n",
        "        # input image size: [1, 16, 16] for [channels, width, height]\n",
        "        # output label: 10 kinds of digit\n",
        "        self.numOfKernal = 5\n",
        "        self.cnn_layers = nn.Sequential(\n",
        "            nn.Conv2d(1, self.numOfKernal, kernel_size=3, stride=1, padding=0), # [1, 14, 14]\n",
        "            nn.BatchNorm2d(self.numOfKernal),\n",
        "            nn.ReLU(),\n",
        "            # nn.MaxPool2d(2, 2, 1),      # [none]\n",
        "\n",
        "            nn.Conv2d(self.numOfKernal, self.numOfKernal, kernel_size=3, stride=1, padding=0), # [1, 12, 12]\n",
        "            nn.BatchNorm2d(self.numOfKernal),\n",
        "            nn.ReLU(),\n",
        "            # nn.MaxPool2d(2, 2, 0),      # [none]\n",
        "            nn.Dropout(p=0.3),\n",
        "\n",
        "            nn.Conv2d(self.numOfKernal, self.numOfKernal, 3, 1, 0), # [1, 10, 10]\n",
        "            nn.BatchNorm2d(self.numOfKernal),\n",
        "            nn.ReLU(),\n",
        "            # nn.MaxPool2d(2, 1, 0),      # [none]\n",
        "        )\n",
        "        self.fc_layers = nn.Sequential(\n",
        "            nn.Linear(self.numOfKernal*10*10, 128),\n",
        "            nn.ReLU(),\n",
        "            nn.Dropout(p=0.3),\n",
        "            nn.Linear(128, 32),\n",
        "            nn.ReLU(),\n",
        "            nn.Linear(32, 10)\n",
        "        )\n",
        "\n",
        "        # CrossEntropyLoss for classification\n",
        "        self.criterion = nn.CrossEntropyLoss()\n",
        "\n",
        "    def forward(self, x):\n",
        "        # input (x): [batch_size, 1, 16, 16]\n",
        "        # output: [batch_size, 10]\n",
        "        \n",
        "        x = self.cnn_layers(x) # Extract features by convolutional layers.\n",
        "        # print('cnn out shape:', x.shape)\n",
        "        x = x.flatten(1)       # The extracted feature map must be flatten before going to fully-connected layers.\n",
        "        x = self.fc_layers(x).softmax(dim=1)  # The features are transformed by fully-connected layers to obtain the final logits.\n",
        "        # print('fc  out shape:', x.shape)\n",
        "        return x\n",
        "\n",
        "    def cal_loss(self, pred, target):\n",
        "        ''' Calculate loss '''\n",
        "        return self.criterion(pred, target)"
      ],
      "metadata": {
        "id": "zt30odynFjCC"
      },
      "execution_count": 46,
      "outputs": []
    },
    {
      "cell_type": "markdown",
      "source": [
        "#### Training test validation function\n",
        "loss 其實是 cross entropy 不是 mse 懶得改變數名稱了"
      ],
      "metadata": {
        "id": "b2gCisgCYNx8"
      }
    },
    {
      "cell_type": "code",
      "source": [
        "def train(tr_set, dv_set, model, config, device):\n",
        "\n",
        "    n_epochs = config['n_epochs']  # Maximum number of epochs\n",
        "\n",
        "    # Setup optimizer\n",
        "    optimizer = getattr(torch.optim, config['optimizer'])(\n",
        "        model.parameters(), **config['optim_hparas'])\n",
        "    # Setup lr_scheduler\n",
        "    scheduler = torch.optim.lr_scheduler.MultiStepLR(optimizer, milestones=[5,10,20,30,50], gamma=config['lr_gamma'])\n",
        "\n",
        "    min_mse = 2000.\n",
        "    loss_record = {'train': [], 'dev': []}      # for recording training loss per batch\n",
        "    loss_epoch  = {'train': [], 'dev': []}      # for recording training loss per epoch\n",
        "    early_stop_cnt = 0\n",
        "    epoch = 0\n",
        "    while epoch < n_epochs:\n",
        "        correct = 0\n",
        "        total_loss = 0                          # zero train loss\n",
        "        model.train()                           # set model to training mode\n",
        "        for x, y in tr_set:                     # iterate through the dataloader\n",
        "            optimizer.zero_grad()               # set gradient to zero\n",
        "            x, y = x.to(device), y.to(device)   # move data to device (cpu/cuda)\n",
        "            pred = model(x)                     # forward pass (compute output)\n",
        "            mse_loss = model.cal_loss(pred, y)  # compute loss\n",
        "            mse_loss.backward()                 # compute gradient (backpropagation)\n",
        "            optimizer.step()                    # update model with optimizer\n",
        "            pred_class = pred.argmax(dim=1)\n",
        "            true_class = y.argmax(dim=1)\n",
        "            correct += pred_class.eq(true_class).sum().item()     # count of correct guess\n",
        "            total_loss += mse_loss.detach().cpu().item() * len(x) # accumulate train loss\n",
        "            loss_record['train'].append(mse_loss.detach().cpu().item())\n",
        "        total_loss = total_loss / len(tr_set.dataset)              # compute averaged loss\n",
        "        acc = correct / len(tr_set.dataset)\n",
        "\n",
        "        # After each epoch, test your model on the validation (development) set.\n",
        "        dev_mse = dev(dv_set, model, device)\n",
        "        if dev_mse < min_mse:\n",
        "            # Save model if your model improved\n",
        "            min_mse = dev_mse\n",
        "            print('Saving model (epoch = {:4d}, train loss = {:.4f}, dev loss = {:.4f}, train acc = {:.2f})'\n",
        "                .format(epoch + 1, total_loss, min_mse, acc))\n",
        "            torch.save(model.state_dict(), config['save_path'])  # Save model to specified path\n",
        "            early_stop_cnt = 0\n",
        "        else:\n",
        "            # print('latest model (epoch = {:4d}, train loss = {:.4f}, dev loss = {:.4f})'\n",
        "            #     .format(epoch + 1, total_loss, dev_mse))\n",
        "            early_stop_cnt += 1\n",
        "\n",
        "        scheduler.step() # lr decay here\n",
        "        epoch += 1\n",
        "        loss_record['dev'].append(dev_mse)\n",
        "        loss_epoch['train'].append(total_loss)\n",
        "        loss_epoch['dev'].append(dev_mse)\n",
        "        if early_stop_cnt > config['early_stop']:\n",
        "            # Stop training if your model stops improving for \"config['early_stop']\" epochs.\n",
        "            break\n",
        "\n",
        "    print('Finished training after {} epochs'.format(epoch))\n",
        "    return min_mse, loss_record, loss_epoch\n",
        "\n",
        "def dev(dv_set, model, device):\n",
        "    model.eval()                                # set model to evalutation mode\n",
        "    total_loss = 0\n",
        "    for x, y in dv_set:                         # iterate through the dataloader\n",
        "        x, y = x.to(device), y.to(device)       # move data to device (cpu/cuda)\n",
        "        with torch.no_grad():                   # disable gradient calculation\n",
        "            pred = model(x)                     # forward pass (compute output)\n",
        "            mse_loss = model.cal_loss(pred, y)  # compute loss\n",
        "        total_loss += mse_loss.detach().cpu().item() * len(x)  # accumulate loss\n",
        "    total_loss = total_loss / len(dv_set.dataset)              # compute averaged loss\n",
        "\n",
        "    return total_loss\n",
        "\n",
        "def test(tt_set, model, device, with_label=False):\n",
        "    model.eval()                                # set model to evalutation mode\n",
        "    preds = []\n",
        "    true_labels = []\n",
        "    if with_label:\n",
        "        for x, y in tt_set: \n",
        "            x = x.to(device)                        \n",
        "            with torch.no_grad():                   \n",
        "                pred = model(x)                     \n",
        "                preds.append(pred.detach().cpu())   \n",
        "            true_labels.append(y)\n",
        "        preds = torch.cat(preds, dim=0).argmax(dim=1) \n",
        "        true_labels = torch.cat(true_labels, dim=0).argmax(dim=1) \n",
        "        return preds.numpy(), true_labels.numpy()\n",
        "    else:  \n",
        "        for x in tt_set:                            # iterate through the dataloader\n",
        "            x = x.to(device)                        # move data to device (cpu/cuda)\n",
        "            with torch.no_grad():                   # disable gradient calculation\n",
        "                pred = model(x)                     # forward pass (compute output)\n",
        "                preds.append(pred.detach().cpu())   # collect prediction\n",
        "    preds = torch.cat(preds, dim=0).argmax(dim=1)     # concatenate all predictions and convert to a numpy array\n",
        "    return preds.numpy()"
      ],
      "metadata": {
        "id": "3J19vjdEYSi6"
      },
      "execution_count": 38,
      "outputs": []
    },
    {
      "cell_type": "markdown",
      "source": [
        "#### Fit dataset"
      ],
      "metadata": {
        "id": "XloQ1dEEYd4o"
      }
    },
    {
      "cell_type": "code",
      "source": [
        "# Setup Hyper-parameters\n",
        "device = get_device()                 # get the current available device ('cpu' or 'cuda')\n",
        "os.makedirs('models', exist_ok=True)  # The trained model will be saved to ./models/\n",
        "\n",
        "# TODO: How to tune these hyper-parameters to improve your model's performance?\n",
        "config = {\n",
        "    'n_epochs': 1000,                # maximum number of epochs\n",
        "    'batch_size': 15,                # mini-batch size for dataloader\n",
        "    'optimizer': 'Adam',             # optimization algorithm (optimizer in torch.optim)\n",
        "    'optim_hparas': {                # hyper-parameters for the optimizer (depends on which optimizer you are using)\n",
        "        'lr': 0.01,                # learning rate\n",
        "        'weight_decay': 1e-3         # weight decay (L2 penalty)\n",
        "    },\n",
        "    'lr_gamma': 0.1,                 # learning rate decay\n",
        "    'early_stop': 50,               # early stopping epochs (the number epochs since your model's last improvement)\n",
        "    'save_path': 'R10725012_呂晟維_cnn.pth',  # your model will be saved here\n",
        "    'save_path_rnn': 'R10725012_呂晟維_rnn.pth'\n",
        "}"
      ],
      "metadata": {
        "id": "1-K7h9ICYz90"
      },
      "execution_count": 39,
      "outputs": []
    },
    {
      "cell_type": "code",
      "source": [
        "# device = get_device()\n",
        "# model = ConvNet().to(device) # Construct model and move to device\n",
        "# for x, y in tr_set:                     # iterate through the dataloader\n",
        "#     # optimizer.zero_grad()               # set gradient to zero\n",
        "#     print(x.shape, y.shape)\n",
        "#     x, y = x.to(device), y.to(device)   # move data to device (cpu/cuda)\n",
        "#     pred = model(x)                     # forward pass (compute output)\n",
        "#     pred_class = pred.argmax(dim=1)\n",
        "#     true_class = y.argmax(dim=1)\n",
        "#     correct = pred_class.eq(true_class).sum().item()\n",
        "#     # print(pred_class, true_class, correct)\n",
        "#     # print(pred)\n",
        "#     # loss = model.cal_loss(pred, y)\n",
        "#     # print(loss)\n",
        "#     break"
      ],
      "metadata": {
        "id": "1EqKtAevNxPy"
      },
      "execution_count": 40,
      "outputs": []
    },
    {
      "cell_type": "code",
      "source": [
        "# Load data and model\n",
        "tr_set = dataloader('train', X_train, y_train, config['batch_size'])\n",
        "dv_set = dataloader('dev',   X_dev, y_dev, config['batch_size'])\n",
        "tt_set = dataloader('test',  X_pred, None, config['batch_size'])\n",
        "model = ConvNet().to(device) # Construct model and move to device"
      ],
      "metadata": {
        "colab": {
          "base_uri": "https://localhost:8080/"
        },
        "id": "est6kCnDZAji",
        "outputId": "18cb5d7e-9a0a-493a-f51a-5c818ebf5bc2"
      },
      "execution_count": 47,
      "outputs": [
        {
          "output_type": "stream",
          "name": "stdout",
          "text": [
            "Finished reading the train set of CNN Dataset (1341 samples found, input dim = (1, 16, 16))\n",
            "Finished reading the dev set of CNN Dataset (237 samples found, input dim = (1, 16, 16))\n",
            "Finished reading the test set of CNN Dataset (15 samples found, input dim = (1, 16, 16))\n"
          ]
        }
      ]
    },
    {
      "cell_type": "code",
      "source": [
        "# Start training\n",
        "model_loss, model_loss_record, model_loss_epoch = train(tr_set, dv_set, model, config, device)"
      ],
      "metadata": {
        "colab": {
          "base_uri": "https://localhost:8080/"
        },
        "id": "hpIvg2gJZUOX",
        "outputId": "254d8372-d53e-4bcb-f863-07b7d763e81c"
      },
      "execution_count": 48,
      "outputs": [
        {
          "output_type": "stream",
          "name": "stdout",
          "text": [
            "Saving model (epoch =    1, train loss = 2.1185, dev loss = 1.9591, train acc = 0.33)\n",
            "Saving model (epoch =    3, train loss = 1.8436, dev loss = 1.8527, train acc = 0.61)\n",
            "Saving model (epoch =    4, train loss = 1.8353, dev loss = 1.7091, train acc = 0.62)\n",
            "Saving model (epoch =    6, train loss = 1.7254, dev loss = 1.6846, train acc = 0.73)\n",
            "Saving model (epoch =    7, train loss = 1.7204, dev loss = 1.6674, train acc = 0.74)\n",
            "Saving model (epoch =    8, train loss = 1.6834, dev loss = 1.6346, train acc = 0.78)\n",
            "Saving model (epoch =    9, train loss = 1.6794, dev loss = 1.6287, train acc = 0.78)\n",
            "Saving model (epoch =   10, train loss = 1.6544, dev loss = 1.5972, train acc = 0.81)\n",
            "Saving model (epoch =   13, train loss = 1.6094, dev loss = 1.5928, train acc = 0.85)\n",
            "Saving model (epoch =   14, train loss = 1.6047, dev loss = 1.5926, train acc = 0.86)\n",
            "Saving model (epoch =   15, train loss = 1.5991, dev loss = 1.5918, train acc = 0.86)\n",
            "Saving model (epoch =   16, train loss = 1.6038, dev loss = 1.5898, train acc = 0.86)\n",
            "Saving model (epoch =   17, train loss = 1.6002, dev loss = 1.5888, train acc = 0.86)\n",
            "Saving model (epoch =   18, train loss = 1.5948, dev loss = 1.5886, train acc = 0.87)\n",
            "Saving model (epoch =   19, train loss = 1.5965, dev loss = 1.5865, train acc = 0.87)\n",
            "Saving model (epoch =   22, train loss = 1.5971, dev loss = 1.5859, train acc = 0.87)\n",
            "Saving model (epoch =   35, train loss = 1.5855, dev loss = 1.5847, train acc = 0.88)\n",
            "Finished training after 86 epochs\n"
          ]
        }
      ]
    },
    {
      "cell_type": "code",
      "source": [
        "plot_learning_curve(model_loss_epoch, title='deep model')"
      ],
      "metadata": {
        "colab": {
          "base_uri": "https://localhost:8080/",
          "height": 295
        },
        "id": "RsYq-NLEZZgj",
        "outputId": "4e19b33f-6ce8-46ea-b68e-8aa851562e8b"
      },
      "execution_count": 49,
      "outputs": [
        {
          "output_type": "display_data",
          "data": {
            "text/plain": [
              "<Figure size 432x288 with 1 Axes>"
            ],
            "image/png": "[encoded data removed]"
          },
          "metadata": {
            "needs_background": "light"
          }
        }
      ]
    },
    {
      "cell_type": "code",
      "source": [
        "# see the result of training set\n",
        "plot_pred(tr_set, model, device)"
      ],
      "metadata": {
        "colab": {
          "base_uri": "https://localhost:8080/",
          "height": 388
        },
        "id": "zY2Dmpy6kiKd",
        "outputId": "ae42485f-1433-4200-8fbd-d51889dda6d5"
      },
      "execution_count": 50,
      "outputs": [
        {
          "output_type": "display_data",
          "data": {
            "text/plain": [
              "<Figure size 432x432 with 3 Axes>"
            ],
            "image/png": "[encoded data removed]"
          },
          "metadata": {
            "needs_background": "light"
          }
        }
      ]
    },
    {
      "cell_type": "code",
      "source": [
        "# see the result of validation set\n",
        "preds, labels = test(dv_set, model, device, with_label=True)\n",
        "print(preds.shape, labels[:3])"
      ],
      "metadata": {
        "colab": {
          "base_uri": "https://localhost:8080/"
        },
        "id": "5iSPfyStdF7k",
        "outputId": "ca9a3144-93ee-4ba1-ab64-91ebb08d0df0"
      },
      "execution_count": 51,
      "outputs": [
        {
          "output_type": "stream",
          "name": "stdout",
          "text": [
            "(237,) [8 6 6]\n"
          ]
        }
      ]
    },
    {
      "cell_type": "code",
      "source": [
        "# preds, labels = test(dv_set, model, device, with_label=True)\n",
        "plot_pred(dv_set, model, device)"
      ],
      "metadata": {
        "colab": {
          "base_uri": "https://localhost:8080/",
          "height": 388
        },
        "id": "t1Xzaa2lem7H",
        "outputId": "00863b2b-9507-4ad2-f22a-c6334fd5b245"
      },
      "execution_count": 52,
      "outputs": [
        {
          "output_type": "display_data",
          "data": {
            "text/plain": [
              "<Figure size 432x432 with 3 Axes>"
            ],
            "image/png": "[encoded data removed]"
          },
          "metadata": {
            "needs_background": "light"
          }
        }
      ]
    },
    {
      "cell_type": "markdown",
      "source": [
        "### 3-(b) (5%) \n",
        "Please predict the digit No.1579 to No.1593 (data source: MDS_Assignment3_ DRpredict.xlsx) using your best established BPN/CNN model in (a) and fill out the following table.\n",
        "\n",
        "預測15筆測試資料。  \n",
        "ref: https://stackoverflow.com/questions/29831489/convert-array-of-indices-to-one-hot-encoded-array-in-numpy"
      ],
      "metadata": {
        "id": "_o4pGwXJD6IO"
      }
    },
    {
      "cell_type": "code",
      "source": [
        "preds = test(tt_set, model, device)\n",
        "print('the prediction of hand written digit is:', preds)"
      ],
      "metadata": {
        "colab": {
          "base_uri": "https://localhost:8080/"
        },
        "id": "iIHsZwVCD7dA",
        "outputId": "e5b8e158-c622-42e4-d3be-b8f664790351"
      },
      "execution_count": 53,
      "outputs": [
        {
          "output_type": "stream",
          "name": "stdout",
          "text": [
            "the prediction of hand written digit is: [4 0 5 0 5 4 5 0 2 5 7 0 2 5 7]\n"
          ]
        }
      ]
    },
    {
      "cell_type": "code",
      "source": [
        "submit_matrix = []\n",
        "start = 1579\n",
        "for i,v in enumerate(preds):\n",
        "    submit_matrix.append([start+i, v])\n",
        "pd.DataFrame(submit_matrix, columns=['No.','Digit Number (0 9) you predict'])"
      ],
      "metadata": {
        "colab": {
          "base_uri": "https://localhost:8080/",
          "height": 520
        },
        "id": "gIsnXT4Ivj50",
        "outputId": "c3d6e095-cf57-466f-e30c-3c6c7e55fb71"
      },
      "execution_count": 54,
      "outputs": [
        {
          "output_type": "execute_result",
          "data": {
            "text/plain": [
              "     No.  Digit Number (0 9) you predict\n",
              "0   1579                               4\n",
              "1   1580                               0\n",
              "2   1581                               5\n",
              "3   1582                               0\n",
              "4   1583                               5\n",
              "5   1584                               4\n",
              "6   1585                               5\n",
              "7   1586                               0\n",
              "8   1587                               2\n",
              "9   1588                               5\n",
              "10  1589                               7\n",
              "11  1590                               0\n",
              "12  1591                               2\n",
              "13  1592                               5\n",
              "14  1593                               7"
            ],
            "text/html": [
              "\n",
              "  <div id=\"df-7b6bd9c7-68d5-44ac-9943-816cfdb66481\">\n",
              "    <div class=\"colab-df-container\">\n",
              "      <div>\n",
              "<style scoped>\n",
              "    .dataframe tbody tr th:only-of-type {\n",
              "        vertical-align: middle;\n",
              "    }\n",
              "\n",
              "    .dataframe tbody tr th {\n",
              "        vertical-align: top;\n",
              "    }\n",
              "\n",
              "    .dataframe thead th {\n",
              "        text-align: right;\n",
              "    }\n",
              "</style>\n",
              "<table border=\"1\" class=\"dataframe\">\n",
              "  <thead>\n",
              "    <tr style=\"text-align: right;\">\n",
              "      <th></th>\n",
              "      <th>No.</th>\n",
              "      <th>Digit Number (0 9) you predict</th>\n",
              "    </tr>\n",
              "  </thead>\n",
              "  <tbody>\n",
              "    <tr>\n",
              "      <th>0</th>\n",
              "      <td>1579</td>\n",
              "      <td>4</td>\n",
              "    </tr>\n",
              "    <tr>\n",
              "      <th>1</th>\n",
              "      <td>1580</td>\n",
              "      <td>0</td>\n",
              "    </tr>\n",
              "    <tr>\n",
              "      <th>2</th>\n",
              "      <td>1581</td>\n",
              "      <td>5</td>\n",
              "    </tr>\n",
              "    <tr>\n",
              "      <th>3</th>\n",
              "      <td>1582</td>\n",
              "      <td>0</td>\n",
              "    </tr>\n",
              "    <tr>\n",
              "      <th>4</th>\n",
              "      <td>1583</td>\n",
              "      <td>5</td>\n",
              "    </tr>\n",
              "    <tr>\n",
              "      <th>5</th>\n",
              "      <td>1584</td>\n",
              "      <td>4</td>\n",
              "    </tr>\n",
              "    <tr>\n",
              "      <th>6</th>\n",
              "      <td>1585</td>\n",
              "      <td>5</td>\n",
              "    </tr>\n",
              "    <tr>\n",
              "      <th>7</th>\n",
              "      <td>1586</td>\n",
              "      <td>0</td>\n",
              "    </tr>\n",
              "    <tr>\n",
              "      <th>8</th>\n",
              "      <td>1587</td>\n",
              "      <td>2</td>\n",
              "    </tr>\n",
              "    <tr>\n",
              "      <th>9</th>\n",
              "      <td>1588</td>\n",
              "      <td>5</td>\n",
              "    </tr>\n",
              "    <tr>\n",
              "      <th>10</th>\n",
              "      <td>1589</td>\n",
              "      <td>7</td>\n",
              "    </tr>\n",
              "    <tr>\n",
              "      <th>11</th>\n",
              "      <td>1590</td>\n",
              "      <td>0</td>\n",
              "    </tr>\n",
              "    <tr>\n",
              "      <th>12</th>\n",
              "      <td>1591</td>\n",
              "      <td>2</td>\n",
              "    </tr>\n",
              "    <tr>\n",
              "      <th>13</th>\n",
              "      <td>1592</td>\n",
              "      <td>5</td>\n",
              "    </tr>\n",
              "    <tr>\n",
              "      <th>14</th>\n",
              "      <td>1593</td>\n",
              "      <td>7</td>\n",
              "    </tr>\n",
              "  </tbody>\n",
              "</table>\n",
              "</div>\n",
              "      <button class=\"colab-df-convert\" onclick=\"convertToInteractive('df-7b6bd9c7-68d5-44ac-9943-816cfdb66481')\"\n",
              "              title=\"Convert this dataframe to an interactive table.\"\n",
              "              style=\"display:none;\">\n",
              "        \n",
              "  <svg xmlns=\"http://www.w3.org/2000/svg\" height=\"24px\"viewBox=\"0 0 24 24\"\n",
              "       width=\"24px\">\n",
              "    <path d=\"M0 0h24v24H0V0z\" fill=\"none\"/>\n",
              "    <path d=\"M18.56 5.44l.94 2.06.94-2.06 2.06-.94-2.06-.94-.94-2.06-.94 2.06-2.06.94zm-11 1L8.5 8.5l.94-2.06 2.06-.94-2.06-.94L8.5 2.5l-.94 2.06-2.06.94zm10 10l.94 2.06.94-2.06 2.06-.94-2.06-.94-.94-2.06-.94 2.06-2.06.94z\"/><path d=\"M17.41 7.96l-1.37-1.37c-.4-.4-.92-.59-1.43-.59-.52 0-1.04.2-1.43.59L10.3 9.45l-7.72 7.72c-.78.78-.78 2.05 0 2.83L4 21.41c.39.39.9.59 1.41.59.51 0 1.02-.2 1.41-.59l7.78-7.78 2.81-2.81c.8-.78.8-2.07 0-2.86zM5.41 20L4 18.59l7.72-7.72 1.47 1.35L5.41 20z\"/>\n",
              "  </svg>\n",
              "      </button>\n",
              "      \n",
              "  <style>\n",
              "    .colab-df-container {\n",
              "      display:flex;\n",
              "      flex-wrap:wrap;\n",
              "      gap: 12px;\n",
              "    }\n",
              "\n",
              "    .colab-df-convert {\n",
              "      background-color: #E8F0FE;\n",
              "      border: none;\n",
              "      border-radius: 50%;\n",
              "      cursor: pointer;\n",
              "      display: none;\n",
              "      fill: #1967D2;\n",
              "      height: 32px;\n",
              "      padding: 0 0 0 0;\n",
              "      width: 32px;\n",
              "    }\n",
              "\n",
              "    .colab-df-convert:hover {\n",
              "      background-color: #E2EBFA;\n",
              "      box-shadow: 0px 1px 2px rgba(60, 64, 67, 0.3), 0px 1px 3px 1px rgba(60, 64, 67, 0.15);\n",
              "      fill: #174EA6;\n",
              "    }\n",
              "\n",
              "    [theme=dark] .colab-df-convert {\n",
              "      background-color: #3B4455;\n",
              "      fill: #D2E3FC;\n",
              "    }\n",
              "\n",
              "    [theme=dark] .colab-df-convert:hover {\n",
              "      background-color: #434B5C;\n",
              "      box-shadow: 0px 1px 3px 1px rgba(0, 0, 0, 0.15);\n",
              "      filter: drop-shadow(0px 1px 2px rgba(0, 0, 0, 0.3));\n",
              "      fill: #FFFFFF;\n",
              "    }\n",
              "  </style>\n",
              "\n",
              "      <script>\n",
              "        const buttonEl =\n",
              "          document.querySelector('#df-7b6bd9c7-68d5-44ac-9943-816cfdb66481 button.colab-df-convert');\n",
              "        buttonEl.style.display =\n",
              "          google.colab.kernel.accessAllowed ? 'block' : 'none';\n",
              "\n",
              "        async function convertToInteractive(key) {\n",
              "          const element = document.querySelector('#df-7b6bd9c7-68d5-44ac-9943-816cfdb66481');\n",
              "          const dataTable =\n",
              "            await google.colab.kernel.invokeFunction('convertToInteractive',\n",
              "                                                     [key], {});\n",
              "          if (!dataTable) return;\n",
              "\n",
              "          const docLinkHtml = 'Like what you see? Visit the ' +\n",
              "            '<a target=\"_blank\" href=https://colab.research.google.com/notebooks/data_table.ipynb>data table notebook</a>'\n",
              "            + ' to learn more about interactive tables.';\n",
              "          element.innerHTML = '';\n",
              "          dataTable['output_type'] = 'display_data';\n",
              "          await google.colab.output.renderOutput(dataTable, element);\n",
              "          const docLink = document.createElement('div');\n",
              "          docLink.innerHTML = docLinkHtml;\n",
              "          element.appendChild(docLink);\n",
              "        }\n",
              "      </script>\n",
              "    </div>\n",
              "  </div>\n",
              "  "
            ]
          },
          "metadata": {},
          "execution_count": 54
        }
      ]
    },
    {
      "cell_type": "code",
      "source": [
        "onehot_preds = np.zeros((preds.size, preds.max() + 1))\n",
        "onehot_preds[np.arange(preds.size), preds] = 1\n",
        "onehot_preds"
      ],
      "metadata": {
        "colab": {
          "base_uri": "https://localhost:8080/"
        },
        "id": "G3mV83xpvHPV",
        "outputId": "b9b42083-85ca-4028-b934-fd33195258bf"
      },
      "execution_count": 55,
      "outputs": [
        {
          "output_type": "execute_result",
          "data": {
            "text/plain": [
              "array([[0., 0., 0., 0., 1., 0., 0., 0.],\n",
              "       [1., 0., 0., 0., 0., 0., 0., 0.],\n",
              "       [0., 0., 0., 0., 0., 1., 0., 0.],\n",
              "       [1., 0., 0., 0., 0., 0., 0., 0.],\n",
              "       [0., 0., 0., 0., 0., 1., 0., 0.],\n",
              "       [0., 0., 0., 0., 1., 0., 0., 0.],\n",
              "       [0., 0., 0., 0., 0., 1., 0., 0.],\n",
              "       [1., 0., 0., 0., 0., 0., 0., 0.],\n",
              "       [0., 0., 1., 0., 0., 0., 0., 0.],\n",
              "       [0., 0., 0., 0., 0., 1., 0., 0.],\n",
              "       [0., 0., 0., 0., 0., 0., 0., 1.],\n",
              "       [1., 0., 0., 0., 0., 0., 0., 0.],\n",
              "       [0., 0., 1., 0., 0., 0., 0., 0.],\n",
              "       [0., 0., 0., 0., 0., 1., 0., 0.],\n",
              "       [0., 0., 0., 0., 0., 0., 0., 1.]])"
            ]
          },
          "metadata": {},
          "execution_count": 55
        }
      ]
    },
    {
      "cell_type": "code",
      "source": [],
      "metadata": {
        "id": "8LXpIObR0HHC"
      },
      "execution_count": null,
      "outputs": []
    }
  ]
}