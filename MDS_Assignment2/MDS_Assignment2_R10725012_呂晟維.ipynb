{
  "cells": [
    {
      "cell_type": "markdown",
      "metadata": {
        "id": "ZRywYHUjN57x"
      },
      "source": [
        "# Manufacturing Data Science 製造數據科學 - Assignment 2\n",
        "> R10725012 呂晟維"
      ]
    },
    {
      "cell_type": "markdown",
      "metadata": {
        "id": "gfWR5q7OOBjA"
      },
      "source": [
        "### Q1 (20%)"
      ]
    },
    {
      "cell_type": "markdown",
      "metadata": {
        "id": "-vkH7A8LOMSQ"
      },
      "source": [
        "#### Q1-(a) \n",
        "**試簡述何謂維度的詛咒？試列舉一案例說明**\n",
        "\n",
        "Ans:  \n",
        "模型的參數數量與模型本身的複雜度與資料集的特徵維度呈正相關，\n",
        "模型的參數數量越多，使模型達成收斂需要的資料筆數也就越多，當樣本數不足時會導致\n",
        "1. 花很長時間學習但演算法不易收斂\n",
        "2. 收斂時出現多重解 (multiple solutions) 或過度配適\n",
        "\n",
        "簡而言之，特徵從零變多模型的預測能力一開始會提升，當過了最適的特徵個數，預測績效立即呈現指數遞減。"
      ]
    },
    {
      "cell_type": "markdown",
      "metadata": {
        "id": "oZ0MPBp9ON-4"
      },
      "source": [
        "#### Q1-(b)\n",
        "**避免維度詛咒的方法有哪些？**  \n",
        "Ans  \n",
        "1. 避免使用過多特徵，僅使用最適的特徵個數數量的作為訓練資料。\n",
        "2. 檢查特徵間是否有共線性關係，若有則整合或剔除具共線性關係的特徵們。"
      ]
    },
    {
      "cell_type": "markdown",
      "metadata": {
        "id": "XS0jCbAmPkwH"
      },
      "source": [
        "#### Q1-(c)\n",
        "試找一個開放數據 (e.g. Kaggle開放數據 或第一次作業紅酒數據集 )並選一種方法 (e.g. 線性迴歸或決策樹 )，用模擬方法 固定樣本數但逐步增加變數個數， 試著重新繪製圖 3.12， 呈現維度與預測 (或分類 )績效間的關係。"
      ]
    },
    {
      "cell_type": "code",
      "execution_count": 1,
      "metadata": {},
      "outputs": [],
      "source": [
        "import pandas as pd\n",
        "import numpy as np\n",
        "from matplotlib import pyplot as plt\n",
        "import statsmodels.api as sm\n",
        "import statsmodels.formula.api as smf\n",
        "# import statsmodels.stats.api as sms\n",
        "# import scipy.stats as stats"
      ]
    },
    {
      "cell_type": "code",
      "execution_count": 2,
      "metadata": {},
      "outputs": [
        {
          "name": "stdout",
          "output_type": "stream",
          "text": [
            "(620, 29)\n"
          ]
        },
        {
          "data": {
            "text/html": [
              "<div>\n",
              "<style scoped>\n",
              "    .dataframe tbody tr th:only-of-type {\n",
              "        vertical-align: middle;\n",
              "    }\n",
              "\n",
              "    .dataframe tbody tr th {\n",
              "        vertical-align: top;\n",
              "    }\n",
              "\n",
              "    .dataframe thead th {\n",
              "        text-align: right;\n",
              "    }\n",
              "</style>\n",
              "<table border=\"1\" class=\"dataframe\">\n",
              "  <thead>\n",
              "    <tr style=\"text-align: right;\">\n",
              "      <th></th>\n",
              "      <th>f0</th>\n",
              "      <th>f1</th>\n",
              "      <th>f2</th>\n",
              "      <th>f3</th>\n",
              "      <th>f4</th>\n",
              "      <th>f5</th>\n",
              "      <th>f6</th>\n",
              "      <th>f7</th>\n",
              "      <th>f8</th>\n",
              "      <th>f9</th>\n",
              "      <th>...</th>\n",
              "      <th>f19</th>\n",
              "      <th>f20</th>\n",
              "      <th>f21</th>\n",
              "      <th>f22</th>\n",
              "      <th>f23</th>\n",
              "      <th>f24</th>\n",
              "      <th>f25</th>\n",
              "      <th>f26</th>\n",
              "      <th>f27</th>\n",
              "      <th>grade</th>\n",
              "    </tr>\n",
              "  </thead>\n",
              "  <tbody>\n",
              "    <tr>\n",
              "      <th>0</th>\n",
              "      <td>1.848564</td>\n",
              "      <td>-0.26425</td>\n",
              "      <td>-0.461423</td>\n",
              "      <td>0.409400</td>\n",
              "      <td>1.305455</td>\n",
              "      <td>2.329398</td>\n",
              "      <td>0.370965</td>\n",
              "      <td>0.090167</td>\n",
              "      <td>0.107958</td>\n",
              "      <td>0.0</td>\n",
              "      <td>...</td>\n",
              "      <td>0.085505</td>\n",
              "      <td>0.233285</td>\n",
              "      <td>-1.080663</td>\n",
              "      <td>0.443257</td>\n",
              "      <td>-0.406121</td>\n",
              "      <td>-0.687687</td>\n",
              "      <td>0.271886</td>\n",
              "      <td>3.727218</td>\n",
              "      <td>0.102129</td>\n",
              "      <td>2</td>\n",
              "    </tr>\n",
              "    <tr>\n",
              "      <th>1</th>\n",
              "      <td>-0.825098</td>\n",
              "      <td>-0.26425</td>\n",
              "      <td>3.032397</td>\n",
              "      <td>-2.442599</td>\n",
              "      <td>1.305455</td>\n",
              "      <td>-0.276144</td>\n",
              "      <td>0.370965</td>\n",
              "      <td>0.090167</td>\n",
              "      <td>0.107958</td>\n",
              "      <td>0.0</td>\n",
              "      <td>...</td>\n",
              "      <td>0.085505</td>\n",
              "      <td>0.233285</td>\n",
              "      <td>-1.080663</td>\n",
              "      <td>-0.232546</td>\n",
              "      <td>-0.406366</td>\n",
              "      <td>-0.687687</td>\n",
              "      <td>0.271886</td>\n",
              "      <td>-0.232472</td>\n",
              "      <td>0.102129</td>\n",
              "      <td>4</td>\n",
              "    </tr>\n",
              "    <tr>\n",
              "      <th>2</th>\n",
              "      <td>1.848564</td>\n",
              "      <td>-0.26425</td>\n",
              "      <td>-0.461423</td>\n",
              "      <td>0.409400</td>\n",
              "      <td>1.305455</td>\n",
              "      <td>2.329398</td>\n",
              "      <td>0.370965</td>\n",
              "      <td>0.090167</td>\n",
              "      <td>0.107958</td>\n",
              "      <td>0.0</td>\n",
              "      <td>...</td>\n",
              "      <td>0.085505</td>\n",
              "      <td>0.233285</td>\n",
              "      <td>0.925358</td>\n",
              "      <td>1.459782</td>\n",
              "      <td>1.221876</td>\n",
              "      <td>1.877777</td>\n",
              "      <td>0.271886</td>\n",
              "      <td>-0.232472</td>\n",
              "      <td>0.102129</td>\n",
              "      <td>2</td>\n",
              "    </tr>\n",
              "    <tr>\n",
              "      <th>3</th>\n",
              "      <td>0.511733</td>\n",
              "      <td>-0.26425</td>\n",
              "      <td>-0.461423</td>\n",
              "      <td>0.409400</td>\n",
              "      <td>-0.525726</td>\n",
              "      <td>-0.276144</td>\n",
              "      <td>0.370965</td>\n",
              "      <td>0.090167</td>\n",
              "      <td>0.107958</td>\n",
              "      <td>0.0</td>\n",
              "      <td>...</td>\n",
              "      <td>0.085505</td>\n",
              "      <td>0.233285</td>\n",
              "      <td>0.925358</td>\n",
              "      <td>-0.008030</td>\n",
              "      <td>-0.406366</td>\n",
              "      <td>1.504523</td>\n",
              "      <td>0.271886</td>\n",
              "      <td>-0.232472</td>\n",
              "      <td>0.102129</td>\n",
              "      <td>2</td>\n",
              "    </tr>\n",
              "    <tr>\n",
              "      <th>4</th>\n",
              "      <td>-0.825098</td>\n",
              "      <td>-0.26425</td>\n",
              "      <td>-0.461423</td>\n",
              "      <td>0.409400</td>\n",
              "      <td>-0.525726</td>\n",
              "      <td>-0.276144</td>\n",
              "      <td>0.370965</td>\n",
              "      <td>0.090167</td>\n",
              "      <td>0.107958</td>\n",
              "      <td>0.0</td>\n",
              "      <td>...</td>\n",
              "      <td>0.085505</td>\n",
              "      <td>0.233285</td>\n",
              "      <td>0.925358</td>\n",
              "      <td>-0.573268</td>\n",
              "      <td>-1.164793</td>\n",
              "      <td>1.877777</td>\n",
              "      <td>0.271886</td>\n",
              "      <td>-0.232472</td>\n",
              "      <td>0.102129</td>\n",
              "      <td>2</td>\n",
              "    </tr>\n",
              "  </tbody>\n",
              "</table>\n",
              "<p>5 rows × 29 columns</p>\n",
              "</div>"
            ],
            "text/plain": [
              "         f0       f1        f2        f3        f4        f5        f6  \\\n",
              "0  1.848564 -0.26425 -0.461423  0.409400  1.305455  2.329398  0.370965   \n",
              "1 -0.825098 -0.26425  3.032397 -2.442599  1.305455 -0.276144  0.370965   \n",
              "2  1.848564 -0.26425 -0.461423  0.409400  1.305455  2.329398  0.370965   \n",
              "3  0.511733 -0.26425 -0.461423  0.409400 -0.525726 -0.276144  0.370965   \n",
              "4 -0.825098 -0.26425 -0.461423  0.409400 -0.525726 -0.276144  0.370965   \n",
              "\n",
              "         f7        f8   f9  ...       f19       f20       f21       f22  \\\n",
              "0  0.090167  0.107958  0.0  ...  0.085505  0.233285 -1.080663  0.443257   \n",
              "1  0.090167  0.107958  0.0  ...  0.085505  0.233285 -1.080663 -0.232546   \n",
              "2  0.090167  0.107958  0.0  ...  0.085505  0.233285  0.925358  1.459782   \n",
              "3  0.090167  0.107958  0.0  ...  0.085505  0.233285  0.925358 -0.008030   \n",
              "4  0.090167  0.107958  0.0  ...  0.085505  0.233285  0.925358 -0.573268   \n",
              "\n",
              "        f23       f24       f25       f26       f27  grade  \n",
              "0 -0.406121 -0.687687  0.271886  3.727218  0.102129      2  \n",
              "1 -0.406366 -0.687687  0.271886 -0.232472  0.102129      4  \n",
              "2  1.221876  1.877777  0.271886 -0.232472  0.102129      2  \n",
              "3 -0.406366  1.504523  0.271886 -0.232472  0.102129      2  \n",
              "4 -1.164793  1.877777  0.271886 -0.232472  0.102129      2  \n",
              "\n",
              "[5 rows x 29 columns]"
            ]
          },
          "metadata": {},
          "output_type": "display_data"
        }
      ],
      "source": [
        "# import wine data, x = f0~f27, y = grade\n",
        "furnace_data = pd.read_csv(\"../MDS_Assignment1/MDS_Assignment1_furnace.csv\")\n",
        "print(furnace_data.shape)\n",
        "display(furnace_data.head())"
      ]
    },
    {
      "cell_type": "code",
      "execution_count": 3,
      "metadata": {},
      "outputs": [
        {
          "data": {
            "text/html": [
              "<div>\n",
              "<style scoped>\n",
              "    .dataframe tbody tr th:only-of-type {\n",
              "        vertical-align: middle;\n",
              "    }\n",
              "\n",
              "    .dataframe tbody tr th {\n",
              "        vertical-align: top;\n",
              "    }\n",
              "\n",
              "    .dataframe thead th {\n",
              "        text-align: right;\n",
              "    }\n",
              "</style>\n",
              "<table border=\"1\" class=\"dataframe\">\n",
              "  <thead>\n",
              "    <tr style=\"text-align: right;\">\n",
              "      <th></th>\n",
              "      <th>Intercept</th>\n",
              "      <th>f0</th>\n",
              "      <th>f1</th>\n",
              "      <th>f2</th>\n",
              "      <th>f3</th>\n",
              "      <th>f4</th>\n",
              "      <th>f5</th>\n",
              "      <th>f6</th>\n",
              "      <th>f7</th>\n",
              "      <th>f8</th>\n",
              "      <th>...</th>\n",
              "      <th>f18</th>\n",
              "      <th>f19</th>\n",
              "      <th>f20</th>\n",
              "      <th>f21</th>\n",
              "      <th>f22</th>\n",
              "      <th>f23</th>\n",
              "      <th>f24</th>\n",
              "      <th>f25</th>\n",
              "      <th>f26</th>\n",
              "      <th>f27</th>\n",
              "    </tr>\n",
              "  </thead>\n",
              "  <tbody>\n",
              "    <tr>\n",
              "      <th>0</th>\n",
              "      <td>1.0</td>\n",
              "      <td>1.848564</td>\n",
              "      <td>-0.26425</td>\n",
              "      <td>-0.461423</td>\n",
              "      <td>0.409400</td>\n",
              "      <td>1.305455</td>\n",
              "      <td>2.329398</td>\n",
              "      <td>0.370965</td>\n",
              "      <td>0.090167</td>\n",
              "      <td>0.107958</td>\n",
              "      <td>...</td>\n",
              "      <td>0.182574</td>\n",
              "      <td>0.085505</td>\n",
              "      <td>0.233285</td>\n",
              "      <td>-1.080663</td>\n",
              "      <td>0.443257</td>\n",
              "      <td>-0.406121</td>\n",
              "      <td>-0.687687</td>\n",
              "      <td>0.271886</td>\n",
              "      <td>3.727218</td>\n",
              "      <td>0.102129</td>\n",
              "    </tr>\n",
              "    <tr>\n",
              "      <th>1</th>\n",
              "      <td>1.0</td>\n",
              "      <td>-0.825098</td>\n",
              "      <td>-0.26425</td>\n",
              "      <td>3.032397</td>\n",
              "      <td>-2.442599</td>\n",
              "      <td>1.305455</td>\n",
              "      <td>-0.276144</td>\n",
              "      <td>0.370965</td>\n",
              "      <td>0.090167</td>\n",
              "      <td>0.107958</td>\n",
              "      <td>...</td>\n",
              "      <td>0.182574</td>\n",
              "      <td>0.085505</td>\n",
              "      <td>0.233285</td>\n",
              "      <td>-1.080663</td>\n",
              "      <td>-0.232546</td>\n",
              "      <td>-0.406366</td>\n",
              "      <td>-0.687687</td>\n",
              "      <td>0.271886</td>\n",
              "      <td>-0.232472</td>\n",
              "      <td>0.102129</td>\n",
              "    </tr>\n",
              "    <tr>\n",
              "      <th>2</th>\n",
              "      <td>1.0</td>\n",
              "      <td>1.848564</td>\n",
              "      <td>-0.26425</td>\n",
              "      <td>-0.461423</td>\n",
              "      <td>0.409400</td>\n",
              "      <td>1.305455</td>\n",
              "      <td>2.329398</td>\n",
              "      <td>0.370965</td>\n",
              "      <td>0.090167</td>\n",
              "      <td>0.107958</td>\n",
              "      <td>...</td>\n",
              "      <td>0.182574</td>\n",
              "      <td>0.085505</td>\n",
              "      <td>0.233285</td>\n",
              "      <td>0.925358</td>\n",
              "      <td>1.459782</td>\n",
              "      <td>1.221876</td>\n",
              "      <td>1.877777</td>\n",
              "      <td>0.271886</td>\n",
              "      <td>-0.232472</td>\n",
              "      <td>0.102129</td>\n",
              "    </tr>\n",
              "    <tr>\n",
              "      <th>3</th>\n",
              "      <td>1.0</td>\n",
              "      <td>0.511733</td>\n",
              "      <td>-0.26425</td>\n",
              "      <td>-0.461423</td>\n",
              "      <td>0.409400</td>\n",
              "      <td>-0.525726</td>\n",
              "      <td>-0.276144</td>\n",
              "      <td>0.370965</td>\n",
              "      <td>0.090167</td>\n",
              "      <td>0.107958</td>\n",
              "      <td>...</td>\n",
              "      <td>0.182574</td>\n",
              "      <td>0.085505</td>\n",
              "      <td>0.233285</td>\n",
              "      <td>0.925358</td>\n",
              "      <td>-0.008030</td>\n",
              "      <td>-0.406366</td>\n",
              "      <td>1.504523</td>\n",
              "      <td>0.271886</td>\n",
              "      <td>-0.232472</td>\n",
              "      <td>0.102129</td>\n",
              "    </tr>\n",
              "    <tr>\n",
              "      <th>4</th>\n",
              "      <td>1.0</td>\n",
              "      <td>-0.825098</td>\n",
              "      <td>-0.26425</td>\n",
              "      <td>-0.461423</td>\n",
              "      <td>0.409400</td>\n",
              "      <td>-0.525726</td>\n",
              "      <td>-0.276144</td>\n",
              "      <td>0.370965</td>\n",
              "      <td>0.090167</td>\n",
              "      <td>0.107958</td>\n",
              "      <td>...</td>\n",
              "      <td>0.182574</td>\n",
              "      <td>0.085505</td>\n",
              "      <td>0.233285</td>\n",
              "      <td>0.925358</td>\n",
              "      <td>-0.573268</td>\n",
              "      <td>-1.164793</td>\n",
              "      <td>1.877777</td>\n",
              "      <td>0.271886</td>\n",
              "      <td>-0.232472</td>\n",
              "      <td>0.102129</td>\n",
              "    </tr>\n",
              "  </tbody>\n",
              "</table>\n",
              "<p>5 rows × 29 columns</p>\n",
              "</div>"
            ],
            "text/plain": [
              "   Intercept        f0       f1        f2        f3        f4        f5  \\\n",
              "0        1.0  1.848564 -0.26425 -0.461423  0.409400  1.305455  2.329398   \n",
              "1        1.0 -0.825098 -0.26425  3.032397 -2.442599  1.305455 -0.276144   \n",
              "2        1.0  1.848564 -0.26425 -0.461423  0.409400  1.305455  2.329398   \n",
              "3        1.0  0.511733 -0.26425 -0.461423  0.409400 -0.525726 -0.276144   \n",
              "4        1.0 -0.825098 -0.26425 -0.461423  0.409400 -0.525726 -0.276144   \n",
              "\n",
              "         f6        f7        f8  ...       f18       f19       f20       f21  \\\n",
              "0  0.370965  0.090167  0.107958  ...  0.182574  0.085505  0.233285 -1.080663   \n",
              "1  0.370965  0.090167  0.107958  ...  0.182574  0.085505  0.233285 -1.080663   \n",
              "2  0.370965  0.090167  0.107958  ...  0.182574  0.085505  0.233285  0.925358   \n",
              "3  0.370965  0.090167  0.107958  ...  0.182574  0.085505  0.233285  0.925358   \n",
              "4  0.370965  0.090167  0.107958  ...  0.182574  0.085505  0.233285  0.925358   \n",
              "\n",
              "        f22       f23       f24       f25       f26       f27  \n",
              "0  0.443257 -0.406121 -0.687687  0.271886  3.727218  0.102129  \n",
              "1 -0.232546 -0.406366 -0.687687  0.271886 -0.232472  0.102129  \n",
              "2  1.459782  1.221876  1.877777  0.271886 -0.232472  0.102129  \n",
              "3 -0.008030 -0.406366  1.504523  0.271886 -0.232472  0.102129  \n",
              "4 -0.573268 -1.164793  1.877777  0.271886 -0.232472  0.102129  \n",
              "\n",
              "[5 rows x 29 columns]"
            ]
          },
          "metadata": {},
          "output_type": "display_data"
        },
        {
          "name": "stdout",
          "output_type": "stream",
          "text": [
            "labels are: {0, 1, 2, 3, 4}\n"
          ]
        }
      ],
      "source": [
        "furnace_X = furnace_data.iloc[:, :-1] # params\n",
        "furnace_y = furnace_data.iloc[:, -1] # label\n",
        "furnace_X_const = sm.add_constant(furnace_X) # 做線性回歸前 要手動加上截距(常數項)\n",
        "furnace_X_const = furnace_X_const.rename(columns={\"const\": \"Intercept\"})\n",
        "display(furnace_X_const.head())\n",
        "print('labels are:', set(furnace_y))"
      ]
    },
    {
      "cell_type": "code",
      "execution_count": 4,
      "metadata": {},
      "outputs": [
        {
          "name": "stdout",
          "output_type": "stream",
          "text": [
            "rsquared: 0.4953759883189156 \n",
            "rsquared_adj: 0.47236104184021754\n",
            "Intercept    0.000000e+00\n",
            "f18          6.355895e-19\n",
            "f2           2.430368e-18\n",
            "dtype: float64\n",
            "f4     0.927523\n",
            "f9     0.976734\n",
            "f12    0.978520\n",
            "dtype: float64\n",
            "sorted_pvalues: ['Intercept', 'f18', 'f2', 'f14', 'f15', 'f22', 'f17', 'f25', 'f6', 'f5', 'f8', 'f10', 'f16', 'f26', 'f1', 'f11', 'f13', 'f21', 'f19', 'f7', 'f24', 'f20', 'f3', 'f23', 'f27', 'f0', 'f4', 'f9', 'f12']\n"
          ]
        }
      ],
      "source": [
        "# (1) 整體資料先做線性迴歸；\n",
        "# (2) 依 p value 小至大排序選出重要變數；\n",
        "furnace_model = sm.OLS(furnace_y, furnace_X_const)\n",
        "furnace_result = furnace_model.fit()\n",
        "# print(furnace_result.summary())\n",
        "print('rsquared:', furnace_result.rsquared, '\\nrsquared_adj:', furnace_result.rsquared_adj)\n",
        "\n",
        "furnace_pvalues = furnace_result.pvalues\n",
        "print(furnace_pvalues.sort_values().head(3)) # p 越小影響力越大\n",
        "print(furnace_pvalues.sort_values().tail(3)) # p 越大影響力越小\n",
        "\n",
        "sorted_pvalues = list(furnace_pvalues.sort_values().keys())\n",
        "print(f\"sorted_pvalues: {sorted_pvalues}\")"
      ]
    },
    {
      "cell_type": "code",
      "execution_count": 5,
      "metadata": {},
      "outputs": [
        {
          "data": {
            "text/plain": [
              "'grade ~ f18 + f2 + f14 + f15 + f22 + f17 + f25 + f6 + f5 + f8 + f10 + f16 + f26 + f1 + f11 + f13 + f21 + f19 + f7 + f24 + f20 + f3 + f23 + f27 + f0 + f4 + f9 + f12'"
            ]
          },
          "execution_count": 5,
          "metadata": {},
          "output_type": "execute_result"
        }
      ],
      "source": [
        "# 這個 function 吃全域變數喔\n",
        "\n",
        "def make_formula(numOfParam: int) -> str:\n",
        "    ''' 1 <= numOfParam <= 28 \\n\n",
        "    no need to add constant \\n\n",
        "    example output formula with numOfParam = 4:\n",
        "    `grade ~ f0 + f1 + f2 + f3` '''\n",
        "    if numOfParam < 1:\n",
        "        numOfParam = 1\n",
        "    if numOfParam > 28:\n",
        "        numOfParam = 28\n",
        "    param_lst = sorted_pvalues[1:]\n",
        "\n",
        "    s = f\"{furnace_data.columns[-1]} ~\" # label\n",
        "    first_param = True\n",
        "    for x in param_lst[:numOfParam]:\n",
        "        if first_param:\n",
        "            s += f' {x}' # s += ' param'\n",
        "            first_param = False\n",
        "        else:\n",
        "            s += f' + {x}' # s += ' + param'\n",
        "    return s\n",
        "\n",
        "make_formula(1) # min param\n",
        "make_formula(28) # max param"
      ]
    },
    {
      "cell_type": "code",
      "execution_count": 10,
      "metadata": {},
      "outputs": [
        {
          "name": "stdout",
          "output_type": "stream",
          "text": [
            "rsquared_adj with 1 params: 0.0768328566497618\n",
            "rsquared_adj with 2 params: 0.2733340635593492\n",
            "rsquared_adj with 3 params: 0.3698974444769454\n",
            "rsquared_adj with 4 params: 0.403183398054795\n",
            "rsquared_adj with 5 params: 0.40785545925955646\n",
            "rsquared_adj with 6 params: 0.42001562082854216\n",
            "rsquared_adj with 7 params: 0.4285362248761698\n",
            "rsquared_adj with 8 params: 0.43853624721293083\n",
            "rsquared_adj with 9 params: 0.45807965568098774\n",
            "rsquared_adj with 10 params: 0.46265152545839194\n",
            "rsquared_adj with 11 params: 0.463196399481141\n",
            "rsquared_adj with 12 params: 0.4638875207178982\n",
            "rsquared_adj with 13 params: 0.463205216427506\n",
            "rsquared_adj with 14 params: 0.46887115935744694\n",
            "rsquared_adj with 15 params: 0.4710314997153918\n",
            "rsquared_adj with 16 params: 0.47380057970710177\n",
            "rsquared_adj with 17 params: 0.4743601222244074\n",
            "rsquared_adj with 18 params: 0.47793486673311314\n",
            "rsquared_adj with 19 params: 0.47772708760295834\n",
            "rsquared_adj with 20 params: 0.4773850741928837\n",
            "rsquared_adj with 21 params: 0.47692688487874535\n",
            "rsquared_adj with 22 params: 0.47646895994332183\n",
            "rsquared_adj with 23 params: 0.4757597471567405\n",
            "rsquared_adj with 24 params: 0.4749753811714059\n",
            "rsquared_adj with 25 params: 0.47412990219970585\n",
            "rsquared_adj with 26 params: 0.4732501752772694\n",
            "rsquared_adj with 27 params: 0.47325017527726954\n",
            "rsquared_adj with 28 params: 0.47236104184021754\n"
          ]
        },
        {
          "data": {
            "image/png": "[encoded data removed]",
            "text/plain": [
              "<Figure size 432x288 with 1 Axes>"
            ]
          },
          "metadata": {
            "needs_background": "light"
          },
          "output_type": "display_data"
        }
      ],
      "source": [
        "# (3) 將重要的變數一個個依序放入迴歸並計算 adjusted R2 作為預測準確度\n",
        "# formula string format: 'Label ~ param1 + param2 ...'\n",
        "numOfTest = len(sorted_pvalues[1:])\n",
        "rsquared_adj_lst = []\n",
        "\n",
        "for i in range(1, numOfTest+1):\n",
        "    formula_str = make_formula(i)\n",
        "    result = smf.ols(formula=formula_str, data=furnace_data).fit()\n",
        "    print(f'rsquared_adj with {i} params: {result.rsquared_adj}')\n",
        "    rsquared_adj_lst.append(result.rsquared_adj)\n",
        "\n",
        "plt.plot(rsquared_adj_lst)\n",
        "plt.xlabel('Dimension') \n",
        "plt.ylabel('Rsquared adj')\n",
        "plt.xticks(np.arange(numOfTest), np.arange(1, numOfTest+1))\n",
        "plt.grid()\n",
        "\n",
        "# result = smf.ols(formula=formula_str, data=furnace_data).fit()\n",
        "# print('rsquared:', result.rsquared, '\\nrsquared_adj:', result.rsquared_adj)"
      ]
    },
    {
      "cell_type": "markdown",
      "metadata": {
        "id": "kruIoEQdQNvn"
      },
      "source": [
        "### Q2 (20%)"
      ]
    },
    {
      "cell_type": "markdown",
      "metadata": {
        "id": "LRCLHMBdQZRl"
      },
      "source": [
        "#### Q2-(a)\n",
        "試找一個開放數據 (e.g. Kaggle開放數據 )，您會用什麼方法來確認資料品質的好壞?試操作一次並說明其細節"
      ]
    },
    {
      "cell_type": "code",
      "execution_count": 78,
      "metadata": {
        "id": "nzO1HtT3U1lH"
      },
      "outputs": [
        {
          "name": "stdout",
          "output_type": "stream",
          "text": [
            "(4095, 9)\n"
          ]
        },
        {
          "data": {
            "text/html": [
              "<div>\n",
              "<style scoped>\n",
              "    .dataframe tbody tr th:only-of-type {\n",
              "        vertical-align: middle;\n",
              "    }\n",
              "\n",
              "    .dataframe tbody tr th {\n",
              "        vertical-align: top;\n",
              "    }\n",
              "\n",
              "    .dataframe thead th {\n",
              "        text-align: right;\n",
              "    }\n",
              "</style>\n",
              "<table border=\"1\" class=\"dataframe\">\n",
              "  <thead>\n",
              "    <tr style=\"text-align: right;\">\n",
              "      <th></th>\n",
              "      <th>Make</th>\n",
              "      <th>Year of manufacture</th>\n",
              "      <th>Condition</th>\n",
              "      <th>Mileage</th>\n",
              "      <th>Engine Size</th>\n",
              "      <th>Fuel</th>\n",
              "      <th>Transmission</th>\n",
              "      <th>Price</th>\n",
              "      <th>Build</th>\n",
              "    </tr>\n",
              "  </thead>\n",
              "  <tbody>\n",
              "    <tr>\n",
              "      <th>0</th>\n",
              "      <td>Toyota</td>\n",
              "      <td>2007.0</td>\n",
              "      <td>Nigerian Used</td>\n",
              "      <td>166418.0</td>\n",
              "      <td>2400.0</td>\n",
              "      <td>Petrol</td>\n",
              "      <td>Automatic</td>\n",
              "      <td>3,120,000</td>\n",
              "      <td>NaN</td>\n",
              "    </tr>\n",
              "    <tr>\n",
              "      <th>1</th>\n",
              "      <td>Lexus</td>\n",
              "      <td>NaN</td>\n",
              "      <td>NaN</td>\n",
              "      <td>138024.0</td>\n",
              "      <td>NaN</td>\n",
              "      <td>NaN</td>\n",
              "      <td>Automatic</td>\n",
              "      <td>5,834,000</td>\n",
              "      <td>NaN</td>\n",
              "    </tr>\n",
              "    <tr>\n",
              "      <th>2</th>\n",
              "      <td>Mercedes-Benz</td>\n",
              "      <td>2008.0</td>\n",
              "      <td>Nigerian Used</td>\n",
              "      <td>376807.0</td>\n",
              "      <td>3000.0</td>\n",
              "      <td>Petrol</td>\n",
              "      <td>Automatic</td>\n",
              "      <td>3,640,000</td>\n",
              "      <td>NaN</td>\n",
              "    </tr>\n",
              "    <tr>\n",
              "      <th>3</th>\n",
              "      <td>Lexus</td>\n",
              "      <td>NaN</td>\n",
              "      <td>NaN</td>\n",
              "      <td>213362.0</td>\n",
              "      <td>NaN</td>\n",
              "      <td>NaN</td>\n",
              "      <td>Automatic</td>\n",
              "      <td>3,594,000</td>\n",
              "      <td>NaN</td>\n",
              "    </tr>\n",
              "    <tr>\n",
              "      <th>4</th>\n",
              "      <td>Mercedes-Benz</td>\n",
              "      <td>NaN</td>\n",
              "      <td>NaN</td>\n",
              "      <td>106199.0</td>\n",
              "      <td>NaN</td>\n",
              "      <td>NaN</td>\n",
              "      <td>Automatic</td>\n",
              "      <td>8,410,000</td>\n",
              "      <td>NaN</td>\n",
              "    </tr>\n",
              "  </tbody>\n",
              "</table>\n",
              "</div>"
            ],
            "text/plain": [
              "            Make  Year of manufacture      Condition   Mileage  Engine Size  \\\n",
              "0         Toyota               2007.0  Nigerian Used  166418.0       2400.0   \n",
              "1          Lexus                  NaN            NaN  138024.0          NaN   \n",
              "2  Mercedes-Benz               2008.0  Nigerian Used  376807.0       3000.0   \n",
              "3          Lexus                  NaN            NaN  213362.0          NaN   \n",
              "4  Mercedes-Benz                  NaN            NaN  106199.0          NaN   \n",
              "\n",
              "     Fuel Transmission      Price Build  \n",
              "0  Petrol    Automatic  3,120,000   NaN  \n",
              "1     NaN    Automatic  5,834,000   NaN  \n",
              "2  Petrol    Automatic  3,640,000   NaN  \n",
              "3     NaN    Automatic  3,594,000   NaN  \n",
              "4     NaN    Automatic  8,410,000   NaN  "
            ]
          },
          "execution_count": 78,
          "metadata": {},
          "output_type": "execute_result"
        }
      ],
      "source": [
        "# https://www.kaggle.com/datasets/whenamancodes/covid-19-coronavirus-pandemic-dataset\n",
        "# https://www.kaggle.com/datasets/segunadedipe/nigerian-car-prices\n",
        "df = pd.read_csv(\"Nigerian_Car_Prices.csv\")\n",
        "df = df.iloc[:, 1:]\n",
        "print(df.shape)\n",
        "df.head()"
      ]
    },
    {
      "cell_type": "code",
      "execution_count": 74,
      "metadata": {},
      "outputs": [
        {
          "name": "stdout",
          "output_type": "stream",
          "text": [
            "Missing value rate is 13.61%. (5015 out of 36855)\n"
          ]
        },
        {
          "data": {
            "image/png": "[encoded data removed]",
            "text/plain": [
              "<Figure size 432x288 with 1 Axes>"
            ]
          },
          "metadata": {
            "needs_background": "light"
          },
          "output_type": "display_data"
        }
      ],
      "source": [
        "# Missing value rate\n",
        "# ref https://datatofish.com/check-nan-pandas-dataframe/\n",
        "numOfNanCell = df.isnull().sum().sum()\n",
        "numOfTotalCall = df.shape[0]*df.shape[1]\n",
        "missRate = numOfNanCell / numOfTotalCall\n",
        "print(f\"Missing value rate is {100*missRate:.2f}%. ({numOfNanCell} out of {numOfTotalCall})\")\n",
        "\n",
        "# df.isnull().sum().plot(kind='bar')\n",
        "ax = df.isnull().sum().plot.bar(rot=45)\n",
        "for container in ax.containers:\n",
        "    ax.bar_label(container)"
      ]
    },
    {
      "cell_type": "code",
      "execution_count": 79,
      "metadata": {},
      "outputs": [
        {
          "data": {
            "text/plain": [
              "Toyota           0.358730\n",
              "Lexus            0.113309\n",
              "Mercedes-Benz    0.106471\n",
              "Honda            0.104518\n",
              "Ford             0.048107\n",
              "Name: Make, dtype: float64"
            ]
          },
          "execution_count": 79,
          "metadata": {},
          "output_type": "execute_result"
        }
      ],
      "source": [
        "df['Make'].value_counts(normalize=True, sort=True).head()"
      ]
    },
    {
      "cell_type": "code",
      "execution_count": 75,
      "metadata": {},
      "outputs": [
        {
          "data": {
            "text/html": [
              "<div>\n",
              "<style scoped>\n",
              "    .dataframe tbody tr th:only-of-type {\n",
              "        vertical-align: middle;\n",
              "    }\n",
              "\n",
              "    .dataframe tbody tr th {\n",
              "        vertical-align: top;\n",
              "    }\n",
              "\n",
              "    .dataframe thead th {\n",
              "        text-align: right;\n",
              "    }\n",
              "</style>\n",
              "<table border=\"1\" class=\"dataframe\">\n",
              "  <thead>\n",
              "    <tr style=\"text-align: right;\">\n",
              "      <th></th>\n",
              "      <th>Make</th>\n",
              "      <th>Year of manufacture</th>\n",
              "      <th>Condition</th>\n",
              "      <th>Mileage</th>\n",
              "      <th>Engine Size</th>\n",
              "      <th>Fuel</th>\n",
              "      <th>Transmission</th>\n",
              "      <th>Price</th>\n",
              "      <th>Build</th>\n",
              "    </tr>\n",
              "  </thead>\n",
              "  <tbody>\n",
              "    <tr>\n",
              "      <th>0</th>\n",
              "      <td>0</td>\n",
              "      <td>2007.000000</td>\n",
              "      <td>0</td>\n",
              "      <td>166418.0</td>\n",
              "      <td>2400.000000</td>\n",
              "      <td>0</td>\n",
              "      <td>0</td>\n",
              "      <td>3120000</td>\n",
              "      <td>-1</td>\n",
              "    </tr>\n",
              "    <tr>\n",
              "      <th>1</th>\n",
              "      <td>1</td>\n",
              "      <td>2007.898535</td>\n",
              "      <td>-1</td>\n",
              "      <td>138024.0</td>\n",
              "      <td>3274.976562</td>\n",
              "      <td>-1</td>\n",
              "      <td>0</td>\n",
              "      <td>5834000</td>\n",
              "      <td>-1</td>\n",
              "    </tr>\n",
              "    <tr>\n",
              "      <th>2</th>\n",
              "      <td>2</td>\n",
              "      <td>2008.000000</td>\n",
              "      <td>0</td>\n",
              "      <td>376807.0</td>\n",
              "      <td>3000.000000</td>\n",
              "      <td>0</td>\n",
              "      <td>0</td>\n",
              "      <td>3640000</td>\n",
              "      <td>-1</td>\n",
              "    </tr>\n",
              "    <tr>\n",
              "      <th>3</th>\n",
              "      <td>1</td>\n",
              "      <td>2007.898535</td>\n",
              "      <td>-1</td>\n",
              "      <td>213362.0</td>\n",
              "      <td>3274.976562</td>\n",
              "      <td>-1</td>\n",
              "      <td>0</td>\n",
              "      <td>3594000</td>\n",
              "      <td>-1</td>\n",
              "    </tr>\n",
              "    <tr>\n",
              "      <th>4</th>\n",
              "      <td>2</td>\n",
              "      <td>2007.898535</td>\n",
              "      <td>-1</td>\n",
              "      <td>106199.0</td>\n",
              "      <td>3274.976562</td>\n",
              "      <td>-1</td>\n",
              "      <td>0</td>\n",
              "      <td>8410000</td>\n",
              "      <td>-1</td>\n",
              "    </tr>\n",
              "  </tbody>\n",
              "</table>\n",
              "</div>"
            ],
            "text/plain": [
              "   Make  Year of manufacture  Condition   Mileage  Engine Size  Fuel  \\\n",
              "0     0          2007.000000          0  166418.0  2400.000000     0   \n",
              "1     1          2007.898535         -1  138024.0  3274.976562    -1   \n",
              "2     2          2008.000000          0  376807.0  3000.000000     0   \n",
              "3     1          2007.898535         -1  213362.0  3274.976562    -1   \n",
              "4     2          2007.898535         -1  106199.0  3274.976562    -1   \n",
              "\n",
              "   Transmission    Price  Build  \n",
              "0             0  3120000     -1  \n",
              "1             0  5834000     -1  \n",
              "2             0  3640000     -1  \n",
              "3             0  3594000     -1  \n",
              "4             0  8410000     -1  "
            ]
          },
          "execution_count": 75,
          "metadata": {},
          "output_type": "execute_result"
        }
      ],
      "source": [
        "# 進行獨行性測試(OLS建模)之前，需要補空值，把類別轉成數值\n",
        "def format_float(x: str):\n",
        "    return x.replace(',','')  \n",
        "\n",
        "df['Price'] = df['Price'].apply(lambda x: format_float(x))\n",
        "       \n",
        "# 數值資料填 mean\n",
        "for col_name in ['Year of manufacture', 'Mileage', 'Engine Size', 'Price']:\n",
        "    df[col_name] = pd.to_numeric(df[col_name])\n",
        "    df[col_name].fillna(value=df[col_name].mean(), inplace=True)\n",
        "# df.fillna(value=0, inplace=True)\n",
        "\n",
        "# 類別資料轉成 0,1,2 空值 -1\n",
        "for col_name in ['Make', 'Condition', 'Fuel', 'Transmission', 'Build']:\n",
        "    # df[col_name] = df[col_name].astype('category')\n",
        "    df[col_name] = pd.factorize( df[col_name] )[0]\n",
        "df.head()"
      ]
    },
    {
      "cell_type": "code",
      "execution_count": 72,
      "metadata": {},
      "outputs": [
        {
          "name": "stdout",
          "output_type": "stream",
          "text": [
            "Durbin-Watson: 1.7066677199512363\n"
          ]
        }
      ],
      "source": [
        "# Independence by durbin_watson\n",
        "from statsmodels.formula.api import ols\n",
        "from statsmodels.stats.stattools import durbin_watson\n",
        "import pandas as pd\n",
        "import numpy as np\n",
        "\n",
        "# df = pd.DataFrame(np.random.standard_normal((500,4)))\n",
        "# df.columns = [\"rating\", \"points\", \"assists\", \"rebounds\"]\n",
        "\n",
        "# fit multiple linear regression model\n",
        "model = ols(\"Make ~ Q('Year of manufacture') + Condition + Mileage + Q('Engine Size') + \\\n",
        "    Fuel + Transmission + Price + Build\", data=df)\n",
        "res = model.fit()\n",
        "\n",
        "dw = durbin_watson(res.resid)\n",
        "print(f\"Durbin-Watson: {dw}\")"
      ]
    },
    {
      "cell_type": "code",
      "execution_count": 27,
      "metadata": {},
      "outputs": [
        {
          "name": "stdout",
          "output_type": "stream",
          "text": [
            "number of brand: 49\n"
          ]
        },
        {
          "data": {
            "text/plain": [
              "2.367840566848608"
            ]
          },
          "execution_count": 27,
          "metadata": {},
          "output_type": "execute_result"
        }
      ],
      "source": [
        "# Entropy of 'Make', we can see the entropy is high, the infomation in rich enough.\n",
        "# ref https://stackoverflow.com/questions/15450192/fastest-way-to-compute-entropy-in-python\n",
        "from math import log, e\n",
        "def entropy3(labels, base=None):\n",
        "  vc = pd.Series(labels).value_counts(normalize=True, sort=False)\n",
        "  print(f'number of brand: {len(vc)}')\n",
        "  base = e if base is None else base\n",
        "  return -(vc * np.log(vc)/np.log(base)).sum()\n",
        "\n",
        "entropy3(df['Make'])"
      ]
    },
    {
      "cell_type": "markdown",
      "metadata": {
        "id": "7bXD1O1rQvFd"
      },
      "source": [
        "#### Q2-(b)\n",
        "公司或您 是否有現存方法來進行資料品質的確認？如果有(或沒有)，試依您的角度說明(或建議)確認資料品質的標準作業流程 (i.e. SOP)。"
      ]
    },
    {
      "cell_type": "markdown",
      "metadata": {
        "id": "3AdiP6pEQ2b9"
      },
      "source": [
        "#### Q2-(c)\n",
        "試建議三個可能衡量數據品質的量化指標 (i.e. KPIs)。"
      ]
    },
    {
      "cell_type": "markdown",
      "metadata": {
        "id": "Jg9ba-HEQ81E"
      },
      "source": [
        "### Q3 (20%) 在數據科學分析架構中的決策支援階段"
      ]
    },
    {
      "cell_type": "markdown",
      "metadata": {
        "id": "sb8sCQBQRE3M"
      },
      "source": [
        "#### Q3-(a)\n",
        "什麼是模型的適應性與擴充性?"
      ]
    },
    {
      "cell_type": "code",
      "execution_count": null,
      "metadata": {
        "id": "Bs9t9wDeU2Kf"
      },
      "outputs": [],
      "source": []
    },
    {
      "cell_type": "markdown",
      "metadata": {
        "id": "ncZsFC7BRKNM"
      },
      "source": [
        "#### Q3-(b)\n",
        "在AI專案中(可根據第一題的開放數據與模型)，就您所使用的數據與建構預測模型是否具備適應性與擴充性?為什麼?該如何改善與調整?"
      ]
    },
    {
      "cell_type": "markdown",
      "metadata": {
        "id": "ZIqNo80MRALO"
      },
      "source": [
        "#### Q4 (10%) \n",
        "遺漏值填補的方法包括了統計量填補 、預測式與生成式填補"
      ]
    },
    {
      "cell_type": "markdown",
      "metadata": {
        "id": "tm5mLT6tRmPM"
      },
      "source": [
        "#### Q4-(a)\n",
        "試說明這些方法分別適用於什麼樣情形"
      ]
    },
    {
      "cell_type": "code",
      "execution_count": null,
      "metadata": {
        "id": "4-aztSQAU2m_"
      },
      "outputs": [],
      "source": []
    },
    {
      "cell_type": "markdown",
      "metadata": {
        "id": "pOD21FD8R25r"
      },
      "source": [
        "#### Q4-(b)\n",
        "為什麼某特徵存在大量遺漏值不宜直接刪除？"
      ]
    },
    {
      "cell_type": "markdown",
      "metadata": {
        "id": "RNdpS9RRSJ9q"
      },
      "source": [
        "### Q5 (30%) \n",
        "在 UCI Machine Learning Repository 開放數據中包含了一個鋼板缺陷數據 (steel plates faults dataset https://archive.ics.uci.edu/ml/datasets/steel+plates+faults)，一共包含了1,941個觀測值，而每個觀測值具有 27個特徵以及作為目標值的7種缺陷。試挑選出凹凸不平(Bumps)以及刮痕(K_Scratch)兩種缺陷進行分析"
      ]
    },
    {
      "cell_type": "markdown",
      "metadata": {
        "id": "64fS9dDVSNZi"
      },
      "source": [
        "#### Q5-(1)\n",
        "試將羅吉斯迴歸分析的結果呈現如下表，並試著解釋任一特徵與目標值之間的關係。\n",
        "![image.png](data:image/png;base64,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)"
      ]
    },
    {
      "cell_type": "code",
      "execution_count": null,
      "metadata": {},
      "outputs": [],
      "source": [
        "# ! pip install openpyxl"
      ]
    },
    {
      "cell_type": "code",
      "execution_count": 1,
      "metadata": {
        "id": "wCX15YMJU3xw"
      },
      "outputs": [
        {
          "data": {
            "text/html": [
              "<div>\n",
              "<style scoped>\n",
              "    .dataframe tbody tr th:only-of-type {\n",
              "        vertical-align: middle;\n",
              "    }\n",
              "\n",
              "    .dataframe tbody tr th {\n",
              "        vertical-align: top;\n",
              "    }\n",
              "\n",
              "    .dataframe thead th {\n",
              "        text-align: right;\n",
              "    }\n",
              "</style>\n",
              "<table border=\"1\" class=\"dataframe\">\n",
              "  <thead>\n",
              "    <tr style=\"text-align: right;\">\n",
              "      <th></th>\n",
              "      <th>X_Minimum</th>\n",
              "      <th>X_Maximum</th>\n",
              "      <th>Y_Minimum</th>\n",
              "      <th>Y_Maximum</th>\n",
              "      <th>Pixels_Areas</th>\n",
              "      <th>X_Perimeter</th>\n",
              "      <th>Y_Perimeter</th>\n",
              "      <th>Sum_of_Luminosity</th>\n",
              "      <th>Minimum_of_Luminosity</th>\n",
              "      <th>Maximum_of_Luminosity</th>\n",
              "      <th>...</th>\n",
              "      <th>Orientation_Index</th>\n",
              "      <th>Luminosity_Index</th>\n",
              "      <th>SigmoidOfAreas</th>\n",
              "      <th>Pastry</th>\n",
              "      <th>Z_Scratch</th>\n",
              "      <th>K_Scatch</th>\n",
              "      <th>Stains</th>\n",
              "      <th>Dirtiness</th>\n",
              "      <th>Bumps</th>\n",
              "      <th>Other_Faults</th>\n",
              "    </tr>\n",
              "  </thead>\n",
              "  <tbody>\n",
              "    <tr>\n",
              "      <th>0</th>\n",
              "      <td>42</td>\n",
              "      <td>50</td>\n",
              "      <td>270900</td>\n",
              "      <td>270944</td>\n",
              "      <td>267</td>\n",
              "      <td>17</td>\n",
              "      <td>44</td>\n",
              "      <td>24220</td>\n",
              "      <td>76</td>\n",
              "      <td>108</td>\n",
              "      <td>...</td>\n",
              "      <td>0.8182</td>\n",
              "      <td>-0.2913</td>\n",
              "      <td>0.5822</td>\n",
              "      <td>1</td>\n",
              "      <td>0</td>\n",
              "      <td>0</td>\n",
              "      <td>0</td>\n",
              "      <td>0</td>\n",
              "      <td>0</td>\n",
              "      <td>0</td>\n",
              "    </tr>\n",
              "    <tr>\n",
              "      <th>1</th>\n",
              "      <td>645</td>\n",
              "      <td>651</td>\n",
              "      <td>2538079</td>\n",
              "      <td>2538108</td>\n",
              "      <td>108</td>\n",
              "      <td>10</td>\n",
              "      <td>30</td>\n",
              "      <td>11397</td>\n",
              "      <td>84</td>\n",
              "      <td>123</td>\n",
              "      <td>...</td>\n",
              "      <td>0.7931</td>\n",
              "      <td>-0.1756</td>\n",
              "      <td>0.2984</td>\n",
              "      <td>1</td>\n",
              "      <td>0</td>\n",
              "      <td>0</td>\n",
              "      <td>0</td>\n",
              "      <td>0</td>\n",
              "      <td>0</td>\n",
              "      <td>0</td>\n",
              "    </tr>\n",
              "    <tr>\n",
              "      <th>2</th>\n",
              "      <td>829</td>\n",
              "      <td>835</td>\n",
              "      <td>1553913</td>\n",
              "      <td>1553931</td>\n",
              "      <td>71</td>\n",
              "      <td>8</td>\n",
              "      <td>19</td>\n",
              "      <td>7972</td>\n",
              "      <td>99</td>\n",
              "      <td>125</td>\n",
              "      <td>...</td>\n",
              "      <td>0.6667</td>\n",
              "      <td>-0.1228</td>\n",
              "      <td>0.2150</td>\n",
              "      <td>1</td>\n",
              "      <td>0</td>\n",
              "      <td>0</td>\n",
              "      <td>0</td>\n",
              "      <td>0</td>\n",
              "      <td>0</td>\n",
              "      <td>0</td>\n",
              "    </tr>\n",
              "    <tr>\n",
              "      <th>3</th>\n",
              "      <td>853</td>\n",
              "      <td>860</td>\n",
              "      <td>369370</td>\n",
              "      <td>369415</td>\n",
              "      <td>176</td>\n",
              "      <td>13</td>\n",
              "      <td>45</td>\n",
              "      <td>18996</td>\n",
              "      <td>99</td>\n",
              "      <td>126</td>\n",
              "      <td>...</td>\n",
              "      <td>0.8444</td>\n",
              "      <td>-0.1568</td>\n",
              "      <td>0.5212</td>\n",
              "      <td>1</td>\n",
              "      <td>0</td>\n",
              "      <td>0</td>\n",
              "      <td>0</td>\n",
              "      <td>0</td>\n",
              "      <td>0</td>\n",
              "      <td>0</td>\n",
              "    </tr>\n",
              "    <tr>\n",
              "      <th>4</th>\n",
              "      <td>1289</td>\n",
              "      <td>1306</td>\n",
              "      <td>498078</td>\n",
              "      <td>498335</td>\n",
              "      <td>2409</td>\n",
              "      <td>60</td>\n",
              "      <td>260</td>\n",
              "      <td>246930</td>\n",
              "      <td>37</td>\n",
              "      <td>126</td>\n",
              "      <td>...</td>\n",
              "      <td>0.9338</td>\n",
              "      <td>-0.1992</td>\n",
              "      <td>1.0000</td>\n",
              "      <td>1</td>\n",
              "      <td>0</td>\n",
              "      <td>0</td>\n",
              "      <td>0</td>\n",
              "      <td>0</td>\n",
              "      <td>0</td>\n",
              "      <td>0</td>\n",
              "    </tr>\n",
              "    <tr>\n",
              "      <th>...</th>\n",
              "      <td>...</td>\n",
              "      <td>...</td>\n",
              "      <td>...</td>\n",
              "      <td>...</td>\n",
              "      <td>...</td>\n",
              "      <td>...</td>\n",
              "      <td>...</td>\n",
              "      <td>...</td>\n",
              "      <td>...</td>\n",
              "      <td>...</td>\n",
              "      <td>...</td>\n",
              "      <td>...</td>\n",
              "      <td>...</td>\n",
              "      <td>...</td>\n",
              "      <td>...</td>\n",
              "      <td>...</td>\n",
              "      <td>...</td>\n",
              "      <td>...</td>\n",
              "      <td>...</td>\n",
              "      <td>...</td>\n",
              "      <td>...</td>\n",
              "    </tr>\n",
              "    <tr>\n",
              "      <th>1936</th>\n",
              "      <td>249</td>\n",
              "      <td>277</td>\n",
              "      <td>325780</td>\n",
              "      <td>325796</td>\n",
              "      <td>273</td>\n",
              "      <td>54</td>\n",
              "      <td>22</td>\n",
              "      <td>35033</td>\n",
              "      <td>119</td>\n",
              "      <td>141</td>\n",
              "      <td>...</td>\n",
              "      <td>-0.4286</td>\n",
              "      <td>0.0026</td>\n",
              "      <td>0.7254</td>\n",
              "      <td>0</td>\n",
              "      <td>0</td>\n",
              "      <td>0</td>\n",
              "      <td>0</td>\n",
              "      <td>0</td>\n",
              "      <td>0</td>\n",
              "      <td>1</td>\n",
              "    </tr>\n",
              "    <tr>\n",
              "      <th>1937</th>\n",
              "      <td>144</td>\n",
              "      <td>175</td>\n",
              "      <td>340581</td>\n",
              "      <td>340598</td>\n",
              "      <td>287</td>\n",
              "      <td>44</td>\n",
              "      <td>24</td>\n",
              "      <td>34599</td>\n",
              "      <td>112</td>\n",
              "      <td>133</td>\n",
              "      <td>...</td>\n",
              "      <td>-0.4516</td>\n",
              "      <td>-0.0582</td>\n",
              "      <td>0.8173</td>\n",
              "      <td>0</td>\n",
              "      <td>0</td>\n",
              "      <td>0</td>\n",
              "      <td>0</td>\n",
              "      <td>0</td>\n",
              "      <td>0</td>\n",
              "      <td>1</td>\n",
              "    </tr>\n",
              "    <tr>\n",
              "      <th>1938</th>\n",
              "      <td>145</td>\n",
              "      <td>174</td>\n",
              "      <td>386779</td>\n",
              "      <td>386794</td>\n",
              "      <td>292</td>\n",
              "      <td>40</td>\n",
              "      <td>22</td>\n",
              "      <td>37572</td>\n",
              "      <td>120</td>\n",
              "      <td>140</td>\n",
              "      <td>...</td>\n",
              "      <td>-0.4828</td>\n",
              "      <td>0.0052</td>\n",
              "      <td>0.7079</td>\n",
              "      <td>0</td>\n",
              "      <td>0</td>\n",
              "      <td>0</td>\n",
              "      <td>0</td>\n",
              "      <td>0</td>\n",
              "      <td>0</td>\n",
              "      <td>1</td>\n",
              "    </tr>\n",
              "    <tr>\n",
              "      <th>1939</th>\n",
              "      <td>137</td>\n",
              "      <td>170</td>\n",
              "      <td>422497</td>\n",
              "      <td>422528</td>\n",
              "      <td>419</td>\n",
              "      <td>97</td>\n",
              "      <td>47</td>\n",
              "      <td>52715</td>\n",
              "      <td>117</td>\n",
              "      <td>140</td>\n",
              "      <td>...</td>\n",
              "      <td>-0.0606</td>\n",
              "      <td>-0.0171</td>\n",
              "      <td>0.9919</td>\n",
              "      <td>0</td>\n",
              "      <td>0</td>\n",
              "      <td>0</td>\n",
              "      <td>0</td>\n",
              "      <td>0</td>\n",
              "      <td>0</td>\n",
              "      <td>1</td>\n",
              "    </tr>\n",
              "    <tr>\n",
              "      <th>1940</th>\n",
              "      <td>1261</td>\n",
              "      <td>1281</td>\n",
              "      <td>87951</td>\n",
              "      <td>87967</td>\n",
              "      <td>103</td>\n",
              "      <td>26</td>\n",
              "      <td>22</td>\n",
              "      <td>11682</td>\n",
              "      <td>101</td>\n",
              "      <td>133</td>\n",
              "      <td>...</td>\n",
              "      <td>-0.2000</td>\n",
              "      <td>-0.1139</td>\n",
              "      <td>0.5296</td>\n",
              "      <td>0</td>\n",
              "      <td>0</td>\n",
              "      <td>0</td>\n",
              "      <td>0</td>\n",
              "      <td>0</td>\n",
              "      <td>0</td>\n",
              "      <td>1</td>\n",
              "    </tr>\n",
              "  </tbody>\n",
              "</table>\n",
              "<p>1941 rows × 34 columns</p>\n",
              "</div>"
            ],
            "text/plain": [
              "      X_Minimum  X_Maximum  Y_Minimum  Y_Maximum  Pixels_Areas  X_Perimeter  \\\n",
              "0            42         50     270900     270944           267           17   \n",
              "1           645        651    2538079    2538108           108           10   \n",
              "2           829        835    1553913    1553931            71            8   \n",
              "3           853        860     369370     369415           176           13   \n",
              "4          1289       1306     498078     498335          2409           60   \n",
              "...         ...        ...        ...        ...           ...          ...   \n",
              "1936        249        277     325780     325796           273           54   \n",
              "1937        144        175     340581     340598           287           44   \n",
              "1938        145        174     386779     386794           292           40   \n",
              "1939        137        170     422497     422528           419           97   \n",
              "1940       1261       1281      87951      87967           103           26   \n",
              "\n",
              "      Y_Perimeter  Sum_of_Luminosity  Minimum_of_Luminosity  \\\n",
              "0              44              24220                     76   \n",
              "1              30              11397                     84   \n",
              "2              19               7972                     99   \n",
              "3              45              18996                     99   \n",
              "4             260             246930                     37   \n",
              "...           ...                ...                    ...   \n",
              "1936           22              35033                    119   \n",
              "1937           24              34599                    112   \n",
              "1938           22              37572                    120   \n",
              "1939           47              52715                    117   \n",
              "1940           22              11682                    101   \n",
              "\n",
              "      Maximum_of_Luminosity  ...  Orientation_Index  Luminosity_Index  \\\n",
              "0                       108  ...             0.8182           -0.2913   \n",
              "1                       123  ...             0.7931           -0.1756   \n",
              "2                       125  ...             0.6667           -0.1228   \n",
              "3                       126  ...             0.8444           -0.1568   \n",
              "4                       126  ...             0.9338           -0.1992   \n",
              "...                     ...  ...                ...               ...   \n",
              "1936                    141  ...            -0.4286            0.0026   \n",
              "1937                    133  ...            -0.4516           -0.0582   \n",
              "1938                    140  ...            -0.4828            0.0052   \n",
              "1939                    140  ...            -0.0606           -0.0171   \n",
              "1940                    133  ...            -0.2000           -0.1139   \n",
              "\n",
              "      SigmoidOfAreas  Pastry  Z_Scratch  K_Scatch  Stains  Dirtiness  Bumps  \\\n",
              "0             0.5822       1          0         0       0          0      0   \n",
              "1             0.2984       1          0         0       0          0      0   \n",
              "2             0.2150       1          0         0       0          0      0   \n",
              "3             0.5212       1          0         0       0          0      0   \n",
              "4             1.0000       1          0         0       0          0      0   \n",
              "...              ...     ...        ...       ...     ...        ...    ...   \n",
              "1936          0.7254       0          0         0       0          0      0   \n",
              "1937          0.8173       0          0         0       0          0      0   \n",
              "1938          0.7079       0          0         0       0          0      0   \n",
              "1939          0.9919       0          0         0       0          0      0   \n",
              "1940          0.5296       0          0         0       0          0      0   \n",
              "\n",
              "      Other_Faults  \n",
              "0                0  \n",
              "1                0  \n",
              "2                0  \n",
              "3                0  \n",
              "4                0  \n",
              "...            ...  \n",
              "1936             1  \n",
              "1937             1  \n",
              "1938             1  \n",
              "1939             1  \n",
              "1940             1  \n",
              "\n",
              "[1941 rows x 34 columns]"
            ]
          },
          "execution_count": 1,
          "metadata": {},
          "output_type": "execute_result"
        }
      ],
      "source": [
        "import pandas as pd\n",
        "import numpy as np\n",
        "from matplotlib import pyplot as plt\n",
        "import statsmodels.api as sm\n",
        "xlxs_path = \"./MDS_Assignment2_Steelplates.xlsx\"\n",
        "df = pd.read_excel(xlxs_path, sheet_name=\"Var_Name\", header=None)\n",
        "columns = df.iloc[:,0].to_numpy()\n",
        "columns\n",
        "\n",
        "df = pd.read_excel(xlxs_path, sheet_name=\"Faults\", header=None, names=columns)\n",
        "df"
      ]
    },
    {
      "cell_type": "code",
      "execution_count": 2,
      "metadata": {},
      "outputs": [
        {
          "name": "stdout",
          "output_type": "stream",
          "text": [
            "特徵27種: ['X_Minimum' 'X_Maximum' 'Y_Minimum' 'Y_Maximum' 'Pixels_Areas'\n",
            " 'X_Perimeter' 'Y_Perimeter' 'Sum_of_Luminosity' 'Minimum_of_Luminosity'\n",
            " 'Maximum_of_Luminosity' 'Length_of_Conveyer' 'TypeOfSteel_A300'\n",
            " 'TypeOfSteel_A400' 'Steel_Plate_Thickness' 'Edges_Index' 'Empty_Index'\n",
            " 'Square_Index' 'Outside_X_Index' 'Edges_X_Index' 'Edges_Y_Index'\n",
            " 'Outside_Global_Index' 'LogOfAreas' 'Log_X_Index' 'Log_Y_Index'\n",
            " 'Orientation_Index' 'Luminosity_Index' 'SigmoidOfAreas']\n",
            "標籤 7種: ['Pastry' 'Z_Scratch' 'K_Scatch' 'Stains' 'Dirtiness' 'Bumps'\n",
            " 'Other_Faults']\n"
          ]
        }
      ],
      "source": [
        "print('特徵27種:',columns[:27])\n",
        "print('標籤 7種:',columns[27:])"
      ]
    },
    {
      "cell_type": "code",
      "execution_count": 3,
      "metadata": {},
      "outputs": [
        {
          "name": "stdout",
          "output_type": "stream",
          "text": [
            "num of bump samples: 402 out of 1941\n",
            "num of scatch samples: 391 out of 1941\n"
          ]
        }
      ],
      "source": [
        "# 只取出指定的兩種 label 做分析\n",
        "# # record_ids = (df[\"K_Scatch\"] == 1) | (df[\"Bumps\"] == 1) \n",
        "# df_filter = df.loc[record_ids]\n",
        "\n",
        "x = df.iloc[:, 0:27]\n",
        "# x_bump = df.iloc[:, 0:27]\n",
        "y_bump = df[\"Bumps\"]\n",
        "print('num of bump samples:', len(df[df[\"Bumps\"] == 1]), 'out of', len(df))\n",
        "\n",
        "# x_scatch = df.iloc[:, 0:27]\n",
        "y_scatch = df[\"K_Scatch\"]\n",
        "print('num of scatch samples:', len(df[df[\"K_Scatch\"] == 1]), 'out of', len(df))"
      ]
    },
    {
      "cell_type": "markdown",
      "metadata": {},
      "source": [
        "##### Bumps Logistic Model"
      ]
    },
    {
      "cell_type": "code",
      "execution_count": 20,
      "metadata": {},
      "outputs": [
        {
          "name": "stdout",
          "output_type": "stream",
          "text": [
            "Warning: Maximum number of iterations has been exceeded.\n",
            "         Current function value: nan\n",
            "         Iterations: 35\n",
            "                          MNLogit Regression Results                          \n",
            "==============================================================================\n",
            "Dep. Variable:                  Bumps   No. Observations:                 1941\n",
            "Model:                        MNLogit   Df Residuals:                     1914\n",
            "Method:                           MLE   Df Model:                           26\n",
            "Date:                Sun, 23 Oct 2022   Pseudo R-squ.:                     nan\n",
            "Time:                        10:28:44   Log-Likelihood:                    nan\n",
            "converged:                      False   LL-Null:                       -990.11\n",
            "Covariance Type:            nonrobust   LLR p-value:                       nan\n",
            "=========================================================================================\n",
            "              Bumps=1       coef    std err          z      P>|z|      [0.025      0.975]\n",
            "-----------------------------------------------------------------------------------------\n",
            "const                   -12.9897        nan        nan        nan         nan         nan\n",
            "X_Minimum                 0.0441      0.050      0.879      0.379      -0.054       0.142\n",
            "X_Maximum                -0.0436      0.050     -0.870      0.384      -0.142       0.055\n",
            "Y_Minimum                 0.1252      0.023      5.348      0.000       0.079       0.171\n",
            "Y_Maximum                -0.1252      0.023     -5.348      0.000      -0.171      -0.079\n",
            "Pixels_Areas             -0.0022      0.002     -1.414      0.157      -0.005       0.001\n",
            "X_Perimeter              -0.0373      0.011     -3.288      0.001      -0.060      -0.015\n",
            "Y_Perimeter               0.0970      0.021      4.560      0.000       0.055       0.139\n",
            "Sum_of_Luminosity      1.582e-05   1.41e-05      1.122      0.262   -1.18e-05    4.34e-05\n",
            "Minimum_of_Luminosity     0.0172      0.010      1.734      0.083      -0.002       0.037\n",
            "Maximum_of_Luminosity     0.0315      0.012      2.521      0.012       0.007       0.056\n",
            "Length_of_Conveyer        0.0013      0.001      1.846      0.065   -7.93e-05       0.003\n",
            "TypeOfSteel_A300         -6.0621        nan        nan        nan         nan         nan\n",
            "TypeOfSteel_A400         -6.9937        nan        nan        nan         nan         nan\n",
            "Steel_Plate_Thickness    -0.0051      0.002     -3.208      0.001      -0.008      -0.002\n",
            "Edges_Index               1.1659      0.235      4.960      0.000       0.705       1.627\n",
            "Empty_Index              -3.2953      3.045     -1.082      0.279      -9.264       2.673\n",
            "Square_Index              1.1437      0.369      3.097      0.002       0.420       1.868\n",
            "Outside_X_Index          43.4036     66.951      0.648      0.517     -87.818     174.625\n",
            "Edges_X_Index            -1.8628      0.744     -2.503      0.012      -3.321      -0.404\n",
            "Edges_Y_Index             5.1532      1.001      5.147      0.000       3.191       7.116\n",
            "Outside_Global_Index      0.4553      0.331      1.375      0.169      -0.194       1.104\n",
            "LogOfAreas               -1.9522      3.785     -0.516      0.606      -9.371       5.467\n",
            "Log_X_Index               6.2231      4.181      1.488      0.137      -1.971      14.418\n",
            "Log_Y_Index               4.2860      4.020      1.066      0.286      -3.592      12.164\n",
            "Orientation_Index        -1.2111      1.149     -1.054      0.292      -3.464       1.042\n",
            "Luminosity_Index         -6.8484      2.574     -2.661      0.008     -11.894      -1.803\n",
            "SigmoidOfAreas           -0.3590      0.760     -0.472      0.637      -1.848       1.130\n",
            "=========================================================================================\n"
          ]
        },
        {
          "name": "stderr",
          "output_type": "stream",
          "text": [
            "c:\\Users\\luweb\\AppData\\Local\\Programs\\Python\\Python310\\lib\\site-packages\\statsmodels\\discrete\\discrete_model.py:2331: RuntimeWarning: divide by zero encountered in log\n",
            "  logprob = np.log(self.cdf(np.dot(self.exog,params)))\n",
            "c:\\Users\\luweb\\AppData\\Local\\Programs\\Python\\Python310\\lib\\site-packages\\statsmodels\\discrete\\discrete_model.py:2332: RuntimeWarning: invalid value encountered in multiply\n",
            "  return np.sum(d * logprob)\n",
            "c:\\Users\\luweb\\AppData\\Local\\Programs\\Python\\Python310\\lib\\site-packages\\statsmodels\\base\\model.py:604: ConvergenceWarning: Maximum Likelihood optimization failed to converge. Check mle_retvals\n",
            "  warnings.warn(\"Maximum Likelihood optimization failed to \"\n",
            "c:\\Users\\luweb\\AppData\\Local\\Programs\\Python\\Python310\\lib\\site-packages\\statsmodels\\discrete\\discrete_model.py:4247: RuntimeWarning: invalid value encountered in sqrt\n",
            "  bse = np.sqrt(np.diag(self.cov_params()))\n"
          ]
        }
      ],
      "source": [
        "# Bumps = 1, other = 0 in this condition\n",
        "s_x = sm.add_constant(x)\n",
        "model_bump = sm.MNLogit(y_bump, s_x).fit()\n",
        "print(model_bump.summary())"
      ]
    },
    {
      "cell_type": "code",
      "execution_count": 24,
      "metadata": {},
      "outputs": [
        {
          "data": {
            "text/plain": [
              "array([[1451.,   88.],\n",
              "       [ 229.,  173.]])"
            ]
          },
          "execution_count": 24,
          "metadata": {},
          "output_type": "execute_result"
        }
      ],
      "source": [
        "# confusion matrix of class Bumps prediction\n",
        "# model_bump.pred_table() 一行搞定版\n",
        "pred = np.array(model_bump.predict(s_x) > 0.5, dtype=float)\n",
        "table = np.histogram2d(y_bump, pred[:,1], bins=2)[0]\n",
        "table"
      ]
    },
    {
      "cell_type": "markdown",
      "metadata": {},
      "source": [
        "##### K_Scatch Logistic Model"
      ]
    },
    {
      "cell_type": "code",
      "execution_count": 28,
      "metadata": {},
      "outputs": [
        {
          "name": "stdout",
          "output_type": "stream",
          "text": [
            "Optimization terminated successfully.\n",
            "         Current function value: 0.055606\n",
            "         Iterations 16\n",
            "                          MNLogit Regression Results                          \n",
            "==============================================================================\n",
            "Dep. Variable:               K_Scatch   No. Observations:                 1941\n",
            "Model:                        MNLogit   Df Residuals:                     1914\n",
            "Method:                           MLE   Df Model:                           26\n",
            "Date:                Sun, 23 Oct 2022   Pseudo R-squ.:                  0.8893\n",
            "Time:                        10:40:10   Log-Likelihood:                -107.93\n",
            "converged:                       True   LL-Null:                       -975.15\n",
            "Covariance Type:            nonrobust   LLR p-value:                     0.000\n",
            "=========================================================================================\n",
            "           K_Scatch=1       coef    std err          z      P>|z|      [0.025      0.975]\n",
            "-----------------------------------------------------------------------------------------\n",
            "const                     8.0169        nan        nan        nan         nan         nan\n",
            "X_Minimum                -0.0646      0.061     -1.067      0.286      -0.183       0.054\n",
            "X_Maximum                 0.0632      0.061      1.044      0.296      -0.055       0.182\n",
            "Y_Minimum                -0.0162      0.013     -1.226      0.220      -0.042       0.010\n",
            "Y_Maximum                 0.0162      0.013      1.226      0.220      -0.010       0.042\n",
            "Pixels_Areas              0.0017      0.001      2.788      0.005       0.001       0.003\n",
            "X_Perimeter               0.0300      0.008      3.944      0.000       0.015       0.045\n",
            "Y_Perimeter              -0.0373      0.017     -2.236      0.025      -0.070      -0.005\n",
            "Sum_of_Luminosity     -1.682e-05   6.27e-06     -2.681      0.007   -2.91e-05   -4.52e-06\n",
            "Minimum_of_Luminosity    -0.0248      0.012     -2.040      0.041      -0.049      -0.001\n",
            "Maximum_of_Luminosity     0.0005      0.019      0.029      0.977      -0.036       0.037\n",
            "Length_of_Conveyer       -0.0018      0.004     -0.404      0.686      -0.010       0.007\n",
            "TypeOfSteel_A300          4.7089        nan        nan        nan         nan         nan\n",
            "TypeOfSteel_A400          3.3064        nan        nan        nan         nan         nan\n",
            "Steel_Plate_Thickness    -0.2575      0.097     -2.658      0.008      -0.447      -0.068\n",
            "Edges_Index              -2.6033      0.964     -2.701      0.007      -4.492      -0.714\n",
            "Empty_Index             -13.2467      4.768     -2.778      0.005     -22.591      -3.902\n",
            "Square_Index              2.9832      0.924      3.229      0.001       1.172       4.794\n",
            "Outside_X_Index         -95.5002     83.009     -1.150      0.250    -258.194      67.194\n",
            "Edges_X_Index             7.3119      2.017      3.625      0.000       3.358      11.266\n",
            "Edges_Y_Index            -5.4754      2.564     -2.136      0.033     -10.500      -0.451\n",
            "Outside_Global_Index      2.8886      0.924      3.126      0.002       1.077       4.700\n",
            "LogOfAreas               -2.9010      4.454     -0.651      0.515     -11.631       5.829\n",
            "Log_X_Index              -8.3077      5.612     -1.480      0.139     -19.307       2.692\n",
            "Log_Y_Index              16.4139      4.719      3.478      0.001       7.164      25.664\n",
            "Orientation_Index       -10.5780      2.156     -4.906      0.000     -14.804      -6.352\n",
            "Luminosity_Index         15.1091      3.379      4.472      0.000       8.486      21.732\n",
            "SigmoidOfAreas            3.5560      1.547      2.299      0.022       0.524       6.588\n",
            "=========================================================================================\n"
          ]
        },
        {
          "name": "stderr",
          "output_type": "stream",
          "text": [
            "c:\\Users\\luweb\\AppData\\Local\\Programs\\Python\\Python310\\lib\\site-packages\\statsmodels\\discrete\\discrete_model.py:4247: RuntimeWarning: invalid value encountered in sqrt\n",
            "  bse = np.sqrt(np.diag(self.cov_params()))\n"
          ]
        }
      ],
      "source": [
        "# K_Scatch = 1, other = 0 in this condition\n",
        "s_x = sm.add_constant(x)\n",
        "model_scatch = sm.MNLogit(y_scatch, s_x).fit()\n",
        "print(model_scatch.summary())"
      ]
    },
    {
      "cell_type": "code",
      "execution_count": 29,
      "metadata": {},
      "outputs": [
        {
          "data": {
            "text/plain": [
              "array([[1536.,   14.],\n",
              "       [  25.,  366.]])"
            ]
          },
          "execution_count": 29,
          "metadata": {},
          "output_type": "execute_result"
        }
      ],
      "source": [
        "# confusion matrix of class K_Scatch prediction\n",
        "model_scatch.pred_table()"
      ]
    },
    {
      "cell_type": "markdown",
      "metadata": {
        "id": "npOgnUR9S_27"
      },
      "source": [
        "#### Q5-(2) \n",
        "基於上述(1)的 結果，將上述特徵以t-value進行排序後，哪些特徵的迴 歸係數在統計上是顯著的呢(p-value<0.01)?"
      ]
    },
    {
      "cell_type": "code",
      "execution_count": 38,
      "metadata": {},
      "outputs": [
        {
          "data": {
            "text/html": [
              "<div>\n",
              "<style scoped>\n",
              "    .dataframe tbody tr th:only-of-type {\n",
              "        vertical-align: middle;\n",
              "    }\n",
              "\n",
              "    .dataframe tbody tr th {\n",
              "        vertical-align: top;\n",
              "    }\n",
              "\n",
              "    .dataframe thead th {\n",
              "        text-align: right;\n",
              "    }\n",
              "</style>\n",
              "<table border=\"1\" class=\"dataframe\">\n",
              "  <thead>\n",
              "    <tr style=\"text-align: right;\">\n",
              "      <th></th>\n",
              "      <th>0</th>\n",
              "    </tr>\n",
              "  </thead>\n",
              "  <tbody>\n",
              "    <tr>\n",
              "      <th>Y_Minimum</th>\n",
              "      <td>8.905653e-08</td>\n",
              "    </tr>\n",
              "    <tr>\n",
              "      <th>Y_Maximum</th>\n",
              "      <td>8.905915e-08</td>\n",
              "    </tr>\n",
              "    <tr>\n",
              "      <th>Edges_Y_Index</th>\n",
              "      <td>2.647692e-07</td>\n",
              "    </tr>\n",
              "    <tr>\n",
              "      <th>Edges_Index</th>\n",
              "      <td>7.053109e-07</td>\n",
              "    </tr>\n",
              "    <tr>\n",
              "      <th>Y_Perimeter</th>\n",
              "      <td>5.118999e-06</td>\n",
              "    </tr>\n",
              "    <tr>\n",
              "      <th>X_Perimeter</th>\n",
              "      <td>1.010214e-03</td>\n",
              "    </tr>\n",
              "    <tr>\n",
              "      <th>Steel_Plate_Thickness</th>\n",
              "      <td>1.335119e-03</td>\n",
              "    </tr>\n",
              "    <tr>\n",
              "      <th>Square_Index</th>\n",
              "      <td>1.956418e-03</td>\n",
              "    </tr>\n",
              "    <tr>\n",
              "      <th>Luminosity_Index</th>\n",
              "      <td>7.801371e-03</td>\n",
              "    </tr>\n",
              "  </tbody>\n",
              "</table>\n",
              "</div>"
            ],
            "text/plain": [
              "                                  0\n",
              "Y_Minimum              8.905653e-08\n",
              "Y_Maximum              8.905915e-08\n",
              "Edges_Y_Index          2.647692e-07\n",
              "Edges_Index            7.053109e-07\n",
              "Y_Perimeter            5.118999e-06\n",
              "X_Perimeter            1.010214e-03\n",
              "Steel_Plate_Thickness  1.335119e-03\n",
              "Square_Index           1.956418e-03\n",
              "Luminosity_Index       7.801371e-03"
            ]
          },
          "execution_count": 38,
          "metadata": {},
          "output_type": "execute_result"
        }
      ],
      "source": [
        "p_values_bump = model_bump.pvalues\n",
        "p_values_bump = p_values_bump[p_values_bump[0] < 0.01]\n",
        "p_values_bump.sort_values(by=0)"
      ]
    },
    {
      "cell_type": "code",
      "execution_count": 39,
      "metadata": {},
      "outputs": [
        {
          "data": {
            "text/html": [
              "<div>\n",
              "<style scoped>\n",
              "    .dataframe tbody tr th:only-of-type {\n",
              "        vertical-align: middle;\n",
              "    }\n",
              "\n",
              "    .dataframe tbody tr th {\n",
              "        vertical-align: top;\n",
              "    }\n",
              "\n",
              "    .dataframe thead th {\n",
              "        text-align: right;\n",
              "    }\n",
              "</style>\n",
              "<table border=\"1\" class=\"dataframe\">\n",
              "  <thead>\n",
              "    <tr style=\"text-align: right;\">\n",
              "      <th></th>\n",
              "      <th>0</th>\n",
              "    </tr>\n",
              "  </thead>\n",
              "  <tbody>\n",
              "    <tr>\n",
              "      <th>Orientation_Index</th>\n",
              "      <td>9.283976e-07</td>\n",
              "    </tr>\n",
              "    <tr>\n",
              "      <th>Luminosity_Index</th>\n",
              "      <td>7.765839e-06</td>\n",
              "    </tr>\n",
              "    <tr>\n",
              "      <th>X_Perimeter</th>\n",
              "      <td>8.019708e-05</td>\n",
              "    </tr>\n",
              "    <tr>\n",
              "      <th>Edges_X_Index</th>\n",
              "      <td>2.894543e-04</td>\n",
              "    </tr>\n",
              "    <tr>\n",
              "      <th>Log_Y_Index</th>\n",
              "      <td>5.051630e-04</td>\n",
              "    </tr>\n",
              "    <tr>\n",
              "      <th>Square_Index</th>\n",
              "      <td>1.242161e-03</td>\n",
              "    </tr>\n",
              "    <tr>\n",
              "      <th>Outside_Global_Index</th>\n",
              "      <td>1.772720e-03</td>\n",
              "    </tr>\n",
              "    <tr>\n",
              "      <th>Pixels_Areas</th>\n",
              "      <td>5.305806e-03</td>\n",
              "    </tr>\n",
              "    <tr>\n",
              "      <th>Empty_Index</th>\n",
              "      <td>5.463242e-03</td>\n",
              "    </tr>\n",
              "    <tr>\n",
              "      <th>Edges_Index</th>\n",
              "      <td>6.909960e-03</td>\n",
              "    </tr>\n",
              "    <tr>\n",
              "      <th>Sum_of_Luminosity</th>\n",
              "      <td>7.335425e-03</td>\n",
              "    </tr>\n",
              "    <tr>\n",
              "      <th>Steel_Plate_Thickness</th>\n",
              "      <td>7.864281e-03</td>\n",
              "    </tr>\n",
              "  </tbody>\n",
              "</table>\n",
              "</div>"
            ],
            "text/plain": [
              "                                  0\n",
              "Orientation_Index      9.283976e-07\n",
              "Luminosity_Index       7.765839e-06\n",
              "X_Perimeter            8.019708e-05\n",
              "Edges_X_Index          2.894543e-04\n",
              "Log_Y_Index            5.051630e-04\n",
              "Square_Index           1.242161e-03\n",
              "Outside_Global_Index   1.772720e-03\n",
              "Pixels_Areas           5.305806e-03\n",
              "Empty_Index            5.463242e-03\n",
              "Edges_Index            6.909960e-03\n",
              "Sum_of_Luminosity      7.335425e-03\n",
              "Steel_Plate_Thickness  7.864281e-03"
            ]
          },
          "execution_count": 39,
          "metadata": {},
          "output_type": "execute_result"
        }
      ],
      "source": [
        "p_values_scatch = model_scatch.pvalues\n",
        "p_values_scatch = p_values_scatch[p_values_scatch[0] < 0.01]\n",
        "p_values_scatch.sort_values(by=0)"
      ]
    },
    {
      "cell_type": "markdown",
      "metadata": {
        "id": "3IztPS4WTXIK"
      },
      "source": [
        "#### Q5-(3) \n",
        "試問配適一個羅吉斯迴歸模型是否合適？試若配適不佳，試說明其可能的原因為何？"
      ]
    },
    {
      "cell_type": "markdown",
      "metadata": {
        "id": "x2Or--PsTdjR"
      },
      "source": [
        "#### Q5-(4)\n",
        "試問配適一個線性判別分析模型是否合適？若配適不佳，試說明其可能的原因為何？"
      ]
    },
    {
      "cell_type": "code",
      "execution_count": 9,
      "metadata": {},
      "outputs": [
        {
          "data": {
            "text/plain": [
              "Counter({0: 1148, 2: 391, 1: 402})"
            ]
          },
          "execution_count": 9,
          "metadata": {},
          "output_type": "execute_result"
        }
      ],
      "source": [
        "# 生成模型可一次預測多類別，將資料做成多類別的\n",
        "# 0: 正常無缺陷, 1: Bumps, 2: K_Scatch\n",
        "K_Scatch_ids = df.index[df['K_Scatch'] == 1].tolist()\n",
        "Bumps_ids = df.index[df['Bumps'] == 1].tolist()\n",
        "y_true = [0]*len(df)\n",
        "\n",
        "for i in Bumps_ids:\n",
        "    y_true[i] = 1\n",
        "for i in K_Scatch_ids:\n",
        "    y_true[i] = 2\n",
        "\n",
        "from collections import Counter\n",
        "Counter(y_true)"
      ]
    },
    {
      "cell_type": "code",
      "execution_count": null,
      "metadata": {},
      "outputs": [],
      "source": [
        "import numpy as np\n",
        "from sklearn.discriminant_analysis import LinearDiscriminantAnalysis\n",
        "clf = LinearDiscriminantAnalysis()\n",
        "clf.fit(x, y_true)"
      ]
    },
    {
      "cell_type": "code",
      "execution_count": 22,
      "metadata": {},
      "outputs": [
        {
          "name": "stdout",
          "output_type": "stream",
          "text": [
            "              precision    recall  f1-score   support\n",
            "\n",
            "      Noraml       0.80      0.89      0.84      1148\n",
            "       Bumps       0.61      0.48      0.54       402\n",
            "    K_Scatch       0.96      0.84      0.90       391\n",
            "\n",
            "    accuracy                           0.79      1941\n",
            "   macro avg       0.79      0.74      0.76      1941\n",
            "weighted avg       0.79      0.79      0.79      1941\n",
            "\n"
          ]
        }
      ],
      "source": [
        "from sklearn.metrics import classification_report\n",
        "y_pred = clf.predict(x)\n",
        "report = classification_report(y_true, y_pred, target_names=['Noraml','Bumps','K_Scatch'])\n",
        "print(report)"
      ]
    },
    {
      "cell_type": "markdown",
      "metadata": {
        "id": "oNNe8y7WTo_h"
      },
      "source": [
        "#### Q5-(5)\n",
        "試問配適一個二次判別分析模型是否合適？若配適不佳，試說明其可能的原因為何？  \n",
        "https://scikit-learn.org/stable/modules/generated/sklearn.discriminant_analysis.QuadraticDiscriminantAnalysis"
      ]
    },
    {
      "cell_type": "code",
      "execution_count": 23,
      "metadata": {},
      "outputs": [
        {
          "name": "stdout",
          "output_type": "stream",
          "text": [
            "              precision    recall  f1-score   support\n",
            "\n",
            "      Noraml       0.92      0.43      0.59      1148\n",
            "       Bumps       0.36      0.94      0.52       402\n",
            "    K_Scatch       0.99      0.91      0.95       391\n",
            "\n",
            "    accuracy                           0.63      1941\n",
            "   macro avg       0.76      0.76      0.68      1941\n",
            "weighted avg       0.82      0.63      0.64      1941\n",
            "\n"
          ]
        },
        {
          "name": "stderr",
          "output_type": "stream",
          "text": [
            "c:\\Users\\luweb\\AppData\\Local\\Programs\\Python\\Python310\\lib\\site-packages\\sklearn\\discriminant_analysis.py:887: UserWarning: Variables are collinear\n",
            "  warnings.warn(\"Variables are collinear\")\n"
          ]
        }
      ],
      "source": [
        "from sklearn.discriminant_analysis import QuadraticDiscriminantAnalysis\n",
        "clf = QuadraticDiscriminantAnalysis()\n",
        "clf.fit(x, y_true)\n",
        "\n",
        "from sklearn.metrics import classification_report\n",
        "y_pred = clf.predict(x)\n",
        "report = classification_report(y_true, y_pred, target_names=['Noraml','Bumps','K_Scatch'])\n",
        "print(report)"
      ]
    },
    {
      "cell_type": "code",
      "execution_count": null,
      "metadata": {},
      "outputs": [],
      "source": []
    }
  ],
  "metadata": {
    "colab": {
      "collapsed_sections": [
        "ZRywYHUjN57x",
        "gfWR5q7OOBjA",
        "oZ0MPBp9ON-4",
        "XS0jCbAmPkwH",
        "kruIoEQdQNvn",
        "7bXD1O1rQvFd",
        "3AdiP6pEQ2b9",
        "Jg9ba-HEQ81E"
      ],
      "provenance": []
    },
    "kernelspec": {
      "display_name": "Python 3.10.5 64-bit",
      "language": "python",
      "name": "python3"
    },
    "language_info": {
      "codemirror_mode": {
        "name": "ipython",
        "version": 3
      },
      "file_extension": ".py",
      "mimetype": "text/x-python",
      "name": "python",
      "nbconvert_exporter": "python",
      "pygments_lexer": "ipython3",
      "version": "3.10.5"
    },
    "vscode": {
      "interpreter": {
        "hash": "125a1d8b627fe68767755740015967bae857d08bb92fb3fd0d9d8ed24f978d39"
      }
    }
  },
  "nbformat": 4,
  "nbformat_minor": 0
}
