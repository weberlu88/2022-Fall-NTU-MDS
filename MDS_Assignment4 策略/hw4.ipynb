{
 "cells": [
  {
   "cell_type": "code",
   "execution_count": 1,
   "metadata": {},
   "outputs": [],
   "source": [
    "import pandas as pd\n",
    "import numpy as np\n",
    "import matplotlib.pyplot as plt "
   ]
  },
  {
   "cell_type": "markdown",
   "metadata": {},
   "source": [
    "### Q1 Data Imbalance Problem (40%)"
   ]
  },
  {
   "cell_type": "markdown",
   "metadata": {},
   "source": [
    "#### (a) 試在該數據分析流程中加入數據平衡的步驟，使用三種方法來進行數據平衡 (e.g. 使用上抽樣、下抽樣或是代價敏感學習等 )。(15%) \n",
    "- 原比例為 14:1，三種方法統一調整至 4:1。"
   ]
  },
  {
   "cell_type": "code",
   "execution_count": 2,
   "metadata": {},
   "outputs": [
    {
     "data": {
      "text/html": [
       "<div>\n",
       "<style scoped>\n",
       "    .dataframe tbody tr th:only-of-type {\n",
       "        vertical-align: middle;\n",
       "    }\n",
       "\n",
       "    .dataframe tbody tr th {\n",
       "        vertical-align: top;\n",
       "    }\n",
       "\n",
       "    .dataframe thead th {\n",
       "        text-align: right;\n",
       "    }\n",
       "</style>\n",
       "<table border=\"1\" class=\"dataframe\">\n",
       "  <thead>\n",
       "    <tr style=\"text-align: right;\">\n",
       "      <th></th>\n",
       "      <th>Sensor_1</th>\n",
       "      <th>Sensor_2</th>\n",
       "      <th>Sensor_3</th>\n",
       "      <th>Sensor_4</th>\n",
       "      <th>Sensor_5</th>\n",
       "      <th>Sensor_6</th>\n",
       "      <th>Sensor_7</th>\n",
       "      <th>Sensor_8</th>\n",
       "      <th>Sensor_9</th>\n",
       "      <th>Sensor_10</th>\n",
       "      <th>...</th>\n",
       "      <th>Sensor_583</th>\n",
       "      <th>Sensor_584</th>\n",
       "      <th>Sensor_585</th>\n",
       "      <th>Sensor_586</th>\n",
       "      <th>Sensor_587</th>\n",
       "      <th>Sensor_588</th>\n",
       "      <th>Sensor_589</th>\n",
       "      <th>Sensor_590</th>\n",
       "      <th>Label</th>\n",
       "      <th>Time</th>\n",
       "    </tr>\n",
       "  </thead>\n",
       "  <tbody>\n",
       "    <tr>\n",
       "      <th>1</th>\n",
       "      <td>3030.93</td>\n",
       "      <td>2564.00</td>\n",
       "      <td>2187.7333</td>\n",
       "      <td>1411.1265</td>\n",
       "      <td>1.3602</td>\n",
       "      <td>100.0</td>\n",
       "      <td>97.6133</td>\n",
       "      <td>0.1242</td>\n",
       "      <td>1.5005</td>\n",
       "      <td>0.0162</td>\n",
       "      <td>...</td>\n",
       "      <td>0.5005</td>\n",
       "      <td>0.0118</td>\n",
       "      <td>0.0035</td>\n",
       "      <td>2.3630</td>\n",
       "      <td>NaN</td>\n",
       "      <td>NaN</td>\n",
       "      <td>NaN</td>\n",
       "      <td>NaN</td>\n",
       "      <td>-1</td>\n",
       "      <td>19/07/2008 11:55:00</td>\n",
       "    </tr>\n",
       "    <tr>\n",
       "      <th>2</th>\n",
       "      <td>3095.78</td>\n",
       "      <td>2465.14</td>\n",
       "      <td>2230.4222</td>\n",
       "      <td>1463.6606</td>\n",
       "      <td>0.8294</td>\n",
       "      <td>100.0</td>\n",
       "      <td>102.3433</td>\n",
       "      <td>0.1247</td>\n",
       "      <td>1.4966</td>\n",
       "      <td>-0.0005</td>\n",
       "      <td>...</td>\n",
       "      <td>0.5019</td>\n",
       "      <td>0.0223</td>\n",
       "      <td>0.0055</td>\n",
       "      <td>4.4447</td>\n",
       "      <td>0.0096</td>\n",
       "      <td>0.0201</td>\n",
       "      <td>0.0060</td>\n",
       "      <td>208.2045</td>\n",
       "      <td>-1</td>\n",
       "      <td>19/07/2008 12:32:00</td>\n",
       "    </tr>\n",
       "    <tr>\n",
       "      <th>3</th>\n",
       "      <td>2932.61</td>\n",
       "      <td>2559.94</td>\n",
       "      <td>2186.4111</td>\n",
       "      <td>1698.0172</td>\n",
       "      <td>1.5102</td>\n",
       "      <td>100.0</td>\n",
       "      <td>95.4878</td>\n",
       "      <td>0.1241</td>\n",
       "      <td>1.4436</td>\n",
       "      <td>0.0041</td>\n",
       "      <td>...</td>\n",
       "      <td>0.4958</td>\n",
       "      <td>0.0157</td>\n",
       "      <td>0.0039</td>\n",
       "      <td>3.1745</td>\n",
       "      <td>0.0584</td>\n",
       "      <td>0.0484</td>\n",
       "      <td>0.0148</td>\n",
       "      <td>82.8602</td>\n",
       "      <td>1</td>\n",
       "      <td>19/07/2008 13:17:00</td>\n",
       "    </tr>\n",
       "  </tbody>\n",
       "</table>\n",
       "<p>3 rows × 592 columns</p>\n",
       "</div>"
      ],
      "text/plain": [
       "   Sensor_1  Sensor_2   Sensor_3   Sensor_4  Sensor_5  Sensor_6  Sensor_7  \\\n",
       "1   3030.93   2564.00  2187.7333  1411.1265    1.3602     100.0   97.6133   \n",
       "2   3095.78   2465.14  2230.4222  1463.6606    0.8294     100.0  102.3433   \n",
       "3   2932.61   2559.94  2186.4111  1698.0172    1.5102     100.0   95.4878   \n",
       "\n",
       "   Sensor_8  Sensor_9  Sensor_10  ...  Sensor_583  Sensor_584  Sensor_585  \\\n",
       "1    0.1242    1.5005     0.0162  ...      0.5005      0.0118      0.0035   \n",
       "2    0.1247    1.4966    -0.0005  ...      0.5019      0.0223      0.0055   \n",
       "3    0.1241    1.4436     0.0041  ...      0.4958      0.0157      0.0039   \n",
       "\n",
       "   Sensor_586  Sensor_587  Sensor_588  Sensor_589  Sensor_590  Label  \\\n",
       "1      2.3630         NaN         NaN         NaN         NaN     -1   \n",
       "2      4.4447      0.0096      0.0201      0.0060    208.2045     -1   \n",
       "3      3.1745      0.0584      0.0484      0.0148     82.8602      1   \n",
       "\n",
       "                  Time  \n",
       "1  19/07/2008 11:55:00  \n",
       "2  19/07/2008 12:32:00  \n",
       "3  19/07/2008 13:17:00  \n",
       "\n",
       "[3 rows x 592 columns]"
      ]
     },
     "execution_count": 2,
     "metadata": {},
     "output_type": "execute_result"
    }
   ],
   "source": [
    "# load data\n",
    "df = pd.read_excel(open('MDS_Assignment4_SECOM.xlsx', 'rb'), sheet_name='secom', index_col=0)\n",
    "df.head(3)"
   ]
  },
  {
   "cell_type": "code",
   "execution_count": 3,
   "metadata": {},
   "outputs": [],
   "source": [
    "df = df.drop('Time', axis=1)"
   ]
  },
  {
   "cell_type": "code",
   "execution_count": 4,
   "metadata": {},
   "outputs": [
    {
     "data": {
      "text/plain": [
       "-1    1463\n",
       " 1     104\n",
       "Name: Label, dtype: int64"
      ]
     },
     "execution_count": 4,
     "metadata": {},
     "output_type": "execute_result"
    }
   ],
   "source": [
    "# df.isnull().sum() # many\n",
    "df = df.fillna(df.mean())\n",
    "df['Label'].value_counts()"
   ]
  },
  {
   "cell_type": "code",
   "execution_count": 5,
   "metadata": {},
   "outputs": [
    {
     "name": "stdout",
     "output_type": "stream",
     "text": [
      "(1567, 590) (1567, 1)\n"
     ]
    }
   ],
   "source": [
    "X = df.iloc[:, :-1]\n",
    "y = df.iloc[:, -1:]\n",
    "print(X.shape, y.shape)"
   ]
  },
  {
   "cell_type": "code",
   "execution_count": 6,
   "metadata": {},
   "outputs": [
    {
     "name": "stdout",
     "output_type": "stream",
     "text": [
      "Original dataset shape Counter({-1: 1463, 1: 104})\n",
      "Resampled dataset shape Counter({-1: 1463, 1: 365})\n",
      "train acc: 1.0\n",
      "              precision    recall  f1-score   support\n",
      "\n",
      "    class -1       0.91      1.00      0.95       487\n",
      "     class 1       0.97      0.58      0.73       117\n",
      "\n",
      "    accuracy                           0.92       604\n",
      "   macro avg       0.94      0.79      0.84       604\n",
      "weighted avg       0.92      0.92      0.91       604\n",
      "\n"
     ]
    }
   ],
   "source": [
    "# 1) over sampling：對少數群進行取後放回的重複隨機抽樣 以增加少數群的樣本數。SMOTE\n",
    "# 少數類別學得不錯\n",
    "from collections import Counter\n",
    "from sklearn.datasets import make_classification\n",
    "from imblearn.over_sampling import SMOTE \n",
    "from sklearn.model_selection import train_test_split\n",
    "from sklearn.ensemble import RandomForestClassifier\n",
    "from sklearn.metrics import classification_report\n",
    "\n",
    "print('Original dataset shape %s' % Counter(y['Label']))\n",
    "\n",
    "sm = SMOTE(sampling_strategy=1/4, random_state=42)\n",
    "X_res, y_res = sm.fit_resample(X, y)\n",
    "print('Resampled dataset shape %s' % Counter(y_res['Label']))\n",
    "# y_res = y_res['Label']\n",
    "X_train, X_test, y_train, y_test = train_test_split(X_res, y_res['Label'], test_size=0.33, random_state=42)\n",
    "\n",
    "clf = RandomForestClassifier(max_depth=10, random_state=0)\n",
    "clf.fit(X_train, y_train)\n",
    "y_pred = clf.predict(X_test)\n",
    "print('train acc:', clf.score(X_train, y_train))\n",
    "print(classification_report(y_test, y_pred, target_names=['class -1', 'class 1'])) # print test result"
   ]
  },
  {
   "cell_type": "code",
   "execution_count": 31,
   "metadata": {},
   "outputs": [
    {
     "name": "stdout",
     "output_type": "stream",
     "text": [
      "Original dataset shape Counter({-1: 1463, 1: 104})\n",
      "Resampled dataset shape Counter({-1: 416, 1: 104})\n",
      "train acc: 0.9885057471264368\n",
      "              precision    recall  f1-score   support\n",
      "\n",
      "    class -1       0.78      1.00      0.88       134\n",
      "     class 1       0.00      0.00      0.00        38\n",
      "\n",
      "    accuracy                           0.78       172\n",
      "   macro avg       0.39      0.50      0.44       172\n",
      "weighted avg       0.61      0.78      0.68       172\n",
      "\n"
     ]
    },
    {
     "name": "stderr",
     "output_type": "stream",
     "text": [
      "c:\\Users\\luweb\\AppData\\Local\\Programs\\Python\\Python310\\lib\\site-packages\\sklearn\\metrics\\_classification.py:1334: UndefinedMetricWarning: Precision and F-score are ill-defined and being set to 0.0 in labels with no predicted samples. Use `zero_division` parameter to control this behavior.\n",
      "  _warn_prf(average, modifier, msg_start, len(result))\n",
      "c:\\Users\\luweb\\AppData\\Local\\Programs\\Python\\Python310\\lib\\site-packages\\sklearn\\metrics\\_classification.py:1334: UndefinedMetricWarning: Precision and F-score are ill-defined and being set to 0.0 in labels with no predicted samples. Use `zero_division` parameter to control this behavior.\n",
      "  _warn_prf(average, modifier, msg_start, len(result))\n",
      "c:\\Users\\luweb\\AppData\\Local\\Programs\\Python\\Python310\\lib\\site-packages\\sklearn\\metrics\\_classification.py:1334: UndefinedMetricWarning: Precision and F-score are ill-defined and being set to 0.0 in labels with no predicted samples. Use `zero_division` parameter to control this behavior.\n",
      "  _warn_prf(average, modifier, msg_start, len(result))\n"
     ]
    }
   ],
   "source": [
    "# 2) under sampling：對多數群進行隨機抽樣 以減少多數群的樣本數 。Random、Tomek link\n",
    "# 很明顯學不到少數類別\n",
    "from imblearn.under_sampling import RandomUnderSampler\n",
    "print('Original dataset shape %s' % Counter(y['Label']))\n",
    "\n",
    "rus = RandomUnderSampler(sampling_strategy=1/4, random_state=0)\n",
    "X_res, y_res = rus.fit_resample(X, y)\n",
    "print('Resampled dataset shape %s' % Counter(y_res['Label']))\n",
    "# y_res = y_res['Label']\n",
    "X_train, X_test, y_train, y_test = train_test_split(X_res, y_res['Label'], test_size=0.33, random_state=42)\n",
    "\n",
    "clf = RandomForestClassifier(max_depth=10, random_state=0)\n",
    "clf.fit(X_train, y_train)\n",
    "y_pred = clf.predict(X_test)\n",
    "print('train acc:', clf.score(X_train, y_train))\n",
    "print(classification_report(y_test, y_pred, target_names=['class -1', 'class 1'])) # print test result"
   ]
  },
  {
   "cell_type": "code",
   "execution_count": 30,
   "metadata": {},
   "outputs": [
    {
     "name": "stdout",
     "output_type": "stream",
     "text": [
      "Original dataset shape Counter({-1: 1463, 1: 104})\n",
      "class_weight={-1:1,1:5}\n",
      "train acc: 0.9599618684461392\n",
      "              precision    recall  f1-score   support\n",
      "\n",
      "    class -1       0.94      1.00      0.97       486\n",
      "     class 1       0.00      0.00      0.00        32\n",
      "\n",
      "    accuracy                           0.94       518\n",
      "   macro avg       0.47      0.50      0.48       518\n",
      "weighted avg       0.88      0.94      0.91       518\n",
      "\n"
     ]
    },
    {
     "name": "stderr",
     "output_type": "stream",
     "text": [
      "c:\\Users\\luweb\\AppData\\Local\\Programs\\Python\\Python310\\lib\\site-packages\\sklearn\\metrics\\_classification.py:1334: UndefinedMetricWarning: Precision and F-score are ill-defined and being set to 0.0 in labels with no predicted samples. Use `zero_division` parameter to control this behavior.\n",
      "  _warn_prf(average, modifier, msg_start, len(result))\n",
      "c:\\Users\\luweb\\AppData\\Local\\Programs\\Python\\Python310\\lib\\site-packages\\sklearn\\metrics\\_classification.py:1334: UndefinedMetricWarning: Precision and F-score are ill-defined and being set to 0.0 in labels with no predicted samples. Use `zero_division` parameter to control this behavior.\n",
      "  _warn_prf(average, modifier, msg_start, len(result))\n",
      "c:\\Users\\luweb\\AppData\\Local\\Programs\\Python\\Python310\\lib\\site-packages\\sklearn\\metrics\\_classification.py:1334: UndefinedMetricWarning: Precision and F-score are ill-defined and being set to 0.0 in labels with no predicted samples. Use `zero_division` parameter to control this behavior.\n",
      "  _warn_prf(average, modifier, msg_start, len(result))\n"
     ]
    }
   ],
   "source": [
    "# 3) cost sensitive、one class\n",
    "\n",
    "print('Original dataset shape %s' % Counter(y['Label']))\n",
    "print('class_weight={-1:1,1:5}')\n",
    "X_train, X_test, y_train, y_test = train_test_split(X, y['Label'], test_size=0.33, random_state=42)\n",
    "\n",
    "clf = RandomForestClassifier(max_depth=5, random_state=0, class_weight={-1:1,1:5})\n",
    "clf.fit(X_train, y_train)\n",
    "y_pred = clf.predict(X_test)\n",
    "print('train acc:', clf.score(X_train, y_train))\n",
    "print(classification_report(y_test, y_pred, target_names=['class -1', 'class 1'])) # print test result"
   ]
  },
  {
   "cell_type": "markdown",
   "metadata": {},
   "source": [
    "#### (b) (5%) 建 議選用哪種方法最為合適？為什麼？"
   ]
  },
  {
   "cell_type": "markdown",
   "metadata": {},
   "source": [
    "建議選用\"over sampling\"方法，我固定模型參數和樣本比例，從實驗結果得出，只有over sampling的實驗組的testing data能預測出少數類別，precision 97%, recall 58%，表現已經不錯了，另外兩種方法皆無法預測出少數類別。可以判斷說是，原始資料集的少數樣本太少了，無法讓模型學到特徵，若不實際增加樣本數，則無任何數據面的幫助。"
   ]
  },
  {
   "cell_type": "markdown",
   "metadata": {},
   "source": [
    "#### (c) (10%) \n",
    "對於數據多數群與少數群的比例應當調整至多少？為什麼？試透過調整生成比率\n",
    "(i.e. 敏感度分析 )來看模型分類結果。 (提示：將敏感度分析以繪圖呈現兩條曲線， x軸為\n",
    "不同生成比例、 y軸為偽陽性率 (false positive rate)與偽陰性率 (false negative rate))"
   ]
  },
  {
   "cell_type": "code",
   "execution_count": 46,
   "metadata": {},
   "outputs": [
    {
     "name": "stdout",
     "output_type": "stream",
     "text": [
      "Resampled dataset shape Counter({-1: 1463, 1: 112}) train acc: 0.95260663507109\n",
      "Resampled dataset shape Counter({-1: 1463, 1: 121}) train acc: 0.9538171536286523\n",
      "Resampled dataset shape Counter({-1: 1463, 1: 133}) train acc: 0.9588400374181478\n",
      "Resampled dataset shape Counter({-1: 1463, 1: 146}) train acc: 0.9628942486085343\n",
      "Resampled dataset shape Counter({-1: 1463, 1: 162}) train acc: 0.9586397058823529\n",
      "Resampled dataset shape Counter({-1: 1463, 1: 182}) train acc: 0.9637023593466425\n",
      "Resampled dataset shape Counter({-1: 1463, 1: 209}) train acc: 0.975\n",
      "Resampled dataset shape Counter({-1: 1463, 1: 243}) train acc: 0.9860017497812773\n",
      "Resampled dataset shape Counter({-1: 1463, 1: 292}) train acc: 0.9957446808510638\n",
      "Resampled dataset shape Counter({-1: 1463, 1: 365}) train acc: 1.0\n",
      "Resampled dataset shape Counter({-1: 1463, 1: 487}) train acc: 0.9992343032159265\n",
      "Resampled dataset shape Counter({-1: 1463, 1: 731}) train acc: 1.0\n",
      "Resampled dataset shape Counter({-1: 1463, 1: 1463}) train acc: 1.0\n"
     ]
    }
   ],
   "source": [
    "# 從 1:13 ~ 1:1\n",
    "from sklearn.metrics import confusion_matrix\n",
    "tp_arr = []\n",
    "fp_arr = []\n",
    "sample_rate_arr = []\n",
    "for i in range(13,1-1,-1):\n",
    "    sample_rate = 1/i\n",
    "    sm = SMOTE(sampling_strategy=1/i, random_state=42)\n",
    "    X_res, y_res = sm.fit_resample(X, y)\n",
    "    print('Resampled dataset shape %s' % Counter(y_res['Label']), end=' ')\n",
    "    X_train, X_test, y_train, y_test = train_test_split(X_res, y_res['Label'], test_size=0.33, random_state=42)\n",
    "    clf = RandomForestClassifier(max_depth=10, random_state=0)\n",
    "    clf.fit(X_train, y_train)\n",
    "    y_pred = clf.predict(X_test)\n",
    "    tn, fp, fn, tp = confusion_matrix(y_test, y_pred).ravel()\n",
    "    tp_rate = tp/(tp+fn) # 正樣本預測結果數/正樣本實際數\n",
    "    fp_rate = 0 if fp == 0 else fp/(fp+tn) # 被預測為正的負樣本結果數/負樣本實際數\n",
    "    tp_arr.append(tp_rate)\n",
    "    fp_arr.append(fp_rate)\n",
    "    sample_rate_arr.append(f'1:{i}')\n",
    "    print('train acc:', clf.score(X_train, y_train))\n",
    "    # print(classification_report(y_test, y_pred, target_names=['class -1', 'class 1'])) # print test result"
   ]
  },
  {
   "cell_type": "markdown",
   "metadata": {},
   "source": [
    "由結果顯示，樣本越平均，測試資料集的 tp rate 越高，但也會換來 fp rate 慢慢的增長。"
   ]
  },
  {
   "cell_type": "code",
   "execution_count": 54,
   "metadata": {},
   "outputs": [
    {
     "data": {
      "image/png": "[encoded data removed]",
      "text/plain": [
       "<Figure size 640x480 with 1 Axes>"
      ]
     },
     "metadata": {},
     "output_type": "display_data"
    }
   ],
   "source": [
    "plt.figure()\n",
    "plt.plot(tp_arr, label='tp rate', marker='o')\n",
    "plt.plot(fp_arr, label='fp rate', marker='o')\n",
    "plt.legend()\n",
    "plt.xticks(list(range(len(sample_rate_arr))), sample_rate_arr)\n",
    "plt.title('Sensitivity Analysis (SMOTE)')\n",
    "plt.xlabel('Sample rate (Major cls : Minor cls)')\n",
    "plt.show()"
   ]
  },
  {
   "cell_type": "code",
   "execution_count": null,
   "metadata": {},
   "outputs": [],
   "source": []
  },
  {
   "cell_type": "markdown",
   "metadata": {},
   "source": [
    "#### (d) (10%) 試說明特徵挑選步驟應於數據平衡 前或後 ，這對預測結果有何影響?\n",
    "\n",
    "我們由 OSL 選出 pvalue < 0.01 的 14 個特徵，分別是 `['Sensor_60', 'Sensor_139', 'Sensor_253', 'Sensor_412', 'Sensor_133', 'Sensor_153', 'Sensor_391', 'Sensor_440', 'Sensor_3', 'Sensor_57', 'Sensor_288', 'Sensor_567', 'Sensor_41', 'Sensor_360']`。同樣的取這 14 個欄位進行一次 RF 作為實驗組。\n",
    "\n",
    "由結果可得出，挑選重要變數後，少數類別的 f1-score 從原本的 0.73 降低為 0.64，recall 從 0.58 降低為 0.48，可見特徵挑選在此資料集不是很有效益，或許可以放寬挑選變數的 threshold 來挑選更多變數。也因為 DecesionTree 算法本身就有進行變數挑選的行為，我們不需特別再為它額外挑選重要變數。"
   ]
  },
  {
   "cell_type": "code",
   "execution_count": 10,
   "metadata": {},
   "outputs": [
    {
     "name": "stdout",
     "output_type": "stream",
     "text": [
      "Selected: 14 \n",
      " ['Sensor_60', 'Sensor_139', 'Sensor_253', 'Sensor_412', 'Sensor_133', 'Sensor_153', 'Sensor_391', 'Sensor_440', 'Sensor_3', 'Sensor_57', 'Sensor_288', 'Sensor_567', 'Sensor_41', 'Sensor_360']\n"
     ]
    }
   ],
   "source": [
    "import statsmodels.api as sm\n",
    "import statsmodels.formula.api as smf\n",
    "\n",
    "data_X_const = sm.add_constant(X) # 做線性回歸前 要手動加上截距(常數項)\n",
    "data_X_const = data_X_const.rename(columns={\"const\": \"Intercept\"})\n",
    "\n",
    "model = sm.OLS(y, data_X_const)\n",
    "osl_result = model.fit()\n",
    "osl_pvalues = osl_result.pvalues\n",
    "\n",
    "selected_attr = []\n",
    "for index in osl_pvalues.sort_values().index:\n",
    "  if osl_pvalues[index] < 0.01:\n",
    "    selected_attr.append(index)\n",
    "print(\"Selected:\", len(selected_attr),'\\n', selected_attr)"
   ]
  },
  {
   "cell_type": "code",
   "execution_count": 12,
   "metadata": {},
   "outputs": [
    {
     "name": "stdout",
     "output_type": "stream",
     "text": [
      "Original dataset shape Counter({-1: 1463, 1: 104})\n",
      "Resampled dataset shape Counter({-1: 1463, 1: 365})\n",
      "train acc: 0.9852941176470589\n",
      "              precision    recall  f1-score   support\n",
      "\n",
      "    class -1       0.89      1.00      0.94       487\n",
      "     class 1       0.97      0.48      0.64       117\n",
      "\n",
      "    accuracy                           0.90       604\n",
      "   macro avg       0.93      0.74      0.79       604\n",
      "weighted avg       0.90      0.90      0.88       604\n",
      "\n"
     ]
    }
   ],
   "source": [
    "print('Original dataset shape %s' % Counter(y['Label']))\n",
    "\n",
    "sm = SMOTE(sampling_strategy=1/4, random_state=42)\n",
    "X_res, y_res = sm.fit_resample(X[selected_attr], y) # 只使用顯著的 14 個欄位\n",
    "print('Resampled dataset shape %s' % Counter(y_res['Label']))\n",
    "# y_res = y_res['Label']\n",
    "X_train, X_test, y_train, y_test = train_test_split(X_res, y_res['Label'], test_size=0.33, random_state=42)\n",
    "\n",
    "clf = RandomForestClassifier(max_depth=10, random_state=0)\n",
    "clf.fit(X_train, y_train)\n",
    "y_pred = clf.predict(X_test)\n",
    "print('train acc:', clf.score(X_train, y_train))\n",
    "print(classification_report(y_test, y_pred, target_names=['class -1', 'class 1'])) # print test result"
   ]
  },
  {
   "cell_type": "markdown",
   "metadata": {},
   "source": [
    "### Q2 Meta heuristic algorithm (30%) "
   ]
  },
  {
   "attachments": {},
   "cell_type": "markdown",
   "metadata": {},
   "source": [
    "本範例是一個具有20個工件的單機台 flow shop 問題，排程目標為最小化總加權延遲 (Total weighted tardiness) ，工件資訊如下圖所示\n",
    "1. Initailization population\n",
    "2. Select parents & Crossover\n",
    "3. Mutate Offsprings\n",
    "4. Merge parents and offsprings\n",
    "5. Evalutate, Sort & Select population\n",
    "6. Go to step 2\n",
    "\n",
    "演算參考了\n",
    "- Paper: Crossover and Mutation Strategies applied in Job Shop Scheduling Problems https://iopscience.iop.org/article/10.1088/1742-6596/1377/1/012031\n",
    "- Github: https://github.com/wurmen/Genetic-Algorithm-for-Job-Shop-Scheduling-and-NSGA-II/blob/master/implementation%20with%20python/GA-jobshop/GA_For_Jobshop.md"
   ]
  },
  {
   "cell_type": "code",
   "execution_count": 112,
   "metadata": {},
   "outputs": [],
   "source": [
    "import numpy as np\n",
    "import time\n",
    "import copy\n",
    "import random\n",
    "from collections import Counter\n",
    "import matplotlib.pyplot as plt"
   ]
  },
  {
   "cell_type": "code",
   "execution_count": 107,
   "metadata": {},
   "outputs": [
    {
     "ename": "AssertionError",
     "evalue": "[0, 1, 3, 3, 4]",
     "output_type": "error",
     "traceback": [
      "\u001b[1;31m---------------------------------------------------------------------------\u001b[0m",
      "\u001b[1;31mAssertionError\u001b[0m                            Traceback (most recent call last)",
      "Cell \u001b[1;32mIn [107], line 9\u001b[0m\n\u001b[0;32m      6\u001b[0m     \u001b[39mreturn\u001b[39;00m \u001b[39mTrue\u001b[39;00m\n\u001b[0;32m      8\u001b[0m sequence_integrity_test([\u001b[39m0\u001b[39m,\u001b[39m1\u001b[39m,\u001b[39m2\u001b[39m,\u001b[39m3\u001b[39m,\u001b[39m4\u001b[39m]) \u001b[39m# True\u001b[39;00m\n\u001b[1;32m----> 9\u001b[0m sequence_integrity_test([\u001b[39m0\u001b[39;49m,\u001b[39m1\u001b[39;49m,\u001b[39m3\u001b[39;49m,\u001b[39m3\u001b[39;49m,\u001b[39m4\u001b[39;49m]) \u001b[39m# AssertionError (3重複了)\u001b[39;00m\n",
      "Cell \u001b[1;32mIn [107], line 5\u001b[0m, in \u001b[0;36msequence_integrity_test\u001b[1;34m(seq)\u001b[0m\n\u001b[0;32m      3\u001b[0m lenx \u001b[39m=\u001b[39m \u001b[39mlen\u001b[39m(seq)\n\u001b[0;32m      4\u001b[0m correct_seq \u001b[39m=\u001b[39m \u001b[39mlist\u001b[39m(\u001b[39mrange\u001b[39m(lenx))\n\u001b[1;32m----> 5\u001b[0m \u001b[39massert\u001b[39;00m Counter(seq) \u001b[39m==\u001b[39m Counter(correct_seq), seq\n\u001b[0;32m      6\u001b[0m \u001b[39mreturn\u001b[39;00m \u001b[39mTrue\u001b[39;00m\n",
      "\u001b[1;31mAssertionError\u001b[0m: [0, 1, 3, 3, 4]"
     ]
    }
   ],
   "source": [
    "def sequence_integrity_test(seq:list) -> bool:\n",
    "    '''驗證序列是否為合法的工作序列(不重複) O(1)'''\n",
    "    lenx = len(seq)\n",
    "    correct_seq = list(range(lenx))\n",
    "    assert Counter(seq) == Counter(correct_seq), seq\n",
    "    return True\n",
    "\n",
    "sequence_integrity_test([0,1,2,3,4]) # True\n",
    "sequence_integrity_test([0,1,3,3,4]) # AssertionError (3重複了)"
   ]
  },
  {
   "cell_type": "code",
   "execution_count": 108,
   "metadata": {},
   "outputs": [
    {
     "data": {
      "text/plain": [
       "([7, 8, 2, 3, 4, 5, 6, 1, 9, 0, 10, 11, 12, 13, 14, 15],\n",
       " [6, 4, 9, 0, 1, 2, 3, 7, 8, 5, 10, 11, 12, 13, 14, 15])"
      ]
     },
     "execution_count": 108,
     "metadata": {},
     "output_type": "execute_result"
    }
   ],
   "source": [
    "def PMX_crossover(parent1, parent2):\n",
    "    # parent1 and parent2 are 1D np.array\n",
    "    parent1,parent2 = np.array(parent1), np.array(parent2) \n",
    "    rng = np.random.default_rng(seed=111)\n",
    "\n",
    "    cutoff_1, cutoff_2 = np.sort(rng.choice(np.arange(len(parent1)+1), size=2, replace=False))\n",
    "    # cutoff_1, cutoff_2 = 2 , 7\n",
    "    # print('cutoff_1, cutoff_2:', cutoff_1, cutoff_2)\n",
    "\n",
    "    def PMX_one_offspring(p1, p2):\n",
    "        offspring = np.zeros(len(p1), dtype=p1.dtype)\n",
    "        \n",
    "        # Copy the mapping section (middle) from parent1\n",
    "        offspring[cutoff_1:cutoff_2] = p1[cutoff_1:cutoff_2]\n",
    "        # print('---\\np1:', p1,', p2:', p2)\n",
    "        # print('elements copied from parent p1:', offspring)\n",
    "\n",
    "        # copy the rest from parent2 (provided it's not already there\n",
    "        for i in np.concatenate([np.arange(0,cutoff_1), np.arange(cutoff_2,len(p1))]):\n",
    "            candidate = p2[i]\n",
    "            while candidate in p1[cutoff_1:cutoff_2]: # allows for several successive mappings\n",
    "                # print(f\"Candidate {candidate} not valid in position {i}\", end='')\n",
    "                where = np.where(p1 == candidate)[0][0]\n",
    "                candidate = p2[np.where(p1 == candidate)[0][0]]\n",
    "                # print(f', will be replaced by {candidate} (p2[{where}]).')\n",
    "            offspring[i] = candidate\n",
    "            \n",
    "        # print('generate offspring:', offspring)\n",
    "        return offspring.astype(int).tolist()\n",
    "\n",
    "    offspring1 = PMX_one_offspring(parent1, parent2)\n",
    "    offspring2 = PMX_one_offspring(parent2, parent1)\n",
    "    sequence_integrity_test(offspring1)\n",
    "    sequence_integrity_test(offspring2)\n",
    "\n",
    "    return offspring1, offspring2\n",
    "\n",
    "p1 = np.array([0,1,2,3,4,5,6,7,8,9,10,11,12,13,14,15])\n",
    "p2 = np.array([7,8,9,0,1,2,3,4,5,6,10,11,12,13,14,15])\n",
    "PMX_crossover(p1, p2)"
   ]
  },
  {
   "cell_type": "code",
   "execution_count": 109,
   "metadata": {},
   "outputs": [
    {
     "data": {
      "text/plain": [
       "[4, 1, 8, 3, 2, 5, 6, 7, 0]"
      ]
     },
     "execution_count": 109,
     "metadata": {},
     "output_type": "execute_result"
    }
   ],
   "source": [
    "def shift_mutation(offspring: list, num_mutation_jobs: int, mutation_rate:int, test=False):\n",
    "    ''' offspring: input list to be mutate, num_mutation_jobs: seq len to be shifted '''\n",
    "    mutation_prob = np.random.rand()\n",
    "    if test:\n",
    "        mutation_prob = 0\n",
    "    if mutation_rate >= mutation_prob:\n",
    "        num_job = len(offspring)\n",
    "        m_chg = list(np.random.choice(num_job, num_mutation_jobs, replace=False)) # chooses the position to shift mutation\n",
    "        t_value_last = offspring[m_chg[0]] # save the value which is on the first mutation position\n",
    "        for i in range(num_mutation_jobs-1):\n",
    "            offspring[m_chg[i]] = offspring[m_chg[i+1]] # displacement\n",
    "        \n",
    "        offspring[m_chg[num_mutation_jobs-1]] = t_value_last # move the value of the first mutation position to the last mutation position\n",
    "    \n",
    "    sequence_integrity_test(offspring)\n",
    "    return offspring\n",
    "\n",
    "test_seq = [0,1,2,3,4,5,6,7,8]\n",
    "shift_mutation(test_seq, num_mutation_jobs=4, test=True)"
   ]
  },
  {
   "cell_type": "code",
   "execution_count": 110,
   "metadata": {},
   "outputs": [
    {
     "data": {
      "text/plain": [
       "[0, 1, 4]"
      ]
     },
     "execution_count": 110,
     "metadata": {},
     "output_type": "execute_result"
    }
   ],
   "source": [
    "def roulette_wheel_ranking_selection(chrom_fit: list, num_to_select: int, prefer_small=True) -> list:\n",
    "    ''' Return selected index of input chrom_fit, 共選 num_to_select 個，prefer_small 表示數字低的比較好(延遲低較好) '''\n",
    "    # 決定中選者的排名\n",
    "    lenx = len(chrom_fit)\n",
    "    random_number_table = [] # 第1名N個，第2名N-1個，最後1名1個\n",
    "    selected_rank_index = [] # 選中第幾名\n",
    "    for i in range(lenx):\n",
    "        for cnt in range(lenx-i):\n",
    "            random_number_table.append(i)\n",
    "    random.shuffle(random_number_table)\n",
    "    # print(Counter(random_number_table))\n",
    "    # print('shuffled table:', random_number_table)\n",
    "    i = 0\n",
    "    while len(selected_rank_index) < num_to_select:\n",
    "        i += 1\n",
    "        if random_number_table[i] not in selected_rank_index:\n",
    "            selected_rank_index.append(random_number_table[i])\n",
    "    #         print(f'add {random_number_table[i]} in selected_rank_index, len is {len(selected_rank_index)}')\n",
    "    # print('selected_rank_index:', set(selected_rank_index))\n",
    "\n",
    "    # 排序並挑出中選人，回傳\n",
    "    selected_chrom_index = [] # 選了哪些 index\n",
    "    sorted_arg = np.argsort(chrom_fit).tolist()\n",
    "    for rank_id in selected_rank_index:\n",
    "        selected_chrom_index.append(sorted_arg[rank_id])\n",
    "\n",
    "    return sorted(selected_chrom_index)\n",
    "\n",
    "# test case\n",
    "roulette_wheel_ranking_selection([0,1,999,3,4,5], 3)"
   ]
  },
  {
   "attachments": {},
   "cell_type": "markdown",
   "metadata": {},
   "source": [
    "#### Run GA Script 基因演算法"
   ]
  },
  {
   "cell_type": "code",
   "execution_count": 111,
   "metadata": {},
   "outputs": [],
   "source": [
    "''' 基本變數 static '''\n",
    "num_job=20 # number of jobs\n",
    "\n",
    "p=[10,10,13,4,9,4,8,15,7,1,9,3,15,9,11,6,5,14,18,3]\n",
    "d=[50,38,49,12,20,105,73,45,6,64,15,6,92,43,78,21,15,50,150,99]\n",
    "w=[10,5,1,5,10,1,5,10,5,1,5,10,10,5,1,10,5,5,1,5]"
   ]
  },
  {
   "cell_type": "code",
   "execution_count": 119,
   "metadata": {},
   "outputs": [],
   "source": [
    "def GA_job_shop(param_population_size:int=None, param_offspring_size:int=None, mutation_rate:int=None) -> tuple[int, list]:\n",
    "    ''' Return best tardiness and best sequence '''\n",
    "    population_size=param_population_size or int(40) # default value is 40, population_size\n",
    "    offspring_size=param_offspring_size or int(30) # default value is 30\n",
    "    mutation_rate=mutation_rate or float(0.1) # default value is 0.1\n",
    "    mutation_selection_rate=float(0.5)\n",
    "    num_mutation_jobs=round(num_job*mutation_selection_rate)\n",
    "    num_iteration=int(3000) # fix to 3000\n",
    "\n",
    "    ''' 產生母體 '''\n",
    "    start_time = time.time()\n",
    "    Tbest = float('inf') # the best weighted tardiness\n",
    "    Sbest = [] # the best job sequence\n",
    "    Tbest_history, Sbest_history = [], []\n",
    "    population_list = []\n",
    "    for i in range(population_size):\n",
    "        random_num=list(np.random.permutation(num_job)) # generate a random permutation of 0 to num_job-1\n",
    "        population_list.append(random_num) # add to the population_list\n",
    "        # sequence_integrity_test(random_num)\n",
    "    print('shape of population_list:', np.array(population_list).shape)\n",
    "\n",
    "    for n in range(num_iteration):\n",
    "        Tbest_now=float('inf')          \n",
    "        '''-------- crossover parent to gen offsprings --------'''\n",
    "        parent_list=copy.deepcopy(population_list)\n",
    "        offspring_list=[]\n",
    "        S = np.random.permutation(offspring_size//2) # generate a random sequence to select the parent (id) chromosome to crossover\n",
    "        for i1, i2 in enumerate(S):\n",
    "            # let i1, i2 crossover (li = 0 ~ offspring_size-1, i2 = random sequence)\n",
    "            parent_1 = parent_list[i1]\n",
    "            parent_2 = parent_list[i2]\n",
    "            child_1, child_2 = PMX_crossover(parent_1, parent_2)\n",
    "            offspring_list.append(child_1)\n",
    "            offspring_list.append(child_2)\n",
    "\n",
    "            # print(np.array(offspring_list).shape)\n",
    "\n",
    "        '''-------- mutate offsprings --------'''\n",
    "        for o in range(offspring_size):\n",
    "            offspring_list[o] = shift_mutation(offspring_list[o], num_mutation_jobs, mutation_rate)\n",
    "\n",
    "        '''-------- Merge parents and offsprings --------'''\n",
    "        total_chromosome = copy.deepcopy(parent_list)+copy.deepcopy(offspring_list) # parent and offspring chromosomes combination\n",
    "\n",
    "        '''-------- Evalutate, Sort & Select population --------'''\n",
    "        # calculate tardiness of population\n",
    "        chrom_fitness,chrom_fit=[],[] # 紀錄每個染色體的總加權延遲 (fit總和 越低越好，fitness總和倒數 越高越好)\n",
    "        total_fitness = 0\n",
    "        for i in range(population_size+offspring_size):\n",
    "            ptime = 0\n",
    "            tardiness = 0\n",
    "            for j in range(num_job):\n",
    "                # print(type(i), type(j))\n",
    "                ptime = ptime + p[total_chromosome[i][j]]\n",
    "                tardiness = tardiness + w[total_chromosome[i][j]]*max(ptime-d[total_chromosome[i][j]],0)\n",
    "            if tardiness == 0:\n",
    "                chrom_fitness.append(0)\n",
    "            else:\n",
    "                chrom_fitness.append(1/tardiness)\n",
    "            chrom_fit.append(tardiness)\n",
    "            total_fitness = total_fitness + chrom_fitness[i]\n",
    "        # print(f\"i: {i}, j: {j}, ptime: {ptime}, tardiness: {tardiness}\")\n",
    "        # print(f\"total_fitness: {total_fitness}\")\n",
    "        # print('chrom_fitness', chrom_fitness)\n",
    "        # print('chrom_fit', chrom_fit)\n",
    "        # select new population (親代子代都會經過挑選!而非保留全部子代)\n",
    "        new_population_indexs = roulette_wheel_ranking_selection(chrom_fit, population_size)\n",
    "        # print('new_population_indexs:', new_population_indexs)\n",
    "        total_chromosome, chrom_fitness, chrom_fit = np.array(total_chromosome), np.array(chrom_fitness), np.array(chrom_fit)\n",
    "        population_list = total_chromosome[new_population_indexs]\n",
    "        chrom_fitness = chrom_fitness[new_population_indexs]\n",
    "        chrom_fit = chrom_fit[new_population_indexs]\n",
    "        del total_chromosome\n",
    "\n",
    "        ''' Comparison for population, find the best sequence and TBest'''\n",
    "        # sort the population_list by chrom_fit\n",
    "        sorted_arg = np.argsort(chrom_fit)\n",
    "        population_list = population_list[sorted_arg]\n",
    "        chrom_fitness = chrom_fitness[sorted_arg]\n",
    "        chrom_fit = chrom_fit[sorted_arg]\n",
    "        # find best sequence and TBest\n",
    "        Tbest_now = chrom_fit[0]\n",
    "        seq_now = population_list[0].tolist()\n",
    "        Tbest_history.append(Tbest_now)\n",
    "        Sbest_history.append(seq_now)\n",
    "        if Tbest_now < Tbest:\n",
    "            Tbest = Tbest_now\n",
    "            best_list = seq_now\n",
    "            print(f'Iter #{n} Best tardiness is {Tbest_now}, the job sequence is {seq_now} (has_progress)')\n",
    "        # else:\n",
    "        #     print(f'Iter #{n} Best tardiness is {Tbest_now}, the job sequence is {seq_now}')\n",
    "        # restore vairable into list, not np.array\n",
    "        population_list, chrom_fitness, chrom_fit = population_list.tolist(), chrom_fitness.tolist(), chrom_fit.tolist()\n",
    "        if Tbest == 0:\n",
    "            break\n",
    "        \n",
    "    end_time = time.time()\n",
    "    duration = end_time - start_time\n",
    "    # duration = datetime.combine(date.min, end) - datetime.combine(date.min, beginning)\n",
    "    print(f'total_time: {duration:.2f} seconds.',)\n",
    "    plt.plot(Tbest_history, marker='.')\n",
    "    plt.xlabel('num of iteration')\n",
    "    plt.ylabel('best weighted tardiness')\n",
    "\n",
    "    return Tbest, best_list"
   ]
  },
  {
   "attachments": {},
   "cell_type": "markdown",
   "metadata": {},
   "source": [
    "記錄條參數結果:\n",
    "- `population_size=40, offspring_size=30, mutation_rate=0.1` => `2331`\n",
    "    - Job sequence: `[4, 11, 15, 9, 16, 3, 7, 19, 0, 8, 10, 6, 1, 17, 13, 12, 2, 14, 5, 18]`\n",
    "- 只提高 `mutation_rate = 0.2` 試試 => 2327\n",
    "    - Job sequence: `[19, 11, 4, 3, 15, 16, 7, 8, 6, 13, 0, 9, 12, 1, 17, 5, 10, 2, 14, 18]`\n",
    "- 只提高 `offspring_size = 40` 試試 (我的程式只能接受親代量 >= 子代量) => `2175`\n",
    "    - Job sequence: `[11, 19, 3, 16, 15, 8, 4, 7, 0, 9, 13, 12, 6, 10, 1, 17, 14, 5, 18, 2]`\n",
    "- 只提高 `population_size = 80` 試試 (我的程式只能接受親代量 >= 子代量) `2200`\n",
    "    - Job sequence: `[11, 8, 4, 3, 9, 15, 7, 16, 10, 0, 6, 12, 17, 5, 19, 13, 1, 18, 2, 14]`\n",
    "- 三項一起調整 => `2143`\n",
    "    - Job sequence: `[16, 11, 8, 15, 4, 3, 7, 1, 0, 6, 19, 12, 10, 5, 13, 9, 17, 14, 18, 2]`\n",
    "\n",
    "發現:\n",
    "1. 若 mutation rate 提高，則很快就可找到 Best Sequence，一開始的對照組要花 1699 iteration 才能找到最佳解，但是將 mutation rate 提高兩倍，在 #12 iteration 很壞就找到最佳解，後續的子代都沒有更好了。\n",
    "2. 發現若提高 offspring_size 一次生成更多的子代，TBest 的的下降幅度較緩慢且平穩，代表整體再慢慢進步，雖然找到最佳解的時間較久，但最終的成效延遲權重 2175 是實驗組裏頭最佳的解。\n",
    "3. 提高 population_size 的成效跟第一點一樣好，而且由圖看到他有兩個斷層，表示母體越大，越有機會留下好的序列，再交配出更好的解。"
   ]
  },
  {
   "cell_type": "code",
   "execution_count": 120,
   "metadata": {},
   "outputs": [
    {
     "name": "stdout",
     "output_type": "stream",
     "text": [
      "shape of population_list: (40, 20)\n",
      "Iter #0 Best tardiness is 3761, the job sequence is [4, 15, 3, 7, 11, 16, 2, 0, 14, 19, 10, 8, 1, 12, 18, 13, 6, 17, 9, 5] (has_progress)\n",
      "Iter #1 Best tardiness is 3463, the job sequence is [4, 15, 3, 8, 13, 7, 11, 14, 0, 19, 10, 16, 1, 12, 18, 2, 6, 17, 9, 5] (has_progress)\n",
      "Iter #3 Best tardiness is 3355, the job sequence is [4, 11, 3, 1, 15, 12, 9, 0, 7, 19, 10, 8, 14, 16, 18, 13, 6, 17, 2, 5] (has_progress)\n",
      "Iter #5 Best tardiness is 3081, the job sequence is [4, 15, 8, 7, 0, 3, 16, 19, 11, 13, 10, 9, 1, 12, 18, 2, 6, 17, 14, 5] (has_progress)\n",
      "Iter #221 Best tardiness is 2877, the job sequence is [4, 15, 11, 7, 0, 3, 8, 6, 5, 13, 16, 10, 1, 12, 18, 19, 9, 17, 2, 14] (has_progress)\n",
      "Iter #502 Best tardiness is 2784, the job sequence is [4, 11, 15, 8, 7, 3, 6, 16, 0, 17, 13, 19, 1, 12, 14, 18, 2, 9, 5, 10] (has_progress)\n",
      "Iter #756 Best tardiness is 2541, the job sequence is [4, 11, 15, 9, 13, 3, 10, 16, 0, 8, 6, 19, 1, 17, 7, 12, 2, 14, 5, 18] (has_progress)\n",
      "Iter #757 Best tardiness is 2490, the job sequence is [4, 11, 15, 8, 7, 3, 6, 16, 0, 9, 10, 19, 1, 17, 13, 12, 2, 14, 5, 18] (has_progress)\n",
      "Iter #1698 Best tardiness is 2485, the job sequence is [4, 11, 15, 9, 16, 3, 7, 19, 0, 6, 10, 12, 1, 17, 8, 18, 13, 14, 5, 2] (has_progress)\n",
      "Iter #1699 Best tardiness is 2331, the job sequence is [4, 11, 15, 9, 16, 3, 7, 19, 0, 8, 10, 6, 1, 17, 13, 12, 2, 14, 5, 18] (has_progress)\n",
      "total_time: 10.29 seconds.\n"
     ]
    },
    {
     "data": {
      "text/plain": [
       "(2331, [4, 11, 15, 9, 16, 3, 7, 19, 0, 8, 10, 6, 1, 17, 13, 12, 2, 14, 5, 18])"
      ]
     },
     "execution_count": 120,
     "metadata": {},
     "output_type": "execute_result"
    },
    {
     "data": {
      "image/png": "[encoded data removed]",
      "text/plain": [
       "<Figure size 640x480 with 1 Axes>"
      ]
     },
     "metadata": {},
     "output_type": "display_data"
    }
   ],
   "source": [
    "GA_job_shop(param_population_size=40, param_offspring_size=30, mutation_rate=0.1)"
   ]
  },
  {
   "cell_type": "code",
   "execution_count": 121,
   "metadata": {},
   "outputs": [
    {
     "name": "stdout",
     "output_type": "stream",
     "text": [
      "shape of population_list: (40, 20)\n",
      "Iter #0 Best tardiness is 4183, the job sequence is [10, 9, 11, 3, 16, 12, 15, 8, 7, 0, 1, 5, 18, 6, 17, 4, 14, 13, 2, 19] (has_progress)\n",
      "Iter #1 Best tardiness is 3727, the job sequence is [10, 11, 8, 15, 6, 17, 7, 9, 19, 12, 3, 0, 1, 4, 16, 2, 14, 13, 18, 5] (has_progress)\n",
      "Iter #2 Best tardiness is 3263, the job sequence is [11, 19, 4, 3, 16, 12, 15, 8, 7, 13, 6, 9, 2, 0, 17, 5, 1, 10, 14, 18] (has_progress)\n",
      "Iter #6 Best tardiness is 3247, the job sequence is [1, 11, 4, 3, 16, 12, 15, 8, 7, 13, 19, 9, 10, 6, 17, 0, 14, 2, 5, 18] (has_progress)\n",
      "Iter #7 Best tardiness is 2974, the job sequence is [11, 10, 4, 3, 16, 12, 15, 8, 7, 13, 19, 6, 9, 17, 0, 1, 14, 2, 5, 18] (has_progress)\n",
      "Iter #9 Best tardiness is 2909, the job sequence is [19, 11, 4, 3, 16, 12, 15, 8, 7, 13, 0, 9, 6, 1, 17, 5, 10, 2, 14, 18] (has_progress)\n",
      "Iter #10 Best tardiness is 2459, the job sequence is [11, 10, 4, 3, 15, 16, 7, 8, 6, 13, 19, 12, 9, 17, 0, 1, 14, 2, 5, 18] (has_progress)\n",
      "Iter #12 Best tardiness is 2327, the job sequence is [19, 11, 4, 3, 15, 16, 7, 8, 6, 13, 0, 9, 12, 1, 17, 5, 10, 2, 14, 18] (has_progress)\n",
      "total_time: 10.37 seconds.\n"
     ]
    },
    {
     "data": {
      "text/plain": [
       "(2327, [19, 11, 4, 3, 15, 16, 7, 8, 6, 13, 0, 9, 12, 1, 17, 5, 10, 2, 14, 18])"
      ]
     },
     "execution_count": 121,
     "metadata": {},
     "output_type": "execute_result"
    },
    {
     "data": {
      "image/png": "[encoded data removed]",
      "text/plain": [
       "<Figure size 640x480 with 1 Axes>"
      ]
     },
     "metadata": {},
     "output_type": "display_data"
    }
   ],
   "source": [
    "# 只提高 `mutation_rate = 0.2`\n",
    "GA_job_shop(param_population_size=40, param_offspring_size=30, mutation_rate=0.2)"
   ]
  },
  {
   "cell_type": "code",
   "execution_count": 122,
   "metadata": {},
   "outputs": [
    {
     "name": "stdout",
     "output_type": "stream",
     "text": [
      "shape of population_list: (40, 20)\n",
      "Iter #0 Best tardiness is 4210, the job sequence is [11, 13, 16, 3, 2, 9, 0, 7, 6, 12, 15, 10, 17, 1, 8, 5, 19, 4, 14, 18] (has_progress)\n",
      "Iter #1 Best tardiness is 3130, the job sequence is [8, 11, 0, 16, 15, 9, 4, 7, 10, 17, 13, 1, 14, 5, 19, 3, 6, 2, 12, 18] (has_progress)\n",
      "Iter #4 Best tardiness is 2787, the job sequence is [8, 11, 3, 16, 15, 9, 4, 7, 10, 17, 12, 0, 14, 5, 1, 13, 6, 2, 19, 18] (has_progress)\n",
      "Iter #134 Best tardiness is 2712, the job sequence is [8, 11, 3, 16, 15, 9, 4, 7, 19, 17, 10, 0, 13, 2, 6, 12, 14, 1, 18, 5] (has_progress)\n",
      "Iter #135 Best tardiness is 2657, the job sequence is [8, 11, 3, 16, 15, 9, 4, 7, 10, 17, 19, 0, 13, 2, 6, 12, 14, 1, 18, 5] (has_progress)\n",
      "Iter #387 Best tardiness is 2585, the job sequence is [10, 11, 3, 16, 15, 8, 4, 7, 0, 12, 19, 17, 13, 2, 9, 1, 14, 5, 6, 18] (has_progress)\n",
      "Iter #388 Best tardiness is 2522, the job sequence is [9, 11, 3, 16, 15, 8, 4, 7, 0, 17, 19, 10, 13, 2, 6, 12, 14, 1, 18, 5] (has_progress)\n",
      "Iter #1687 Best tardiness is 2461, the job sequence is [11, 8, 3, 16, 5, 4, 15, 7, 0, 9, 19, 10, 6, 13, 17, 12, 14, 1, 18, 2] (has_progress)\n",
      "Iter #1688 Best tardiness is 2431, the job sequence is [11, 5, 3, 16, 15, 8, 4, 7, 0, 9, 19, 10, 6, 13, 17, 12, 14, 1, 18, 2] (has_progress)\n",
      "Iter #2541 Best tardiness is 2215, the job sequence is [11, 19, 3, 4, 15, 8, 13, 16, 0, 9, 7, 12, 6, 10, 1, 17, 14, 5, 18, 2] (has_progress)\n",
      "Iter #2542 Best tardiness is 2175, the job sequence is [11, 19, 3, 16, 15, 8, 4, 7, 0, 9, 13, 12, 6, 10, 1, 17, 14, 5, 18, 2] (has_progress)\n",
      "total_time: 12.97 seconds.\n"
     ]
    },
    {
     "data": {
      "text/plain": [
       "(2175, [11, 19, 3, 16, 15, 8, 4, 7, 0, 9, 13, 12, 6, 10, 1, 17, 14, 5, 18, 2])"
      ]
     },
     "execution_count": 122,
     "metadata": {},
     "output_type": "execute_result"
    },
    {
     "data": {
      "image/png": "[encoded data removed]",
      "text/plain": [
       "<Figure size 640x480 with 1 Axes>"
      ]
     },
     "metadata": {},
     "output_type": "display_data"
    }
   ],
   "source": [
    "# 只提高 `offspring_size = 40`\n",
    "GA_job_shop(param_population_size=40, param_offspring_size=40, mutation_rate=0.1)"
   ]
  },
  {
   "cell_type": "code",
   "execution_count": 123,
   "metadata": {},
   "outputs": [
    {
     "name": "stdout",
     "output_type": "stream",
     "text": [
      "shape of population_list: (80, 20)\n",
      "Iter #0 Best tardiness is 4251, the job sequence is [3, 16, 4, 15, 17, 19, 18, 0, 5, 11, 6, 9, 12, 8, 1, 13, 10, 7, 2, 14] (has_progress)\n",
      "Iter #1 Best tardiness is 4019, the job sequence is [11, 19, 4, 7, 6, 0, 8, 12, 17, 5, 16, 15, 10, 2, 1, 14, 9, 13, 3, 18] (has_progress)\n",
      "Iter #2 Best tardiness is 3752, the job sequence is [8, 11, 5, 4, 16, 10, 14, 13, 15, 19, 0, 7, 9, 1, 6, 12, 2, 17, 18, 3] (has_progress)\n",
      "Iter #3 Best tardiness is 2982, the job sequence is [3, 19, 4, 0, 15, 16, 7, 9, 10, 11, 6, 17, 12, 8, 1, 13, 5, 18, 2, 14] (has_progress)\n",
      "Iter #6 Best tardiness is 2916, the job sequence is [3, 11, 5, 0, 15, 16, 7, 9, 10, 19, 6, 13, 4, 1, 8, 12, 2, 17, 18, 14] (has_progress)\n",
      "Iter #7 Best tardiness is 2522, the job sequence is [3, 19, 4, 8, 11, 15, 7, 9, 10, 0, 6, 16, 12, 17, 1, 13, 5, 18, 2, 14] (has_progress)\n",
      "Iter #1386 Best tardiness is 2200, the job sequence is [11, 8, 4, 3, 9, 15, 7, 16, 10, 0, 6, 12, 17, 5, 19, 13, 1, 18, 2, 14] (has_progress)\n",
      "total_time: 15.27 seconds.\n"
     ]
    },
    {
     "data": {
      "text/plain": [
       "(2200, [11, 8, 4, 3, 9, 15, 7, 16, 10, 0, 6, 12, 17, 5, 19, 13, 1, 18, 2, 14])"
      ]
     },
     "execution_count": 123,
     "metadata": {},
     "output_type": "execute_result"
    },
    {
     "data": {
      "image/png": "[encoded data removed]",
      "text/plain": [
       "<Figure size 640x480 with 1 Axes>"
      ]
     },
     "metadata": {},
     "output_type": "display_data"
    }
   ],
   "source": [
    "# 只提高 `population_size = 80`\n",
    "GA_job_shop(param_population_size=80, param_offspring_size=30, mutation_rate=0.1)"
   ]
  },
  {
   "cell_type": "code",
   "execution_count": 124,
   "metadata": {},
   "outputs": [
    {
     "name": "stdout",
     "output_type": "stream",
     "text": [
      "shape of population_list: (80, 20)\n",
      "Iter #0 Best tardiness is 3143, the job sequence is [11, 16, 0, 3, 19, 15, 8, 7, 13, 12, 10, 5, 4, 1, 2, 9, 17, 14, 18, 6] (has_progress)\n",
      "Iter #3 Best tardiness is 2788, the job sequence is [11, 16, 0, 3, 15, 1, 4, 7, 8, 12, 10, 5, 13, 19, 2, 9, 17, 14, 18, 6] (has_progress)\n",
      "Iter #165 Best tardiness is 2745, the job sequence is [11, 15, 9, 3, 19, 16, 4, 7, 0, 12, 1, 5, 10, 8, 13, 2, 17, 14, 18, 6] (has_progress)\n",
      "Iter #205 Best tardiness is 2213, the job sequence is [16, 11, 3, 15, 19, 8, 4, 7, 0, 6, 1, 12, 10, 5, 13, 9, 17, 14, 18, 2] (has_progress)\n",
      "Iter #1156 Best tardiness is 2183, the job sequence is [16, 11, 9, 15, 4, 3, 7, 1, 0, 6, 8, 19, 10, 12, 13, 17, 5, 14, 18, 2] (has_progress)\n",
      "Iter #1157 Best tardiness is 2143, the job sequence is [16, 11, 8, 15, 4, 3, 7, 1, 0, 6, 19, 12, 10, 5, 13, 9, 17, 14, 18, 2] (has_progress)\n",
      "total_time: 17.65 seconds.\n"
     ]
    },
    {
     "data": {
      "text/plain": [
       "(2143, [16, 11, 8, 15, 4, 3, 7, 1, 0, 6, 19, 12, 10, 5, 13, 9, 17, 14, 18, 2])"
      ]
     },
     "execution_count": 124,
     "metadata": {},
     "output_type": "execute_result"
    },
    {
     "data": {
      "image/png": "[encoded data removed]",
      "text/plain": [
       "<Figure size 640x480 with 1 Axes>"
      ]
     },
     "metadata": {},
     "output_type": "display_data"
    }
   ],
   "source": [
    "# 三個參數一起調高\n",
    "GA_job_shop(param_population_size=80, param_offspring_size=40, mutation_rate=0.2)"
   ]
  },
  {
   "cell_type": "code",
   "execution_count": null,
   "metadata": {},
   "outputs": [],
   "source": [
    "# 有點 bug 的方法 直接改 numpy 重寫\n",
    "\n",
    "# def PMX_crossover(parent1:list, parent2:list, debug_print=False):\n",
    "#     assert len(parent1) == len(parent2)\n",
    "#     lenx = len(parent1)\n",
    "#     # 決定保留的起點 終點\n",
    "#     cutoff_1, cutoff_2 = sorted(random.sample(list(range(lenx)), 2))\n",
    "#     cutoff_1, cutoff_2 = 2, 7\n",
    "#     print('cutoff_1, cutoff_2:', cutoff_1, cutoff_2)\n",
    "\n",
    "#     def PMX_one_offspring(p1, p2):\n",
    "#         lenx = len(p1)\n",
    "#         offspring = np.zeros(lenx)\n",
    "\n",
    "#         # copy the mapping section (middle) from parent1\n",
    "#         offspring[cutoff_1:cutoff_2] = p1[cutoff_1:cutoff_2] \n",
    "#         print('---\\np1:', p1,', p2:', p2)\n",
    "#         print('elements copied from parent p1:', offspring)\n",
    "\n",
    "#         # copy the rest from parent2 (provide the elem of not used)\n",
    "#         used_set = set(offspring[cutoff_1:cutoff_2])\n",
    "#         print(\"used set is\", used_set)\n",
    "#         id_to_insert = list(range(cutoff_1)) + list(range(cutoff_2, lenx))\n",
    "#         for i in id_to_insert:\n",
    "#             candidate = p2[i]\n",
    "#             if candidate in used_set:\n",
    "#                 print(f'candidate {candidate} is not allowed', end=' ')\n",
    "#                 # idx = p1.index(candidate)\n",
    "#                 candidate = p2[candidate]\n",
    "#                 print(f'at position {i}, will be replaced by {candidate}. (p2[{candidate}])')\n",
    "#             offspring[i] = candidate\n",
    "#         print('generate offspring:', offspring)\n",
    "#         return offspring\n",
    "    \n",
    "#     # print('# makeing offspring1')\n",
    "#     offspring1 = PMX_one_offspring(parent1, parent2)\n",
    "#     # print('# makeing offspring2')\n",
    "#     offspring2 = PMX_one_offspring(parent2, parent1)\n",
    "#     # print('offspring1', offspring1)\n",
    "#     # print('offspring2', offspring2)\n",
    "\n",
    "#     offspring1 = offspring1.astype(int).tolist()\n",
    "#     offspring2 = offspring2.astype(int).tolist()\n",
    "#     sequence_integrity_test(offspring1)\n",
    "#     sequence_integrity_test(offspring2)\n",
    "#     return offspring1, offspring2\n",
    "\n",
    "# # unit test\n",
    "# PMX_crossover([0,1,2,3,4,5,6,7,8,9,10,11,12,13,14,15], [7,8,9,0,1,2,3,4,5,6,10,11,12,13,14,15], debug_print=True)\n"
   ]
  },
  {
   "cell_type": "code",
   "execution_count": null,
   "metadata": {},
   "outputs": [],
   "source": []
  }
 ],
 "metadata": {
  "kernelspec": {
   "display_name": "Python 3.10.5 64-bit",
   "language": "python",
   "name": "python3"
  },
  "language_info": {
   "codemirror_mode": {
    "name": "ipython",
    "version": 3
   },
   "file_extension": ".py",
   "mimetype": "text/x-python",
   "name": "python",
   "nbconvert_exporter": "python",
   "pygments_lexer": "ipython3",
   "version": "3.10.5"
  },
  "orig_nbformat": 4,
  "vscode": {
   "interpreter": {
    "hash": "125a1d8b627fe68767755740015967bae857d08bb92fb3fd0d9d8ed24f978d39"
   }
  }
 },
 "nbformat": 4,
 "nbformat_minor": 2
}
