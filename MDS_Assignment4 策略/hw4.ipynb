{
 "cells": [
  {
   "cell_type": "code",
   "execution_count": 1,
   "metadata": {},
   "outputs": [],
   "source": [
    "import pandas as pd\n",
    "import numpy as np\n",
    "import matplotlib.pyplot as plt "
   ]
  },
  {
   "cell_type": "markdown",
   "metadata": {},
   "source": [
    "### Q1 Data Imbalance Problem (40%)"
   ]
  },
  {
   "cell_type": "markdown",
   "metadata": {},
   "source": [
    "#### (a) 試在該數據分析流程中加入數據平衡的步驟，使用三種方法來進行數據平衡 (e.g. 使用上抽樣、下抽樣或是代價敏感學習等 )。(15%) \n",
    "- 原比例為 14:1，三種方法統一調整至 4:1。"
   ]
  },
  {
   "cell_type": "code",
   "execution_count": 2,
   "metadata": {},
   "outputs": [
    {
     "data": {
      "text/html": [
       "<div>\n",
       "<style scoped>\n",
       "    .dataframe tbody tr th:only-of-type {\n",
       "        vertical-align: middle;\n",
       "    }\n",
       "\n",
       "    .dataframe tbody tr th {\n",
       "        vertical-align: top;\n",
       "    }\n",
       "\n",
       "    .dataframe thead th {\n",
       "        text-align: right;\n",
       "    }\n",
       "</style>\n",
       "<table border=\"1\" class=\"dataframe\">\n",
       "  <thead>\n",
       "    <tr style=\"text-align: right;\">\n",
       "      <th></th>\n",
       "      <th>Sensor_1</th>\n",
       "      <th>Sensor_2</th>\n",
       "      <th>Sensor_3</th>\n",
       "      <th>Sensor_4</th>\n",
       "      <th>Sensor_5</th>\n",
       "      <th>Sensor_6</th>\n",
       "      <th>Sensor_7</th>\n",
       "      <th>Sensor_8</th>\n",
       "      <th>Sensor_9</th>\n",
       "      <th>Sensor_10</th>\n",
       "      <th>...</th>\n",
       "      <th>Sensor_583</th>\n",
       "      <th>Sensor_584</th>\n",
       "      <th>Sensor_585</th>\n",
       "      <th>Sensor_586</th>\n",
       "      <th>Sensor_587</th>\n",
       "      <th>Sensor_588</th>\n",
       "      <th>Sensor_589</th>\n",
       "      <th>Sensor_590</th>\n",
       "      <th>Label</th>\n",
       "      <th>Time</th>\n",
       "    </tr>\n",
       "  </thead>\n",
       "  <tbody>\n",
       "    <tr>\n",
       "      <th>1</th>\n",
       "      <td>3030.93</td>\n",
       "      <td>2564.00</td>\n",
       "      <td>2187.7333</td>\n",
       "      <td>1411.1265</td>\n",
       "      <td>1.3602</td>\n",
       "      <td>100.0</td>\n",
       "      <td>97.6133</td>\n",
       "      <td>0.1242</td>\n",
       "      <td>1.5005</td>\n",
       "      <td>0.0162</td>\n",
       "      <td>...</td>\n",
       "      <td>0.5005</td>\n",
       "      <td>0.0118</td>\n",
       "      <td>0.0035</td>\n",
       "      <td>2.3630</td>\n",
       "      <td>NaN</td>\n",
       "      <td>NaN</td>\n",
       "      <td>NaN</td>\n",
       "      <td>NaN</td>\n",
       "      <td>-1</td>\n",
       "      <td>19/07/2008 11:55:00</td>\n",
       "    </tr>\n",
       "    <tr>\n",
       "      <th>2</th>\n",
       "      <td>3095.78</td>\n",
       "      <td>2465.14</td>\n",
       "      <td>2230.4222</td>\n",
       "      <td>1463.6606</td>\n",
       "      <td>0.8294</td>\n",
       "      <td>100.0</td>\n",
       "      <td>102.3433</td>\n",
       "      <td>0.1247</td>\n",
       "      <td>1.4966</td>\n",
       "      <td>-0.0005</td>\n",
       "      <td>...</td>\n",
       "      <td>0.5019</td>\n",
       "      <td>0.0223</td>\n",
       "      <td>0.0055</td>\n",
       "      <td>4.4447</td>\n",
       "      <td>0.0096</td>\n",
       "      <td>0.0201</td>\n",
       "      <td>0.0060</td>\n",
       "      <td>208.2045</td>\n",
       "      <td>-1</td>\n",
       "      <td>19/07/2008 12:32:00</td>\n",
       "    </tr>\n",
       "    <tr>\n",
       "      <th>3</th>\n",
       "      <td>2932.61</td>\n",
       "      <td>2559.94</td>\n",
       "      <td>2186.4111</td>\n",
       "      <td>1698.0172</td>\n",
       "      <td>1.5102</td>\n",
       "      <td>100.0</td>\n",
       "      <td>95.4878</td>\n",
       "      <td>0.1241</td>\n",
       "      <td>1.4436</td>\n",
       "      <td>0.0041</td>\n",
       "      <td>...</td>\n",
       "      <td>0.4958</td>\n",
       "      <td>0.0157</td>\n",
       "      <td>0.0039</td>\n",
       "      <td>3.1745</td>\n",
       "      <td>0.0584</td>\n",
       "      <td>0.0484</td>\n",
       "      <td>0.0148</td>\n",
       "      <td>82.8602</td>\n",
       "      <td>1</td>\n",
       "      <td>19/07/2008 13:17:00</td>\n",
       "    </tr>\n",
       "  </tbody>\n",
       "</table>\n",
       "<p>3 rows × 592 columns</p>\n",
       "</div>"
      ],
      "text/plain": [
       "   Sensor_1  Sensor_2   Sensor_3   Sensor_4  Sensor_5  Sensor_6  Sensor_7  \\\n",
       "1   3030.93   2564.00  2187.7333  1411.1265    1.3602     100.0   97.6133   \n",
       "2   3095.78   2465.14  2230.4222  1463.6606    0.8294     100.0  102.3433   \n",
       "3   2932.61   2559.94  2186.4111  1698.0172    1.5102     100.0   95.4878   \n",
       "\n",
       "   Sensor_8  Sensor_9  Sensor_10  ...  Sensor_583  Sensor_584  Sensor_585  \\\n",
       "1    0.1242    1.5005     0.0162  ...      0.5005      0.0118      0.0035   \n",
       "2    0.1247    1.4966    -0.0005  ...      0.5019      0.0223      0.0055   \n",
       "3    0.1241    1.4436     0.0041  ...      0.4958      0.0157      0.0039   \n",
       "\n",
       "   Sensor_586  Sensor_587  Sensor_588  Sensor_589  Sensor_590  Label  \\\n",
       "1      2.3630         NaN         NaN         NaN         NaN     -1   \n",
       "2      4.4447      0.0096      0.0201      0.0060    208.2045     -1   \n",
       "3      3.1745      0.0584      0.0484      0.0148     82.8602      1   \n",
       "\n",
       "                  Time  \n",
       "1  19/07/2008 11:55:00  \n",
       "2  19/07/2008 12:32:00  \n",
       "3  19/07/2008 13:17:00  \n",
       "\n",
       "[3 rows x 592 columns]"
      ]
     },
     "execution_count": 2,
     "metadata": {},
     "output_type": "execute_result"
    }
   ],
   "source": [
    "# load data\n",
    "df = pd.read_excel(open('MDS_Assignment4_SECOM.xlsx', 'rb'), sheet_name='secom', index_col=0)\n",
    "df.head(3)"
   ]
  },
  {
   "cell_type": "code",
   "execution_count": 3,
   "metadata": {},
   "outputs": [],
   "source": [
    "df = df.drop('Time', axis=1)"
   ]
  },
  {
   "cell_type": "code",
   "execution_count": 4,
   "metadata": {},
   "outputs": [
    {
     "data": {
      "text/plain": [
       "-1    1463\n",
       " 1     104\n",
       "Name: Label, dtype: int64"
      ]
     },
     "execution_count": 4,
     "metadata": {},
     "output_type": "execute_result"
    }
   ],
   "source": [
    "# df.isnull().sum() # many\n",
    "df = df.fillna(df.mean())\n",
    "df['Label'].value_counts()"
   ]
  },
  {
   "cell_type": "code",
   "execution_count": 5,
   "metadata": {},
   "outputs": [
    {
     "name": "stdout",
     "output_type": "stream",
     "text": [
      "(1567, 590) (1567, 1)\n"
     ]
    }
   ],
   "source": [
    "X = df.iloc[:, :-1]\n",
    "y = df.iloc[:, -1:]\n",
    "print(X.shape, y.shape)"
   ]
  },
  {
   "cell_type": "code",
   "execution_count": 6,
   "metadata": {},
   "outputs": [
    {
     "name": "stdout",
     "output_type": "stream",
     "text": [
      "Original dataset shape Counter({-1: 1463, 1: 104})\n",
      "Resampled dataset shape Counter({-1: 1463, 1: 365})\n",
      "train acc: 1.0\n",
      "              precision    recall  f1-score   support\n",
      "\n",
      "    class -1       0.91      1.00      0.95       487\n",
      "     class 1       0.97      0.58      0.73       117\n",
      "\n",
      "    accuracy                           0.92       604\n",
      "   macro avg       0.94      0.79      0.84       604\n",
      "weighted avg       0.92      0.92      0.91       604\n",
      "\n"
     ]
    }
   ],
   "source": [
    "# 1) over sampling：對少數群進行取後放回的重複隨機抽樣 以增加少數群的樣本數。SMOTE\n",
    "# 少數類別學得不錯\n",
    "from collections import Counter\n",
    "from sklearn.datasets import make_classification\n",
    "from imblearn.over_sampling import SMOTE \n",
    "from sklearn.model_selection import train_test_split\n",
    "from sklearn.ensemble import RandomForestClassifier\n",
    "from sklearn.metrics import classification_report\n",
    "\n",
    "print('Original dataset shape %s' % Counter(y['Label']))\n",
    "\n",
    "sm = SMOTE(sampling_strategy=1/4, random_state=42)\n",
    "X_res, y_res = sm.fit_resample(X, y)\n",
    "print('Resampled dataset shape %s' % Counter(y_res['Label']))\n",
    "# y_res = y_res['Label']\n",
    "X_train, X_test, y_train, y_test = train_test_split(X_res, y_res['Label'], test_size=0.33, random_state=42)\n",
    "\n",
    "clf = RandomForestClassifier(max_depth=10, random_state=0)\n",
    "clf.fit(X_train, y_train)\n",
    "y_pred = clf.predict(X_test)\n",
    "print('train acc:', clf.score(X_train, y_train))\n",
    "print(classification_report(y_test, y_pred, target_names=['class -1', 'class 1'])) # print test result"
   ]
  },
  {
   "cell_type": "code",
   "execution_count": 31,
   "metadata": {},
   "outputs": [
    {
     "name": "stdout",
     "output_type": "stream",
     "text": [
      "Original dataset shape Counter({-1: 1463, 1: 104})\n",
      "Resampled dataset shape Counter({-1: 416, 1: 104})\n",
      "train acc: 0.9885057471264368\n",
      "              precision    recall  f1-score   support\n",
      "\n",
      "    class -1       0.78      1.00      0.88       134\n",
      "     class 1       0.00      0.00      0.00        38\n",
      "\n",
      "    accuracy                           0.78       172\n",
      "   macro avg       0.39      0.50      0.44       172\n",
      "weighted avg       0.61      0.78      0.68       172\n",
      "\n"
     ]
    },
    {
     "name": "stderr",
     "output_type": "stream",
     "text": [
      "c:\\Users\\luweb\\AppData\\Local\\Programs\\Python\\Python310\\lib\\site-packages\\sklearn\\metrics\\_classification.py:1334: UndefinedMetricWarning: Precision and F-score are ill-defined and being set to 0.0 in labels with no predicted samples. Use `zero_division` parameter to control this behavior.\n",
      "  _warn_prf(average, modifier, msg_start, len(result))\n",
      "c:\\Users\\luweb\\AppData\\Local\\Programs\\Python\\Python310\\lib\\site-packages\\sklearn\\metrics\\_classification.py:1334: UndefinedMetricWarning: Precision and F-score are ill-defined and being set to 0.0 in labels with no predicted samples. Use `zero_division` parameter to control this behavior.\n",
      "  _warn_prf(average, modifier, msg_start, len(result))\n",
      "c:\\Users\\luweb\\AppData\\Local\\Programs\\Python\\Python310\\lib\\site-packages\\sklearn\\metrics\\_classification.py:1334: UndefinedMetricWarning: Precision and F-score are ill-defined and being set to 0.0 in labels with no predicted samples. Use `zero_division` parameter to control this behavior.\n",
      "  _warn_prf(average, modifier, msg_start, len(result))\n"
     ]
    }
   ],
   "source": [
    "# 2) under sampling：對多數群進行隨機抽樣 以減少多數群的樣本數 。Random、Tomek link\n",
    "# 很明顯學不到少數類別\n",
    "from imblearn.under_sampling import RandomUnderSampler\n",
    "print('Original dataset shape %s' % Counter(y['Label']))\n",
    "\n",
    "rus = RandomUnderSampler(sampling_strategy=1/4, random_state=0)\n",
    "X_res, y_res = rus.fit_resample(X, y)\n",
    "print('Resampled dataset shape %s' % Counter(y_res['Label']))\n",
    "# y_res = y_res['Label']\n",
    "X_train, X_test, y_train, y_test = train_test_split(X_res, y_res['Label'], test_size=0.33, random_state=42)\n",
    "\n",
    "clf = RandomForestClassifier(max_depth=10, random_state=0)\n",
    "clf.fit(X_train, y_train)\n",
    "y_pred = clf.predict(X_test)\n",
    "print('train acc:', clf.score(X_train, y_train))\n",
    "print(classification_report(y_test, y_pred, target_names=['class -1', 'class 1'])) # print test result"
   ]
  },
  {
   "cell_type": "code",
   "execution_count": 30,
   "metadata": {},
   "outputs": [
    {
     "name": "stdout",
     "output_type": "stream",
     "text": [
      "Original dataset shape Counter({-1: 1463, 1: 104})\n",
      "class_weight={-1:1,1:5}\n",
      "train acc: 0.9599618684461392\n",
      "              precision    recall  f1-score   support\n",
      "\n",
      "    class -1       0.94      1.00      0.97       486\n",
      "     class 1       0.00      0.00      0.00        32\n",
      "\n",
      "    accuracy                           0.94       518\n",
      "   macro avg       0.47      0.50      0.48       518\n",
      "weighted avg       0.88      0.94      0.91       518\n",
      "\n"
     ]
    },
    {
     "name": "stderr",
     "output_type": "stream",
     "text": [
      "c:\\Users\\luweb\\AppData\\Local\\Programs\\Python\\Python310\\lib\\site-packages\\sklearn\\metrics\\_classification.py:1334: UndefinedMetricWarning: Precision and F-score are ill-defined and being set to 0.0 in labels with no predicted samples. Use `zero_division` parameter to control this behavior.\n",
      "  _warn_prf(average, modifier, msg_start, len(result))\n",
      "c:\\Users\\luweb\\AppData\\Local\\Programs\\Python\\Python310\\lib\\site-packages\\sklearn\\metrics\\_classification.py:1334: UndefinedMetricWarning: Precision and F-score are ill-defined and being set to 0.0 in labels with no predicted samples. Use `zero_division` parameter to control this behavior.\n",
      "  _warn_prf(average, modifier, msg_start, len(result))\n",
      "c:\\Users\\luweb\\AppData\\Local\\Programs\\Python\\Python310\\lib\\site-packages\\sklearn\\metrics\\_classification.py:1334: UndefinedMetricWarning: Precision and F-score are ill-defined and being set to 0.0 in labels with no predicted samples. Use `zero_division` parameter to control this behavior.\n",
      "  _warn_prf(average, modifier, msg_start, len(result))\n"
     ]
    }
   ],
   "source": [
    "# 3) cost sensitive、one class\n",
    "\n",
    "print('Original dataset shape %s' % Counter(y['Label']))\n",
    "print('class_weight={-1:1,1:5}')\n",
    "X_train, X_test, y_train, y_test = train_test_split(X, y['Label'], test_size=0.33, random_state=42)\n",
    "\n",
    "clf = RandomForestClassifier(max_depth=5, random_state=0, class_weight={-1:1,1:5})\n",
    "clf.fit(X_train, y_train)\n",
    "y_pred = clf.predict(X_test)\n",
    "print('train acc:', clf.score(X_train, y_train))\n",
    "print(classification_report(y_test, y_pred, target_names=['class -1', 'class 1'])) # print test result"
   ]
  },
  {
   "cell_type": "markdown",
   "metadata": {},
   "source": [
    "#### (b) (5%) 建 議選用哪種方法最為合適？為什麼？"
   ]
  },
  {
   "cell_type": "markdown",
   "metadata": {},
   "source": [
    "建議選用\"over sampling\"方法，我固定模型參數和樣本比例，從實驗結果得出，只有over sampling的實驗組的testing data能預測出少數類別，precision 97%, recall 58%，表現已經不錯了，另外兩種方法皆無法預測出少數類別。可以判斷說是，原始資料集的少數樣本太少了，無法讓模型學到特徵，若不實際增加樣本數，則無任何數據面的幫助。"
   ]
  },
  {
   "cell_type": "markdown",
   "metadata": {},
   "source": [
    "#### (c) (10%) \n",
    "對於數據多數群與少數群的比例應當調整至多少？為什麼？試透過調整生成比率\n",
    "(i.e. 敏感度分析 )來看模型分類結果。 (提示：將敏感度分析以繪圖呈現兩條曲線， x軸為\n",
    "不同生成比例、 y軸為偽陽性率 (false positive rate)與偽陰性率 (false negative rate))"
   ]
  },
  {
   "cell_type": "code",
   "execution_count": 46,
   "metadata": {},
   "outputs": [
    {
     "name": "stdout",
     "output_type": "stream",
     "text": [
      "Resampled dataset shape Counter({-1: 1463, 1: 112}) train acc: 0.95260663507109\n",
      "Resampled dataset shape Counter({-1: 1463, 1: 121}) train acc: 0.9538171536286523\n",
      "Resampled dataset shape Counter({-1: 1463, 1: 133}) train acc: 0.9588400374181478\n",
      "Resampled dataset shape Counter({-1: 1463, 1: 146}) train acc: 0.9628942486085343\n",
      "Resampled dataset shape Counter({-1: 1463, 1: 162}) train acc: 0.9586397058823529\n",
      "Resampled dataset shape Counter({-1: 1463, 1: 182}) train acc: 0.9637023593466425\n",
      "Resampled dataset shape Counter({-1: 1463, 1: 209}) train acc: 0.975\n",
      "Resampled dataset shape Counter({-1: 1463, 1: 243}) train acc: 0.9860017497812773\n",
      "Resampled dataset shape Counter({-1: 1463, 1: 292}) train acc: 0.9957446808510638\n",
      "Resampled dataset shape Counter({-1: 1463, 1: 365}) train acc: 1.0\n",
      "Resampled dataset shape Counter({-1: 1463, 1: 487}) train acc: 0.9992343032159265\n",
      "Resampled dataset shape Counter({-1: 1463, 1: 731}) train acc: 1.0\n",
      "Resampled dataset shape Counter({-1: 1463, 1: 1463}) train acc: 1.0\n"
     ]
    }
   ],
   "source": [
    "# 從 1:13 ~ 1:1\n",
    "from sklearn.metrics import confusion_matrix\n",
    "tp_arr = []\n",
    "fp_arr = []\n",
    "sample_rate_arr = []\n",
    "for i in range(13,1-1,-1):\n",
    "    sample_rate = 1/i\n",
    "    sm = SMOTE(sampling_strategy=1/i, random_state=42)\n",
    "    X_res, y_res = sm.fit_resample(X, y)\n",
    "    print('Resampled dataset shape %s' % Counter(y_res['Label']), end=' ')\n",
    "    X_train, X_test, y_train, y_test = train_test_split(X_res, y_res['Label'], test_size=0.33, random_state=42)\n",
    "    clf = RandomForestClassifier(max_depth=10, random_state=0)\n",
    "    clf.fit(X_train, y_train)\n",
    "    y_pred = clf.predict(X_test)\n",
    "    tn, fp, fn, tp = confusion_matrix(y_test, y_pred).ravel()\n",
    "    tp_rate = tp/(tp+fn) # 正樣本預測結果數/正樣本實際數\n",
    "    fp_rate = 0 if fp == 0 else fp/(fp+tn) # 被預測為正的負樣本結果數/負樣本實際數\n",
    "    tp_arr.append(tp_rate)\n",
    "    fp_arr.append(fp_rate)\n",
    "    sample_rate_arr.append(f'1:{i}')\n",
    "    print('train acc:', clf.score(X_train, y_train))\n",
    "    # print(classification_report(y_test, y_pred, target_names=['class -1', 'class 1'])) # print test result"
   ]
  },
  {
   "cell_type": "markdown",
   "metadata": {},
   "source": [
    "由結果顯示，樣本越平均，測試資料集的 tp rate 越高，但也會換來 fp rate 慢慢的增長。"
   ]
  },
  {
   "cell_type": "code",
   "execution_count": 54,
   "metadata": {},
   "outputs": [
    {
     "data": {
      "image/png": "[encoded data removed]",
      "text/plain": [
       "<Figure size 640x480 with 1 Axes>"
      ]
     },
     "metadata": {},
     "output_type": "display_data"
    }
   ],
   "source": [
    "plt.figure()\n",
    "plt.plot(tp_arr, label='tp rate', marker='o')\n",
    "plt.plot(fp_arr, label='fp rate', marker='o')\n",
    "plt.legend()\n",
    "plt.xticks(list(range(len(sample_rate_arr))), sample_rate_arr)\n",
    "plt.title('Sensitivity Analysis (SMOTE)')\n",
    "plt.xlabel('Sample rate (Major cls : Minor cls)')\n",
    "plt.show()"
   ]
  },
  {
   "cell_type": "code",
   "execution_count": null,
   "metadata": {},
   "outputs": [],
   "source": []
  },
  {
   "cell_type": "markdown",
   "metadata": {},
   "source": [
    "#### (d) (10%) 試說明特徵挑選步驟應於數據平衡 前或後 ，這對預測結果有何影響?\n",
    "\n",
    "我們由 OSL 選出 pvalue < 0.01 的 14 個特徵，分別是 `['Sensor_60', 'Sensor_139', 'Sensor_253', 'Sensor_412', 'Sensor_133', 'Sensor_153', 'Sensor_391', 'Sensor_440', 'Sensor_3', 'Sensor_57', 'Sensor_288', 'Sensor_567', 'Sensor_41', 'Sensor_360']`。同樣的取這 14 個欄位進行一次 RF 作為實驗組。\n",
    "\n",
    "由結果可得出，挑選重要變數後，少數類別的 f1-score 從原本的 0.73 降低為 0.64，recall 從 0.58 降低為 0.48，可見特徵挑選在此資料集不是很有效益，或許可以放寬挑選變數的 threshold 來挑選更多變數。也因為 DecesionTree 算法本身就有進行變數挑選的行為，我們不需特別再為它額外挑選重要變數。"
   ]
  },
  {
   "cell_type": "code",
   "execution_count": 10,
   "metadata": {},
   "outputs": [
    {
     "name": "stdout",
     "output_type": "stream",
     "text": [
      "Selected: 14 \n",
      " ['Sensor_60', 'Sensor_139', 'Sensor_253', 'Sensor_412', 'Sensor_133', 'Sensor_153', 'Sensor_391', 'Sensor_440', 'Sensor_3', 'Sensor_57', 'Sensor_288', 'Sensor_567', 'Sensor_41', 'Sensor_360']\n"
     ]
    }
   ],
   "source": [
    "import statsmodels.api as sm\n",
    "import statsmodels.formula.api as smf\n",
    "\n",
    "data_X_const = sm.add_constant(X) # 做線性回歸前 要手動加上截距(常數項)\n",
    "data_X_const = data_X_const.rename(columns={\"const\": \"Intercept\"})\n",
    "\n",
    "model = sm.OLS(y, data_X_const)\n",
    "osl_result = model.fit()\n",
    "osl_pvalues = osl_result.pvalues\n",
    "\n",
    "selected_attr = []\n",
    "for index in osl_pvalues.sort_values().index:\n",
    "  if osl_pvalues[index] < 0.01:\n",
    "    selected_attr.append(index)\n",
    "print(\"Selected:\", len(selected_attr),'\\n', selected_attr)"
   ]
  },
  {
   "cell_type": "code",
   "execution_count": 12,
   "metadata": {},
   "outputs": [
    {
     "name": "stdout",
     "output_type": "stream",
     "text": [
      "Original dataset shape Counter({-1: 1463, 1: 104})\n",
      "Resampled dataset shape Counter({-1: 1463, 1: 365})\n",
      "train acc: 0.9852941176470589\n",
      "              precision    recall  f1-score   support\n",
      "\n",
      "    class -1       0.89      1.00      0.94       487\n",
      "     class 1       0.97      0.48      0.64       117\n",
      "\n",
      "    accuracy                           0.90       604\n",
      "   macro avg       0.93      0.74      0.79       604\n",
      "weighted avg       0.90      0.90      0.88       604\n",
      "\n"
     ]
    }
   ],
   "source": [
    "print('Original dataset shape %s' % Counter(y['Label']))\n",
    "\n",
    "sm = SMOTE(sampling_strategy=1/4, random_state=42)\n",
    "X_res, y_res = sm.fit_resample(X[selected_attr], y) # 只使用顯著的 14 個欄位\n",
    "print('Resampled dataset shape %s' % Counter(y_res['Label']))\n",
    "# y_res = y_res['Label']\n",
    "X_train, X_test, y_train, y_test = train_test_split(X_res, y_res['Label'], test_size=0.33, random_state=42)\n",
    "\n",
    "clf = RandomForestClassifier(max_depth=10, random_state=0)\n",
    "clf.fit(X_train, y_train)\n",
    "y_pred = clf.predict(X_test)\n",
    "print('train acc:', clf.score(X_train, y_train))\n",
    "print(classification_report(y_test, y_pred, target_names=['class -1', 'class 1'])) # print test result"
   ]
  },
  {
   "cell_type": "markdown",
   "metadata": {},
   "source": [
    "### Q2 Meta heuristic algorithm (30%) "
   ]
  },
  {
   "cell_type": "markdown",
   "metadata": {},
   "source": [
    "本範例是一個具有20個工件的單機台 flow shop 問題，排程目標為最小化總加權延遲 (Total weighted tardiness) ，工件資訊如下圖所示"
   ]
  },
  {
   "cell_type": "code",
   "execution_count": 2,
   "metadata": {},
   "outputs": [],
   "source": [
    "import numpy as np\n",
    "import time\n",
    "import copy"
   ]
  },
  {
   "cell_type": "code",
   "execution_count": 4,
   "metadata": {},
   "outputs": [],
   "source": [
    "num_job=20 # number of jobs\n",
    "\n",
    "p=[10,10,13,4,9,4,8,15,7,1,9,3,15,9,11,6,5,14,18,3]\n",
    "d=[50,38,49,12,20,105,73,45,6,64,15,6,92,43,78,21,15,50,150,99]\n",
    "w=[10,5,1,5,10,1,5,10,5,1,5,10,10,5,1,10,5,5,1,5]\n",
    "\n",
    "population_size=int(30) # default value is 30\n",
    "crossover_rate=float(0.8) # default value is 0.8\n",
    "mutation_rate=float(0.1) # default value is 0.1\n",
    "mutation_selection_rate=float(0.5)\n",
    "num_mutation_jobs=round(num_job*mutation_selection_rate)\n",
    "num_iteration=int(2000) # default value is 2000\n",
    "\n",
    "start_time = time.time()"
   ]
  },
  {
   "cell_type": "code",
   "execution_count": 5,
   "metadata": {},
   "outputs": [],
   "source": [
    "# 產生母體 population_list\n",
    "Tbest = float('inf')\n",
    "best_list,best_obj=[],[]\n",
    "population_list=[]\n",
    "for i in range(population_size):\n",
    "    random_num=list(np.random.permutation(num_job)) # generate a random permutation of 0 to num_job-1\n",
    "    population_list.append(random_num) # add to the population_list"
   ]
  },
  {
   "cell_type": "code",
   "execution_count": 9,
   "metadata": {},
   "outputs": [
    {
     "name": "stdout",
     "output_type": "stream",
     "text": [
      "[21, 4, 11, 12, 28, 10, 24, 16, 22, 20, 0, 19, 25, 5, 1, 15, 29, 8, 9, 18, 23, 13, 3, 26, 6, 2, 7, 17, 14, 27]\n"
     ]
    }
   ],
   "source": [
    "for n in range(num_iteration):\n",
    "    Tbest_now=float('inf')          \n",
    "    '''-------- uniform crossover --------'''\n",
    "    parent_list=copy.deepcopy(population_list)\n",
    "    offspring_list=copy.deepcopy(population_list)\n",
    "    S=list(np.random.permutation(population_size)) # generate a random sequence to select the parent chromosome to crossover\n",
    "    print(S)\n",
    "\n",
    "    for m in range(int(population_size/2)):\n",
    "        crossover_prob=np.random.rand()\n",
    "        if crossover_rate>=crossover_prob:\n",
    "            parent_1= population_list[S[2*m]][:]\n",
    "            parent_2= population_list[S[2*m+1]][:]\n",
    "            child_1=['na' for i in range(num_job)]\n",
    "            child_2=['na' for i in range(num_job)]\n",
    "            fix_num=round(num_job/2)\n",
    "            g_fix=list(np.random.choice(num_job, fix_num, replace=False))\n",
    "            \n",
    "            for g in range(fix_num):\n",
    "                child_1[g_fix[g]]=parent_2[g_fix[g]]\n",
    "                child_2[g_fix[g]]=parent_1[g_fix[g]]\n",
    "            c1=[parent_1[i] for i in range(num_job) if parent_1[i] not in child_1]\n",
    "            c2=[parent_2[i] for i in range(num_job) if parent_2[i] not in child_2]\n",
    "            \n",
    "            for i in range(num_job-fix_num):\n",
    "                child_1[child_1.index('na')]=c1[i]\n",
    "                child_2[child_2.index('na')]=c2[i]\n",
    "            offspring_list[S[2*m]]=child_1[:]\n",
    "            offspring_list[S[2*m+1]]=child_2[:]\n",
    "    break"
   ]
  },
  {
   "cell_type": "code",
   "execution_count": 11,
   "metadata": {},
   "outputs": [
    {
     "data": {
      "text/plain": [
       "[7, 15, 6, 17, 13, 3, 10, 16, 11, 0, 9, 4, 1, 19, 14, 2, 18, 5, 12, 8]"
      ]
     },
     "execution_count": 11,
     "metadata": {},
     "output_type": "execute_result"
    }
   ],
   "source": [
    "parent_1"
   ]
  },
  {
   "cell_type": "code",
   "execution_count": 12,
   "metadata": {},
   "outputs": [
    {
     "data": {
      "text/plain": [
       "[8, 13, 9, 14, 12, 1, 2, 7, 16, 17, 0, 6, 3, 15, 18, 4, 10, 11, 5, 19]"
      ]
     },
     "execution_count": 12,
     "metadata": {},
     "output_type": "execute_result"
    }
   ],
   "source": [
    "parent_2"
   ]
  },
  {
   "cell_type": "code",
   "execution_count": 13,
   "metadata": {},
   "outputs": [
    {
     "data": {
      "text/plain": [
       "[8, 13, 7, 10, 11, 0, 2, 9, 16, 17, 1, 6, 3, 15, 18, 4, 19, 14, 5, 12]"
      ]
     },
     "execution_count": 13,
     "metadata": {},
     "output_type": "execute_result"
    }
   ],
   "source": [
    "child_1"
   ]
  },
  {
   "cell_type": "code",
   "execution_count": null,
   "metadata": {},
   "outputs": [],
   "source": []
  }
 ],
 "metadata": {
  "kernelspec": {
   "display_name": "Python 3.7.7 ('testAI')",
   "language": "python",
   "name": "python3"
  },
  "language_info": {
   "codemirror_mode": {
    "name": "ipython",
    "version": 3
   },
   "file_extension": ".py",
   "mimetype": "text/x-python",
   "name": "python",
   "nbconvert_exporter": "python",
   "pygments_lexer": "ipython3",
   "version": "3.7.7"
  },
  "orig_nbformat": 4,
  "vscode": {
   "interpreter": {
    "hash": "c20d4d726aff38b52800cde1ca48e4aee5c5aa587776fadab5a3d240c6c942f6"
   }
  }
 },
 "nbformat": 4,
 "nbformat_minor": 2
}
