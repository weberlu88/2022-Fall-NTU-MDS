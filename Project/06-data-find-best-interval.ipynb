{
 "cells": [
  {
   "cell_type": "markdown",
   "metadata": {},
   "source": [
    "### Find best interval\n",
    "嘗試發掘資料(y值)是否有(短)週期性，可嘗試將 lstm 的時間區間取為周期的倍數。"
   ]
  },
  {
   "cell_type": "code",
   "execution_count": 1,
   "metadata": {},
   "outputs": [],
   "source": [
    "import pandas as pd\n",
    "import numpy as np\n",
    "from matplotlib import pyplot as plt\n",
    "from collections import Counter"
   ]
  },
  {
   "cell_type": "code",
   "execution_count": 5,
   "metadata": {},
   "outputs": [
    {
     "data": {
      "text/html": [
       "<div>\n",
       "<style scoped>\n",
       "    .dataframe tbody tr th:only-of-type {\n",
       "        vertical-align: middle;\n",
       "    }\n",
       "\n",
       "    .dataframe tbody tr th {\n",
       "        vertical-align: top;\n",
       "    }\n",
       "\n",
       "    .dataframe thead th {\n",
       "        text-align: right;\n",
       "    }\n",
       "</style>\n",
       "<table border=\"1\" class=\"dataframe\">\n",
       "  <thead>\n",
       "    <tr style=\"text-align: right;\">\n",
       "      <th></th>\n",
       "      <th>date</th>\n",
       "      <th>% Iron Feed</th>\n",
       "      <th>% Silica Feed</th>\n",
       "      <th>Starch Flow</th>\n",
       "      <th>Amina Flow</th>\n",
       "      <th>Ore Pulp Flow</th>\n",
       "      <th>Ore Pulp pH</th>\n",
       "      <th>Ore Pulp Density</th>\n",
       "      <th>Flotation Column 01 Air Flow</th>\n",
       "      <th>Flotation Column 02 Air Flow</th>\n",
       "      <th>...</th>\n",
       "      <th>Flotation Column 07 Air Flow</th>\n",
       "      <th>Flotation Column 01 Level</th>\n",
       "      <th>Flotation Column 02 Level</th>\n",
       "      <th>Flotation Column 03 Level</th>\n",
       "      <th>Flotation Column 04 Level</th>\n",
       "      <th>Flotation Column 05 Level</th>\n",
       "      <th>Flotation Column 06 Level</th>\n",
       "      <th>Flotation Column 07 Level</th>\n",
       "      <th>% Iron Concentrate</th>\n",
       "      <th>% Silica Concentrate</th>\n",
       "    </tr>\n",
       "  </thead>\n",
       "  <tbody>\n",
       "    <tr>\n",
       "      <th>0</th>\n",
       "      <td>2017-03-10 01:00:00</td>\n",
       "      <td>55.2</td>\n",
       "      <td>16.98</td>\n",
       "      <td>3019.53</td>\n",
       "      <td>557.434</td>\n",
       "      <td>395.713</td>\n",
       "      <td>10.0664</td>\n",
       "      <td>1.74</td>\n",
       "      <td>249.214</td>\n",
       "      <td>253.235</td>\n",
       "      <td>...</td>\n",
       "      <td>250.884</td>\n",
       "      <td>457.396</td>\n",
       "      <td>432.962</td>\n",
       "      <td>424.954</td>\n",
       "      <td>443.558</td>\n",
       "      <td>502.255</td>\n",
       "      <td>446.37</td>\n",
       "      <td>523.344</td>\n",
       "      <td>66.91</td>\n",
       "      <td>1.31</td>\n",
       "    </tr>\n",
       "    <tr>\n",
       "      <th>1</th>\n",
       "      <td>2017-03-10 01:00:00</td>\n",
       "      <td>55.2</td>\n",
       "      <td>16.98</td>\n",
       "      <td>3024.41</td>\n",
       "      <td>563.965</td>\n",
       "      <td>397.383</td>\n",
       "      <td>10.0672</td>\n",
       "      <td>1.74</td>\n",
       "      <td>249.719</td>\n",
       "      <td>250.532</td>\n",
       "      <td>...</td>\n",
       "      <td>248.994</td>\n",
       "      <td>451.891</td>\n",
       "      <td>429.56</td>\n",
       "      <td>432.939</td>\n",
       "      <td>448.086</td>\n",
       "      <td>496.363</td>\n",
       "      <td>445.922</td>\n",
       "      <td>498.075</td>\n",
       "      <td>66.91</td>\n",
       "      <td>1.31</td>\n",
       "    </tr>\n",
       "    <tr>\n",
       "      <th>2</th>\n",
       "      <td>2017-03-10 01:00:00</td>\n",
       "      <td>55.2</td>\n",
       "      <td>16.98</td>\n",
       "      <td>3043.46</td>\n",
       "      <td>568.054</td>\n",
       "      <td>399.668</td>\n",
       "      <td>10.068</td>\n",
       "      <td>1.74</td>\n",
       "      <td>249.741</td>\n",
       "      <td>247.874</td>\n",
       "      <td>...</td>\n",
       "      <td>248.071</td>\n",
       "      <td>451.24</td>\n",
       "      <td>468.927</td>\n",
       "      <td>434.61</td>\n",
       "      <td>449.688</td>\n",
       "      <td>484.411</td>\n",
       "      <td>447.826</td>\n",
       "      <td>458.567</td>\n",
       "      <td>66.91</td>\n",
       "      <td>1.31</td>\n",
       "    </tr>\n",
       "  </tbody>\n",
       "</table>\n",
       "<p>3 rows × 24 columns</p>\n",
       "</div>"
      ],
      "text/plain": [
       "                  date % Iron Feed % Silica Feed Starch Flow Amina Flow  \\\n",
       "0  2017-03-10 01:00:00        55.2         16.98     3019.53    557.434   \n",
       "1  2017-03-10 01:00:00        55.2         16.98     3024.41    563.965   \n",
       "2  2017-03-10 01:00:00        55.2         16.98     3043.46    568.054   \n",
       "\n",
       "  Ore Pulp Flow Ore Pulp pH Ore Pulp Density Flotation Column 01 Air Flow  \\\n",
       "0       395.713     10.0664             1.74                      249.214   \n",
       "1       397.383     10.0672             1.74                      249.719   \n",
       "2       399.668      10.068             1.74                      249.741   \n",
       "\n",
       "  Flotation Column 02 Air Flow  ... Flotation Column 07 Air Flow  \\\n",
       "0                      253.235  ...                      250.884   \n",
       "1                      250.532  ...                      248.994   \n",
       "2                      247.874  ...                      248.071   \n",
       "\n",
       "  Flotation Column 01 Level Flotation Column 02 Level  \\\n",
       "0                   457.396                   432.962   \n",
       "1                   451.891                    429.56   \n",
       "2                    451.24                   468.927   \n",
       "\n",
       "  Flotation Column 03 Level Flotation Column 04 Level  \\\n",
       "0                   424.954                   443.558   \n",
       "1                   432.939                   448.086   \n",
       "2                    434.61                   449.688   \n",
       "\n",
       "  Flotation Column 05 Level Flotation Column 06 Level  \\\n",
       "0                   502.255                    446.37   \n",
       "1                   496.363                   445.922   \n",
       "2                   484.411                   447.826   \n",
       "\n",
       "  Flotation Column 07 Level % Iron Concentrate % Silica Concentrate  \n",
       "0                   523.344              66.91                 1.31  \n",
       "1                   498.075              66.91                 1.31  \n",
       "2                   458.567              66.91                 1.31  \n",
       "\n",
       "[3 rows x 24 columns]"
      ]
     },
     "metadata": {},
     "output_type": "display_data"
    }
   ],
   "source": [
    "data = pd.read_csv(\"../MDS_Assignment3 Mining Process/MiningProcess_Flotation_Plant_Database.csv\")\n",
    "data = data.replace(\",\", \".\", regex=True) \n",
    "display(data.head(3))"
   ]
  },
  {
   "cell_type": "code",
   "execution_count": 61,
   "metadata": {},
   "outputs": [],
   "source": [
    "# 3/10 ~ 4/15\n",
    "data = data[:99999]\n",
    "from datetime import datetime # generate\n",
    "from dateutil import parser # parse\n",
    "datelist = [parser.parse(d) for d in data['date']]\n",
    "days = set()\n",
    "[days.add(x.strftime('%m/%d')) for x in datelist]\n",
    "\n",
    "# data['% Silica Concentrate'][0]\n",
    "data_X = data.iloc[:, 1:-2].astype(float) # params\n",
    "data_y = data.iloc[:, -1].astype(float) # label\n",
    "datelist = datelist[:len(data)]"
   ]
  },
  {
   "cell_type": "code",
   "execution_count": 37,
   "metadata": {},
   "outputs": [
    {
     "data": {
      "text/plain": [
       "[10, 11, 12, 13, 14, 15, 16]"
      ]
     },
     "execution_count": 37,
     "metadata": {},
     "output_type": "execute_result"
    }
   ],
   "source": [
    "list(range(10,17))"
   ]
  },
  {
   "cell_type": "code",
   "execution_count": 35,
   "metadata": {},
   "outputs": [
    {
     "data": {
      "text/plain": [
       "10"
      ]
     },
     "execution_count": 35,
     "metadata": {},
     "output_type": "execute_result"
    }
   ],
   "source": [
    "datelist[0].day "
   ]
  },
  {
   "cell_type": "code",
   "execution_count": 81,
   "metadata": {},
   "outputs": [
    {
     "name": "stdout",
     "output_type": "stream",
     "text": [
      "from idx 85133 ,dest idx 99998\n"
     ]
    }
   ],
   "source": [
    "# 取 3/10~3/16 7天的資料\n",
    "interval_index = []\n",
    "start_index = 0\n",
    "end_index = 0\n",
    "for i,dt in enumerate(datelist):\n",
    "    if dt.month == 4 and dt.day in list(range(12,17)): # 此行設定區間\n",
    "        if start_index == 0:\n",
    "            start_index = i\n",
    "        end_index = i\n",
    "        # interval_index.append(i)\n",
    "# print(len(interval_index))\n",
    "print('from idx', start_index, ',dest idx' , end_index)"
   ]
  },
  {
   "cell_type": "code",
   "execution_count": 80,
   "metadata": {},
   "outputs": [],
   "source": [
    "idx_start_0310 = 1\n",
    "idx_end_0317 = 26813\n",
    "\n",
    "idx_start_0412 = 85133\n",
    "idx_end_0417 = 99998"
   ]
  },
  {
   "cell_type": "code",
   "execution_count": 64,
   "metadata": {},
   "outputs": [
    {
     "name": "stdout",
     "output_type": "stream",
     "text": [
      "99999 99999\n"
     ]
    }
   ],
   "source": [
    "print(len(data_y), len(datelist))"
   ]
  },
  {
   "cell_type": "code",
   "execution_count": 83,
   "metadata": {},
   "outputs": [
    {
     "name": "stdout",
     "output_type": "stream",
     "text": [
      "[['85133' '04/12']\n",
      " ['89453' '04/13']\n",
      " ['93773' '04/14']\n",
      " ['98093' '04/15']] [85133 89453 93773 98093] ['04/12' '04/13' '04/14' '04/15']\n"
     ]
    },
    {
     "data": {
      "image/png": "[encoded data removed]",
      "text/plain": [
       "<Figure size 640x480 with 1 Axes>"
      ]
     },
     "metadata": {},
     "output_type": "display_data"
    }
   ],
   "source": [
    "def plot_index(data, date=[], start_index=0, end_index=0):\n",
    "    date_ticks = []\n",
    "    current_date = ''\n",
    "    data = data[start_index:end_index]\n",
    "    date = date[start_index:end_index]\n",
    "    date = [x.strftime('%m/%d') for x in date] # ex: 10/14\n",
    "    for i,dt in enumerate(date):\n",
    "        if dt != current_date:\n",
    "            current_date = dt\n",
    "            date_ticks.append([start_index+i,dt])\n",
    "    date_ticks = np.array(date_ticks)\n",
    "    plt.plot(data)\n",
    "    print(date_ticks, date_ticks[:,0].astype(int), date_ticks[:,1])\n",
    "    plt.xticks(date_ticks[:,0].astype(int), date_ticks[:,1])\n",
    "    # data.loc[interval_index].plot()\n",
    "plot_index(data_y, datelist, start_index, end_index)"
   ]
  },
  {
   "cell_type": "code",
   "execution_count": null,
   "metadata": {},
   "outputs": [],
   "source": [
    "plot_index(data_y, datelist, idx_start_0412, idx_end_0417)"
   ]
  },
  {
   "cell_type": "code",
   "execution_count": 71,
   "metadata": {},
   "outputs": [
    {
     "data": {
      "image/png": "[encoded data removed]",
      "text/plain": [
       "<Figure size 640x480 with 1 Axes>"
      ]
     },
     "metadata": {},
     "output_type": "display_data"
    }
   ],
   "source": [
    "plot_index(data_y, datelist, idx_start_0310, idx_end_0317)"
   ]
  },
  {
   "cell_type": "code",
   "execution_count": 59,
   "metadata": {},
   "outputs": [
    {
     "data": {
      "text/plain": [
       "<AxesSubplot: >"
      ]
     },
     "execution_count": 59,
     "metadata": {},
     "output_type": "execute_result"
    },
    {
     "data": {
      "image/png": "[encoded data removed]",
      "text/plain": [
       "<Figure size 640x480 with 1 Axes>"
      ]
     },
     "metadata": {},
     "output_type": "display_data"
    }
   ],
   "source": [
    "data_y.plot()"
   ]
  },
  {
   "cell_type": "code",
   "execution_count": 4,
   "metadata": {},
   "outputs": [
    {
     "data": {
      "text/plain": [
       "4320"
      ]
     },
     "execution_count": 4,
     "metadata": {},
     "output_type": "execute_result"
    }
   ],
   "source": [
    "# min hour day\n",
    "3*60*24"
   ]
  },
  {
   "cell_type": "markdown",
   "metadata": {},
   "source": [
    "### 計算平均每幾個樣本點，y值才會改變"
   ]
  },
  {
   "cell_type": "code",
   "execution_count": null,
   "metadata": {},
   "outputs": [],
   "source": [
    "data = pd.read_csv(\"../MDS_Assignment3 Mining Process/MiningProcess_Flotation_Plant_Database.csv\")\n",
    "data = data.replace(\",\", \".\", regex=True) \n",
    "data_y = data.iloc[:, -1].astype(float) # label\n",
    "del data"
   ]
  },
  {
   "cell_type": "code",
   "execution_count": 88,
   "metadata": {},
   "outputs": [],
   "source": [
    "interval_list = []\n",
    "interval_start = 0\n",
    "interval_end = 0\n",
    "current_yval = 0\n",
    "for i, yval in enumerate(data_y):\n",
    "    if yval == current_yval:\n",
    "        interval_end += 1\n",
    "    else:\n",
    "        current_yval = yval\n",
    "        interval = i - interval_start\n",
    "        interval_start = i\n",
    "        interval_list.append(interval)\n",
    "    #     print('interval:', interval)\n",
    "    # print('interval_start:', interval_start, '| i, yval:', i, yval)\n",
    "    # if i == 1000:\n",
    "    #     break"
   ]
  },
  {
   "cell_type": "code",
   "execution_count": 95,
   "metadata": {},
   "outputs": [
    {
     "name": "stdout",
     "output_type": "stream",
     "text": [
      "len 59141\n",
      "max 13140\n",
      "min 0\n",
      "mean 12.46636005478433\n",
      "median 1.0\n",
      "most 1\n"
     ]
    }
   ],
   "source": [
    "# interval_arr = np.array(interval_list)\n",
    "print('len', len(interval_list))\n",
    "print('max', max(interval_list))\n",
    "print('min', min(interval_list))\n",
    "print('mean', np.mean(interval_list))\n",
    "print('median', np.median(interval_list))\n",
    "counts = np.bincount(interval_list)\n",
    "print('most', np.argmax(counts)) # 1 出現 55800 次"
   ]
  },
  {
   "cell_type": "code",
   "execution_count": 99,
   "metadata": {},
   "outputs": [
    {
     "data": {
      "text/plain": [
       "array([    1, 55800,     0, ...,     0,     0,     1], dtype=int64)"
      ]
     },
     "execution_count": 99,
     "metadata": {},
     "output_type": "execute_result"
    }
   ],
   "source": [
    "counts"
   ]
  },
  {
   "cell_type": "markdown",
   "metadata": {},
   "source": [
    "### 第564471筆資料~第576971筆，共 13140 筆相同y值的資料，刪掉此段數據重作分析"
   ]
  },
  {
   "cell_type": "code",
   "execution_count": 127,
   "metadata": {},
   "outputs": [
    {
     "name": "stdout",
     "output_type": "stream",
     "text": [
      "737453 724953\n"
     ]
    }
   ],
   "source": [
    "type(data_y)\n",
    "\n",
    "data_y_drop = data_y.drop(data_y.index[list(range(442471+122000,442471+134500))])\n",
    "print(len(data_y), len(data_y_drop))"
   ]
  },
  {
   "cell_type": "code",
   "execution_count": 117,
   "metadata": {},
   "outputs": [
    {
     "data": {
      "text/plain": [
       "442471.8"
      ]
     },
     "execution_count": 117,
     "metadata": {},
     "output_type": "execute_result"
    }
   ],
   "source": [
    "len(data_y)*0.6"
   ]
  },
  {
   "cell_type": "code",
   "execution_count": 124,
   "metadata": {},
   "outputs": [
    {
     "data": {
      "text/plain": [
       "2.08"
      ]
     },
     "execution_count": 124,
     "metadata": {},
     "output_type": "execute_result"
    }
   ],
   "source": [
    "data_y[442471+122001]"
   ]
  },
  {
   "cell_type": "code",
   "execution_count": 128,
   "metadata": {},
   "outputs": [
    {
     "name": "stdout",
     "output_type": "stream",
     "text": [
      "len 59141\n",
      "max 7020\n",
      "min 0\n",
      "mean 12.255000760893457\n",
      "median 1.0\n",
      "most 1\n"
     ]
    }
   ],
   "source": [
    "interval_list = []\n",
    "interval_start = 0\n",
    "interval_end = 0\n",
    "current_yval = 0\n",
    "for i, yval in enumerate(data_y_drop):\n",
    "    if yval == current_yval:\n",
    "        interval_end += 1\n",
    "    else:\n",
    "        current_yval = yval\n",
    "        interval = i - interval_start\n",
    "        interval_start = i\n",
    "        interval_list.append(interval)\n",
    "    #     print('interval:', interval)\n",
    "    # print('interval_start:', interval_start, '| i, yval:', i, yval)\n",
    "    # if i == 1000:\n",
    "    #     break\n",
    "print('len', len(interval_list))\n",
    "print('max', max(interval_list)) # 最多連續 7020 個樣本的 y 值沒變化\n",
    "print('min', min(interval_list))\n",
    "print('mean', np.mean(interval_list))\n",
    "print('median', np.median(interval_list))\n",
    "counts = np.bincount(interval_list)\n",
    "print('most', np.argmax(counts)) "
   ]
  },
  {
   "cell_type": "code",
   "execution_count": null,
   "metadata": {},
   "outputs": [],
   "source": []
  }
 ],
 "metadata": {
  "kernelspec": {
   "display_name": "Python 3.10.5 64-bit",
   "language": "python",
   "name": "python3"
  },
  "language_info": {
   "codemirror_mode": {
    "name": "ipython",
    "version": 3
   },
   "file_extension": ".py",
   "mimetype": "text/x-python",
   "name": "python",
   "nbconvert_exporter": "python",
   "pygments_lexer": "ipython3",
   "version": "3.10.5"
  },
  "orig_nbformat": 4,
  "vscode": {
   "interpreter": {
    "hash": "125a1d8b627fe68767755740015967bae857d08bb92fb3fd0d9d8ed24f978d39"
   }
  }
 },
 "nbformat": 4,
 "nbformat_minor": 2
}
